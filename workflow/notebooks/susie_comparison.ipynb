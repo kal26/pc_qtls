{
 "cells": [
  {
   "cell_type": "markdown",
   "metadata": {},
   "source": [
    "# compare the two susie versions"
   ]
  },
  {
   "cell_type": "code",
   "execution_count": 9,
   "metadata": {},
   "outputs": [],
   "source": [
    "import pandas as pd\n",
    "\n",
    "\n",
    "import numpy as np\n",
    "import pandas as pd\n",
    "import matplotlib.pyplot as plt \n",
    "import seaborn as sns \n",
    "import networkx as nx\n",
    "\n",
    "\n",
    "import upsetplot as up\n",
    "from tqdm.auto import tqdm  # for notebooks\n",
    "\n",
    "# Create new `pandas` methods which use `tqdm` progress\n",
    "# (can use tqdm_gui, optional kwargs, etc.)\n",
    "tqdm.pandas()\n",
    "\n",
    "import matplotlib as mpl\n",
    "#mpl.rcParams['figure.dpi']= 1000\n",
    "\n",
    "\n",
    "import sys\n",
    "sys.path.append('/home/klawren/oak/pcqtls/workflow/scripts')\n",
    "from notebook_helper_functions import *\n",
    "\n",
    "# get outputs from a config file\n",
    "prefix = '/home/klawren/oak/pcqtls'\n",
    "import yaml\n",
    "config_path= f'{prefix}/config/proteincoding_main.yaml'\n",
    "with open(config_path, 'r') as f:\n",
    "    config = yaml.safe_load(f)\n",
    "\n",
    "# load in the tissue ids \n",
    "tissue_ids = load_tissue_ids(config)"
   ]
  },
  {
   "cell_type": "code",
   "execution_count": 11,
   "metadata": {},
   "outputs": [],
   "source": [
    "susie_path_1 = \"/home/klawren/oak/pcqtls/output/proteincoding_main/pcqtl/Whole_Blood/Whole_Blood.v8.pcs.susie.txt\"\n",
    "susie_path_2 = \"/home/klawren/oak/pcqtls/output/proteincoding_main/pcqtl/Whole_Blood/Whole_Blood.v8.pcs.susie_R.txt\""
   ]
  },
  {
   "cell_type": "code",
   "execution_count": 10,
   "metadata": {},
   "outputs": [],
   "source": [
    "for tissue_id in tissue_ids:\n",
    "    susie_2_path = f\"/home/klawren/oak/pcqtls/output/proteincoding_main/pcqtl/{tissue_id}/{tissue_id}.v8.pcs.susie_R.txt\"\n",
    "    susie_2 = pd.read_csv(susie_path_2)\n",
    "    susie_2.to_csv(susie_2_path, sep='\\t')\n"
   ]
  },
  {
   "cell_type": "code",
   "execution_count": 15,
   "metadata": {},
   "outputs": [
    {
     "data": {
      "text/html": [
       "<div>\n",
       "<style scoped>\n",
       "    .dataframe tbody tr th:only-of-type {\n",
       "        vertical-align: middle;\n",
       "    }\n",
       "\n",
       "    .dataframe tbody tr th {\n",
       "        vertical-align: top;\n",
       "    }\n",
       "\n",
       "    .dataframe thead th {\n",
       "        text-align: right;\n",
       "    }\n",
       "</style>\n",
       "<table border=\"1\" class=\"dataframe\">\n",
       "  <thead>\n",
       "    <tr style=\"text-align: right;\">\n",
       "      <th></th>\n",
       "      <th>phenotype_id</th>\n",
       "      <th>variant_id</th>\n",
       "      <th>pip</th>\n",
       "      <th>af</th>\n",
       "      <th>cs_id</th>\n",
       "    </tr>\n",
       "  </thead>\n",
       "  <tbody>\n",
       "    <tr>\n",
       "      <th>0</th>\n",
       "      <td>ENSG00000187583.10_ENSG00000187642.9_pc1</td>\n",
       "      <td>chr1_941119_A_G_b38</td>\n",
       "      <td>0.038381</td>\n",
       "      <td>0.947761</td>\n",
       "      <td>1</td>\n",
       "    </tr>\n",
       "    <tr>\n",
       "      <th>1</th>\n",
       "      <td>ENSG00000187583.10_ENSG00000187642.9_pc1</td>\n",
       "      <td>chr1_944858_A_G_b38</td>\n",
       "      <td>0.044246</td>\n",
       "      <td>0.952985</td>\n",
       "      <td>1</td>\n",
       "    </tr>\n",
       "    <tr>\n",
       "      <th>2</th>\n",
       "      <td>ENSG00000187583.10_ENSG00000187642.9_pc1</td>\n",
       "      <td>chr1_950319_A_G_b38</td>\n",
       "      <td>0.044246</td>\n",
       "      <td>0.952985</td>\n",
       "      <td>1</td>\n",
       "    </tr>\n",
       "    <tr>\n",
       "      <th>3</th>\n",
       "      <td>ENSG00000187583.10_ENSG00000187642.9_pc1</td>\n",
       "      <td>chr1_950799_CA_C_b38</td>\n",
       "      <td>0.044246</td>\n",
       "      <td>0.952985</td>\n",
       "      <td>1</td>\n",
       "    </tr>\n",
       "    <tr>\n",
       "      <th>4</th>\n",
       "      <td>ENSG00000187583.10_ENSG00000187642.9_pc1</td>\n",
       "      <td>chr1_950802_TG_T_b38</td>\n",
       "      <td>0.044246</td>\n",
       "      <td>0.952985</td>\n",
       "      <td>1</td>\n",
       "    </tr>\n",
       "  </tbody>\n",
       "</table>\n",
       "</div>"
      ],
      "text/plain": [
       "                               phenotype_id            variant_id       pip  \\\n",
       "0  ENSG00000187583.10_ENSG00000187642.9_pc1   chr1_941119_A_G_b38  0.038381   \n",
       "1  ENSG00000187583.10_ENSG00000187642.9_pc1   chr1_944858_A_G_b38  0.044246   \n",
       "2  ENSG00000187583.10_ENSG00000187642.9_pc1   chr1_950319_A_G_b38  0.044246   \n",
       "3  ENSG00000187583.10_ENSG00000187642.9_pc1  chr1_950799_CA_C_b38  0.044246   \n",
       "4  ENSG00000187583.10_ENSG00000187642.9_pc1  chr1_950802_TG_T_b38  0.044246   \n",
       "\n",
       "         af  cs_id  \n",
       "0  0.947761      1  \n",
       "1  0.952985      1  \n",
       "2  0.952985      1  \n",
       "3  0.952985      1  \n",
       "4  0.952985      1  "
      ]
     },
     "execution_count": 15,
     "metadata": {},
     "output_type": "execute_result"
    }
   ],
   "source": [
    "susie_1 = pd.read_csv(susie_path_1, sep='\\t', index_col=0)\n",
    "susie_1.head()"
   ]
  },
  {
   "cell_type": "code",
   "execution_count": 14,
   "metadata": {},
   "outputs": [
    {
     "data": {
      "text/html": [
       "<div>\n",
       "<style scoped>\n",
       "    .dataframe tbody tr th:only-of-type {\n",
       "        vertical-align: middle;\n",
       "    }\n",
       "\n",
       "    .dataframe tbody tr th {\n",
       "        vertical-align: top;\n",
       "    }\n",
       "\n",
       "    .dataframe thead th {\n",
       "        text-align: right;\n",
       "    }\n",
       "</style>\n",
       "<table border=\"1\" class=\"dataframe\">\n",
       "  <thead>\n",
       "    <tr style=\"text-align: right;\">\n",
       "      <th></th>\n",
       "      <th>phenotype_id</th>\n",
       "      <th>variant_id</th>\n",
       "      <th>pip</th>\n",
       "      <th>cs_id</th>\n",
       "    </tr>\n",
       "  </thead>\n",
       "  <tbody>\n",
       "    <tr>\n",
       "      <th>0</th>\n",
       "      <td>ENSG00000187583.10_ENSG00000187642.9_pc1</td>\n",
       "      <td>chr1_941119_A_G_b38</td>\n",
       "      <td>0.048738</td>\n",
       "      <td>1</td>\n",
       "    </tr>\n",
       "    <tr>\n",
       "      <th>1</th>\n",
       "      <td>ENSG00000187583.10_ENSG00000187642.9_pc1</td>\n",
       "      <td>chr1_944858_A_G_b38</td>\n",
       "      <td>0.049746</td>\n",
       "      <td>1</td>\n",
       "    </tr>\n",
       "    <tr>\n",
       "      <th>2</th>\n",
       "      <td>ENSG00000187583.10_ENSG00000187642.9_pc1</td>\n",
       "      <td>chr1_947423_A_G_b38</td>\n",
       "      <td>0.019625</td>\n",
       "      <td>1</td>\n",
       "    </tr>\n",
       "    <tr>\n",
       "      <th>3</th>\n",
       "      <td>ENSG00000187583.10_ENSG00000187642.9_pc1</td>\n",
       "      <td>chr1_950319_A_G_b38</td>\n",
       "      <td>0.049746</td>\n",
       "      <td>1</td>\n",
       "    </tr>\n",
       "    <tr>\n",
       "      <th>4</th>\n",
       "      <td>ENSG00000187583.10_ENSG00000187642.9_pc1</td>\n",
       "      <td>chr1_950799_CA_C_b38</td>\n",
       "      <td>0.049746</td>\n",
       "      <td>1</td>\n",
       "    </tr>\n",
       "  </tbody>\n",
       "</table>\n",
       "</div>"
      ],
      "text/plain": [
       "                               phenotype_id            variant_id       pip  \\\n",
       "0  ENSG00000187583.10_ENSG00000187642.9_pc1   chr1_941119_A_G_b38  0.048738   \n",
       "1  ENSG00000187583.10_ENSG00000187642.9_pc1   chr1_944858_A_G_b38  0.049746   \n",
       "2  ENSG00000187583.10_ENSG00000187642.9_pc1   chr1_947423_A_G_b38  0.019625   \n",
       "3  ENSG00000187583.10_ENSG00000187642.9_pc1   chr1_950319_A_G_b38  0.049746   \n",
       "4  ENSG00000187583.10_ENSG00000187642.9_pc1  chr1_950799_CA_C_b38  0.049746   \n",
       "\n",
       "   cs_id  \n",
       "0      1  \n",
       "1      1  \n",
       "2      1  \n",
       "3      1  \n",
       "4      1  "
      ]
     },
     "execution_count": 14,
     "metadata": {},
     "output_type": "execute_result"
    }
   ],
   "source": [
    "susie_2 = pd.read_csv(susie_path_2, sep='\\t', index_col=0)\n",
    "susie_2.head()"
   ]
  },
  {
   "cell_type": "code",
   "execution_count": 8,
   "metadata": {},
   "outputs": [
    {
     "data": {
      "text/html": [
       "<div>\n",
       "<style scoped>\n",
       "    .dataframe tbody tr th:only-of-type {\n",
       "        vertical-align: middle;\n",
       "    }\n",
       "\n",
       "    .dataframe tbody tr th {\n",
       "        vertical-align: top;\n",
       "    }\n",
       "\n",
       "    .dataframe thead th {\n",
       "        text-align: right;\n",
       "    }\n",
       "</style>\n",
       "<table border=\"1\" class=\"dataframe\">\n",
       "  <thead>\n",
       "    <tr style=\"text-align: right;\">\n",
       "      <th></th>\n",
       "      <th>phenotype_id</th>\n",
       "      <th>variant_id</th>\n",
       "      <th>pip</th>\n",
       "      <th>cs_id</th>\n",
       "    </tr>\n",
       "  </thead>\n",
       "  <tbody>\n",
       "    <tr>\n",
       "      <th>0</th>\n",
       "      <td>ENSG00000187583.10_ENSG00000187642.9_pc1</td>\n",
       "      <td>chr1_941119_A_G_b38</td>\n",
       "      <td>0.048738</td>\n",
       "      <td>1</td>\n",
       "    </tr>\n",
       "    <tr>\n",
       "      <th>1</th>\n",
       "      <td>ENSG00000187583.10_ENSG00000187642.9_pc1</td>\n",
       "      <td>chr1_944858_A_G_b38</td>\n",
       "      <td>0.049746</td>\n",
       "      <td>1</td>\n",
       "    </tr>\n",
       "    <tr>\n",
       "      <th>2</th>\n",
       "      <td>ENSG00000187583.10_ENSG00000187642.9_pc1</td>\n",
       "      <td>chr1_947423_A_G_b38</td>\n",
       "      <td>0.019625</td>\n",
       "      <td>1</td>\n",
       "    </tr>\n",
       "    <tr>\n",
       "      <th>3</th>\n",
       "      <td>ENSG00000187583.10_ENSG00000187642.9_pc1</td>\n",
       "      <td>chr1_950319_A_G_b38</td>\n",
       "      <td>0.049746</td>\n",
       "      <td>1</td>\n",
       "    </tr>\n",
       "    <tr>\n",
       "      <th>4</th>\n",
       "      <td>ENSG00000187583.10_ENSG00000187642.9_pc1</td>\n",
       "      <td>chr1_950799_CA_C_b38</td>\n",
       "      <td>0.049746</td>\n",
       "      <td>1</td>\n",
       "    </tr>\n",
       "    <tr>\n",
       "      <th>...</th>\n",
       "      <td>...</td>\n",
       "      <td>...</td>\n",
       "      <td>...</td>\n",
       "      <td>...</td>\n",
       "    </tr>\n",
       "    <tr>\n",
       "      <th>30961</th>\n",
       "      <td>ENSG00000025708.13_ENSG00000177989.13_pc1</td>\n",
       "      <td>chr22_50528485_T_C_b38</td>\n",
       "      <td>0.189521</td>\n",
       "      <td>1</td>\n",
       "    </tr>\n",
       "    <tr>\n",
       "      <th>30962</th>\n",
       "      <td>ENSG00000025708.13_ENSG00000177989.13_pc1</td>\n",
       "      <td>chr22_50532618_T_C_b38</td>\n",
       "      <td>0.544232</td>\n",
       "      <td>1</td>\n",
       "    </tr>\n",
       "    <tr>\n",
       "      <th>30963</th>\n",
       "      <td>ENSG00000025708.13_ENSG00000177989.13_pc2</td>\n",
       "      <td>chr22_50525111_G_C_b38</td>\n",
       "      <td>0.222515</td>\n",
       "      <td>1</td>\n",
       "    </tr>\n",
       "    <tr>\n",
       "      <th>30964</th>\n",
       "      <td>ENSG00000025708.13_ENSG00000177989.13_pc2</td>\n",
       "      <td>chr22_50525536_C_G_b38</td>\n",
       "      <td>0.314891</td>\n",
       "      <td>1</td>\n",
       "    </tr>\n",
       "    <tr>\n",
       "      <th>30965</th>\n",
       "      <td>ENSG00000025708.13_ENSG00000177989.13_pc2</td>\n",
       "      <td>chr22_50526433_G_A_b38</td>\n",
       "      <td>0.433809</td>\n",
       "      <td>1</td>\n",
       "    </tr>\n",
       "  </tbody>\n",
       "</table>\n",
       "<p>30966 rows × 4 columns</p>\n",
       "</div>"
      ],
      "text/plain": [
       "                                    phenotype_id              variant_id  \\\n",
       "0       ENSG00000187583.10_ENSG00000187642.9_pc1     chr1_941119_A_G_b38   \n",
       "1       ENSG00000187583.10_ENSG00000187642.9_pc1     chr1_944858_A_G_b38   \n",
       "2       ENSG00000187583.10_ENSG00000187642.9_pc1     chr1_947423_A_G_b38   \n",
       "3       ENSG00000187583.10_ENSG00000187642.9_pc1     chr1_950319_A_G_b38   \n",
       "4       ENSG00000187583.10_ENSG00000187642.9_pc1    chr1_950799_CA_C_b38   \n",
       "...                                          ...                     ...   \n",
       "30961  ENSG00000025708.13_ENSG00000177989.13_pc1  chr22_50528485_T_C_b38   \n",
       "30962  ENSG00000025708.13_ENSG00000177989.13_pc1  chr22_50532618_T_C_b38   \n",
       "30963  ENSG00000025708.13_ENSG00000177989.13_pc2  chr22_50525111_G_C_b38   \n",
       "30964  ENSG00000025708.13_ENSG00000177989.13_pc2  chr22_50525536_C_G_b38   \n",
       "30965  ENSG00000025708.13_ENSG00000177989.13_pc2  chr22_50526433_G_A_b38   \n",
       "\n",
       "            pip  cs_id  \n",
       "0      0.048738      1  \n",
       "1      0.049746      1  \n",
       "2      0.019625      1  \n",
       "3      0.049746      1  \n",
       "4      0.049746      1  \n",
       "...         ...    ...  \n",
       "30961  0.189521      1  \n",
       "30962  0.544232      1  \n",
       "30963  0.222515      1  \n",
       "30964  0.314891      1  \n",
       "30965  0.433809      1  \n",
       "\n",
       "[30966 rows x 4 columns]"
      ]
     },
     "execution_count": 8,
     "metadata": {},
     "output_type": "execute_result"
    }
   ],
   "source": [
    "susie_2.to_csv('/home/klawren/oak/pcqtls/output/test.csv', sep='\\t')\n",
    "pd.read_csv('/home/klawren/oak/pcqtls/output/test.csv', sep='\\t', index_col=0)\n"
   ]
  },
  {
   "cell_type": "code",
   "execution_count": 19,
   "metadata": {},
   "outputs": [
    {
     "name": "stdout",
     "output_type": "stream",
     "text": [
      "old susie: 1134\n",
      "new susie: 1087\n"
     ]
    }
   ],
   "source": [
    "print(\"old susie: {}\".format(susie_1['phenotype_id'].nunique()))\n",
    "print(\"new susie: {}\".format(susie_2['phenotype_id'].nunique()))"
   ]
  },
  {
   "cell_type": "code",
   "execution_count": 21,
   "metadata": {},
   "outputs": [
    {
     "name": "stdout",
     "output_type": "stream",
     "text": [
      "old susie: 11184\n",
      "new susie: 9817\n"
     ]
    }
   ],
   "source": [
    "print(\"old susie: {}\".format((susie_1['cs_id']>1).sum()))\n",
    "print(\"new susie: {}\".format((susie_2['cs_id']>1).sum()))"
   ]
  },
  {
   "cell_type": "code",
   "execution_count": 15,
   "metadata": {},
   "outputs": [],
   "source": [
    "susie_1['cs_id_full'] = susie_1['phenotype_id'] + '_' + susie_1['cs_id'].astype(str)\n",
    "susie_2['cs_id_full'] = susie_2['phenotype_id'] + '_' + susie_2['cs_id'].astype(str)"
   ]
  },
  {
   "cell_type": "code",
   "execution_count": 18,
   "metadata": {},
   "outputs": [
    {
     "name": "stdout",
     "output_type": "stream",
     "text": [
      "old susie: 1687\n",
      "new susie: 1573\n"
     ]
    }
   ],
   "source": [
    "print(\"old susie: {}\".format(susie_1['cs_id_full'].nunique()))\n",
    "print(\"new susie: {}\".format(susie_2['cs_id_full'].nunique()))"
   ]
  },
  {
   "cell_type": "code",
   "execution_count": 17,
   "metadata": {},
   "outputs": [
    {
     "data": {
      "text/plain": [
       "1573"
      ]
     },
     "execution_count": 17,
     "metadata": {},
     "output_type": "execute_result"
    }
   ],
   "source": [
    "susie_2['cs_id_full'].nunique()"
   ]
  },
  {
   "cell_type": "code",
   "execution_count": 22,
   "metadata": {},
   "outputs": [],
   "source": [
    "old_independnet = pd.read_csv(\"/home/klawren/oak/pcqtls/output/proteincoding_main/pcqtl/Whole_Blood/Whole_Blood.v8.pcs.cis_qtl.txt.gz\", sep='\\t')"
   ]
  },
  {
   "cell_type": "code",
   "execution_count": null,
   "metadata": {},
   "outputs": [],
   "source": []
  }
 ],
 "metadata": {
  "kernelspec": {
   "display_name": "Python 3 (ipykernel)",
   "language": "python",
   "name": "python3"
  },
  "language_info": {
   "codemirror_mode": {
    "name": "ipython",
    "version": 3
   },
   "file_extension": ".py",
   "mimetype": "text/x-python",
   "name": "python",
   "nbconvert_exporter": "python",
   "pygments_lexer": "ipython3",
   "version": "3.8.18"
  }
 },
 "nbformat": 4,
 "nbformat_minor": 2
}
