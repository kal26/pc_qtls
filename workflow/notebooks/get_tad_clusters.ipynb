{
 "cells": [
  {
   "cell_type": "markdown",
   "metadata": {},
   "source": [
    "## get tad clusters\n",
    "\n",
    "put this into the pipline eventually??\n"
   ]
  },
  {
   "cell_type": "code",
   "execution_count": 1,
   "metadata": {},
   "outputs": [],
   "source": [
    "import pandas as pd\n",
    "import numpy as np\n",
    "import os\n",
    "from tqdm.auto import tqdm  # for notebooks"
   ]
  },
  {
   "cell_type": "code",
   "execution_count": 2,
   "metadata": {},
   "outputs": [],
   "source": [
    "# load in the tissue ids \n",
    "prefix = '/home/klawren/oak/pcqtls'\n",
    "import yaml\n",
    "config_path= f'{prefix}/config/pcqtl_proteincoding.yaml'\n",
    "with open(config_path, 'r') as f:\n",
    "    config = yaml.safe_load(f)\n",
    "\n",
    "tissue_id_path = config['tissue_id_path']\n",
    "expression_dir = config['expression_dir']\n",
    "\n",
    "tissue_df = pd.read_csv(f\"{prefix}/{tissue_id_path}\", header=0)\n",
    "tissue_ids = list(tissue_df['Tissue'])"
   ]
  },
  {
   "cell_type": "code",
   "execution_count": 3,
   "metadata": {},
   "outputs": [
    {
     "data": {
      "text/html": [
       "<div>\n",
       "<style scoped>\n",
       "    .dataframe tbody tr th:only-of-type {\n",
       "        vertical-align: middle;\n",
       "    }\n",
       "\n",
       "    .dataframe tbody tr th {\n",
       "        vertical-align: top;\n",
       "    }\n",
       "\n",
       "    .dataframe thead th {\n",
       "        text-align: right;\n",
       "    }\n",
       "</style>\n",
       "<table border=\"1\" class=\"dataframe\">\n",
       "  <thead>\n",
       "    <tr style=\"text-align: right;\">\n",
       "      <th></th>\n",
       "      <th>chr</th>\n",
       "      <th>start</th>\n",
       "      <th>end</th>\n",
       "      <th>Chromosome</th>\n",
       "    </tr>\n",
       "  </thead>\n",
       "  <tbody>\n",
       "    <tr>\n",
       "      <th>0</th>\n",
       "      <td>chr1</td>\n",
       "      <td>784620</td>\n",
       "      <td>1314620</td>\n",
       "      <td>1</td>\n",
       "    </tr>\n",
       "    <tr>\n",
       "      <th>1</th>\n",
       "      <td>chr1</td>\n",
       "      <td>1374620</td>\n",
       "      <td>1514620</td>\n",
       "      <td>1</td>\n",
       "    </tr>\n",
       "    <tr>\n",
       "      <th>2</th>\n",
       "      <td>chr1</td>\n",
       "      <td>1644639</td>\n",
       "      <td>1748561</td>\n",
       "      <td>1</td>\n",
       "    </tr>\n",
       "    <tr>\n",
       "      <th>3</th>\n",
       "      <td>chr1</td>\n",
       "      <td>1778561</td>\n",
       "      <td>1908561</td>\n",
       "      <td>1</td>\n",
       "    </tr>\n",
       "    <tr>\n",
       "      <th>4</th>\n",
       "      <td>chr1</td>\n",
       "      <td>1918561</td>\n",
       "      <td>2178561</td>\n",
       "      <td>1</td>\n",
       "    </tr>\n",
       "  </tbody>\n",
       "</table>\n",
       "</div>"
      ],
      "text/plain": [
       "    chr    start      end Chromosome\n",
       "0  chr1   784620  1314620          1\n",
       "1  chr1  1374620  1514620          1\n",
       "2  chr1  1644639  1748561          1\n",
       "3  chr1  1778561  1908561          1\n",
       "4  chr1  1918561  2178561          1"
      ]
     },
     "execution_count": 3,
     "metadata": {},
     "output_type": "execute_result"
    }
   ],
   "source": [
    "# load in the tad data\n",
    "# data from http://dna.cs.miami.edu/TADKB/search.php\n",
    "tad_path = '/home/klawren/oak/pcqtls/data/references/TAD_annotations/TADs_hg38/converted_HiC_IMR90_DI_10kb.txt'\n",
    "\n",
    "tad_df = pd.read_csv(tad_path, header=None, sep='\\t', names=['chr', 'start','end'])\n",
    "tad_df['Chromosome'] = tad_df['chr'].str.strip('chr')\n",
    "tad_df.head()"
   ]
  },
  {
   "cell_type": "code",
   "execution_count": 4,
   "metadata": {},
   "outputs": [
    {
     "data": {
      "text/plain": [
       "True"
      ]
     },
     "execution_count": 4,
     "metadata": {},
     "output_type": "execute_result"
    }
   ],
   "source": [
    "# load in the gene data\n",
    "# load in the gene information (start and strand are what I need)\n",
    "full_gencode=pd.read_csv('/home/klawren/oak/pcqtls/data/references/processed_gencode.v26.GRCh38.genes.gtf', sep='\\t', skiprows=range(6), \n",
    "            header=None, names=['chr', 'dataset', 'type', 'start','end', '.', 'strand', 'na', 'info'])\n",
    "\n",
    "full_gencode = full_gencode[full_gencode['type']=='transcript']\n",
    "full_gencode['transcript_id'] = full_gencode['info'].str.split(';').str[1].str.split('\\\"').str[-2]\n",
    "full_gencode['transcript_type'] = full_gencode['info'].str.split(';').str[4].str.split('\\\"').str[-2]\n",
    "full_gencode['gene_type'] = full_gencode['info'].str.split(';').str[2].str.split('\\\"').str[-2]\n",
    "full_gencode['gene_name'] = full_gencode['info'].str.split(';').str[3].str.split('\\\"').str[-2]\n",
    "\n",
    "\n",
    "# filter to just protein coding\n",
    "protein_gencode = full_gencode[full_gencode['transcript_type']=='protein_coding']\n",
    "\n",
    "# no duplicates?\n",
    "len(protein_gencode[protein_gencode['transcript_id'].duplicated()]) == 0"
   ]
  },
  {
   "cell_type": "code",
   "execution_count": 5,
   "metadata": {},
   "outputs": [
    {
     "data": {
      "application/vnd.jupyter.widget-view+json": {
       "model_id": "44c7c908016e4fe8a39cf301a8117d8f",
       "version_major": 2,
       "version_minor": 0
      },
      "text/plain": [
       "  0%|          | 0/13 [00:00<?, ?it/s]"
      ]
     },
     "metadata": {},
     "output_type": "display_data"
    }
   ],
   "source": [
    "# get the gene transcripts in each TAD\n",
    "for tissue_id in tqdm(tissue_ids):\n",
    "    # load in expression\n",
    "    expression_df = pd.read_csv(f'{prefix}/{expression_dir}/{tissue_id}.v8.normalized_expression.bed', sep='\\t')\n",
    "    protein_gencode_filtered = protein_gencode[protein_gencode['transcript_id'].isin(expression_df['gene_id'])]\n",
    "\n",
    "    # Iterate over each row of tad_df\n",
    "    for tad_index, tad_row in tad_df.iterrows():\n",
    "        # filter for if the genes are in the tad\n",
    "        in_tad_filter = ((protein_gencode_filtered['chr'] == tad_row['chr']) & \n",
    "                    (protein_gencode_filtered['start'] >= tad_row['start']) & \n",
    "                    (protein_gencode_filtered['end'] <= tad_row['end']))\n",
    "    \n",
    "\n",
    "        # store list of transcripts, genes, and number of genes\n",
    "        tad_df.loc[tad_index, 'Transcripts'] = ','.join(protein_gencode_filtered.loc[in_tad_filter]['transcript_id'])\n",
    "        tad_df.loc[tad_index, 'Genes'] = ','.join(protein_gencode_filtered.loc[in_tad_filter]['gene_name'])\n",
    "        tad_df.loc[tad_index, 'N_genes'] = int(sum(in_tad_filter))\n",
    "\n",
    "    # add tissue\n",
    "    tad_df['Tissue'] = tissue_id\n",
    "    # only write out where there are genes in the tad\n",
    "    tad_out_df = tad_df[~(tad_df['N_genes'] == 0)]\n",
    "    tad_out_df[['N_genes', 'Transcripts', 'Genes', 'Chromosome', 'Tissue']].to_csv(f'/home/klawren/oak/pcqtls/data/processed/proteincoding/clusters_tad/{tissue_id}_clusters_all_chr.csv')"
   ]
  }
 ],
 "metadata": {
  "kernelspec": {
   "display_name": "Python 3 (ipykernel)",
   "language": "python",
   "name": "python3"
  }
 },
 "nbformat": 4,
 "nbformat_minor": 2
}
