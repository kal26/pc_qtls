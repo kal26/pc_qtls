{
 "cells": [
  {
   "cell_type": "markdown",
   "metadata": {},
   "source": [
    "### files for the paper\n",
    "* clusters\n",
    "* summary stats for pcQTLs and eQTLs\n",
    "* pair colocs"
   ]
  },
  {
   "cell_type": "code",
   "execution_count": 35,
   "metadata": {},
   "outputs": [],
   "source": [
    "import pandas as pd\n",
    "\n",
    "prefix = '/home/klawren/oak/pcqtls'\n",
    "import yaml\n",
    "config_path= f'{prefix}/config/proteincoding_main.yaml'\n",
    "with open(config_path, 'r') as f:\n",
    "    config = yaml.safe_load(f)\n",
    "\n",
    "import sys\n",
    "sys.path.append('/home/klawren/oak/pcqtls/workflow/scripts')\n",
    "from notebook_helper_functions import *\n",
    "\n",
    "import shutil\n",
    "import glob\n",
    "import os"
   ]
  },
  {
   "cell_type": "code",
   "execution_count": 30,
   "metadata": {},
   "outputs": [],
   "source": [
    "tissue_ids = load_tissue_ids(config)"
   ]
  },
  {
   "cell_type": "code",
   "execution_count": 33,
   "metadata": {},
   "outputs": [
    {
     "name": "stdout",
     "output_type": "stream",
     "text": [
      "Adipose_Subcutaneous\n",
      "Adipose_Visceral_Omentum\n",
      "Artery_Tibial\n",
      "Cells_Cultured_fibroblasts\n",
      "Esophagus_Mucosa\n",
      "Esophagus_Muscularis\n",
      "Lung\n",
      "Muscle_Skeletal\n",
      "Nerve_Tibial\n",
      "Skin_Not_Sun_Exposed_Suprapubic\n",
      "Skin_Sun_Exposed_Lower_leg\n",
      "Thyroid\n",
      "Whole_Blood\n"
     ]
    }
   ],
   "source": [
    "for tissue_id in tissue_ids:\n",
    "    print(tissue_id)\n",
    "    old_cluster = pd.read_csv(f\"/home/klawren/oak/pcqtls/output/proteincoding_main/clusters/{tissue_id}_clusters_all_chr.csv\")\n",
    "    for idx, row in old_cluster.iterrows():\n",
    "        old_cluster.loc[idx, 'cluster_id']  = '_'.join([*sorted(row['Transcripts'].split(','))])\n",
    "    old_cluster['chr_id'] = 'chr' + old_cluster['Chromosome'].astype(str)\n",
    "\n",
    "    old_cluster = old_cluster.rename(columns={'Mean_cor':'mean_corr', \n",
    "                                'Tissue':'tissue_id', \n",
    "                                'Perc_cor': 'percent_corr', \n",
    "                                'Mean_pos_cor':'mean_pos_corr', \n",
    "                                'Mean_neg_cor':'mean_pos_corr', \n",
    "                                'N_genes':'num_genes'})\n",
    "\n",
    "    old_cluster[['cluster_id', 'tissue_id', 'chr_id', 'num_genes', 'percent_corr', 'mean_corr', 'mean_pos_corr', 'mean_pos_corr']].to_csv(f\"/home/klawren/oak/pcqtls/output/paper/clusters/{tissue_id}.clusters.txt\", index=None, sep='\\t')"
   ]
  },
  {
   "cell_type": "code",
   "execution_count": null,
   "metadata": {},
   "outputs": [
    {
     "name": "stdout",
     "output_type": "stream",
     "text": [
      "Adipose_Subcutaneous\n"
     ]
    }
   ],
   "source": [
    "destination_dir = \"/home/klawren/oak/pcqtls/output/paper/pcqtl/\"\n",
    "\n",
    "for tissue_id in tissue_ids:\n",
    "    print(tissue_id)\n",
    "    source_dir = f\"/home/klawren/oak/pcqtls/output/proteincoding_main/pcqtl/{tissue_id}/\"\n",
    "    parquet_files = glob.glob(os.path.join(source_dir, \"*.parquet\"))\n",
    "    for file in parquet_files:\n",
    "        shutil.copyfile(file, os.path.join(destination_dir, os.path.basename(file)))\n"
   ]
  },
  {
   "cell_type": "code",
   "execution_count": null,
   "metadata": {},
   "outputs": [],
   "source": [
    "destination_dir = \"/home/klawren/oak/pcqtls/output/paper/eqtl/\"\n",
    "\n",
    "for tissue_id in tissue_ids:\n",
    "    print(tissue_id)\n",
    "    source_dir = f\"/home/klawren/oak/pcqtls/output/proteincoding_main/eqtl/{tissue_id}/\"\n",
    "    parquet_files = glob.glob(os.path.join(source_dir, \"*.parquet\"))\n",
    "    for file in parquet_files:\n",
    "        shutil.copyfile(file, os.path.join(destination_dir, os.path.basename(file)))"
   ]
  }
 ],
 "metadata": {
  "kernelspec": {
   "display_name": "Python 3 (ipykernel)",
   "language": "python",
   "name": "python3"
  },
  "language_info": {
   "codemirror_mode": {
    "name": "ipython",
    "version": 3
   },
   "file_extension": ".py",
   "mimetype": "text/x-python",
   "name": "python",
   "nbconvert_exporter": "python",
   "pygments_lexer": "ipython3",
   "version": "3.8.18"
  }
 },
 "nbformat": 4,
 "nbformat_minor": 2
}
