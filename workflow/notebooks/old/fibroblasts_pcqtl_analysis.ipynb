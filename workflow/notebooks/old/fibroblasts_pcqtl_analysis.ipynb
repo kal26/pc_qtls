{
 "cells": [
  {
   "cell_type": "markdown",
   "metadata": {},
   "source": [
    "## results for fibroblast cell type\n",
    "\n",
    "Also making data loading and plotting functions "
   ]
  },
  {
   "cell_type": "code",
   "execution_count": 1,
   "metadata": {},
   "outputs": [
    {
     "name": "stderr",
     "output_type": "stream",
     "text": [
      "Warning: The R output will not be colorized because it seems that your terminal does not support ANSI escape codes. isatty(stdout()) returned FALSE.\n",
      "\n"
     ]
    }
   ],
   "source": [
    "import numpy as np\n",
    "import pandas as pd\n",
    "import matplotlib.pyplot as plt \n",
    "import seaborn as sns \n",
    "from sklearn.decomposition import PCA\n",
    "import os\n",
    "import tensorqtl\n",
    "from tensorqtl import pgen, cis, trans, post, genotypeio\n",
    "\n",
    "from upsetplot import from_memberships,  plot\n",
    "from tqdm.auto import tqdm  # for notebooks\n",
    "\n",
    "import ast\n",
    "\n",
    "# Create new `pandas` methods which use `tqdm` progress\n",
    "# (can use tqdm_gui, optional kwargs, etc.)\n",
    "tqdm.pandas()"
   ]
  },
  {
   "cell_type": "markdown",
   "metadata": {},
   "source": [
    "### control eqtl analysis comparison to pcqtl analysis\n",
    "\n"
   ]
  },
  {
   "cell_type": "code",
   "execution_count": 2,
   "metadata": {},
   "outputs": [],
   "source": [
    "#tissue_id = 'Whole_Blood'\n",
    "chr_id = '21'\n",
    "pc_id = 1\n",
    "tissue_id = 'Cells_Cultured_fibroblasts'\n",
    "prefix = '/home/klawren/oak/pcqtls'\n",
    "\n",
    "df = pd.read_csv(f\"{prefix}/data/references/selected_tissue_ids.csv\", header=0)\n",
    "tissue_ids = list(df['Tissue'])\n"
   ]
  },
  {
   "cell_type": "code",
   "execution_count": 3,
   "metadata": {},
   "outputs": [],
   "source": [
    "pc1_susie_df = pd.read_csv(f'{prefix}/output/pcqtl/{tissue_id}/{tissue_id}.v8.pc_1.susie.txt', sep='\\t', index_col=0)\n",
    "pc2_susie_df = pd.read_csv(f'{prefix}/output/pcqtl/{tissue_id}/{tissue_id}.v8.pc_2.susie.txt', sep='\\t', index_col=0)\n",
    "e_susie_df = pd.read_csv(f'{prefix}/output/control_eqtl/{tissue_id}/{tissue_id}.v8.cluster_genes.susie.txt', sep='\\t', index_col=0)\n",
    "\n",
    "overlap_df = pd.read_csv(f'{prefix}/output/overlap/{tissue_id}.v8.overlap.txt', sep='\\t')"
   ]
  },
  {
   "cell_type": "code",
   "execution_count": 8,
   "metadata": {},
   "outputs": [],
   "source": [
    "def generate_overlap_dict(susie_df):\n",
    "    overlap_dict = susie_df.groupby('variant_id')['cs_id'].apply(set).to_dict()\n",
    "    return overlap_dict\n",
    "\n",
    "def get_overlap_ids_optimized(row, overlap_dict):\n",
    "    overlap_ids = set()\n",
    "    for variant_id in row.variant_list:\n",
    "        if variant_id in overlap_dict:\n",
    "            overlap_ids.update(overlap_dict[variant_id])\n",
    "    return list(overlap_ids)"
   ]
  },
  {
   "cell_type": "code",
   "execution_count": 9,
   "metadata": {},
   "outputs": [],
   "source": [
    "# get the cs's with overlapping variants (even 1 overlapping variant qualifies)\n",
    "\n",
    "e_overlap_dict = generate_overlap_dict(e_susie_df)\n",
    "e_overlap_df['e_overlap'] = e_overlap_df.apply(get_overlap_ids_optimized, axis=1, args=(e_overlap_dict,))\n",
    "\n",
    "pc1_overlap_dict = generate_overlap_dict(pc1_susie_df)\n",
    "e_overlap_df['pc1_overlap'] = e_overlap_df.apply(get_overlap_ids_optimized, axis=1, args=(pc1_overlap_dict,))\n",
    "\n",
    "pc2_overlap_dict = generate_overlap_dict(pc2_susie_df)\n",
    "e_overlap_df['pc2_overlap'] = e_overlap_df.apply(get_overlap_ids_optimized, axis=1, args=(pc2_overlap_dict,))"
   ]
  },
  {
   "cell_type": "code",
   "execution_count": 10,
   "metadata": {},
   "outputs": [
    {
     "data": {
      "image/png": "[encoded data removed]",
      "text/plain": [
       "<Figure size 640x480 with 1 Axes>"
      ]
     },
     "metadata": {},
     "output_type": "display_data"
    }
   ],
   "source": [
    "# this plot is a bit wierd in that it double counts a credible set if it shows up for multiple egenes\n",
    "y=sns.histplot(x=np.clip(e_overlap_df['e_overlap'].apply(len), 0,4), hue=e_overlap_df['pc1_overlap'].apply(len), multiple='dodge')\n",
    "for i in range(len(y.containers)):\n",
    "    labels = [str(v) if v else '' for v in y.containers[i].datavalues]\n",
    "    y.bar_label(y.containers[i], labels=labels)\n",
    "y.set_xticks([1,2,3, 4])\n",
    "y.set_xticklabels(['1', '2', '3', '4+'])\n",
    "plt.show()"
   ]
  },
  {
   "cell_type": "code",
   "execution_count": null,
   "metadata": {},
   "outputs": [],
   "source": []
  },
  {
   "cell_type": "code",
   "execution_count": null,
   "metadata": {},
   "outputs": [],
   "source": []
  },
  {
   "cell_type": "code",
   "execution_count": null,
   "metadata": {},
   "outputs": [],
   "source": []
  },
  {
   "cell_type": "code",
   "execution_count": null,
   "metadata": {},
   "outputs": [],
   "source": [
    "def num_egenes(gene_id_list, match_df):\n",
    "    # the relevant genes\n",
    "    return e_susie_df[e_susie_df['phenotype_id'].isin(gene_id_list)]['cs_id'].unique()"
   ]
  },
  {
   "cell_type": "code",
   "execution_count": null,
   "metadata": {},
   "outputs": [],
   "source": [
    "# load results from nominal ps\n",
    "def var_pos(df):\n",
    "    return df['variant_id'].str.split('_').str[1].astype(int)\n",
    "\n",
    "# pc results\n",
    "def load_pc_pairs(path):\n",
    "    pairs_df = pd.read_parquet(path)\n",
    "    pairs_df['variant_pos'] = var_pos(pairs_df)\n",
    "    pairs_df['cluster_id'] = pairs_df['phenotype_id'].str[:-4]\n",
    "    pairs_df['cluster_size'] = pairs_df['phenotype_id'].str.split('_').str.len() - 1\n",
    "    pairs_df['num_qtl'] = pairs_df.groupby('variant_id')['phenotype_id'].transform('count')\n",
    "    return pairs_df\n",
    "\n",
    "def load_pc_indep(path):\n",
    "    indep_df = pd.read_csv(path, sep='\\t')\n",
    "    indep_df['variant_pos'] = var_pos(indep_df)\n",
    "    indep_df['cluster_id'] = indep_df['phenotype_id'].str[:-4]\n",
    "    return indep_df\n",
    "\n",
    "pc_pairs_df = load_pc_pairs(f'../../output/pcqtl/{tissue_id}/{tissue_id}.v8.pc_1.cis_qtl_pairs.chr{chr_id}.parquet')\n",
    "pc_indep_df = load_pc_indep(f'{pc_out_prefix}/pcqtl/{tissue_id}/{tissue_id}.v8.pc_1.cis_independent_qtl.txt.gz')\n",
    "#pc2_indep_df = load_pc_indep(f'{pc_out_prefix}/pcqtl/{tissue_id}/{tissue_id}.v8.pc_2.cis_independent_qtl.txt.gz')\n",
    "\n",
    "\n",
    "pc_susie_df = pd.read_csv(f'{pc_out_prefix}/pcqtl/{tissue_id}/{tissue_id}.v8.pc_1.susie.txt', sep='\\t')\n",
    "pc2_susie_df = pd.read_csv(f'{pc_out_prefix}/pcqtl/{tissue_id}/{tissue_id}.v8.pc_2.susie.txt', sep='\\t')\n",
    "\n",
    "\n",
    "# e results\n",
    "e_pairs_df = pd.read_parquet(f'{e_out_prefix}/{tissue_id}/{tissue_id}.v8.cluster_genes.cis_qtl_pairs.chr{chr_id}.parquet')\n",
    "e_pairs_df['variant_pos'] = var_pos(e_pairs_df)\n",
    "e_pairs_df['num_qtl'] = e_pairs_df.groupby('variant_id')['phenotype_id'].transform('count')\n",
    "e_indep_df = pd.read_csv(f'{e_out_prefix}/{tissue_id}/{tissue_id}.v8.cluster_genes.cis_independent_qtl.txt.gz', sep='\\t')\n",
    "e_indep_df['variant_pos'] = var_pos(e_indep_df)\n",
    "e_susie_df = pd.read_csv(f'{e_out_prefix}/{tissue_id}/{tissue_id}.v8.cluster_genes.susie.txt', sep='\\t')\n",
    "\n",
    "\n",
    "# load phenotypes and covariates\n",
    "pc_path = f'{pc_out_prefix}/pcs/{tissue_id}/{tissue_id}.pc_1.residualized.chr{chr_id}.bed'\n",
    "pc_phenotype_df, pc_phenotype_pos_df = tensorqtl.read_phenotype_bed(pc_path)\n",
    "covariates_file = f'/home/klawren/oak/coexp_eqtl/tami_eqtl_proejct/data/{tissue_id}.v8.covariates.txt'\n",
    "covariates_df = pd.read_csv(covariates_file, sep='\\t', index_col=0).T\n",
    "expression_bed = f'/home/klawren/oak/coexp_eqtl/tami_eqtl_proejct/data/{tissue_id}.v8.normalized_expression.bed'\n",
    "e_phenotype_df, e_phenotype_pos_df = tensorqtl.read_phenotype_bed(expression_bed)\n",
    "\n",
    "# load in cluster data\n",
    "cluster_path = f'/home/klawren/oak/coexp_eqtl/tami_eqtl_proejct/output/1_correlations/{tissue_id}/clusters_chr_{chr_id}.csv'\n",
    "cluster_df = pd.read_csv(cluster_path)\n",
    "cluster_orig_columns = cluster_df.columns.values\n",
    "cluster_df['cluster_id'] = cluster_df['Transcripts'].str.replace(',','_')\n"
   ]
  },
  {
   "cell_type": "code",
   "execution_count": null,
   "metadata": {},
   "outputs": [],
   "source": [
    "def get_num_cs(susie_df):\n",
    "    return len(susie_df.groupby(['phenotype_id','cs_id']))"
   ]
  },
  {
   "cell_type": "code",
   "execution_count": null,
   "metadata": {},
   "outputs": [],
   "source": [
    "print('significant signals via permutation: \\n\\t* {} eqtl \\n\\t* {} primary pc \\n\\t* {} secondary pc'.format(len(e_indep_df['variant_id'].unique()), len(pc_indep_df['variant_id'].unique()), len(pc2_indep_df['variant_id'].unique())))"
   ]
  },
  {
   "cell_type": "code",
   "execution_count": null,
   "metadata": {},
   "outputs": [],
   "source": [
    "print('independent signals via susie: \\n\\t* {} eqtl \\n\\t* {} primary pc \\n\\t* {} secondary pc'.format(get_num_cs(e_susie_df), get_num_cs(pc_susie_df), get_num_cs(pc2_susie_df)))"
   ]
  },
  {
   "cell_type": "code",
   "execution_count": null,
   "metadata": {},
   "outputs": [],
   "source": [
    "# make a df with one row per credible set\n",
    "pc_cs_df = pc_susie_df.groupby(['phenotype_id', 'cs_id']).agg({'pip':list, 'variant_id': list})\n",
    "pc_cs_df = pc_cs_df.reset_index()\n",
    "pc_cs_df['cluster_id'] = pc_cs_df['phenotype_id'].str[:-4]\n",
    "\n",
    "pc2_cs_df = pc2_susie_df.groupby(['phenotype_id', 'cs_id']).agg({'pip':list, 'variant_id': list})\n",
    "pc2_cs_df = pc2_cs_df.reset_index()\n",
    "pc2_cs_df['cluster_id'] = pc2_cs_df['phenotype_id'].str[:-4]\n",
    "\n",
    "\n",
    "e_cs_df = e_susie_df.groupby(['phenotype_id', 'cs_id']).agg({'pip':list, 'variant_id': list})\n",
    "e_cs_df = e_cs_df.reset_index()"
   ]
  },
  {
   "cell_type": "code",
   "execution_count": null,
   "metadata": {},
   "outputs": [],
   "source": [
    "# number of cluster credible sets where the a variant matches a variant in the credible set for 1+ \n",
    "# of the individual genes in the cluster \n",
    "def get_matching_ecs_pc(row):\n",
    "    # just for egenes in the cluster\n",
    "    gene_ids = row['cluster_id'].split('_')\n",
    "    ecs_cluster = e_cs_df[e_cs_df['phenotype_id'].isin(gene_ids)]\n",
    "    return get_matching_ecs(row, ecs_cluster)\n",
    "\n",
    "def get_matching_ecs_e(row):\n",
    "    # for any other gene\n",
    "    return get_matching_ecs(row, e_cs_df)\n",
    "\n",
    "def get_matching_ecs(row, ecs_cluster):\n",
    "    matching_filter = [len(set(x)&set(row['variant_id']))>0 for x in ecs_cluster['variant_id']]\n",
    "    if len(ecs_cluster[matching_filter])==0:\n",
    "        return 0\n",
    "    else:\n",
    "        return len(ecs_cluster[matching_filter]['phenotype_id'].unique())\n",
    "\n",
    "# check if in other pc df\n",
    "def get_matching_pc2cs(row):\n",
    "    pccs_cluster = pc2_cs_df[pc2_cs_df['cluster_id'] == row['cluster_id']]\n",
    "    matching_filter = [len(set(x)&set(row['variant_id']))>0 for x in pccs_cluster['variant_id']]\n",
    "    # false if no match, true otherwise\n",
    "    if sum(matching_filter)>0:\n",
    "        return 'pc_1_and_pc_2'\n",
    "    else:\n",
    "        return 'pc_1'\n",
    "def get_matching_pc1cs(row):\n",
    "    pccs_cluster = pc_cs_df[pc_cs_df['cluster_id'] == row['cluster_id']]\n",
    "    matching_filter = [len(set(x)&set(row['variant_id']))>0 for x in pccs_cluster['variant_id']]\n",
    "    # false if no match, true otherwise\n",
    "    if sum(matching_filter)>0:\n",
    "        return 'pc_1_and_pc_2'\n",
    "    else:\n",
    "        return 'pc_2'"
   ]
  },
  {
   "cell_type": "code",
   "execution_count": null,
   "metadata": {},
   "outputs": [],
   "source": [
    "# turn into group - index is phenotype_id/csidx, columns for number of egenes and which pcs sig\n",
    "\n",
    "pc_cs_df['n_match_egene'] = pc_cs_df.progress_apply(get_matching_ecs_pc, axis=1)\n",
    "pc2_cs_df['n_match_egene'] = pc2_cs_df.progress_apply(get_matching_ecs_pc, axis=1)\n",
    "e_cs_df['n_match_egene'] = e_cs_df.progress_apply(get_matching_ecs_e, axis=1)\n",
    "\n",
    "pc_cs_df['match_pc'] = pc_cs_df.progress_apply(get_matching_pc2cs, axis=1)\n",
    "pc2_cs_df['match_pc'] = pc2_cs_df.progress_apply(get_matching_pc1cs, axis=1)"
   ]
  },
  {
   "cell_type": "code",
   "execution_count": null,
   "metadata": {},
   "outputs": [],
   "source": [
    "def in_pcs(row):\n",
    "    idx1 = 0\n",
    "    idx2 = 0\n",
    "    for var_id in row['variant_id']:\n",
    "        idx1 = idx1 + sum(pc_susie_df[pc_susie_df['variant_id'] == var_id]['phenotype_id'].str.contains(row.phenotype_id))\n",
    "        idx2 = idx2 + sum(pc2_susie_df[pc2_susie_df['variant_id'] == var_id]['phenotype_id'].str.contains(row.phenotype_id))\n",
    "    if idx1>0 and idx2>0:\n",
    "        return 'pc_1_and_pc_2'\n",
    "    elif idx1>0:\n",
    "        return 'pc_1'\n",
    "    elif idx2>0:\n",
    "        return 'pc_2'\n",
    "    else: \n",
    "        return 'no'\n",
    "\n",
    "e_cs_df['match_pc'] = e_cs_df.progress_apply(in_pcs, axis=1)"
   ]
  },
  {
   "cell_type": "code",
   "execution_count": null,
   "metadata": {},
   "outputs": [],
   "source": [
    "# add id\n",
    "pc_cs_df['phen_cs_id'] = pc_cs_df['phenotype_id'].astype(str) + '_cs' + pc_cs_df['cs_id'].astype(str)\n",
    "pc2_cs_df['phen_cs_id'] = pc2_cs_df['phenotype_id'].astype(str) + '_cs' + pc2_cs_df['cs_id'].astype(str)\n",
    "e_cs_df['phen_cs_id'] = e_cs_df['phenotype_id'].astype(str) + '_cs' + e_cs_df['cs_id'].astype(str)"
   ]
  },
  {
   "cell_type": "code",
   "execution_count": null,
   "metadata": {},
   "outputs": [],
   "source": [
    "# concat all the pc 2 not shared wtih pc1 to pc1\n",
    "# concat all the egene not in pc\n",
    "\n",
    "# cluster first approach (I think this makes more sense)\n",
    "\n",
    "group = pd.concat([pc2_cs_df[pc2_cs_df['match_pc'] != 'pc_1_and_pc_2'][['n_match_egene', 'match_pc', 'phen_cs_id']], \n",
    "                      pc_cs_df[['n_match_egene', 'match_pc', 'phen_cs_id']], \n",
    "                      e_cs_df[e_cs_df['match_pc'] == 'no'][['n_match_egene', 'match_pc', 'phen_cs_id']]])\n",
    "\n",
    "    "
   ]
  },
  {
   "cell_type": "code",
   "execution_count": null,
   "metadata": {},
   "outputs": [],
   "source": [
    "\n",
    "# plot\n",
    "group['n_match_egene_clip'] = np.clip(group['n_match_egene'], 0, 3)\n",
    "y=sns.histplot(group, x='n_match_egene_clip', hue='match_pc', multiple='dodge', hue_order=['no', 'pc_1', 'pc_2', 'pc_1_and_pc_2'])\n",
    "for i in range(len(y.containers)):\n",
    "    labels = [str(v) if v else '' for v in y.containers[i].datavalues]\n",
    "    y.bar_label(y.containers[i], labels=labels)\n",
    "y.set_xticks([0,1,2,3])\n",
    "y.set_xticklabels(['None', '1', '2', '3+'])\n",
    "plt.title('Count of variants signifigant for egenes and via pc')\n",
    "plt.xlabel('Number of significant egenes')\n",
    "plt.ylabel('Number of variants')\n",
    "plt.show()"
   ]
  },
  {
   "cell_type": "code",
   "execution_count": null,
   "metadata": {},
   "outputs": [],
   "source": [
    "# upset without egene breakdowns\n",
    "indep_upset = from_memberships(\n",
    "    [['pc_1'],\n",
    "     ['egene'],\n",
    "     ['pc_1', 'egene'],\n",
    "     ['pc_2'],\n",
    "     ['pc_1', 'pc_2'],\n",
    "     ['pc_2', 'egene'],\n",
    "     ['pc_1', 'pc_2', 'egene']\n",
    "     ],\n",
    "     data=[sum((group['n_match_egene']==0)&(group['match_pc']=='pc_1')),\n",
    "           sum((group['n_match_egene']!=0)&(group['match_pc']=='no')),  \n",
    "           sum((group['n_match_egene']!=0)&(group['match_pc']=='pc_1')),\n",
    "           sum((group['n_match_egene']==0)&(group['match_pc']=='pc_2')),\n",
    "           sum((group['n_match_egene']==0)&(group['match_pc']=='pc_1_and_pc_2')),\n",
    "           sum((group['n_match_egene']!=0)&(group['match_pc']=='pc_2')),\n",
    "           sum((group['n_match_egene']!=0)&(group['match_pc']=='pc_1_and_pc_2')),\n",
    "          ]\n",
    ")\n",
    "\n",
    "\n",
    "plot(indep_upset,show_counts=True)\n",
    "plt.show()"
   ]
  }
 ],
 "metadata": {
  "kernelspec": {
   "display_name": "Python 3 (ipykernel)",
   "language": "python",
   "name": "python3"
  },
  "language_info": {
   "codemirror_mode": {
    "name": "ipython",
    "version": 3
   },
   "file_extension": ".py",
   "mimetype": "text/x-python",
   "name": "python",
   "nbconvert_exporter": "python",
   "pygments_lexer": "ipython3",
   "version": "3.8.18"
  }
 },
 "nbformat": 4,
 "nbformat_minor": 2
}
