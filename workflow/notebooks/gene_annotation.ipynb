{
 "cells": [
  {
   "cell_type": "markdown",
   "metadata": {},
   "source": [
    "### Gene annotation\n",
    "\n",
    "\n",
    "this started as a way to add relevant annotations to the list of genes, but I concluded that this would be too much per-gene information (especially with paired type info like EP connections and corss-mappaibility)\n",
    "    minimally, I now generate a list of genes with some relevant information\n",
    "\n",
    "there is a list of all the genes I use here: data/references/gencode.v26.GRCh38.genes.gtf\n",
    "\n",
    "now, just some minimal gtf to csv processing\n",
    "\n"
   ]
  },
  {
   "cell_type": "code",
   "execution_count": 1,
   "metadata": {},
   "outputs": [],
   "source": [
    "import numpy as np\n",
    "import pandas as pd\n",
    "import matplotlib.pyplot as plt \n",
    "import seaborn as sns "
   ]
  },
  {
   "cell_type": "code",
   "execution_count": 49,
   "metadata": {},
   "outputs": [],
   "source": [
    "prefix = '/home/klawren/oak/pcqtls'"
   ]
  },
  {
   "cell_type": "markdown",
   "metadata": {},
   "source": [
    "load in unannotated genes"
   ]
  },
  {
   "cell_type": "code",
   "execution_count": 57,
   "metadata": {},
   "outputs": [],
   "source": [
    "# load in the gene information (for gene-gene distances)\n",
    "full_gencode=pd.read_csv(f'{prefix}/data/references/gencode.v26.GRCh38.genes.gtf', sep='\\t', skiprows=range(6), \n",
    "            header=None, names=['chr', 'dataset', 'type', 'start','end', '.', 'strand', 'na', 'info'])\n",
    "\n",
    "full_gencode = full_gencode[full_gencode['type']=='transcript']\n",
    "full_gencode['transcript_id'] = full_gencode['info'].str.split(';').str[1].str.split('\\\"').str[-2]\n",
    "full_gencode['gene_name'] = full_gencode['info'].str.split(';').str[3].str.split('\\\"').str[-2]\n",
    "\n",
    "full_gencode['gene_type'] = full_gencode['info'].str.split(';').str[2].str.split('\\\"').str[-2]\n",
    "full_gencode['tss_start'] = np.where(full_gencode['strand'] == '+', full_gencode['start'], full_gencode['end'])\n",
    "full_gencode['gene_end'] = np.where(full_gencode['strand'] == '-', full_gencode['start'], full_gencode['end'])\n"
   ]
  },
  {
   "cell_type": "code",
   "execution_count": 58,
   "metadata": {},
   "outputs": [],
   "source": [
    "gencode = full_gencode.drop(columns=['info', 'dataset', '.', 'type'])"
   ]
  },
  {
   "cell_type": "code",
   "execution_count": 59,
   "metadata": {},
   "outputs": [],
   "source": [
    "# this is too many to add to the gene annotations. I will jsut write out with the info I have and do this at the cluster level\n",
    "\n",
    "gencode.to_csv(f'{prefix}/data/references/processed_gencode.v26.GRCh38.genes.csv', index=None)"
   ]
  }
 ],
 "metadata": {
  "kernelspec": {
   "display_name": "Python 3 (ipykernel)",
   "language": "python",
   "name": "python3"
  }
 },
 "nbformat": 4,
 "nbformat_minor": 2
}
