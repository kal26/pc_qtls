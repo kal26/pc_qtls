{
 "cells": [
  {
   "cell_type": "markdown",
   "metadata": {},
   "source": [
    "### add relevant annotations to the list of genes\n",
    "\n",
    "there is a list of all the genes I use here: data/references/gencode.v26.GRCh38.genes.gtf\n",
    "\n",
    "I should add to that different annotations, that will make cluster annotaiton much easier/more computaitonally efficient\n",
    "\n",
    "* cross-mappable genes\n",
    "* go terms\n",
    "* paralogs\n",
    "* enhancers that contact (in each relevant cell type)\n",
    "* bidirectional promoter genes\n",
    "* expression level \n",
    "\n",
    "\n"
   ]
  },
  {
   "cell_type": "code",
   "execution_count": 48,
   "metadata": {},
   "outputs": [],
   "source": [
    "import numpy as np\n",
    "import pandas as pd\n",
    "import matplotlib.pyplot as plt \n",
    "import seaborn as sns "
   ]
  },
  {
   "cell_type": "code",
   "execution_count": 49,
   "metadata": {},
   "outputs": [],
   "source": [
    "prefix = '/home/klawren/oak/pcqtls'"
   ]
  },
  {
   "cell_type": "markdown",
   "metadata": {},
   "source": [
    "load in unannotated genes"
   ]
  },
  {
   "cell_type": "code",
   "execution_count": 50,
   "metadata": {},
   "outputs": [],
   "source": [
    "# load in the gene information (for gene-gene distances)\n",
    "full_gencode=pd.read_csv(f'{prefix}/data/references/gencode.v26.GRCh38.genes.gtf', sep='\\t', skiprows=range(6), \n",
    "            header=None, names=['chr', 'dataset', 'type', 'start','end', '.', 'strand', 'na', 'info'])\n",
    "\n",
    "full_gencode = full_gencode[full_gencode['type']=='transcript']\n",
    "full_gencode['transcript_id'] = full_gencode['info'].str.split(';').str[1].str.split('\\\"').str[-2]\n",
    "full_gencode['gene_name'] = full_gencode['info'].str.split(';').str[3].str.split('\\\"').str[-2]\n",
    "\n",
    "full_gencode['gene_type'] = full_gencode['info'].str.split(';').str[2].str.split('\\\"').str[-2]\n",
    "full_gencode['tss_start'] = np.where(full_gencode['strand'] == '+', full_gencode['start'], full_gencode['end'])"
   ]
  },
  {
   "cell_type": "code",
   "execution_count": 51,
   "metadata": {},
   "outputs": [],
   "source": [
    "gencode = full_gencode.drop(columns=['info', 'dataset', '.', 'type'])"
   ]
  },
  {
   "cell_type": "markdown",
   "metadata": {},
   "source": [
    "add cross_mappibility info, downloaded from https://figshare.com/ndownloader/files/13514741"
   ]
  },
  {
   "cell_type": "code",
   "execution_count": 52,
   "metadata": {},
   "outputs": [
    {
     "data": {
      "text/html": [
       "<div>\n",
       "<style scoped>\n",
       "    .dataframe tbody tr th:only-of-type {\n",
       "        vertical-align: middle;\n",
       "    }\n",
       "\n",
       "    .dataframe tbody tr th {\n",
       "        vertical-align: top;\n",
       "    }\n",
       "\n",
       "    .dataframe thead th {\n",
       "        text-align: right;\n",
       "    }\n",
       "</style>\n",
       "<table border=\"1\" class=\"dataframe\">\n",
       "  <thead>\n",
       "    <tr style=\"text-align: right;\">\n",
       "      <th></th>\n",
       "      <th>gene_1</th>\n",
       "      <th>gene_2</th>\n",
       "      <th>cross_mappability</th>\n",
       "    </tr>\n",
       "  </thead>\n",
       "  <tbody>\n",
       "    <tr>\n",
       "      <th>0</th>\n",
       "      <td>ENSG00000000003.14</td>\n",
       "      <td>ENSG00000000457.13</td>\n",
       "      <td>5.0</td>\n",
       "    </tr>\n",
       "    <tr>\n",
       "      <th>1</th>\n",
       "      <td>ENSG00000000003.14</td>\n",
       "      <td>ENSG00000001084.10</td>\n",
       "      <td>1.5</td>\n",
       "    </tr>\n",
       "    <tr>\n",
       "      <th>2</th>\n",
       "      <td>ENSG00000000003.14</td>\n",
       "      <td>ENSG00000001460.17</td>\n",
       "      <td>11.5</td>\n",
       "    </tr>\n",
       "    <tr>\n",
       "      <th>3</th>\n",
       "      <td>ENSG00000000003.14</td>\n",
       "      <td>ENSG00000001461.16</td>\n",
       "      <td>1.0</td>\n",
       "    </tr>\n",
       "    <tr>\n",
       "      <th>4</th>\n",
       "      <td>ENSG00000000003.14</td>\n",
       "      <td>ENSG00000001630.15</td>\n",
       "      <td>6.0</td>\n",
       "    </tr>\n",
       "    <tr>\n",
       "      <th>...</th>\n",
       "      <td>...</td>\n",
       "      <td>...</td>\n",
       "      <td>...</td>\n",
       "    </tr>\n",
       "    <tr>\n",
       "      <th>28343097</th>\n",
       "      <td>ENSG00000284523.1</td>\n",
       "      <td>ENSG00000284526.1</td>\n",
       "      <td>2.0</td>\n",
       "    </tr>\n",
       "    <tr>\n",
       "      <th>28343098</th>\n",
       "      <td>ENSG00000284523.1</td>\n",
       "      <td>ENSG00000284554.1</td>\n",
       "      <td>11.0</td>\n",
       "    </tr>\n",
       "    <tr>\n",
       "      <th>28343099</th>\n",
       "      <td>ENSG00000284526.1</td>\n",
       "      <td>ENSG00000284543.1</td>\n",
       "      <td>1.5</td>\n",
       "    </tr>\n",
       "    <tr>\n",
       "      <th>28343100</th>\n",
       "      <td>ENSG00000284526.1</td>\n",
       "      <td>ENSG00000284554.1</td>\n",
       "      <td>9.0</td>\n",
       "    </tr>\n",
       "    <tr>\n",
       "      <th>28343101</th>\n",
       "      <td>ENSG00000284543.1</td>\n",
       "      <td>ENSG00000284554.1</td>\n",
       "      <td>4.0</td>\n",
       "    </tr>\n",
       "  </tbody>\n",
       "</table>\n",
       "<p>28343102 rows × 3 columns</p>\n",
       "</div>"
      ],
      "text/plain": [
       "                      gene_1              gene_2  cross_mappability\n",
       "0         ENSG00000000003.14  ENSG00000000457.13                5.0\n",
       "1         ENSG00000000003.14  ENSG00000001084.10                1.5\n",
       "2         ENSG00000000003.14  ENSG00000001460.17               11.5\n",
       "3         ENSG00000000003.14  ENSG00000001461.16                1.0\n",
       "4         ENSG00000000003.14  ENSG00000001630.15                6.0\n",
       "...                      ...                 ...                ...\n",
       "28343097   ENSG00000284523.1   ENSG00000284526.1                2.0\n",
       "28343098   ENSG00000284523.1   ENSG00000284554.1               11.0\n",
       "28343099   ENSG00000284526.1   ENSG00000284543.1                1.5\n",
       "28343100   ENSG00000284526.1   ENSG00000284554.1                9.0\n",
       "28343101   ENSG00000284543.1   ENSG00000284554.1                4.0\n",
       "\n",
       "[28343102 rows x 3 columns]"
      ]
     },
     "execution_count": 52,
     "metadata": {},
     "output_type": "execute_result"
    }
   ],
   "source": [
    "cross_mappability = pd.read_csv(f'{prefix}/data/references/hg38_cross_mappability_strength_symmetric_mean_sorted.txt.gz', sep='\\t', header=None, names=['gene_1', 'gene_2', 'cross_mappability'])\n",
    "cross_mappability"
   ]
  },
  {
   "cell_type": "code",
   "execution_count": 53,
   "metadata": {},
   "outputs": [
    {
     "data": {
      "image/png": "[encoded data removed]",
      "text/plain": [
       "<Figure size 640x480 with 1 Axes>"
      ]
     },
     "metadata": {},
     "output_type": "display_data"
    }
   ],
   "source": [
    "ax = sns.histplot(cross_mappability, x='cross_mappability', bins=100)\n",
    "ax.set_yscale('log')"
   ]
  },
  {
   "cell_type": "code",
   "execution_count": 54,
   "metadata": {},
   "outputs": [
    {
     "data": {
      "text/html": [
       "<div>\n",
       "<style scoped>\n",
       "    .dataframe tbody tr th:only-of-type {\n",
       "        vertical-align: middle;\n",
       "    }\n",
       "\n",
       "    .dataframe tbody tr th {\n",
       "        vertical-align: top;\n",
       "    }\n",
       "\n",
       "    .dataframe thead th {\n",
       "        text-align: right;\n",
       "    }\n",
       "</style>\n",
       "<table border=\"1\" class=\"dataframe\">\n",
       "  <thead>\n",
       "    <tr style=\"text-align: right;\">\n",
       "      <th></th>\n",
       "      <th>gene_1</th>\n",
       "      <th>gene_2</th>\n",
       "      <th>cross_mappability</th>\n",
       "    </tr>\n",
       "  </thead>\n",
       "  <tbody>\n",
       "    <tr>\n",
       "      <th>6870</th>\n",
       "      <td>ENSG00000000457.13</td>\n",
       "      <td>ENSG00000000460.16</td>\n",
       "      <td>55.0</td>\n",
       "    </tr>\n",
       "    <tr>\n",
       "      <th>6871</th>\n",
       "      <td>ENSG00000000457.13</td>\n",
       "      <td>ENSG00000001084.10</td>\n",
       "      <td>4.0</td>\n",
       "    </tr>\n",
       "    <tr>\n",
       "      <th>6872</th>\n",
       "      <td>ENSG00000000457.13</td>\n",
       "      <td>ENSG00000001460.17</td>\n",
       "      <td>9.5</td>\n",
       "    </tr>\n",
       "    <tr>\n",
       "      <th>6873</th>\n",
       "      <td>ENSG00000000457.13</td>\n",
       "      <td>ENSG00000001461.16</td>\n",
       "      <td>10.0</td>\n",
       "    </tr>\n",
       "    <tr>\n",
       "      <th>6874</th>\n",
       "      <td>ENSG00000000457.13</td>\n",
       "      <td>ENSG00000001630.15</td>\n",
       "      <td>66.0</td>\n",
       "    </tr>\n",
       "    <tr>\n",
       "      <th>...</th>\n",
       "      <td>...</td>\n",
       "      <td>...</td>\n",
       "      <td>...</td>\n",
       "    </tr>\n",
       "    <tr>\n",
       "      <th>15581</th>\n",
       "      <td>ENSG00000000457.13</td>\n",
       "      <td>ENSG00000284512.1</td>\n",
       "      <td>17.0</td>\n",
       "    </tr>\n",
       "    <tr>\n",
       "      <th>15582</th>\n",
       "      <td>ENSG00000000457.13</td>\n",
       "      <td>ENSG00000284523.1</td>\n",
       "      <td>7.0</td>\n",
       "    </tr>\n",
       "    <tr>\n",
       "      <th>15583</th>\n",
       "      <td>ENSG00000000457.13</td>\n",
       "      <td>ENSG00000284526.1</td>\n",
       "      <td>5.0</td>\n",
       "    </tr>\n",
       "    <tr>\n",
       "      <th>15584</th>\n",
       "      <td>ENSG00000000457.13</td>\n",
       "      <td>ENSG00000284543.1</td>\n",
       "      <td>14.5</td>\n",
       "    </tr>\n",
       "    <tr>\n",
       "      <th>15585</th>\n",
       "      <td>ENSG00000000457.13</td>\n",
       "      <td>ENSG00000284554.1</td>\n",
       "      <td>16.0</td>\n",
       "    </tr>\n",
       "  </tbody>\n",
       "</table>\n",
       "<p>8716 rows × 3 columns</p>\n",
       "</div>"
      ],
      "text/plain": [
       "                   gene_1              gene_2  cross_mappability\n",
       "6870   ENSG00000000457.13  ENSG00000000460.16               55.0\n",
       "6871   ENSG00000000457.13  ENSG00000001084.10                4.0\n",
       "6872   ENSG00000000457.13  ENSG00000001460.17                9.5\n",
       "6873   ENSG00000000457.13  ENSG00000001461.16               10.0\n",
       "6874   ENSG00000000457.13  ENSG00000001630.15               66.0\n",
       "...                   ...                 ...                ...\n",
       "15581  ENSG00000000457.13   ENSG00000284512.1               17.0\n",
       "15582  ENSG00000000457.13   ENSG00000284523.1                7.0\n",
       "15583  ENSG00000000457.13   ENSG00000284526.1                5.0\n",
       "15584  ENSG00000000457.13   ENSG00000284543.1               14.5\n",
       "15585  ENSG00000000457.13   ENSG00000284554.1               16.0\n",
       "\n",
       "[8716 rows x 3 columns]"
      ]
     },
     "execution_count": 54,
     "metadata": {},
     "output_type": "execute_result"
    }
   ],
   "source": [
    "cross_mappability[cross_mappability['gene_1'] == 'ENSG00000000457.13']"
   ]
  },
  {
   "cell_type": "code",
   "execution_count": 55,
   "metadata": {},
   "outputs": [
    {
     "data": {
      "text/plain": [
       "Text(0.5, 0, 'number cross mappable genes per gene')"
      ]
     },
     "execution_count": 55,
     "metadata": {},
     "output_type": "execute_result"
    },
    {
     "data": {
      "image/png": "[encoded data removed]",
      "text/plain": [
       "<Figure size 640x480 with 1 Axes>"
      ]
     },
     "metadata": {},
     "output_type": "display_data"
    }
   ],
   "source": [
    "sns.histplot(cross_mappability.groupby('gene_1').agg({'gene_2':'nunique'}), x='gene_2')\n",
    "plt.xlabel('number cross mappable genes per gene')"
   ]
  },
  {
   "cell_type": "code",
   "execution_count": 56,
   "metadata": {},
   "outputs": [],
   "source": [
    "# this is too many to add to the gene annotations. I will jsut write out with the info I have and do this at the cluster level\n",
    "\n",
    "gencode.to_csv(f'{prefix}/data/references/processed_gencode.v26.GRCh38.genes.csv', index=None)"
   ]
  },
  {
   "cell_type": "code",
   "execution_count": null,
   "metadata": {},
   "outputs": [],
   "source": []
  }
 ],
 "metadata": {
  "kernelspec": {
   "display_name": "Python 3 (ipykernel)",
   "language": "python",
   "name": "python3"
  },
  "language_info": {
   "codemirror_mode": {
    "name": "ipython",
    "version": 3
   },
   "file_extension": ".py",
   "mimetype": "text/x-python",
   "name": "python",
   "nbconvert_exporter": "python",
   "pygments_lexer": "ipython3",
   "version": "3.8.18"
  }
 },
 "nbformat": 4,
 "nbformat_minor": 2
}
