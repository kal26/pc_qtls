{
 "cells": [
  {
   "cell_type": "markdown",
   "metadata": {},
   "source": [
    "## Power for pcqtls\n",
    "are pcqtls (especially pc1qtls) boosting power to detect signals that exist in signle egene analysis, but just are below detection thresholds?\n",
    "\n",
    "Looking at the set of pcqtls that don't overlap with eqtls, then ask if the nominal p value distribution for the eqtls is enriched for low p values"
   ]
  },
  {
   "cell_type": "code",
   "execution_count": 285,
   "metadata": {},
   "outputs": [],
   "source": [
    "import pandas as pd\n",
    "import numpy as np\n",
    "import matplotlib.pyplot as plt \n",
    "import seaborn as sns\n",
    "from tqdm.auto import tqdm  # for notebooks"
   ]
  },
  {
   "cell_type": "markdown",
   "metadata": {},
   "source": [
    "### load in data\n",
    "nominal p values and overlap dfs"
   ]
  },
  {
   "cell_type": "code",
   "execution_count": 280,
   "metadata": {},
   "outputs": [],
   "source": [
    "tissue_id = 'Cells_Cultured_fibroblasts' # because only one cell type\n",
    "\n",
    "prefix = '/home/klawren/oak/pcqtls'"
   ]
  },
  {
   "cell_type": "code",
   "execution_count": 286,
   "metadata": {},
   "outputs": [
    {
     "data": {
      "application/vnd.jupyter.widget-view+json": {
       "model_id": "58e33b6183d94df097dfa7d707486d16",
       "version_major": 2,
       "version_minor": 0
      },
      "text/plain": [
       "  0%|          | 0/22 [00:00<?, ?it/s]"
      ]
     },
     "metadata": {},
     "output_type": "display_data"
    }
   ],
   "source": [
    "# load nominal p value dfs\n",
    "\n",
    "def var_pos(df):\n",
    "    return df['variant_id'].str.split('_').str[1].astype(int)\n",
    "\n",
    "# load in e nominal\n",
    "def load_e_nominal(path):\n",
    "    e_nominal_df = pd.read_parquet(path)\n",
    "    e_nominal_df['variant_pos'] = var_pos(e_nominal_df)\n",
    "    e_nominal_df['cluster_id'] = e_nominal_df['phenotype_id'].str.split('_e_').str[0]\n",
    "    e_nominal_df['egene_id'] = e_nominal_df['phenotype_id'].str.split('_e_').str[1]\n",
    "    return e_nominal_df\n",
    "\n",
    "e_nominal_dfs=[]\n",
    "for chr_id in tqdm(range(1,23)):\n",
    "    e_nominal_dfs.append(load_e_nominal(f'{prefix}/output/control_eqtl/{tissue_id}/{tissue_id}.v8.cluster_genes.cis_qtl_pairs.chr{chr_id}.parquet'))\n",
    "\n",
    "e_nominal_df = pd.concat(e_nominal_dfs)"
   ]
  },
  {
   "cell_type": "code",
   "execution_count": 290,
   "metadata": {},
   "outputs": [
    {
     "data": {
      "application/vnd.jupyter.widget-view+json": {
       "model_id": "e4a66b774e68454ea1b6a83f5521959f",
       "version_major": 2,
       "version_minor": 0
      },
      "text/plain": [
       "  0%|          | 0/22 [00:00<?, ?it/s]"
      ]
     },
     "metadata": {},
     "output_type": "display_data"
    },
    {
     "data": {
      "application/vnd.jupyter.widget-view+json": {
       "model_id": "a60e9c4796f54184b21c1422c6e3da8b",
       "version_major": 2,
       "version_minor": 0
      },
      "text/plain": [
       "  0%|          | 0/22 [00:00<?, ?it/s]"
      ]
     },
     "metadata": {},
     "output_type": "display_data"
    }
   ],
   "source": [
    "def load_pc_nominal(path):\n",
    "    pc_nominal_df = pd.read_parquet(path)\n",
    "    pc_nominal_df['variant_pos'] = var_pos(pc_nominal_df)\n",
    "    pc_nominal_df['cluster_id'] = pc_nominal_df['phenotype_id'].str[:-4]\n",
    "    pc_nominal_df['cluster_size'] = pc_nominal_df['phenotype_id'].str.split('_').str.len() - 1\n",
    "    return pc_nominal_df\n",
    "\n",
    "pc1_nominal_dfs=[]\n",
    "for chr_id in tqdm(range(1,23)):\n",
    "    pc1_nominal_dfs.append(load_e_nominal(f'{prefix}/output/pcqtl/{tissue_id}/{tissue_id}.v8.pc_1.cis_qtl_pairs.chr{chr_id}.parquet'))\n",
    "pc1_nominal_df = pd.concat(pc1_nominal_dfs)\n",
    "\n",
    "\n",
    "pc2_nominal_dfs=[]\n",
    "for chr_id in tqdm(range(1,23)):\n",
    "    pc2_nominal_dfs.append(load_e_nominal(f'{prefix}/output/pcqtl/{tissue_id}/{tissue_id}.v8.pc_2.cis_qtl_pairs.chr{chr_id}.parquet'))\n",
    "pc2_nominal_df = pd.concat(pc2_nominal_dfs)"
   ]
  },
  {
   "cell_type": "code",
   "execution_count": null,
   "metadata": {},
   "outputs": [],
   "source": [
    "# write out? This was taking forever, so skiiping for now. It's ~ 6 minutes to load in data \n",
    "\n",
    "#e_nominal_df.to_csv(f'{e_out_prefix}/{tissue_id}.v8.cluster_genes.cis_qtl_pairs.csv.gz', sep='\\t', compression='gzip')\n",
    "#pc1_nominal_df.to_csv(f'{pc_out_prefix}/{tissue_id}.v8.pc_1.cis_qtl_pairs.csv.gz', sep='\\t', compression='gzip')\n",
    "#pc2_nominal_df.to_csv(f'{pc_out_prefix}/{tissue_id}.v8.pc_2.cis_qtl_pairs.csv.gz', sep='\\t', compression='gzip')"
   ]
  },
  {
   "cell_type": "code",
   "execution_count": null,
   "metadata": {},
   "outputs": [],
   "source": [
    "overlap_df = pd.read_csv(f'{prefix}/output/overlap/{tissue_id}.v8.overlap.txt', sep='\\t')"
   ]
  },
  {
   "cell_type": "markdown",
   "metadata": {},
   "source": [
    "## nominal p value distribution"
   ]
  },
  {
   "cell_type": "code",
   "execution_count": null,
   "metadata": {},
   "outputs": [],
   "source": []
  }
 ],
 "metadata": {
  "kernelspec": {
   "display_name": "Python 3 (ipykernel)",
   "language": "python",
   "name": "python3"
  },
  "language_info": {
   "codemirror_mode": {
    "name": "ipython",
    "version": 3
   },
   "file_extension": ".py",
   "mimetype": "text/x-python",
   "name": "python",
   "nbconvert_exporter": "python",
   "pygments_lexer": "ipython3",
   "version": "3.8.18"
  }
 },
 "nbformat": 4,
 "nbformat_minor": 2
}
