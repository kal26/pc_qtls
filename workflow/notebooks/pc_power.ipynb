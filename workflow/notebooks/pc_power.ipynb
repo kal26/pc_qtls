{
 "cells": [
  {
   "cell_type": "markdown",
   "metadata": {},
   "source": [
    "## Power for pcqtls\n",
    "are pcqtls (especially pc1qtls) boosting power to detect signals that exist in signle egene analysis, but just are below detection thresholds?\n",
    "\n",
    "Looking at the set of pcqtls that don't overlap with eqtls, then ask if the nominal p value distribution for the eqtls is enriched for low p values"
   ]
  },
  {
   "cell_type": "code",
   "execution_count": 285,
   "metadata": {},
   "outputs": [],
   "source": [
    "import pandas as pd\n",
    "import numpy as np\n",
    "import matplotlib.pyplot as plt \n",
    "import seaborn as sns\n",
    "from tqdm.auto import tqdm  # for notebooks"
   ]
  },
  {
   "cell_type": "markdown",
   "metadata": {},
   "source": [
    "### load in data\n",
    "nominal p values and overlap dfs"
   ]
  },
  {
   "cell_type": "code",
   "execution_count": 292,
   "metadata": {},
   "outputs": [],
   "source": [
    "tissue_id = 'Cells_Cultured_fibroblasts' # because only one cell type\n",
    "\n",
    "prefix = '/home/klawren/oak/pcqtls'"
   ]
  },
  {
   "cell_type": "code",
   "execution_count": 286,
   "metadata": {},
   "outputs": [
    {
     "data": {
      "application/vnd.jupyter.widget-view+json": {
       "model_id": "58e33b6183d94df097dfa7d707486d16",
       "version_major": 2,
       "version_minor": 0
      },
      "text/plain": [
       "  0%|          | 0/22 [00:00<?, ?it/s]"
      ]
     },
     "metadata": {},
     "output_type": "display_data"
    }
   ],
   "source": [
    "# load nominal p value dfs\n",
    "\n",
    "def var_pos(df):\n",
    "    return df['variant_id'].str.split('_').str[1].astype(int)\n",
    "\n",
    "# load in e nominal\n",
    "def load_e_nominal(path):\n",
    "    e_nominal_df = pd.read_parquet(path)\n",
    "    #e_nominal_df['variant_pos'] = var_pos(e_nominal_df)\n",
    "    e_nominal_df['cluster_id'] = e_nominal_df['phenotype_id'].str.split('_e_').str[0]\n",
    "    #e_nominal_df['egene_id'] = e_nominal_df['phenotype_id'].str.split('_e_').str[1]\n",
    "    return e_nominal_df\n",
    "\n",
    "e_nominal_dfs=[]\n",
    "for chr_id in tqdm(range(1,23)):\n",
    "    e_nominal_dfs.append(load_e_nominal(f'{prefix}/output/control_eqtl/{tissue_id}/{tissue_id}.v8.cluster_genes.cis_qtl_pairs.chr{chr_id}.parquet'))\n",
    "\n",
    "e_nominal_df = pd.concat(e_nominal_dfs)"
   ]
  },
  {
   "cell_type": "code",
   "execution_count": 315,
   "metadata": {},
   "outputs": [
    {
     "data": {
      "application/vnd.jupyter.widget-view+json": {
       "model_id": "cc264dd27d314198b7e30d11798f7023",
       "version_major": 2,
       "version_minor": 0
      },
      "text/plain": [
       "  0%|          | 0/22 [00:00<?, ?it/s]"
      ]
     },
     "metadata": {},
     "output_type": "display_data"
    },
    {
     "data": {
      "application/vnd.jupyter.widget-view+json": {
       "model_id": "63472599d41645619bb92d8f5248c0a4",
       "version_major": 2,
       "version_minor": 0
      },
      "text/plain": [
       "  0%|          | 0/22 [00:00<?, ?it/s]"
      ]
     },
     "metadata": {},
     "output_type": "display_data"
    }
   ],
   "source": [
    "def load_pc_nominal(path):\n",
    "    pc_nominal_df = pd.read_parquet(path)\n",
    "    #pc_nominal_df['variant_pos'] = var_pos(pc_nominal_df)\n",
    "    pc_nominal_df['cluster_id'] = pc_nominal_df['phenotype_id'].str[:-4]\n",
    "    #pc_nominal_df['cluster_size'] = pc_nominal_df['phenotype_id'].str.split('_').str.len() - 1\n",
    "    return pc_nominal_df\n",
    "\n",
    "pc1_nominal_dfs=[]\n",
    "for chr_id in tqdm(range(1,23)):\n",
    "    pc1_nominal_dfs.append(load_pc_nominal(f'{prefix}/output/pcqtl/{tissue_id}/{tissue_id}.v8.pc_1.cis_qtl_pairs.chr{chr_id}.parquet'))\n",
    "pc1_nominal_df = pd.concat(pc1_nominal_dfs)\n",
    "\n",
    "\n",
    "pc2_nominal_dfs=[]\n",
    "for chr_id in tqdm(range(1,23)):\n",
    "    pc2_nominal_dfs.append(load_pc_nominal(f'{prefix}/output/pcqtl/{tissue_id}/{tissue_id}.v8.pc_2.cis_qtl_pairs.chr{chr_id}.parquet'))\n",
    "pc2_nominal_df = pd.concat(pc2_nominal_dfs)"
   ]
  },
  {
   "cell_type": "code",
   "execution_count": null,
   "metadata": {},
   "outputs": [],
   "source": [
    "# write out? This was taking forever, so skiiping for now. It's ~ 6 minutes to load in data \n",
    "\n",
    "#e_nominal_df.to_csv(f'{e_out_prefix}/{tissue_id}.v8.cluster_genes.cis_qtl_pairs.csv.gz', sep='\\t', compression='gzip')\n",
    "#pc1_nominal_df.to_csv(f'{pc_out_prefix}/{tissue_id}.v8.pc_1.cis_qtl_pairs.csv.gz', sep='\\t', compression='gzip')\n",
    "#pc2_nominal_df.to_csv(f'{pc_out_prefix}/{tissue_id}.v8.pc_2.cis_qtl_pairs.csv.gz', sep='\\t', compression='gzip')"
   ]
  },
  {
   "cell_type": "code",
   "execution_count": 293,
   "metadata": {},
   "outputs": [],
   "source": [
    "overlap_df = pd.read_csv(f'{prefix}/output/overlap/{tissue_id}.v8.overlap.txt', sep='\\t')"
   ]
  },
  {
   "cell_type": "markdown",
   "metadata": {},
   "source": [
    "## nominal p value distribution"
   ]
  },
  {
   "cell_type": "code",
   "execution_count": 296,
   "metadata": {},
   "outputs": [],
   "source": [
    "exclusive_pc1_df = overlap_df[(overlap_df['num_e_overlap']==0)&(overlap_df['num_pc1_overlap']>0)]"
   ]
  },
  {
   "cell_type": "code",
   "execution_count": 319,
   "metadata": {},
   "outputs": [],
   "source": [
    "# I want the nominal p values for lead variants in the same cluster\n",
    "exclusive_pc1_df['var_cluster'] = exclusive_pc1_df['lead_variant_id'] + '_' + exclusive_pc1_df['cluster_id']\n",
    "\n",
    "pc1_nominal_df['var_cluster'] = pc1_nominal_df['variant_id'] + '_' + pc1_nominal_df['cluster_id']\n",
    "pc2_nominal_df['var_cluster'] = pc2_nominal_df['variant_id'] + '_' + pc2_nominal_df['cluster_id']\n",
    "e_nominal_df['var_cluster'] = e_nominal_df['variant_id'] + '_' + e_nominal_df['cluster_id']"
   ]
  },
  {
   "cell_type": "code",
   "execution_count": 320,
   "metadata": {},
   "outputs": [],
   "source": [
    "pc1_nominal_ps = pc1_nominal_df[pc1_nominal_df['var_cluster'].isin(exclusive_pc1_df['var_cluster'])]\n",
    "pc2_nominal_ps = pc2_nominal_df[pc2_nominal_df['var_cluster'].isin(exclusive_pc1_df['var_cluster'])]\n",
    "e_nominal_ps = e_nominal_df[e_nominal_df['var_cluster'].isin(exclusive_pc1_df['var_cluster'])]"
   ]
  },
  {
   "cell_type": "code",
   "execution_count": 333,
   "metadata": {},
   "outputs": [
    {
     "data": {
      "text/html": [
       "<div>\n",
       "<style scoped>\n",
       "    .dataframe tbody tr th:only-of-type {\n",
       "        vertical-align: middle;\n",
       "    }\n",
       "\n",
       "    .dataframe tbody tr th {\n",
       "        vertical-align: top;\n",
       "    }\n",
       "\n",
       "    .dataframe thead th {\n",
       "        text-align: right;\n",
       "    }\n",
       "</style>\n",
       "<table border=\"1\" class=\"dataframe\">\n",
       "  <thead>\n",
       "    <tr style=\"text-align: right;\">\n",
       "      <th></th>\n",
       "      <th>phenotype_id</th>\n",
       "      <th>variant_id</th>\n",
       "      <th>start_distance</th>\n",
       "      <th>end_distance</th>\n",
       "      <th>af</th>\n",
       "      <th>ma_samples</th>\n",
       "      <th>ma_count</th>\n",
       "      <th>pval_nominal</th>\n",
       "      <th>slope</th>\n",
       "      <th>slope_se</th>\n",
       "      <th>variant_pos</th>\n",
       "      <th>cluster_id</th>\n",
       "      <th>cluster_size</th>\n",
       "      <th>var_cluster</th>\n",
       "    </tr>\n",
       "  </thead>\n",
       "  <tbody>\n",
       "    <tr>\n",
       "      <th>114468</th>\n",
       "      <td>ENSG00000116771.5_ENSG00000237301.1_pc2</td>\n",
       "      <td>chr1_15655446_CT_C_b38</td>\n",
       "      <td>70336</td>\n",
       "      <td>51820</td>\n",
       "      <td>0.308489</td>\n",
       "      <td>245</td>\n",
       "      <td>298</td>\n",
       "      <td>1.931691e-01</td>\n",
       "      <td>0.043861</td>\n",
       "      <td>0.033651</td>\n",
       "      <td>15655446</td>\n",
       "      <td>ENSG00000116771.5_ENSG00000237301.1</td>\n",
       "      <td>2</td>\n",
       "      <td>chr1_15655446_CT_C_b38_ENSG00000116771.5_ENSG0...</td>\n",
       "    </tr>\n",
       "    <tr>\n",
       "      <th>122369</th>\n",
       "      <td>ENSG00000173641.17_ENSG00000186510.11_pc2</td>\n",
       "      <td>chr1_15999849_C_T_b38</td>\n",
       "      <td>-19026</td>\n",
       "      <td>-19745</td>\n",
       "      <td>0.065217</td>\n",
       "      <td>63</td>\n",
       "      <td>63</td>\n",
       "      <td>2.979884e-11</td>\n",
       "      <td>-0.416644</td>\n",
       "      <td>0.060969</td>\n",
       "      <td>15999849</td>\n",
       "      <td>ENSG00000173641.17_ENSG00000186510.11</td>\n",
       "      <td>2</td>\n",
       "      <td>chr1_15999849_C_T_b38_ENSG00000173641.17_ENSG0...</td>\n",
       "    </tr>\n",
       "    <tr>\n",
       "      <th>122461</th>\n",
       "      <td>ENSG00000173641.17_ENSG00000186510.11_pc2</td>\n",
       "      <td>chr1_16013457_C_T_b38</td>\n",
       "      <td>-5418</td>\n",
       "      <td>-6137</td>\n",
       "      <td>0.059006</td>\n",
       "      <td>57</td>\n",
       "      <td>57</td>\n",
       "      <td>1.324015e-09</td>\n",
       "      <td>-0.403348</td>\n",
       "      <td>0.064994</td>\n",
       "      <td>16013457</td>\n",
       "      <td>ENSG00000173641.17_ENSG00000186510.11</td>\n",
       "      <td>2</td>\n",
       "      <td>chr1_16013457_C_T_b38_ENSG00000173641.17_ENSG0...</td>\n",
       "    </tr>\n",
       "    <tr>\n",
       "      <th>144442</th>\n",
       "      <td>ENSG00000058453.16_ENSG00000235241.1_ENSG00000...</td>\n",
       "      <td>chr1_16938298_C_T_b38</td>\n",
       "      <td>49203</td>\n",
       "      <td>16348</td>\n",
       "      <td>0.082816</td>\n",
       "      <td>80</td>\n",
       "      <td>80</td>\n",
       "      <td>5.413659e-01</td>\n",
       "      <td>0.039180</td>\n",
       "      <td>0.064098</td>\n",
       "      <td>16938298</td>\n",
       "      <td>ENSG00000058453.16_ENSG00000235241.1_ENSG00000...</td>\n",
       "      <td>3</td>\n",
       "      <td>chr1_16938298_C_T_b38_ENSG00000058453.16_ENSG0...</td>\n",
       "    </tr>\n",
       "    <tr>\n",
       "      <th>152160</th>\n",
       "      <td>ENSG00000117122.13_ENSG00000226526.1_pc2</td>\n",
       "      <td>chr1_16983524_G_A_b38</td>\n",
       "      <td>4598</td>\n",
       "      <td>2689</td>\n",
       "      <td>0.821946</td>\n",
       "      <td>156</td>\n",
       "      <td>172</td>\n",
       "      <td>2.172488e-04</td>\n",
       "      <td>0.145692</td>\n",
       "      <td>0.039047</td>\n",
       "      <td>16983524</td>\n",
       "      <td>ENSG00000117122.13_ENSG00000226526.1</td>\n",
       "      <td>2</td>\n",
       "      <td>chr1_16983524_G_A_b38_ENSG00000117122.13_ENSG0...</td>\n",
       "    </tr>\n",
       "    <tr>\n",
       "      <th>...</th>\n",
       "      <td>...</td>\n",
       "      <td>...</td>\n",
       "      <td>...</td>\n",
       "      <td>...</td>\n",
       "      <td>...</td>\n",
       "      <td>...</td>\n",
       "      <td>...</td>\n",
       "      <td>...</td>\n",
       "      <td>...</td>\n",
       "      <td>...</td>\n",
       "      <td>...</td>\n",
       "      <td>...</td>\n",
       "      <td>...</td>\n",
       "      <td>...</td>\n",
       "    </tr>\n",
       "    <tr>\n",
       "      <th>108581</th>\n",
       "      <td>ENSG00000189269.12_ENSG00000234353.2_ENSG00000...</td>\n",
       "      <td>chr22_23638681_C_A_b38</td>\n",
       "      <td>54822</td>\n",
       "      <td>-2081</td>\n",
       "      <td>0.141822</td>\n",
       "      <td>124</td>\n",
       "      <td>137</td>\n",
       "      <td>2.454689e-01</td>\n",
       "      <td>-0.054474</td>\n",
       "      <td>0.046836</td>\n",
       "      <td>23638681</td>\n",
       "      <td>ENSG00000189269.12_ENSG00000234353.2_ENSG00000...</td>\n",
       "      <td>3</td>\n",
       "      <td>chr22_23638681_C_A_b38_ENSG00000189269.12_ENSG...</td>\n",
       "    </tr>\n",
       "    <tr>\n",
       "      <th>108631</th>\n",
       "      <td>ENSG00000189269.12_ENSG00000234353.2_ENSG00000...</td>\n",
       "      <td>chr22_23648493_C_T_b38</td>\n",
       "      <td>64634</td>\n",
       "      <td>7731</td>\n",
       "      <td>0.162526</td>\n",
       "      <td>142</td>\n",
       "      <td>157</td>\n",
       "      <td>1.802243e-01</td>\n",
       "      <td>-0.060326</td>\n",
       "      <td>0.044941</td>\n",
       "      <td>23648493</td>\n",
       "      <td>ENSG00000189269.12_ENSG00000234353.2_ENSG00000...</td>\n",
       "      <td>3</td>\n",
       "      <td>chr22_23648493_C_T_b38_ENSG00000189269.12_ENSG...</td>\n",
       "    </tr>\n",
       "    <tr>\n",
       "      <th>108850</th>\n",
       "      <td>ENSG00000189269.12_ENSG00000234353.2_ENSG00000...</td>\n",
       "      <td>chr22_23679706_T_C_b38</td>\n",
       "      <td>95847</td>\n",
       "      <td>38944</td>\n",
       "      <td>0.380952</td>\n",
       "      <td>298</td>\n",
       "      <td>368</td>\n",
       "      <td>8.135107e-01</td>\n",
       "      <td>0.008510</td>\n",
       "      <td>0.036050</td>\n",
       "      <td>23679706</td>\n",
       "      <td>ENSG00000189269.12_ENSG00000234353.2_ENSG00000...</td>\n",
       "      <td>3</td>\n",
       "      <td>chr22_23679706_T_C_b38_ENSG00000189269.12_ENSG...</td>\n",
       "    </tr>\n",
       "    <tr>\n",
       "      <th>369136</th>\n",
       "      <td>ENSG00000025708.13_ENSG00000177989.13_pc2</td>\n",
       "      <td>chr22_50504763_C_T_b38</td>\n",
       "      <td>-25293</td>\n",
       "      <td>-27817</td>\n",
       "      <td>0.022774</td>\n",
       "      <td>21</td>\n",
       "      <td>22</td>\n",
       "      <td>1.282686e-01</td>\n",
       "      <td>0.093568</td>\n",
       "      <td>0.061396</td>\n",
       "      <td>50504763</td>\n",
       "      <td>ENSG00000025708.13_ENSG00000177989.13</td>\n",
       "      <td>2</td>\n",
       "      <td>chr22_50504763_C_T_b38_ENSG00000025708.13_ENSG...</td>\n",
       "    </tr>\n",
       "    <tr>\n",
       "      <th>369271</th>\n",
       "      <td>ENSG00000025708.13_ENSG00000177989.13_pc2</td>\n",
       "      <td>chr22_50532837_T_C_b38</td>\n",
       "      <td>2781</td>\n",
       "      <td>257</td>\n",
       "      <td>0.657350</td>\n",
       "      <td>278</td>\n",
       "      <td>331</td>\n",
       "      <td>5.776180e-01</td>\n",
       "      <td>0.009776</td>\n",
       "      <td>0.017541</td>\n",
       "      <td>50532837</td>\n",
       "      <td>ENSG00000025708.13_ENSG00000177989.13</td>\n",
       "      <td>2</td>\n",
       "      <td>chr22_50532837_T_C_b38_ENSG00000025708.13_ENSG...</td>\n",
       "    </tr>\n",
       "  </tbody>\n",
       "</table>\n",
       "<p>174 rows × 14 columns</p>\n",
       "</div>"
      ],
      "text/plain": [
       "                                             phenotype_id  \\\n",
       "114468            ENSG00000116771.5_ENSG00000237301.1_pc2   \n",
       "122369          ENSG00000173641.17_ENSG00000186510.11_pc2   \n",
       "122461          ENSG00000173641.17_ENSG00000186510.11_pc2   \n",
       "144442  ENSG00000058453.16_ENSG00000235241.1_ENSG00000...   \n",
       "152160           ENSG00000117122.13_ENSG00000226526.1_pc2   \n",
       "...                                                   ...   \n",
       "108581  ENSG00000189269.12_ENSG00000234353.2_ENSG00000...   \n",
       "108631  ENSG00000189269.12_ENSG00000234353.2_ENSG00000...   \n",
       "108850  ENSG00000189269.12_ENSG00000234353.2_ENSG00000...   \n",
       "369136          ENSG00000025708.13_ENSG00000177989.13_pc2   \n",
       "369271          ENSG00000025708.13_ENSG00000177989.13_pc2   \n",
       "\n",
       "                    variant_id  start_distance  end_distance        af  \\\n",
       "114468  chr1_15655446_CT_C_b38           70336         51820  0.308489   \n",
       "122369   chr1_15999849_C_T_b38          -19026        -19745  0.065217   \n",
       "122461   chr1_16013457_C_T_b38           -5418         -6137  0.059006   \n",
       "144442   chr1_16938298_C_T_b38           49203         16348  0.082816   \n",
       "152160   chr1_16983524_G_A_b38            4598          2689  0.821946   \n",
       "...                        ...             ...           ...       ...   \n",
       "108581  chr22_23638681_C_A_b38           54822         -2081  0.141822   \n",
       "108631  chr22_23648493_C_T_b38           64634          7731  0.162526   \n",
       "108850  chr22_23679706_T_C_b38           95847         38944  0.380952   \n",
       "369136  chr22_50504763_C_T_b38          -25293        -27817  0.022774   \n",
       "369271  chr22_50532837_T_C_b38            2781           257  0.657350   \n",
       "\n",
       "        ma_samples  ma_count  pval_nominal     slope  slope_se  variant_pos  \\\n",
       "114468         245       298  1.931691e-01  0.043861  0.033651     15655446   \n",
       "122369          63        63  2.979884e-11 -0.416644  0.060969     15999849   \n",
       "122461          57        57  1.324015e-09 -0.403348  0.064994     16013457   \n",
       "144442          80        80  5.413659e-01  0.039180  0.064098     16938298   \n",
       "152160         156       172  2.172488e-04  0.145692  0.039047     16983524   \n",
       "...            ...       ...           ...       ...       ...          ...   \n",
       "108581         124       137  2.454689e-01 -0.054474  0.046836     23638681   \n",
       "108631         142       157  1.802243e-01 -0.060326  0.044941     23648493   \n",
       "108850         298       368  8.135107e-01  0.008510  0.036050     23679706   \n",
       "369136          21        22  1.282686e-01  0.093568  0.061396     50504763   \n",
       "369271         278       331  5.776180e-01  0.009776  0.017541     50532837   \n",
       "\n",
       "                                               cluster_id  cluster_size  \\\n",
       "114468                ENSG00000116771.5_ENSG00000237301.1             2   \n",
       "122369              ENSG00000173641.17_ENSG00000186510.11             2   \n",
       "122461              ENSG00000173641.17_ENSG00000186510.11             2   \n",
       "144442  ENSG00000058453.16_ENSG00000235241.1_ENSG00000...             3   \n",
       "152160               ENSG00000117122.13_ENSG00000226526.1             2   \n",
       "...                                                   ...           ...   \n",
       "108581  ENSG00000189269.12_ENSG00000234353.2_ENSG00000...             3   \n",
       "108631  ENSG00000189269.12_ENSG00000234353.2_ENSG00000...             3   \n",
       "108850  ENSG00000189269.12_ENSG00000234353.2_ENSG00000...             3   \n",
       "369136              ENSG00000025708.13_ENSG00000177989.13             2   \n",
       "369271              ENSG00000025708.13_ENSG00000177989.13             2   \n",
       "\n",
       "                                              var_cluster  \n",
       "114468  chr1_15655446_CT_C_b38_ENSG00000116771.5_ENSG0...  \n",
       "122369  chr1_15999849_C_T_b38_ENSG00000173641.17_ENSG0...  \n",
       "122461  chr1_16013457_C_T_b38_ENSG00000173641.17_ENSG0...  \n",
       "144442  chr1_16938298_C_T_b38_ENSG00000058453.16_ENSG0...  \n",
       "152160  chr1_16983524_G_A_b38_ENSG00000117122.13_ENSG0...  \n",
       "...                                                   ...  \n",
       "108581  chr22_23638681_C_A_b38_ENSG00000189269.12_ENSG...  \n",
       "108631  chr22_23648493_C_T_b38_ENSG00000189269.12_ENSG...  \n",
       "108850  chr22_23679706_T_C_b38_ENSG00000189269.12_ENSG...  \n",
       "369136  chr22_50504763_C_T_b38_ENSG00000025708.13_ENSG...  \n",
       "369271  chr22_50532837_T_C_b38_ENSG00000025708.13_ENSG...  \n",
       "\n",
       "[174 rows x 14 columns]"
      ]
     },
     "execution_count": 333,
     "metadata": {},
     "output_type": "execute_result"
    }
   ],
   "source": [
    "pc2_nominal_ps"
   ]
  },
  {
   "cell_type": "code",
   "execution_count": 334,
   "metadata": {},
   "outputs": [
    {
     "data": {
      "text/plain": [
       "<matplotlib.legend.Legend at 0x2b225f0a0700>"
      ]
     },
     "execution_count": 334,
     "metadata": {},
     "output_type": "execute_result"
    },
    {
     "data": {
      "image/png": "[encoded data removed]",
      "text/plain": [
       "<Figure size 640x480 with 1 Axes>"
      ]
     },
     "metadata": {},
     "output_type": "display_data"
    }
   ],
   "source": [
    "sns.histplot(e_nominal_ps['pval_nominal'], stat='density', element=\"step\", fill=False,cumulative=True, label='e')\n",
    "sns.histplot(pc1_nominal_ps['pval_nominal'], stat='density', element=\"step\", fill=False,cumulative=True, label='pc1')\n",
    "sns.histplot(pc2_nominal_ps['pval_nominal'], stat='density', element=\"step\", fill=False,cumulative=True, label='pc2')\n",
    "plt.legend()"
   ]
  },
  {
   "cell_type": "code",
   "execution_count": null,
   "metadata": {},
   "outputs": [],
   "source": []
  }
 ],
 "metadata": {
  "kernelspec": {
   "display_name": "Python 3 (ipykernel)",
   "language": "python",
   "name": "python3"
  },
  "language_info": {
   "codemirror_mode": {
    "name": "ipython",
    "version": 3
   },
   "file_extension": ".py",
   "mimetype": "text/x-python",
   "name": "python",
   "nbconvert_exporter": "python",
   "pygments_lexer": "ipython3",
   "version": "3.8.18"
  }
 },
 "nbformat": 4,
 "nbformat_minor": 2
}
