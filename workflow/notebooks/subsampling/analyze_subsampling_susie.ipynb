{
 "cells": [
  {
   "cell_type": "markdown",
   "metadata": {},
   "source": [
    "## Subsampling analysis\n",
    "\n",
    "subsample the number of inidvidualas/RNA-seq datasets and look at how number of signals changes"
   ]
  },
  {
   "cell_type": "code",
   "execution_count": 1,
   "metadata": {},
   "outputs": [
    {
     "name": "stderr",
     "output_type": "stream",
     "text": [
      "Warning: The R output will not be colorized because it seems that your terminal does not support ANSI escape codes. isatty(stdout()) returned FALSE.\n",
      "\n"
     ]
    }
   ],
   "source": [
    "import pandas as pd\n",
    "import numpy as np\n",
    "import os\n",
    "import yaml\n",
    "import seaborn as sns\n",
    "import matplotlib.pyplot as plt\n",
    "import ast\n",
    "\n",
    "import upsetplot as up\n",
    "from tqdm.auto import tqdm  # for notebooks\n",
    "tqdm.pandas()\n",
    "\n",
    "# load R for some R cells\n",
    "%load_ext rpy2.ipython\n",
    "\n",
    "\n",
    "prefix = '/home/klawren/oak/pcqtls'\n",
    "\n",
    "import sys\n",
    "sys.path.append('/home/klawren/oak/pcqtls/workflow/scripts')\n",
    "from notebook_helper_functions import *"
   ]
  },
  {
   "cell_type": "markdown",
   "metadata": {},
   "source": [
    "I then run snakemake on each sumsample made with 'make_subsamples.ipynb' to get QTLs with config files in config/subsampling/\n",
    "\n",
    "\n",
    "this next analysis assumes results in those folders"
   ]
  },
  {
   "cell_type": "code",
   "execution_count": 2,
   "metadata": {},
   "outputs": [],
   "source": [
    "subsample_output_folder = f'{prefix}/config/subsampling'"
   ]
  },
  {
   "cell_type": "markdown",
   "metadata": {},
   "source": [
    "### configs across subsamples"
   ]
  },
  {
   "cell_type": "code",
   "execution_count": 6,
   "metadata": {},
   "outputs": [],
   "source": [
    "# load in the configs for each \n",
    "\n",
    "subsample_nums = [100,200,300]\n",
    "\n",
    "sub_configs = {}\n",
    "for num_samples in subsample_nums:\n",
    "    config_path= f'{subsample_output_folder}/{num_samples}_subsample.yaml'\n",
    "    with open(config_path, 'r') as f:\n",
    "        config = yaml.safe_load(f)\n",
    "        sub_configs[num_samples] = config\n",
    "\n",
    "main_config_path= f'{prefix}/config/proteincoding_main.yaml'\n",
    "with open(main_config_path, 'r') as f:\n",
    "    final_output_config = yaml.safe_load(f)\n",
    "\n",
    "\n",
    "tissue_ids = load_tissue_ids(final_output_config)\n",
    "tissue_df = load_tissue_df(final_output_config)\n",
    "tissue_pal = sns.color_palette('blend:#B83A4B,#FEC51D,#67AFD2', n_colors=len(tissue_ids))\n",
    "\n",
    "\n",
    "my_tissue_id = tissue_ids[3]"
   ]
  },
  {
   "cell_type": "markdown",
   "metadata": {},
   "source": [
    "## number of singals of each group across sample sizes"
   ]
  },
  {
   "cell_type": "code",
   "execution_count": 7,
   "metadata": {},
   "outputs": [],
   "source": [
    "sample_sizes = pd.read_csv(final_output_config['gtex_meta'], sep='\\t')"
   ]
  },
  {
   "cell_type": "code",
   "execution_count": 24,
   "metadata": {},
   "outputs": [
    {
     "name": "stdout",
     "output_type": "stream",
     "text": [
      "/home/klawren/oak/pcqtls/output/subsampling_constant_clusters/100/coloc//pairs/Cells_Cultured_fibroblasts.v8.pairs_coloc.chr18.txt is empty\n"
     ]
    }
   ],
   "source": [
    "sub_signals = {}\n",
    "for i in subsample_nums:\n",
    "    sub_signals[i] = load_signal_groups(sub_configs[i], my_tissue_id)\n",
    "\n",
    "\n",
    "final_sample_size = sample_sizes[sample_sizes['tissue_id']==my_tissue_id]['sample_size'].values[0]\n",
    "final_sample_size=300\n",
    "#sub_signals[final_sample_size] = load_signal_groups(final_output_config, my_tissue_id)\n",
    "\n",
    "sub_signals = pd.concat(sub_signals, names=['num_samples', 'idx']).reset_index()\n",
    "sub_signals['exclusive_label'] = np.where((sub_signals['num_e_coloc'] > 0), np.where((sub_signals['num_pc_coloc'] > 0), 'shared', 'eqtl_only'), 'pcqtl_only')"
   ]
  },
  {
   "cell_type": "code",
   "execution_count": 30,
   "metadata": {},
   "outputs": [],
   "source": [
    "# make smaller for debugging\n",
    "selected_clusters = sub_signals['cluster_id'].unique()[20:30]\n",
    "sub_signals = sub_signals[sub_signals['cluster_id'].isin(selected_clusters)]"
   ]
  },
  {
   "cell_type": "code",
   "execution_count": 31,
   "metadata": {},
   "outputs": [
    {
     "data": {
      "text/plain": [
       "<AxesSubplot: xlabel='num_samples', ylabel='Count'>"
      ]
     },
     "execution_count": 31,
     "metadata": {},
     "output_type": "execute_result"
    },
    {
     "data": {
      "image/png": "[encoded data removed]",
      "text/plain": [
       "<Figure size 640x480 with 1 Axes>"
      ]
     },
     "metadata": {},
     "output_type": "display_data"
    }
   ],
   "source": [
    "sns.histplot(sub_signals, x='num_samples', hue='exclusive_label', multiple='stack')"
   ]
  },
  {
   "cell_type": "markdown",
   "metadata": {},
   "source": [
    "## coloc unique pcqtl signals in subsamples to eqtl signals with more samples"
   ]
  },
  {
   "cell_type": "code",
   "execution_count": 11,
   "metadata": {},
   "outputs": [],
   "source": [
    "def get_lead_var_shared(sub_groups, full_groups):\n",
    "\n",
    "    # if any share a lead variant, we assume those are the same signal and don't need to do a full coloc\n",
    "\n",
    "    potential_lead_var_shared = pd.merge(sub_groups, full_groups, on=['cluster_id', 'tissue_id'], suffixes=['_sub', '_full'])\n",
    "    potential_lead_var_shared = potential_lead_var_shared.explode('lead_var_set_full').explode('lead_var_set_sub')\n",
    "    # take only the ones that share lead variants\n",
    "    lead_var_shared = potential_lead_var_shared[potential_lead_var_shared['lead_var_set_full']==potential_lead_var_shared['lead_var_set_sub']]\n",
    "    # drop duplicates, so only unique sub-full combinations\n",
    "    lead_var_shared = lead_var_shared.drop_duplicates(['signal_id_full', 'signal_id_sub', 'cluster_id', 'tissue_id'])\n",
    "\n",
    "    # group around sub singal sets\n",
    "    lead_var_shared = lead_var_shared.groupby(['signal_id_sub', 'cluster_id', 'tissue_id']).agg({'signal_id_full':list, \n",
    "                                                                                                'num_e_coloc_sub':'first', \n",
    "                                                                                                'num_pc_coloc_sub':'first',\n",
    "                                                                                                'num_e_coloc_full':'sum',\n",
    "                                                                                                'num_pc_coloc_full':'sum'}).reset_index()\n",
    "\n",
    "    print('{} small sample share a lead var with a large sample'.format(lead_var_shared['signal_id_sub'].nunique()))\n",
    "    return lead_var_shared\n",
    "\n",
    "def get_coloc_subsample(sub_config, sub_groups, full_config, full_groups, lead_var_shared):\n",
    "\n",
    "    # get the sub credible sets that didn't have a shared lead var\n",
    "    remaining_sub_groups = sub_groups[~sub_groups['signal_id'].isin(lead_var_shared['signal_id_sub'])]\n",
    "\n",
    "    # these don't have matching lead variant annotaitons, not sure why?\n",
    "    # it appears to be all the longer clusters\n",
    "    # filter out larger clusters and see if any are still unmatched\n",
    "\n",
    "    remaining_sub_groups = remaining_sub_groups[remaining_sub_groups['cluster_id'].apply(len)<150]\n",
    "    print(\"{} of the small sample signals don't share a lead var, will need to be colocd\".format(len(remaining_sub_groups)))\n",
    "\n",
    "\n",
    "    # for the remaining ones, do a full coloc \n",
    "    full_groups['cs_id'] = full_groups['signal_id'].str.split('-')\n",
    "    full_groups = full_groups.explode('cs_id')\n",
    "    remaining_sub_groups['cs_id'] = remaining_sub_groups['signal_id'].str.split('-')\n",
    "    remaining_sub_groups = remaining_sub_groups.explode('cs_id')\n",
    "\n",
    "    groups_merged = pd.merge(remaining_sub_groups, full_groups, on=['cluster_id', 'tissue_id'], suffixes=['_sub', '_full'] )\n",
    "\n",
    "    # add the paths for the susies\n",
    "    def get_susie_path(phenotype_id, config, tissue_id):\n",
    "        if len(phenotype_id) > 150:\n",
    "            # Split the long QTL ID by underscores\n",
    "            long_qtl_id_split = phenotype_id.split(\"_\")\n",
    "            phenotype_id = \"_\".join(long_qtl_id_split[-5:])\n",
    "        return '{}/{}temp/{}/{}.susie.rds'.format(prefix, config['coloc_output_dir'], tissue_id, phenotype_id)\n",
    "\n",
    "    groups_merged['susie_path_full'] = groups_merged['cs_id_full'].str.split('_cs').str[0].apply(get_susie_path, args=(full_config, my_tissue_id))\n",
    "    groups_merged['susie_path_sub'] = groups_merged['cs_id_sub'].str.split('_cs').str[0].apply(get_susie_path, args=(sub_config, my_tissue_id))\n",
    "\n",
    "    # add credible set index labels\n",
    "    groups_merged['cs_num_sub'] = groups_merged['cs_id_sub'].str.split('_cs_').str[-1]\n",
    "    groups_merged['cs_num_full'] = groups_merged['cs_id_full'].str.split('_cs_').str[-1]\n",
    "\n",
    "    # # do you really need to colocalize between every pair of singals in an already coloc'd group?\n",
    "    # # try with just 1 singal from each instead\n",
    "    groups_merged_pruned = groups_merged.drop_duplicates(['signal_id_sub', 'signal_id_full', 'tissue_id'])\n",
    "    groups_merged_pruned['pph4']=0\n",
    "    print('{} colocs if we do every combination'.format(len(groups_merged)))\n",
    "    print('{} colocs if we do 1 credible set per signal group'.format(len(groups_merged_pruned)))\n",
    "\n",
    "    return groups_merged_pruned\n",
    "\n",
    "# combine the shared lead var, coloc'd, and unique signals\n",
    "def combine_signals(sub_groups, lead_var_shared, groups_merged_pruned):\n",
    "\n",
    "    # regrouping is necessary if you don't first prune the signals \n",
    "    groups_merged_pruned = groups_merged_pruned.groupby(['signal_id_sub', 'signal_id_full', 'cluster_id', 'tissue_id']).agg({'num_e_coloc_sub':'first', \n",
    "                                                                                                    'num_pc_coloc_sub':'first',\n",
    "                                                                                                    'num_e_coloc_full':'first',\n",
    "                                                                                                    'num_pc_coloc_full':'first',\n",
    "                                                                                                    'pph4':'max'}).reset_index()\n",
    "\n",
    "    # take only the coloc signals\n",
    "    groups_colocd = groups_merged_pruned[groups_merged_pruned['pph4'] > .75]\n",
    "    print('{} subsignals had a signifigant coloc'.format(groups_colocd['signal_id_sub'].nunique()))\n",
    "    groups_colocd = groups_colocd.groupby(['signal_id_sub', 'cluster_id', 'tissue_id']).agg({'num_pc_coloc_sub':'first', \n",
    "                                                                                    'num_e_coloc_sub':'first', \n",
    "                                                                                    'num_e_coloc_full':'sum',\n",
    "                                                                                    'num_pc_coloc_full':'sum', \n",
    "                                                                                    'pph4':list, \n",
    "                                                                                    'signal_id_full':list}).reset_index()\n",
    "\n",
    "    shared_signals = pd.concat([lead_var_shared, groups_colocd])\n",
    "\n",
    "    # merge back in all the groups\n",
    "    groups_no_colocd = sub_groups[~sub_groups['signal_id'].isin(shared_signals['signal_id_sub'])]\n",
    "    groups_no_colocd['num_e_coloc_full'] = 0\n",
    "    groups_no_colocd['num_pc_coloc_full'] = 0\n",
    "    groups_no_colocd['num_e_coloc_sub'] = groups_no_colocd['num_e_coloc']\n",
    "    groups_no_colocd['num_pc_coloc_sub'] = groups_no_colocd['num_pc_coloc']\n",
    "    groups_no_colocd['signal_id_sub'] = groups_no_colocd['signal_id']\n",
    "\n",
    "    print('{} signals non overlapping'.format(groups_no_colocd['signal_id'].nunique()))\n",
    "\n",
    "\n",
    "    coloc_annotated_signals = pd.concat([shared_signals, groups_no_colocd[['signal_id_sub', 'num_e_coloc_full', 'num_pc_coloc_full', 'num_e_coloc_sub', 'num_pc_coloc_sub', 'cluster_id', 'tissue_id']]])\n",
    "    print('{} signals had a coloc or shared lead var'.format(coloc_annotated_signals['signal_id_sub'].nunique()))\n",
    "\n",
    "    # TODO (fix this/remove this) filter out the large clusters (an bug in the code for these)\n",
    "    coloc_annotated_signals = coloc_annotated_signals[coloc_annotated_signals['cluster_id'].apply(len)<150]\n",
    "\n",
    "    coloc_annotated_signals['exclusive_label_full'] = np.where((coloc_annotated_signals['num_e_coloc_full'] > 0), np.where((coloc_annotated_signals['num_pc_coloc_full'] > 0), 'shared', 'eqtl_only'), np.where((coloc_annotated_signals['num_pc_coloc_full'] > 0), 'pcqtl_only', 'neither'))\n",
    "    coloc_annotated_signals['exclusive_label_sub'] = np.where((coloc_annotated_signals['num_e_coloc_sub'] > 0), np.where((coloc_annotated_signals['num_pc_coloc_sub'] > 0), 'shared', 'eqtl_only'), np.where((coloc_annotated_signals['num_pc_coloc_sub'] > 0), 'pcqtl_only', 'neither'))\n",
    "    return coloc_annotated_signals"
   ]
  },
  {
   "cell_type": "code",
   "execution_count": 12,
   "metadata": {},
   "outputs": [
    {
     "data": {
      "text/plain": [
       "This is coloc version 5.2.3\n"
      ]
     },
     "metadata": {},
     "output_type": "display_data"
    }
   ],
   "source": [
    "%%R -w 3 -h 5 --units in -r 200 \n",
    "library(coloc)\n",
    "\n",
    "get_coloc_from_df <- function(groups_merged_pruned){\n",
    "    # Initialize values\n",
    "    pph4_values <- numeric(nrow(groups_merged_pruned))\n",
    "    skipped_files <- 0  # Counter for skipped files\n",
    "\n",
    "    # Initialize progress bar\n",
    "    pb <- txtProgressBar(min = 0, max = nrow(groups_merged_pruned), style = 3)\n",
    "\n",
    "    # Loop over each row to get the PP.H4.abf value\n",
    "    for (i in 1:nrow(groups_merged_pruned)) {\n",
    "        tryCatch({\n",
    "            susie_sub <- readRDS(file = groups_merged_pruned$susie_path_sub[i])\n",
    "            susie_full <- readRDS(file = groups_merged_pruned$susie_path_full[i])\n",
    "            # extract the value of PP.H4.abf that matches the credible set ids for this signal pair\n",
    "            coloc_summary <- coloc.susie(susie_sub, susie_full)$summary\n",
    "            matched_row <- coloc_summary[coloc_summary$idx1 == groups_merged_pruned$cs_num_sub[i] & coloc_summary$idx2 == groups_merged_pruned$cs_num_full[i], ]\n",
    "            pph4_values[i] <- matched_row$PP.H4.abf[1]\n",
    "        }, error = function(e) {\n",
    "            # If an error occurs (e.g., file not found), assign 0 and increment the skipped file counter\n",
    "            pph4_values[i] <- 0\n",
    "            skipped_files <<- skipped_files + 1\n",
    "            message(paste(\"Skipped file at index:\", i, \"due to error:\", e$message))\n",
    "        })\n",
    "        \n",
    "        # Update the progress bar\n",
    "        setTxtProgressBar(pb, i)\n",
    "    }\n",
    "\n",
    "    # Close the progress bar\n",
    "    close(pb)\n",
    "\n",
    "    # Store the results back into the groups_merged_pruned dataframe\n",
    "    groups_merged_pruned$pph4 <- pph4_values\n",
    "\n",
    "    # Print the number of skipped files\n",
    "    print(paste(\"Total skipped files:\", skipped_files))\n",
    "    return(groups_merged_pruned)\n",
    "}"
   ]
  },
  {
   "cell_type": "markdown",
   "metadata": {},
   "source": [
    "### for 100 to final sample"
   ]
  },
  {
   "cell_type": "code",
   "execution_count": 32,
   "metadata": {},
   "outputs": [
    {
     "name": "stdout",
     "output_type": "stream",
     "text": [
      "6 small sample share a lead var with a large sample\n",
      "23 of the small sample signals don't share a lead var, will need to be colocd\n",
      "225 colocs if we do every combination\n",
      "119 colocs if we do 1 credible set per signal group\n"
     ]
    },
    {
     "name": "stderr",
     "output_type": "stream",
     "text": [
      "/local/scratch/klawren/slrmtmp.46973338/ipykernel_22784/1516611404.py:36: SettingWithCopyWarning: \n",
      "A value is trying to be set on a copy of a slice from a DataFrame.\n",
      "Try using .loc[row_indexer,col_indexer] = value instead\n",
      "\n",
      "See the caveats in the documentation: https://pandas.pydata.org/pandas-docs/stable/user_guide/indexing.html#returning-a-view-versus-a-copy\n",
      "  full_groups['cs_id'] = full_groups['signal_id'].str.split('-')\n",
      "/local/scratch/klawren/slrmtmp.46973338/ipykernel_22784/1516611404.py:61: SettingWithCopyWarning: \n",
      "A value is trying to be set on a copy of a slice from a DataFrame.\n",
      "Try using .loc[row_indexer,col_indexer] = value instead\n",
      "\n",
      "See the caveats in the documentation: https://pandas.pydata.org/pandas-docs/stable/user_guide/indexing.html#returning-a-view-versus-a-copy\n",
      "  groups_merged_pruned['pph4']=0\n"
     ]
    }
   ],
   "source": [
    "# compare first sample to final sample\n",
    "\n",
    "subsample_size_1 = 100\n",
    "subsample_size_2 = final_sample_size\n",
    "lead_var_shared_final= get_lead_var_shared(sub_signals[sub_signals['num_samples']==subsample_size_1], \n",
    "                                          sub_signals[sub_signals['num_samples']==subsample_size_2])\n",
    "groups_merged_pruned_final = get_coloc_subsample(sub_configs[subsample_size_1], \n",
    "                                               sub_signals[sub_signals['num_samples']==subsample_size_1], \n",
    "                                               sub_configs[subsample_size_2], \n",
    "                                               sub_signals[sub_signals['num_samples']==subsample_size_2], \n",
    "                                               lead_var_shared_final)\n"
   ]
  },
  {
   "cell_type": "code",
   "execution_count": 33,
   "metadata": {},
   "outputs": [
    {
     "name": "stdout",
     "output_type": "stream",
     "text": [
      "  |                                                                                                                                                                                              |   0%"
     ]
    },
    {
     "name": "stderr",
     "output_type": "stream",
     "text": [
      "/home/klawren/micromamba/envs/tensorqtl_r/lib/python3.8/site-packages/rpy2/robjects/pandas2ri.py:65: UserWarning: Error while trying to convert the column \"lead_var_set_sub\". Fall back to string conversion. The error is: <class 'list'>\n",
      "  warnings.warn('Error while trying to convert '\n",
      "/home/klawren/micromamba/envs/tensorqtl_r/lib/python3.8/site-packages/rpy2/robjects/pandas2ri.py:65: UserWarning: Error while trying to convert the column \"lead_var_set_full\". Fall back to string conversion. The error is: <class 'list'>\n",
      "  warnings.warn('Error while trying to convert '\n"
     ]
    },
    {
     "name": "stdout",
     "output_type": "stream",
     "text": [
      "  |==============================================================================================================================================================================================| 100%\n",
      "[1] \"Total skipped files: 0\"\n"
     ]
    }
   ],
   "source": [
    "%%R -i groups_merged_pruned_final -w 3 -h 5 --units in -r 200 -o groups_merged_pruned_final\n",
    "# run coloc for the pruned set in R\n",
    "groups_merged_pruned_final <- get_coloc_from_df(groups_merged_pruned_final)"
   ]
  },
  {
   "cell_type": "code",
   "execution_count": 43,
   "metadata": {},
   "outputs": [
    {
     "name": "stdout",
     "output_type": "stream",
     "text": [
      "5 subsignals had a signifigant coloc\n",
      "18 signals non overlapping\n",
      "29 signals had a coloc or shared lead var\n"
     ]
    },
    {
     "name": "stderr",
     "output_type": "stream",
     "text": [
      "/local/scratch/klawren/slrmtmp.46973338/ipykernel_22784/1516611404.py:91: SettingWithCopyWarning:\n",
      "\n",
      "\n",
      "A value is trying to be set on a copy of a slice from a DataFrame.\n",
      "Try using .loc[row_indexer,col_indexer] = value instead\n",
      "\n",
      "See the caveats in the documentation: https://pandas.pydata.org/pandas-docs/stable/user_guide/indexing.html#returning-a-view-versus-a-copy\n",
      "\n",
      "/local/scratch/klawren/slrmtmp.46973338/ipykernel_22784/1516611404.py:92: SettingWithCopyWarning:\n",
      "\n",
      "\n",
      "A value is trying to be set on a copy of a slice from a DataFrame.\n",
      "Try using .loc[row_indexer,col_indexer] = value instead\n",
      "\n",
      "See the caveats in the documentation: https://pandas.pydata.org/pandas-docs/stable/user_guide/indexing.html#returning-a-view-versus-a-copy\n",
      "\n",
      "/local/scratch/klawren/slrmtmp.46973338/ipykernel_22784/1516611404.py:93: SettingWithCopyWarning:\n",
      "\n",
      "\n",
      "A value is trying to be set on a copy of a slice from a DataFrame.\n",
      "Try using .loc[row_indexer,col_indexer] = value instead\n",
      "\n",
      "See the caveats in the documentation: https://pandas.pydata.org/pandas-docs/stable/user_guide/indexing.html#returning-a-view-versus-a-copy\n",
      "\n",
      "/local/scratch/klawren/slrmtmp.46973338/ipykernel_22784/1516611404.py:94: SettingWithCopyWarning:\n",
      "\n",
      "\n",
      "A value is trying to be set on a copy of a slice from a DataFrame.\n",
      "Try using .loc[row_indexer,col_indexer] = value instead\n",
      "\n",
      "See the caveats in the documentation: https://pandas.pydata.org/pandas-docs/stable/user_guide/indexing.html#returning-a-view-versus-a-copy\n",
      "\n",
      "/local/scratch/klawren/slrmtmp.46973338/ipykernel_22784/1516611404.py:95: SettingWithCopyWarning:\n",
      "\n",
      "\n",
      "A value is trying to be set on a copy of a slice from a DataFrame.\n",
      "Try using .loc[row_indexer,col_indexer] = value instead\n",
      "\n",
      "See the caveats in the documentation: https://pandas.pydata.org/pandas-docs/stable/user_guide/indexing.html#returning-a-view-versus-a-copy\n",
      "\n"
     ]
    }
   ],
   "source": [
    "coloc_annotated_signals_final = combine_signals(sub_signals[sub_signals['num_samples']==subsample_size_1], lead_var_shared_final, groups_merged_pruned_final)"
   ]
  },
  {
   "cell_type": "code",
   "execution_count": 44,
   "metadata": {},
   "outputs": [
    {
     "data": {
      "text/plain": [
       "Text(0.5, 1.0, 'how does each small-sample signal coloc with the larger sample signals?')"
      ]
     },
     "execution_count": 44,
     "metadata": {},
     "output_type": "execute_result"
    },
    {
     "data": {
      "image/png": "[encoded data removed]",
      "text/plain": [
       "<Figure size 640x480 with 1 Axes>"
      ]
     },
     "metadata": {},
     "output_type": "display_data"
    }
   ],
   "source": [
    "sns.histplot(coloc_annotated_signals_final, x='exclusive_label_sub', hue='exclusive_label_full', multiple='stack')\n",
    "plt.title('how does each small-sample signal coloc with the larger sample signals?')"
   ]
  },
  {
   "cell_type": "code",
   "execution_count": 45,
   "metadata": {},
   "outputs": [
    {
     "data": {
      "application/vnd.plotly.v1+json": {
       "config": {
        "plotlyServerURL": "https://plot.ly"
       },
       "data": [
        {
         "arrangement": "freeform",
         "dimensions": [
          {
           "categoryorder": "category ascending",
           "label": "small sample",
           "values": [
            "shared",
            "shared",
            "shared",
            "eqtl_only",
            "eqtl_only",
            "eqtl_only",
            "shared",
            "shared",
            "shared",
            "shared",
            "pcqtl_only",
            "shared",
            "shared",
            "shared",
            "eqtl_only",
            "eqtl_only",
            "eqtl_only",
            "eqtl_only",
            "pcqtl_only",
            "eqtl_only",
            "eqtl_only",
            "eqtl_only",
            "pcqtl_only",
            "eqtl_only",
            "eqtl_only",
            "eqtl_only",
            "pcqtl_only",
            "eqtl_only",
            "eqtl_only"
           ]
          },
          {
           "categoryorder": "category ascending",
           "label": "large sample",
           "values": [
            "shared",
            "shared",
            "shared",
            "pcqtl_only",
            "pcqtl_only",
            "pcqtl_only",
            "shared",
            "shared",
            "shared",
            "shared",
            "shared",
            "neither",
            "neither",
            "neither",
            "neither",
            "neither",
            "neither",
            "neither",
            "neither",
            "neither",
            "neither",
            "neither",
            "neither",
            "neither",
            "neither",
            "neither",
            "neither",
            "neither",
            "neither"
           ]
          }
         ],
         "hoverinfo": "count+probability",
         "hoveron": "color",
         "type": "parcats"
        }
       ],
       "layout": {
        "template": {
         "data": {
          "bar": [
           {
            "error_x": {
             "color": "#2a3f5f"
            },
            "error_y": {
             "color": "#2a3f5f"
            },
            "marker": {
             "line": {
              "color": "#E5ECF6",
              "width": 0.5
             },
             "pattern": {
              "fillmode": "overlay",
              "size": 10,
              "solidity": 0.2
             }
            },
            "type": "bar"
           }
          ],
          "barpolar": [
           {
            "marker": {
             "line": {
              "color": "#E5ECF6",
              "width": 0.5
             },
             "pattern": {
              "fillmode": "overlay",
              "size": 10,
              "solidity": 0.2
             }
            },
            "type": "barpolar"
           }
          ],
          "carpet": [
           {
            "aaxis": {
             "endlinecolor": "#2a3f5f",
             "gridcolor": "white",
             "linecolor": "white",
             "minorgridcolor": "white",
             "startlinecolor": "#2a3f5f"
            },
            "baxis": {
             "endlinecolor": "#2a3f5f",
             "gridcolor": "white",
             "linecolor": "white",
             "minorgridcolor": "white",
             "startlinecolor": "#2a3f5f"
            },
            "type": "carpet"
           }
          ],
          "choropleth": [
           {
            "colorbar": {
             "outlinewidth": 0,
             "ticks": ""
            },
            "type": "choropleth"
           }
          ],
          "contour": [
           {
            "colorbar": {
             "outlinewidth": 0,
             "ticks": ""
            },
            "colorscale": [
             [
              0,
              "#0d0887"
             ],
             [
              0.1111111111111111,
              "#46039f"
             ],
             [
              0.2222222222222222,
              "#7201a8"
             ],
             [
              0.3333333333333333,
              "#9c179e"
             ],
             [
              0.4444444444444444,
              "#bd3786"
             ],
             [
              0.5555555555555556,
              "#d8576b"
             ],
             [
              0.6666666666666666,
              "#ed7953"
             ],
             [
              0.7777777777777778,
              "#fb9f3a"
             ],
             [
              0.8888888888888888,
              "#fdca26"
             ],
             [
              1,
              "#f0f921"
             ]
            ],
            "type": "contour"
           }
          ],
          "contourcarpet": [
           {
            "colorbar": {
             "outlinewidth": 0,
             "ticks": ""
            },
            "type": "contourcarpet"
           }
          ],
          "heatmap": [
           {
            "colorbar": {
             "outlinewidth": 0,
             "ticks": ""
            },
            "colorscale": [
             [
              0,
              "#0d0887"
             ],
             [
              0.1111111111111111,
              "#46039f"
             ],
             [
              0.2222222222222222,
              "#7201a8"
             ],
             [
              0.3333333333333333,
              "#9c179e"
             ],
             [
              0.4444444444444444,
              "#bd3786"
             ],
             [
              0.5555555555555556,
              "#d8576b"
             ],
             [
              0.6666666666666666,
              "#ed7953"
             ],
             [
              0.7777777777777778,
              "#fb9f3a"
             ],
             [
              0.8888888888888888,
              "#fdca26"
             ],
             [
              1,
              "#f0f921"
             ]
            ],
            "type": "heatmap"
           }
          ],
          "heatmapgl": [
           {
            "colorbar": {
             "outlinewidth": 0,
             "ticks": ""
            },
            "colorscale": [
             [
              0,
              "#0d0887"
             ],
             [
              0.1111111111111111,
              "#46039f"
             ],
             [
              0.2222222222222222,
              "#7201a8"
             ],
             [
              0.3333333333333333,
              "#9c179e"
             ],
             [
              0.4444444444444444,
              "#bd3786"
             ],
             [
              0.5555555555555556,
              "#d8576b"
             ],
             [
              0.6666666666666666,
              "#ed7953"
             ],
             [
              0.7777777777777778,
              "#fb9f3a"
             ],
             [
              0.8888888888888888,
              "#fdca26"
             ],
             [
              1,
              "#f0f921"
             ]
            ],
            "type": "heatmapgl"
           }
          ],
          "histogram": [
           {
            "marker": {
             "pattern": {
              "fillmode": "overlay",
              "size": 10,
              "solidity": 0.2
             }
            },
            "type": "histogram"
           }
          ],
          "histogram2d": [
           {
            "colorbar": {
             "outlinewidth": 0,
             "ticks": ""
            },
            "colorscale": [
             [
              0,
              "#0d0887"
             ],
             [
              0.1111111111111111,
              "#46039f"
             ],
             [
              0.2222222222222222,
              "#7201a8"
             ],
             [
              0.3333333333333333,
              "#9c179e"
             ],
             [
              0.4444444444444444,
              "#bd3786"
             ],
             [
              0.5555555555555556,
              "#d8576b"
             ],
             [
              0.6666666666666666,
              "#ed7953"
             ],
             [
              0.7777777777777778,
              "#fb9f3a"
             ],
             [
              0.8888888888888888,
              "#fdca26"
             ],
             [
              1,
              "#f0f921"
             ]
            ],
            "type": "histogram2d"
           }
          ],
          "histogram2dcontour": [
           {
            "colorbar": {
             "outlinewidth": 0,
             "ticks": ""
            },
            "colorscale": [
             [
              0,
              "#0d0887"
             ],
             [
              0.1111111111111111,
              "#46039f"
             ],
             [
              0.2222222222222222,
              "#7201a8"
             ],
             [
              0.3333333333333333,
              "#9c179e"
             ],
             [
              0.4444444444444444,
              "#bd3786"
             ],
             [
              0.5555555555555556,
              "#d8576b"
             ],
             [
              0.6666666666666666,
              "#ed7953"
             ],
             [
              0.7777777777777778,
              "#fb9f3a"
             ],
             [
              0.8888888888888888,
              "#fdca26"
             ],
             [
              1,
              "#f0f921"
             ]
            ],
            "type": "histogram2dcontour"
           }
          ],
          "mesh3d": [
           {
            "colorbar": {
             "outlinewidth": 0,
             "ticks": ""
            },
            "type": "mesh3d"
           }
          ],
          "parcoords": [
           {
            "line": {
             "colorbar": {
              "outlinewidth": 0,
              "ticks": ""
             }
            },
            "type": "parcoords"
           }
          ],
          "pie": [
           {
            "automargin": true,
            "type": "pie"
           }
          ],
          "scatter": [
           {
            "fillpattern": {
             "fillmode": "overlay",
             "size": 10,
             "solidity": 0.2
            },
            "type": "scatter"
           }
          ],
          "scatter3d": [
           {
            "line": {
             "colorbar": {
              "outlinewidth": 0,
              "ticks": ""
             }
            },
            "marker": {
             "colorbar": {
              "outlinewidth": 0,
              "ticks": ""
             }
            },
            "type": "scatter3d"
           }
          ],
          "scattercarpet": [
           {
            "marker": {
             "colorbar": {
              "outlinewidth": 0,
              "ticks": ""
             }
            },
            "type": "scattercarpet"
           }
          ],
          "scattergeo": [
           {
            "marker": {
             "colorbar": {
              "outlinewidth": 0,
              "ticks": ""
             }
            },
            "type": "scattergeo"
           }
          ],
          "scattergl": [
           {
            "marker": {
             "colorbar": {
              "outlinewidth": 0,
              "ticks": ""
             }
            },
            "type": "scattergl"
           }
          ],
          "scattermapbox": [
           {
            "marker": {
             "colorbar": {
              "outlinewidth": 0,
              "ticks": ""
             }
            },
            "type": "scattermapbox"
           }
          ],
          "scatterpolar": [
           {
            "marker": {
             "colorbar": {
              "outlinewidth": 0,
              "ticks": ""
             }
            },
            "type": "scatterpolar"
           }
          ],
          "scatterpolargl": [
           {
            "marker": {
             "colorbar": {
              "outlinewidth": 0,
              "ticks": ""
             }
            },
            "type": "scatterpolargl"
           }
          ],
          "scatterternary": [
           {
            "marker": {
             "colorbar": {
              "outlinewidth": 0,
              "ticks": ""
             }
            },
            "type": "scatterternary"
           }
          ],
          "surface": [
           {
            "colorbar": {
             "outlinewidth": 0,
             "ticks": ""
            },
            "colorscale": [
             [
              0,
              "#0d0887"
             ],
             [
              0.1111111111111111,
              "#46039f"
             ],
             [
              0.2222222222222222,
              "#7201a8"
             ],
             [
              0.3333333333333333,
              "#9c179e"
             ],
             [
              0.4444444444444444,
              "#bd3786"
             ],
             [
              0.5555555555555556,
              "#d8576b"
             ],
             [
              0.6666666666666666,
              "#ed7953"
             ],
             [
              0.7777777777777778,
              "#fb9f3a"
             ],
             [
              0.8888888888888888,
              "#fdca26"
             ],
             [
              1,
              "#f0f921"
             ]
            ],
            "type": "surface"
           }
          ],
          "table": [
           {
            "cells": {
             "fill": {
              "color": "#EBF0F8"
             },
             "line": {
              "color": "white"
             }
            },
            "header": {
             "fill": {
              "color": "#C8D4E3"
             },
             "line": {
              "color": "white"
             }
            },
            "type": "table"
           }
          ]
         },
         "layout": {
          "annotationdefaults": {
           "arrowcolor": "#2a3f5f",
           "arrowhead": 0,
           "arrowwidth": 1
          },
          "autotypenumbers": "strict",
          "coloraxis": {
           "colorbar": {
            "outlinewidth": 0,
            "ticks": ""
           }
          },
          "colorscale": {
           "diverging": [
            [
             0,
             "#8e0152"
            ],
            [
             0.1,
             "#c51b7d"
            ],
            [
             0.2,
             "#de77ae"
            ],
            [
             0.3,
             "#f1b6da"
            ],
            [
             0.4,
             "#fde0ef"
            ],
            [
             0.5,
             "#f7f7f7"
            ],
            [
             0.6,
             "#e6f5d0"
            ],
            [
             0.7,
             "#b8e186"
            ],
            [
             0.8,
             "#7fbc41"
            ],
            [
             0.9,
             "#4d9221"
            ],
            [
             1,
             "#276419"
            ]
           ],
           "sequential": [
            [
             0,
             "#0d0887"
            ],
            [
             0.1111111111111111,
             "#46039f"
            ],
            [
             0.2222222222222222,
             "#7201a8"
            ],
            [
             0.3333333333333333,
             "#9c179e"
            ],
            [
             0.4444444444444444,
             "#bd3786"
            ],
            [
             0.5555555555555556,
             "#d8576b"
            ],
            [
             0.6666666666666666,
             "#ed7953"
            ],
            [
             0.7777777777777778,
             "#fb9f3a"
            ],
            [
             0.8888888888888888,
             "#fdca26"
            ],
            [
             1,
             "#f0f921"
            ]
           ],
           "sequentialminus": [
            [
             0,
             "#0d0887"
            ],
            [
             0.1111111111111111,
             "#46039f"
            ],
            [
             0.2222222222222222,
             "#7201a8"
            ],
            [
             0.3333333333333333,
             "#9c179e"
            ],
            [
             0.4444444444444444,
             "#bd3786"
            ],
            [
             0.5555555555555556,
             "#d8576b"
            ],
            [
             0.6666666666666666,
             "#ed7953"
            ],
            [
             0.7777777777777778,
             "#fb9f3a"
            ],
            [
             0.8888888888888888,
             "#fdca26"
            ],
            [
             1,
             "#f0f921"
            ]
           ]
          },
          "colorway": [
           "#636efa",
           "#EF553B",
           "#00cc96",
           "#ab63fa",
           "#FFA15A",
           "#19d3f3",
           "#FF6692",
           "#B6E880",
           "#FF97FF",
           "#FECB52"
          ],
          "font": {
           "color": "#2a3f5f"
          },
          "geo": {
           "bgcolor": "white",
           "lakecolor": "white",
           "landcolor": "#E5ECF6",
           "showlakes": true,
           "showland": true,
           "subunitcolor": "white"
          },
          "hoverlabel": {
           "align": "left"
          },
          "hovermode": "closest",
          "mapbox": {
           "style": "light"
          },
          "paper_bgcolor": "white",
          "plot_bgcolor": "#E5ECF6",
          "polar": {
           "angularaxis": {
            "gridcolor": "white",
            "linecolor": "white",
            "ticks": ""
           },
           "bgcolor": "#E5ECF6",
           "radialaxis": {
            "gridcolor": "white",
            "linecolor": "white",
            "ticks": ""
           }
          },
          "scene": {
           "xaxis": {
            "backgroundcolor": "#E5ECF6",
            "gridcolor": "white",
            "gridwidth": 2,
            "linecolor": "white",
            "showbackground": true,
            "ticks": "",
            "zerolinecolor": "white"
           },
           "yaxis": {
            "backgroundcolor": "#E5ECF6",
            "gridcolor": "white",
            "gridwidth": 2,
            "linecolor": "white",
            "showbackground": true,
            "ticks": "",
            "zerolinecolor": "white"
           },
           "zaxis": {
            "backgroundcolor": "#E5ECF6",
            "gridcolor": "white",
            "gridwidth": 2,
            "linecolor": "white",
            "showbackground": true,
            "ticks": "",
            "zerolinecolor": "white"
           }
          },
          "shapedefaults": {
           "line": {
            "color": "#2a3f5f"
           }
          },
          "ternary": {
           "aaxis": {
            "gridcolor": "white",
            "linecolor": "white",
            "ticks": ""
           },
           "baxis": {
            "gridcolor": "white",
            "linecolor": "white",
            "ticks": ""
           },
           "bgcolor": "#E5ECF6",
           "caxis": {
            "gridcolor": "white",
            "linecolor": "white",
            "ticks": ""
           }
          },
          "title": {
           "x": 0.05
          },
          "xaxis": {
           "automargin": true,
           "gridcolor": "white",
           "linecolor": "white",
           "ticks": "",
           "title": {
            "standoff": 15
           },
           "zerolinecolor": "white",
           "zerolinewidth": 2
          },
          "yaxis": {
           "automargin": true,
           "gridcolor": "white",
           "linecolor": "white",
           "ticks": "",
           "title": {
            "standoff": 15
           },
           "zerolinecolor": "white",
           "zerolinewidth": 2
          }
         }
        }
       }
      },
      "text/html": [
       "<div>                            <div id=\"6be5d8f5-8b3c-4f96-8a80-bf680fa5697f\" class=\"plotly-graph-div\" style=\"height:525px; width:100%;\"></div>            <script type=\"text/javascript\">                require([\"plotly\"], function(Plotly) {                    window.PLOTLYENV=window.PLOTLYENV || {};                                    if (document.getElementById(\"6be5d8f5-8b3c-4f96-8a80-bf680fa5697f\")) {                    Plotly.newPlot(                        \"6be5d8f5-8b3c-4f96-8a80-bf680fa5697f\",                        [{\"arrangement\":\"freeform\",\"dimensions\":[{\"categoryorder\":\"category ascending\",\"label\":\"small sample\",\"values\":[\"shared\",\"shared\",\"shared\",\"eqtl_only\",\"eqtl_only\",\"eqtl_only\",\"shared\",\"shared\",\"shared\",\"shared\",\"pcqtl_only\",\"shared\",\"shared\",\"shared\",\"eqtl_only\",\"eqtl_only\",\"eqtl_only\",\"eqtl_only\",\"pcqtl_only\",\"eqtl_only\",\"eqtl_only\",\"eqtl_only\",\"pcqtl_only\",\"eqtl_only\",\"eqtl_only\",\"eqtl_only\",\"pcqtl_only\",\"eqtl_only\",\"eqtl_only\"]},{\"categoryorder\":\"category ascending\",\"label\":\"large sample\",\"values\":[\"shared\",\"shared\",\"shared\",\"pcqtl_only\",\"pcqtl_only\",\"pcqtl_only\",\"shared\",\"shared\",\"shared\",\"shared\",\"shared\",\"neither\",\"neither\",\"neither\",\"neither\",\"neither\",\"neither\",\"neither\",\"neither\",\"neither\",\"neither\",\"neither\",\"neither\",\"neither\",\"neither\",\"neither\",\"neither\",\"neither\",\"neither\"]}],\"hoverinfo\":\"count+probability\",\"hoveron\":\"color\",\"type\":\"parcats\"}],                        {\"template\":{\"data\":{\"histogram2dcontour\":[{\"type\":\"histogram2dcontour\",\"colorbar\":{\"outlinewidth\":0,\"ticks\":\"\"},\"colorscale\":[[0.0,\"#0d0887\"],[0.1111111111111111,\"#46039f\"],[0.2222222222222222,\"#7201a8\"],[0.3333333333333333,\"#9c179e\"],[0.4444444444444444,\"#bd3786\"],[0.5555555555555556,\"#d8576b\"],[0.6666666666666666,\"#ed7953\"],[0.7777777777777778,\"#fb9f3a\"],[0.8888888888888888,\"#fdca26\"],[1.0,\"#f0f921\"]]}],\"choropleth\":[{\"type\":\"choropleth\",\"colorbar\":{\"outlinewidth\":0,\"ticks\":\"\"}}],\"histogram2d\":[{\"type\":\"histogram2d\",\"colorbar\":{\"outlinewidth\":0,\"ticks\":\"\"},\"colorscale\":[[0.0,\"#0d0887\"],[0.1111111111111111,\"#46039f\"],[0.2222222222222222,\"#7201a8\"],[0.3333333333333333,\"#9c179e\"],[0.4444444444444444,\"#bd3786\"],[0.5555555555555556,\"#d8576b\"],[0.6666666666666666,\"#ed7953\"],[0.7777777777777778,\"#fb9f3a\"],[0.8888888888888888,\"#fdca26\"],[1.0,\"#f0f921\"]]}],\"heatmap\":[{\"type\":\"heatmap\",\"colorbar\":{\"outlinewidth\":0,\"ticks\":\"\"},\"colorscale\":[[0.0,\"#0d0887\"],[0.1111111111111111,\"#46039f\"],[0.2222222222222222,\"#7201a8\"],[0.3333333333333333,\"#9c179e\"],[0.4444444444444444,\"#bd3786\"],[0.5555555555555556,\"#d8576b\"],[0.6666666666666666,\"#ed7953\"],[0.7777777777777778,\"#fb9f3a\"],[0.8888888888888888,\"#fdca26\"],[1.0,\"#f0f921\"]]}],\"heatmapgl\":[{\"type\":\"heatmapgl\",\"colorbar\":{\"outlinewidth\":0,\"ticks\":\"\"},\"colorscale\":[[0.0,\"#0d0887\"],[0.1111111111111111,\"#46039f\"],[0.2222222222222222,\"#7201a8\"],[0.3333333333333333,\"#9c179e\"],[0.4444444444444444,\"#bd3786\"],[0.5555555555555556,\"#d8576b\"],[0.6666666666666666,\"#ed7953\"],[0.7777777777777778,\"#fb9f3a\"],[0.8888888888888888,\"#fdca26\"],[1.0,\"#f0f921\"]]}],\"contourcarpet\":[{\"type\":\"contourcarpet\",\"colorbar\":{\"outlinewidth\":0,\"ticks\":\"\"}}],\"contour\":[{\"type\":\"contour\",\"colorbar\":{\"outlinewidth\":0,\"ticks\":\"\"},\"colorscale\":[[0.0,\"#0d0887\"],[0.1111111111111111,\"#46039f\"],[0.2222222222222222,\"#7201a8\"],[0.3333333333333333,\"#9c179e\"],[0.4444444444444444,\"#bd3786\"],[0.5555555555555556,\"#d8576b\"],[0.6666666666666666,\"#ed7953\"],[0.7777777777777778,\"#fb9f3a\"],[0.8888888888888888,\"#fdca26\"],[1.0,\"#f0f921\"]]}],\"surface\":[{\"type\":\"surface\",\"colorbar\":{\"outlinewidth\":0,\"ticks\":\"\"},\"colorscale\":[[0.0,\"#0d0887\"],[0.1111111111111111,\"#46039f\"],[0.2222222222222222,\"#7201a8\"],[0.3333333333333333,\"#9c179e\"],[0.4444444444444444,\"#bd3786\"],[0.5555555555555556,\"#d8576b\"],[0.6666666666666666,\"#ed7953\"],[0.7777777777777778,\"#fb9f3a\"],[0.8888888888888888,\"#fdca26\"],[1.0,\"#f0f921\"]]}],\"mesh3d\":[{\"type\":\"mesh3d\",\"colorbar\":{\"outlinewidth\":0,\"ticks\":\"\"}}],\"scatter\":[{\"fillpattern\":{\"fillmode\":\"overlay\",\"size\":10,\"solidity\":0.2},\"type\":\"scatter\"}],\"parcoords\":[{\"type\":\"parcoords\",\"line\":{\"colorbar\":{\"outlinewidth\":0,\"ticks\":\"\"}}}],\"scatterpolargl\":[{\"type\":\"scatterpolargl\",\"marker\":{\"colorbar\":{\"outlinewidth\":0,\"ticks\":\"\"}}}],\"bar\":[{\"error_x\":{\"color\":\"#2a3f5f\"},\"error_y\":{\"color\":\"#2a3f5f\"},\"marker\":{\"line\":{\"color\":\"#E5ECF6\",\"width\":0.5},\"pattern\":{\"fillmode\":\"overlay\",\"size\":10,\"solidity\":0.2}},\"type\":\"bar\"}],\"scattergeo\":[{\"type\":\"scattergeo\",\"marker\":{\"colorbar\":{\"outlinewidth\":0,\"ticks\":\"\"}}}],\"scatterpolar\":[{\"type\":\"scatterpolar\",\"marker\":{\"colorbar\":{\"outlinewidth\":0,\"ticks\":\"\"}}}],\"histogram\":[{\"marker\":{\"pattern\":{\"fillmode\":\"overlay\",\"size\":10,\"solidity\":0.2}},\"type\":\"histogram\"}],\"scattergl\":[{\"type\":\"scattergl\",\"marker\":{\"colorbar\":{\"outlinewidth\":0,\"ticks\":\"\"}}}],\"scatter3d\":[{\"type\":\"scatter3d\",\"line\":{\"colorbar\":{\"outlinewidth\":0,\"ticks\":\"\"}},\"marker\":{\"colorbar\":{\"outlinewidth\":0,\"ticks\":\"\"}}}],\"scattermapbox\":[{\"type\":\"scattermapbox\",\"marker\":{\"colorbar\":{\"outlinewidth\":0,\"ticks\":\"\"}}}],\"scatterternary\":[{\"type\":\"scatterternary\",\"marker\":{\"colorbar\":{\"outlinewidth\":0,\"ticks\":\"\"}}}],\"scattercarpet\":[{\"type\":\"scattercarpet\",\"marker\":{\"colorbar\":{\"outlinewidth\":0,\"ticks\":\"\"}}}],\"carpet\":[{\"aaxis\":{\"endlinecolor\":\"#2a3f5f\",\"gridcolor\":\"white\",\"linecolor\":\"white\",\"minorgridcolor\":\"white\",\"startlinecolor\":\"#2a3f5f\"},\"baxis\":{\"endlinecolor\":\"#2a3f5f\",\"gridcolor\":\"white\",\"linecolor\":\"white\",\"minorgridcolor\":\"white\",\"startlinecolor\":\"#2a3f5f\"},\"type\":\"carpet\"}],\"table\":[{\"cells\":{\"fill\":{\"color\":\"#EBF0F8\"},\"line\":{\"color\":\"white\"}},\"header\":{\"fill\":{\"color\":\"#C8D4E3\"},\"line\":{\"color\":\"white\"}},\"type\":\"table\"}],\"barpolar\":[{\"marker\":{\"line\":{\"color\":\"#E5ECF6\",\"width\":0.5},\"pattern\":{\"fillmode\":\"overlay\",\"size\":10,\"solidity\":0.2}},\"type\":\"barpolar\"}],\"pie\":[{\"automargin\":true,\"type\":\"pie\"}]},\"layout\":{\"autotypenumbers\":\"strict\",\"colorway\":[\"#636efa\",\"#EF553B\",\"#00cc96\",\"#ab63fa\",\"#FFA15A\",\"#19d3f3\",\"#FF6692\",\"#B6E880\",\"#FF97FF\",\"#FECB52\"],\"font\":{\"color\":\"#2a3f5f\"},\"hovermode\":\"closest\",\"hoverlabel\":{\"align\":\"left\"},\"paper_bgcolor\":\"white\",\"plot_bgcolor\":\"#E5ECF6\",\"polar\":{\"bgcolor\":\"#E5ECF6\",\"angularaxis\":{\"gridcolor\":\"white\",\"linecolor\":\"white\",\"ticks\":\"\"},\"radialaxis\":{\"gridcolor\":\"white\",\"linecolor\":\"white\",\"ticks\":\"\"}},\"ternary\":{\"bgcolor\":\"#E5ECF6\",\"aaxis\":{\"gridcolor\":\"white\",\"linecolor\":\"white\",\"ticks\":\"\"},\"baxis\":{\"gridcolor\":\"white\",\"linecolor\":\"white\",\"ticks\":\"\"},\"caxis\":{\"gridcolor\":\"white\",\"linecolor\":\"white\",\"ticks\":\"\"}},\"coloraxis\":{\"colorbar\":{\"outlinewidth\":0,\"ticks\":\"\"}},\"colorscale\":{\"sequential\":[[0.0,\"#0d0887\"],[0.1111111111111111,\"#46039f\"],[0.2222222222222222,\"#7201a8\"],[0.3333333333333333,\"#9c179e\"],[0.4444444444444444,\"#bd3786\"],[0.5555555555555556,\"#d8576b\"],[0.6666666666666666,\"#ed7953\"],[0.7777777777777778,\"#fb9f3a\"],[0.8888888888888888,\"#fdca26\"],[1.0,\"#f0f921\"]],\"sequentialminus\":[[0.0,\"#0d0887\"],[0.1111111111111111,\"#46039f\"],[0.2222222222222222,\"#7201a8\"],[0.3333333333333333,\"#9c179e\"],[0.4444444444444444,\"#bd3786\"],[0.5555555555555556,\"#d8576b\"],[0.6666666666666666,\"#ed7953\"],[0.7777777777777778,\"#fb9f3a\"],[0.8888888888888888,\"#fdca26\"],[1.0,\"#f0f921\"]],\"diverging\":[[0,\"#8e0152\"],[0.1,\"#c51b7d\"],[0.2,\"#de77ae\"],[0.3,\"#f1b6da\"],[0.4,\"#fde0ef\"],[0.5,\"#f7f7f7\"],[0.6,\"#e6f5d0\"],[0.7,\"#b8e186\"],[0.8,\"#7fbc41\"],[0.9,\"#4d9221\"],[1,\"#276419\"]]},\"xaxis\":{\"gridcolor\":\"white\",\"linecolor\":\"white\",\"ticks\":\"\",\"title\":{\"standoff\":15},\"zerolinecolor\":\"white\",\"automargin\":true,\"zerolinewidth\":2},\"yaxis\":{\"gridcolor\":\"white\",\"linecolor\":\"white\",\"ticks\":\"\",\"title\":{\"standoff\":15},\"zerolinecolor\":\"white\",\"automargin\":true,\"zerolinewidth\":2},\"scene\":{\"xaxis\":{\"backgroundcolor\":\"#E5ECF6\",\"gridcolor\":\"white\",\"linecolor\":\"white\",\"showbackground\":true,\"ticks\":\"\",\"zerolinecolor\":\"white\",\"gridwidth\":2},\"yaxis\":{\"backgroundcolor\":\"#E5ECF6\",\"gridcolor\":\"white\",\"linecolor\":\"white\",\"showbackground\":true,\"ticks\":\"\",\"zerolinecolor\":\"white\",\"gridwidth\":2},\"zaxis\":{\"backgroundcolor\":\"#E5ECF6\",\"gridcolor\":\"white\",\"linecolor\":\"white\",\"showbackground\":true,\"ticks\":\"\",\"zerolinecolor\":\"white\",\"gridwidth\":2}},\"shapedefaults\":{\"line\":{\"color\":\"#2a3f5f\"}},\"annotationdefaults\":{\"arrowcolor\":\"#2a3f5f\",\"arrowhead\":0,\"arrowwidth\":1},\"geo\":{\"bgcolor\":\"white\",\"landcolor\":\"#E5ECF6\",\"subunitcolor\":\"white\",\"showland\":true,\"showlakes\":true,\"lakecolor\":\"white\"},\"title\":{\"x\":0.05},\"mapbox\":{\"style\":\"light\"}}}},                        {\"responsive\": true}                    ).then(function(){\n",
       "                            \n",
       "var gd = document.getElementById('6be5d8f5-8b3c-4f96-8a80-bf680fa5697f');\n",
       "var x = new MutationObserver(function (mutations, observer) {{\n",
       "        var display = window.getComputedStyle(gd).display;\n",
       "        if (!display || display === 'none') {{\n",
       "            console.log([gd, 'removed!']);\n",
       "            Plotly.purge(gd);\n",
       "            observer.disconnect();\n",
       "        }}\n",
       "}});\n",
       "\n",
       "// Listen for the removal of the full notebook cells\n",
       "var notebookContainer = gd.closest('#notebook-container');\n",
       "if (notebookContainer) {{\n",
       "    x.observe(notebookContainer, {childList: true});\n",
       "}}\n",
       "\n",
       "// Listen for the clearing of the current output cell\n",
       "var outputEl = gd.closest('.output');\n",
       "if (outputEl) {{\n",
       "    x.observe(outputEl, {childList: true});\n",
       "}}\n",
       "\n",
       "                        })                };                });            </script>        </div>"
      ]
     },
     "metadata": {},
     "output_type": "display_data"
    }
   ],
   "source": [
    "# make a flow diagram\n",
    "\n",
    "import plotly.graph_objects as go\n",
    "\n",
    "# Create dimensions\n",
    "sub_dim = go.parcats.Dimension(\n",
    "    values=coloc_annotated_signals_final.exclusive_label_sub,\n",
    "    categoryorder='category ascending', label=\"small sample\"\n",
    ")\n",
    "\n",
    "full_dim = go.parcats.Dimension(\n",
    "    values=coloc_annotated_signals_final.exclusive_label_full,\n",
    "    categoryorder='category ascending', label=\"large sample\"\n",
    ")\n",
    "\n",
    "# Create parcats trace\n",
    "color = coloc_annotated_signals_final.exclusive_label_sub;\n",
    "colorscale = [['eqtl_only', 'lightsteelblue'], ['pcqtl_only', 'mediumseagreen'], ['shared', 'aliceblue']];\n",
    "\n",
    "fig = go.Figure(data = [go.Parcats(dimensions=[sub_dim, full_dim],\n",
    "        #line={'color': color, 'colorscale': colorscale},\n",
    "        hoveron='color', hoverinfo='count+probability',\n",
    "        arrangement='freeform')])\n",
    "\n",
    "fig.show()\n",
    "\n"
   ]
  },
  {
   "cell_type": "markdown",
   "metadata": {},
   "source": [
    "## for 100-200-300-full"
   ]
  },
  {
   "cell_type": "code",
   "execution_count": 37,
   "metadata": {},
   "outputs": [
    {
     "name": "stdout",
     "output_type": "stream",
     "text": [
      "6 small sample share a lead var with a large sample\n",
      "23 of the small sample signals don't share a lead var, will need to be colocd\n",
      "192 colocs if we do every combination\n",
      "120 colocs if we do 1 credible set per signal group\n",
      "6 small sample share a lead var with a large sample\n",
      "23 of the small sample signals don't share a lead var, will need to be colocd\n",
      "225 colocs if we do every combination\n",
      "119 colocs if we do 1 credible set per signal group\n"
     ]
    },
    {
     "name": "stderr",
     "output_type": "stream",
     "text": [
      "/local/scratch/klawren/slrmtmp.46973338/ipykernel_22784/1516611404.py:36: SettingWithCopyWarning:\n",
      "\n",
      "\n",
      "A value is trying to be set on a copy of a slice from a DataFrame.\n",
      "Try using .loc[row_indexer,col_indexer] = value instead\n",
      "\n",
      "See the caveats in the documentation: https://pandas.pydata.org/pandas-docs/stable/user_guide/indexing.html#returning-a-view-versus-a-copy\n",
      "\n",
      "/local/scratch/klawren/slrmtmp.46973338/ipykernel_22784/1516611404.py:61: SettingWithCopyWarning:\n",
      "\n",
      "\n",
      "A value is trying to be set on a copy of a slice from a DataFrame.\n",
      "Try using .loc[row_indexer,col_indexer] = value instead\n",
      "\n",
      "See the caveats in the documentation: https://pandas.pydata.org/pandas-docs/stable/user_guide/indexing.html#returning-a-view-versus-a-copy\n",
      "\n",
      "/local/scratch/klawren/slrmtmp.46973338/ipykernel_22784/1516611404.py:36: SettingWithCopyWarning:\n",
      "\n",
      "\n",
      "A value is trying to be set on a copy of a slice from a DataFrame.\n",
      "Try using .loc[row_indexer,col_indexer] = value instead\n",
      "\n",
      "See the caveats in the documentation: https://pandas.pydata.org/pandas-docs/stable/user_guide/indexing.html#returning-a-view-versus-a-copy\n",
      "\n",
      "/local/scratch/klawren/slrmtmp.46973338/ipykernel_22784/1516611404.py:61: SettingWithCopyWarning:\n",
      "\n",
      "\n",
      "A value is trying to be set on a copy of a slice from a DataFrame.\n",
      "Try using .loc[row_indexer,col_indexer] = value instead\n",
      "\n",
      "See the caveats in the documentation: https://pandas.pydata.org/pandas-docs/stable/user_guide/indexing.html#returning-a-view-versus-a-copy\n",
      "\n"
     ]
    }
   ],
   "source": [
    "# for groups in the 100 to groups in the 200\n",
    "subsample_size_1 = 100\n",
    "subsample_size_2 = 200\n",
    "lead_var_shared_200 = get_lead_var_shared(sub_signals[sub_signals['num_samples']==subsample_size_1], sub_signals[sub_signals['num_samples']==subsample_size_2])\n",
    "groups_merged_pruned_200 = get_coloc_subsample(sub_configs[subsample_size_1], sub_signals[sub_signals['num_samples']==subsample_size_1], sub_configs[subsample_size_2], sub_signals[sub_signals['num_samples']==subsample_size_2], lead_var_shared_200)\n",
    "\n",
    "# for groups in the 100 to groups in the 300\n",
    "subsample_size_2 = 300\n",
    "lead_var_shared_300 = get_lead_var_shared(sub_signals[sub_signals['num_samples']==subsample_size_1], sub_signals[sub_signals['num_samples']==subsample_size_2])\n",
    "groups_merged_pruned_300 = get_coloc_subsample(sub_configs[subsample_size_1], sub_signals[sub_signals['num_samples']==subsample_size_1], sub_configs[subsample_size_2], sub_signals[sub_signals['num_samples']==subsample_size_2], lead_var_shared_300)"
   ]
  },
  {
   "cell_type": "code",
   "execution_count": 38,
   "metadata": {},
   "outputs": [
    {
     "name": "stdout",
     "output_type": "stream",
     "text": [
      "  |                                                                                                                                                                                              |   0%"
     ]
    },
    {
     "name": "stdout",
     "output_type": "stream",
     "text": [
      "  |==                                                                                                                                                                                            |   1%"
     ]
    },
    {
     "name": "stderr",
     "output_type": "stream",
     "text": [
      "/home/klawren/micromamba/envs/tensorqtl_r/lib/python3.8/site-packages/rpy2/robjects/pandas2ri.py:65: UserWarning:\n",
      "\n",
      "Error while trying to convert the column \"lead_var_set_sub\". Fall back to string conversion. The error is: <class 'list'>\n",
      "\n",
      "/home/klawren/micromamba/envs/tensorqtl_r/lib/python3.8/site-packages/rpy2/robjects/pandas2ri.py:65: UserWarning:\n",
      "\n",
      "Error while trying to convert the column \"lead_var_set_full\". Fall back to string conversion. The error is: <class 'list'>\n",
      "\n"
     ]
    },
    {
     "name": "stdout",
     "output_type": "stream",
     "text": [
      "  |==============================================================================================================================================================================================| 100%\n",
      "[1] \"Total skipped files: 0\"\n"
     ]
    }
   ],
   "source": [
    "%%R -i groups_merged_pruned_200 -w 3 -h 5 --units in -r 200 -o groups_merged_pruned_200\n",
    "# run coloc for the pruned set in R\n",
    "groups_merged_pruned_200 <- get_coloc_from_df(groups_merged_pruned_200)"
   ]
  },
  {
   "cell_type": "code",
   "execution_count": 39,
   "metadata": {},
   "outputs": [
    {
     "name": "stdout",
     "output_type": "stream",
     "text": [
      "  |===                                                                                                                                                                                           |   2%"
     ]
    },
    {
     "name": "stderr",
     "output_type": "stream",
     "text": [
      "/home/klawren/micromamba/envs/tensorqtl_r/lib/python3.8/site-packages/rpy2/robjects/pandas2ri.py:65: UserWarning:\n",
      "\n",
      "Error while trying to convert the column \"lead_var_set_sub\". Fall back to string conversion. The error is: <class 'list'>\n",
      "\n",
      "/home/klawren/micromamba/envs/tensorqtl_r/lib/python3.8/site-packages/rpy2/robjects/pandas2ri.py:65: UserWarning:\n",
      "\n",
      "Error while trying to convert the column \"lead_var_set_full\". Fall back to string conversion. The error is: <class 'list'>\n",
      "\n"
     ]
    },
    {
     "name": "stdout",
     "output_type": "stream",
     "text": [
      "  |==============================================================================================================================================================================================| 100%\n",
      "[1] \"Total skipped files: 0\"\n"
     ]
    }
   ],
   "source": [
    "%%R -i groups_merged_pruned_300 -w 3 -h 5 --units in -r 200 -o groups_merged_pruned_300\n",
    "# run coloc for the pruned set in R\n",
    "groups_merged_pruned_300 <- get_coloc_from_df(groups_merged_pruned_300)"
   ]
  },
  {
   "cell_type": "code",
   "execution_count": 40,
   "metadata": {},
   "outputs": [
    {
     "name": "stdout",
     "output_type": "stream",
     "text": [
      "5 subsignals had a signifigant coloc\n",
      "18 signals non overlapping\n",
      "29 signals had a coloc or shared lead var\n",
      "5 subsignals had a signifigant coloc\n",
      "18 signals non overlapping\n",
      "29 signals had a coloc or shared lead var\n"
     ]
    },
    {
     "name": "stderr",
     "output_type": "stream",
     "text": [
      "/local/scratch/klawren/slrmtmp.46973338/ipykernel_22784/1516611404.py:91: SettingWithCopyWarning:\n",
      "\n",
      "\n",
      "A value is trying to be set on a copy of a slice from a DataFrame.\n",
      "Try using .loc[row_indexer,col_indexer] = value instead\n",
      "\n",
      "See the caveats in the documentation: https://pandas.pydata.org/pandas-docs/stable/user_guide/indexing.html#returning-a-view-versus-a-copy\n",
      "\n",
      "/local/scratch/klawren/slrmtmp.46973338/ipykernel_22784/1516611404.py:92: SettingWithCopyWarning:\n",
      "\n",
      "\n",
      "A value is trying to be set on a copy of a slice from a DataFrame.\n",
      "Try using .loc[row_indexer,col_indexer] = value instead\n",
      "\n",
      "See the caveats in the documentation: https://pandas.pydata.org/pandas-docs/stable/user_guide/indexing.html#returning-a-view-versus-a-copy\n",
      "\n",
      "/local/scratch/klawren/slrmtmp.46973338/ipykernel_22784/1516611404.py:93: SettingWithCopyWarning:\n",
      "\n",
      "\n",
      "A value is trying to be set on a copy of a slice from a DataFrame.\n",
      "Try using .loc[row_indexer,col_indexer] = value instead\n",
      "\n",
      "See the caveats in the documentation: https://pandas.pydata.org/pandas-docs/stable/user_guide/indexing.html#returning-a-view-versus-a-copy\n",
      "\n",
      "/local/scratch/klawren/slrmtmp.46973338/ipykernel_22784/1516611404.py:94: SettingWithCopyWarning:\n",
      "\n",
      "\n",
      "A value is trying to be set on a copy of a slice from a DataFrame.\n",
      "Try using .loc[row_indexer,col_indexer] = value instead\n",
      "\n",
      "See the caveats in the documentation: https://pandas.pydata.org/pandas-docs/stable/user_guide/indexing.html#returning-a-view-versus-a-copy\n",
      "\n",
      "/local/scratch/klawren/slrmtmp.46973338/ipykernel_22784/1516611404.py:95: SettingWithCopyWarning:\n",
      "\n",
      "\n",
      "A value is trying to be set on a copy of a slice from a DataFrame.\n",
      "Try using .loc[row_indexer,col_indexer] = value instead\n",
      "\n",
      "See the caveats in the documentation: https://pandas.pydata.org/pandas-docs/stable/user_guide/indexing.html#returning-a-view-versus-a-copy\n",
      "\n",
      "/local/scratch/klawren/slrmtmp.46973338/ipykernel_22784/1516611404.py:91: SettingWithCopyWarning:\n",
      "\n",
      "\n",
      "A value is trying to be set on a copy of a slice from a DataFrame.\n",
      "Try using .loc[row_indexer,col_indexer] = value instead\n",
      "\n",
      "See the caveats in the documentation: https://pandas.pydata.org/pandas-docs/stable/user_guide/indexing.html#returning-a-view-versus-a-copy\n",
      "\n",
      "/local/scratch/klawren/slrmtmp.46973338/ipykernel_22784/1516611404.py:92: SettingWithCopyWarning:\n",
      "\n",
      "\n",
      "A value is trying to be set on a copy of a slice from a DataFrame.\n",
      "Try using .loc[row_indexer,col_indexer] = value instead\n",
      "\n",
      "See the caveats in the documentation: https://pandas.pydata.org/pandas-docs/stable/user_guide/indexing.html#returning-a-view-versus-a-copy\n",
      "\n",
      "/local/scratch/klawren/slrmtmp.46973338/ipykernel_22784/1516611404.py:93: SettingWithCopyWarning:\n",
      "\n",
      "\n",
      "A value is trying to be set on a copy of a slice from a DataFrame.\n",
      "Try using .loc[row_indexer,col_indexer] = value instead\n",
      "\n",
      "See the caveats in the documentation: https://pandas.pydata.org/pandas-docs/stable/user_guide/indexing.html#returning-a-view-versus-a-copy\n",
      "\n",
      "/local/scratch/klawren/slrmtmp.46973338/ipykernel_22784/1516611404.py:94: SettingWithCopyWarning:\n",
      "\n",
      "\n",
      "A value is trying to be set on a copy of a slice from a DataFrame.\n",
      "Try using .loc[row_indexer,col_indexer] = value instead\n",
      "\n",
      "See the caveats in the documentation: https://pandas.pydata.org/pandas-docs/stable/user_guide/indexing.html#returning-a-view-versus-a-copy\n",
      "\n",
      "/local/scratch/klawren/slrmtmp.46973338/ipykernel_22784/1516611404.py:95: SettingWithCopyWarning:\n",
      "\n",
      "\n",
      "A value is trying to be set on a copy of a slice from a DataFrame.\n",
      "Try using .loc[row_indexer,col_indexer] = value instead\n",
      "\n",
      "See the caveats in the documentation: https://pandas.pydata.org/pandas-docs/stable/user_guide/indexing.html#returning-a-view-versus-a-copy\n",
      "\n"
     ]
    }
   ],
   "source": [
    "# combine the shared lead var, coloc'd, and unique signals\n",
    "coloc_annotated_signals_200 = combine_signals(sub_signals[sub_signals['num_samples']==100], lead_var_shared_200, groups_merged_pruned_200)\n",
    "coloc_annotated_signals_300 = combine_signals(sub_signals[sub_signals['num_samples']==100], lead_var_shared_300, groups_merged_pruned_300)"
   ]
  },
  {
   "cell_type": "code",
   "execution_count": 41,
   "metadata": {},
   "outputs": [
    {
     "data": {
      "image/png": "[encoded data removed]",
      "text/plain": [
       "<Figure size 640x480 with 1 Axes>"
      ]
     },
     "metadata": {},
     "output_type": "display_data"
    },
    {
     "data": {
      "image/png": "[encoded data removed]",
      "text/plain": [
       "<Figure size 640x480 with 1 Axes>"
      ]
     },
     "metadata": {},
     "output_type": "display_data"
    }
   ],
   "source": [
    "sns.histplot(coloc_annotated_signals_200, x='exclusive_label_sub', hue='exclusive_label_full', multiple='stack')\n",
    "plt.title('100 to 200')\n",
    "plt.show()\n",
    "sns.histplot(coloc_annotated_signals_300, x='exclusive_label_sub', hue='exclusive_label_full', multiple='stack')\n",
    "plt.title('100 to 300')\n",
    "plt.show()"
   ]
  },
  {
   "cell_type": "code",
   "execution_count": 55,
   "metadata": {},
   "outputs": [
    {
     "data": {
      "text/html": [
       "<div>\n",
       "<style scoped>\n",
       "    .dataframe tbody tr th:only-of-type {\n",
       "        vertical-align: middle;\n",
       "    }\n",
       "\n",
       "    .dataframe tbody tr th {\n",
       "        vertical-align: top;\n",
       "    }\n",
       "\n",
       "    .dataframe thead th {\n",
       "        text-align: right;\n",
       "    }\n",
       "</style>\n",
       "<table border=\"1\" class=\"dataframe\">\n",
       "  <thead>\n",
       "    <tr style=\"text-align: right;\">\n",
       "      <th></th>\n",
       "      <th>signal_id_sub</th>\n",
       "      <th>exclusive_label_full_200</th>\n",
       "      <th>exclusive_label_full_300</th>\n",
       "      <th>exclusive_label_sub</th>\n",
       "      <th>exclusive_label_full</th>\n",
       "    </tr>\n",
       "  </thead>\n",
       "  <tbody>\n",
       "    <tr>\n",
       "      <th>0</th>\n",
       "      <td>ENSG00000087269.15_ENSG00000125388.19_e_ENSG00...</td>\n",
       "      <td>shared</td>\n",
       "      <td>shared</td>\n",
       "      <td>shared</td>\n",
       "      <td>shared</td>\n",
       "    </tr>\n",
       "    <tr>\n",
       "      <th>1</th>\n",
       "      <td>ENSG00000129055.12_ENSG00000182923.16_e_ENSG00...</td>\n",
       "      <td>shared</td>\n",
       "      <td>shared</td>\n",
       "      <td>shared</td>\n",
       "      <td>shared</td>\n",
       "    </tr>\n",
       "    <tr>\n",
       "      <th>2</th>\n",
       "      <td>ENSG00000137462.6_ENSG00000145428.14_e_ENSG000...</td>\n",
       "      <td>shared</td>\n",
       "      <td>shared</td>\n",
       "      <td>shared</td>\n",
       "      <td>shared</td>\n",
       "    </tr>\n",
       "    <tr>\n",
       "      <th>3</th>\n",
       "      <td>ENSG00000181061.13_ENSG00000244607.5_e_ENSG000...</td>\n",
       "      <td>pcqtl_only</td>\n",
       "      <td>pcqtl_only</td>\n",
       "      <td>eqtl_only</td>\n",
       "      <td>pcqtl_only</td>\n",
       "    </tr>\n",
       "    <tr>\n",
       "      <th>4</th>\n",
       "      <td>ENSG00000181061.13_ENSG00000244607.5_e_ENSG000...</td>\n",
       "      <td>pcqtl_only</td>\n",
       "      <td>pcqtl_only</td>\n",
       "      <td>eqtl_only</td>\n",
       "      <td>pcqtl_only</td>\n",
       "    </tr>\n",
       "  </tbody>\n",
       "</table>\n",
       "</div>"
      ],
      "text/plain": [
       "                                       signal_id_sub exclusive_label_full_200  \\\n",
       "0  ENSG00000087269.15_ENSG00000125388.19_e_ENSG00...                   shared   \n",
       "1  ENSG00000129055.12_ENSG00000182923.16_e_ENSG00...                   shared   \n",
       "2  ENSG00000137462.6_ENSG00000145428.14_e_ENSG000...                   shared   \n",
       "3  ENSG00000181061.13_ENSG00000244607.5_e_ENSG000...               pcqtl_only   \n",
       "4  ENSG00000181061.13_ENSG00000244607.5_e_ENSG000...               pcqtl_only   \n",
       "\n",
       "  exclusive_label_full_300 exclusive_label_sub exclusive_label_full  \n",
       "0                   shared              shared               shared  \n",
       "1                   shared              shared               shared  \n",
       "2                   shared              shared               shared  \n",
       "3               pcqtl_only           eqtl_only           pcqtl_only  \n",
       "4               pcqtl_only           eqtl_only           pcqtl_only  "
      ]
     },
     "execution_count": 55,
     "metadata": {},
     "output_type": "execute_result"
    }
   ],
   "source": [
    "# combine all the signals\n",
    "combined_annotated_signals = pd.merge(coloc_annotated_signals_200[['signal_id_sub', 'exclusive_label_full']], coloc_annotated_signals_300[['signal_id_sub', 'exclusive_label_full']], suffixes=['_200', '_300'], on='signal_id_sub')\n",
    "combined_annotated_signals = pd.merge(combined_annotated_signals, coloc_annotated_signals_final[['signal_id_sub', 'exclusive_label_sub', 'exclusive_label_full']], suffixes=['', '_final'], on='signal_id_sub')\n",
    "combined_annotated_signals.head()"
   ]
  },
  {
   "cell_type": "code",
   "execution_count": 60,
   "metadata": {},
   "outputs": [
    {
     "data": {
      "application/vnd.plotly.v1+json": {
       "config": {
        "plotlyServerURL": "https://plot.ly"
       },
       "data": [
        {
         "arrangement": "freeform",
         "dimensions": [
          {
           "categoryorder": "category ascending",
           "label": "100 sample",
           "values": [
            "shared",
            "shared",
            "shared",
            "eqtl_only",
            "eqtl_only",
            "eqtl_only",
            "shared",
            "shared",
            "shared",
            "shared",
            "pcqtl_only",
            "shared",
            "shared",
            "shared",
            "eqtl_only",
            "eqtl_only",
            "eqtl_only",
            "eqtl_only",
            "pcqtl_only",
            "eqtl_only",
            "eqtl_only",
            "eqtl_only",
            "pcqtl_only",
            "eqtl_only",
            "eqtl_only",
            "eqtl_only",
            "pcqtl_only",
            "eqtl_only",
            "eqtl_only"
           ]
          },
          {
           "categoryorder": "category ascending",
           "label": "200 sample",
           "values": [
            "shared",
            "shared",
            "shared",
            "pcqtl_only",
            "pcqtl_only",
            "pcqtl_only",
            "shared",
            "shared",
            "shared",
            "shared",
            "shared",
            "neither",
            "neither",
            "neither",
            "neither",
            "neither",
            "neither",
            "neither",
            "neither",
            "neither",
            "neither",
            "neither",
            "neither",
            "neither",
            "neither",
            "neither",
            "neither",
            "neither",
            "neither"
           ]
          },
          {
           "categoryorder": "category ascending",
           "label": "300 sample",
           "values": [
            "shared",
            "shared",
            "shared",
            "pcqtl_only",
            "pcqtl_only",
            "pcqtl_only",
            "shared",
            "shared",
            "shared",
            "shared",
            "shared",
            "neither",
            "neither",
            "neither",
            "neither",
            "neither",
            "neither",
            "neither",
            "neither",
            "neither",
            "neither",
            "neither",
            "neither",
            "neither",
            "neither",
            "neither",
            "neither",
            "neither",
            "neither"
           ]
          },
          {
           "categoryorder": "category ascending",
           "label": "300 sample",
           "values": [
            "shared",
            "shared",
            "shared",
            "pcqtl_only",
            "pcqtl_only",
            "pcqtl_only",
            "shared",
            "shared",
            "shared",
            "shared",
            "shared",
            "neither",
            "neither",
            "neither",
            "neither",
            "neither",
            "neither",
            "neither",
            "neither",
            "neither",
            "neither",
            "neither",
            "neither",
            "neither",
            "neither",
            "neither",
            "neither",
            "neither",
            "neither"
           ]
          }
         ],
         "hoverinfo": "count+probability",
         "hoveron": "color",
         "line": {
          "color": [
           "#734675",
           "#734675",
           "#734675",
           "#67AFD2",
           "#67AFD2",
           "#67AFD2",
           "#734675",
           "#734675",
           "#734675",
           "#734675",
           "#B83A4B",
           "#734675",
           "#734675",
           "#734675",
           "#67AFD2",
           "#67AFD2",
           "#67AFD2",
           "#67AFD2",
           "#B83A4B",
           "#67AFD2",
           "#67AFD2",
           "#67AFD2",
           "#B83A4B",
           "#67AFD2",
           "#67AFD2",
           "#67AFD2",
           "#B83A4B",
           "#67AFD2",
           "#67AFD2"
          ]
         },
         "type": "parcats"
        }
       ],
       "layout": {
        "template": {
         "data": {
          "bar": [
           {
            "error_x": {
             "color": "#2a3f5f"
            },
            "error_y": {
             "color": "#2a3f5f"
            },
            "marker": {
             "line": {
              "color": "#E5ECF6",
              "width": 0.5
             },
             "pattern": {
              "fillmode": "overlay",
              "size": 10,
              "solidity": 0.2
             }
            },
            "type": "bar"
           }
          ],
          "barpolar": [
           {
            "marker": {
             "line": {
              "color": "#E5ECF6",
              "width": 0.5
             },
             "pattern": {
              "fillmode": "overlay",
              "size": 10,
              "solidity": 0.2
             }
            },
            "type": "barpolar"
           }
          ],
          "carpet": [
           {
            "aaxis": {
             "endlinecolor": "#2a3f5f",
             "gridcolor": "white",
             "linecolor": "white",
             "minorgridcolor": "white",
             "startlinecolor": "#2a3f5f"
            },
            "baxis": {
             "endlinecolor": "#2a3f5f",
             "gridcolor": "white",
             "linecolor": "white",
             "minorgridcolor": "white",
             "startlinecolor": "#2a3f5f"
            },
            "type": "carpet"
           }
          ],
          "choropleth": [
           {
            "colorbar": {
             "outlinewidth": 0,
             "ticks": ""
            },
            "type": "choropleth"
           }
          ],
          "contour": [
           {
            "colorbar": {
             "outlinewidth": 0,
             "ticks": ""
            },
            "colorscale": [
             [
              0,
              "#0d0887"
             ],
             [
              0.1111111111111111,
              "#46039f"
             ],
             [
              0.2222222222222222,
              "#7201a8"
             ],
             [
              0.3333333333333333,
              "#9c179e"
             ],
             [
              0.4444444444444444,
              "#bd3786"
             ],
             [
              0.5555555555555556,
              "#d8576b"
             ],
             [
              0.6666666666666666,
              "#ed7953"
             ],
             [
              0.7777777777777778,
              "#fb9f3a"
             ],
             [
              0.8888888888888888,
              "#fdca26"
             ],
             [
              1,
              "#f0f921"
             ]
            ],
            "type": "contour"
           }
          ],
          "contourcarpet": [
           {
            "colorbar": {
             "outlinewidth": 0,
             "ticks": ""
            },
            "type": "contourcarpet"
           }
          ],
          "heatmap": [
           {
            "colorbar": {
             "outlinewidth": 0,
             "ticks": ""
            },
            "colorscale": [
             [
              0,
              "#0d0887"
             ],
             [
              0.1111111111111111,
              "#46039f"
             ],
             [
              0.2222222222222222,
              "#7201a8"
             ],
             [
              0.3333333333333333,
              "#9c179e"
             ],
             [
              0.4444444444444444,
              "#bd3786"
             ],
             [
              0.5555555555555556,
              "#d8576b"
             ],
             [
              0.6666666666666666,
              "#ed7953"
             ],
             [
              0.7777777777777778,
              "#fb9f3a"
             ],
             [
              0.8888888888888888,
              "#fdca26"
             ],
             [
              1,
              "#f0f921"
             ]
            ],
            "type": "heatmap"
           }
          ],
          "heatmapgl": [
           {
            "colorbar": {
             "outlinewidth": 0,
             "ticks": ""
            },
            "colorscale": [
             [
              0,
              "#0d0887"
             ],
             [
              0.1111111111111111,
              "#46039f"
             ],
             [
              0.2222222222222222,
              "#7201a8"
             ],
             [
              0.3333333333333333,
              "#9c179e"
             ],
             [
              0.4444444444444444,
              "#bd3786"
             ],
             [
              0.5555555555555556,
              "#d8576b"
             ],
             [
              0.6666666666666666,
              "#ed7953"
             ],
             [
              0.7777777777777778,
              "#fb9f3a"
             ],
             [
              0.8888888888888888,
              "#fdca26"
             ],
             [
              1,
              "#f0f921"
             ]
            ],
            "type": "heatmapgl"
           }
          ],
          "histogram": [
           {
            "marker": {
             "pattern": {
              "fillmode": "overlay",
              "size": 10,
              "solidity": 0.2
             }
            },
            "type": "histogram"
           }
          ],
          "histogram2d": [
           {
            "colorbar": {
             "outlinewidth": 0,
             "ticks": ""
            },
            "colorscale": [
             [
              0,
              "#0d0887"
             ],
             [
              0.1111111111111111,
              "#46039f"
             ],
             [
              0.2222222222222222,
              "#7201a8"
             ],
             [
              0.3333333333333333,
              "#9c179e"
             ],
             [
              0.4444444444444444,
              "#bd3786"
             ],
             [
              0.5555555555555556,
              "#d8576b"
             ],
             [
              0.6666666666666666,
              "#ed7953"
             ],
             [
              0.7777777777777778,
              "#fb9f3a"
             ],
             [
              0.8888888888888888,
              "#fdca26"
             ],
             [
              1,
              "#f0f921"
             ]
            ],
            "type": "histogram2d"
           }
          ],
          "histogram2dcontour": [
           {
            "colorbar": {
             "outlinewidth": 0,
             "ticks": ""
            },
            "colorscale": [
             [
              0,
              "#0d0887"
             ],
             [
              0.1111111111111111,
              "#46039f"
             ],
             [
              0.2222222222222222,
              "#7201a8"
             ],
             [
              0.3333333333333333,
              "#9c179e"
             ],
             [
              0.4444444444444444,
              "#bd3786"
             ],
             [
              0.5555555555555556,
              "#d8576b"
             ],
             [
              0.6666666666666666,
              "#ed7953"
             ],
             [
              0.7777777777777778,
              "#fb9f3a"
             ],
             [
              0.8888888888888888,
              "#fdca26"
             ],
             [
              1,
              "#f0f921"
             ]
            ],
            "type": "histogram2dcontour"
           }
          ],
          "mesh3d": [
           {
            "colorbar": {
             "outlinewidth": 0,
             "ticks": ""
            },
            "type": "mesh3d"
           }
          ],
          "parcoords": [
           {
            "line": {
             "colorbar": {
              "outlinewidth": 0,
              "ticks": ""
             }
            },
            "type": "parcoords"
           }
          ],
          "pie": [
           {
            "automargin": true,
            "type": "pie"
           }
          ],
          "scatter": [
           {
            "fillpattern": {
             "fillmode": "overlay",
             "size": 10,
             "solidity": 0.2
            },
            "type": "scatter"
           }
          ],
          "scatter3d": [
           {
            "line": {
             "colorbar": {
              "outlinewidth": 0,
              "ticks": ""
             }
            },
            "marker": {
             "colorbar": {
              "outlinewidth": 0,
              "ticks": ""
             }
            },
            "type": "scatter3d"
           }
          ],
          "scattercarpet": [
           {
            "marker": {
             "colorbar": {
              "outlinewidth": 0,
              "ticks": ""
             }
            },
            "type": "scattercarpet"
           }
          ],
          "scattergeo": [
           {
            "marker": {
             "colorbar": {
              "outlinewidth": 0,
              "ticks": ""
             }
            },
            "type": "scattergeo"
           }
          ],
          "scattergl": [
           {
            "marker": {
             "colorbar": {
              "outlinewidth": 0,
              "ticks": ""
             }
            },
            "type": "scattergl"
           }
          ],
          "scattermapbox": [
           {
            "marker": {
             "colorbar": {
              "outlinewidth": 0,
              "ticks": ""
             }
            },
            "type": "scattermapbox"
           }
          ],
          "scatterpolar": [
           {
            "marker": {
             "colorbar": {
              "outlinewidth": 0,
              "ticks": ""
             }
            },
            "type": "scatterpolar"
           }
          ],
          "scatterpolargl": [
           {
            "marker": {
             "colorbar": {
              "outlinewidth": 0,
              "ticks": ""
             }
            },
            "type": "scatterpolargl"
           }
          ],
          "scatterternary": [
           {
            "marker": {
             "colorbar": {
              "outlinewidth": 0,
              "ticks": ""
             }
            },
            "type": "scatterternary"
           }
          ],
          "surface": [
           {
            "colorbar": {
             "outlinewidth": 0,
             "ticks": ""
            },
            "colorscale": [
             [
              0,
              "#0d0887"
             ],
             [
              0.1111111111111111,
              "#46039f"
             ],
             [
              0.2222222222222222,
              "#7201a8"
             ],
             [
              0.3333333333333333,
              "#9c179e"
             ],
             [
              0.4444444444444444,
              "#bd3786"
             ],
             [
              0.5555555555555556,
              "#d8576b"
             ],
             [
              0.6666666666666666,
              "#ed7953"
             ],
             [
              0.7777777777777778,
              "#fb9f3a"
             ],
             [
              0.8888888888888888,
              "#fdca26"
             ],
             [
              1,
              "#f0f921"
             ]
            ],
            "type": "surface"
           }
          ],
          "table": [
           {
            "cells": {
             "fill": {
              "color": "#EBF0F8"
             },
             "line": {
              "color": "white"
             }
            },
            "header": {
             "fill": {
              "color": "#C8D4E3"
             },
             "line": {
              "color": "white"
             }
            },
            "type": "table"
           }
          ]
         },
         "layout": {
          "annotationdefaults": {
           "arrowcolor": "#2a3f5f",
           "arrowhead": 0,
           "arrowwidth": 1
          },
          "autotypenumbers": "strict",
          "coloraxis": {
           "colorbar": {
            "outlinewidth": 0,
            "ticks": ""
           }
          },
          "colorscale": {
           "diverging": [
            [
             0,
             "#8e0152"
            ],
            [
             0.1,
             "#c51b7d"
            ],
            [
             0.2,
             "#de77ae"
            ],
            [
             0.3,
             "#f1b6da"
            ],
            [
             0.4,
             "#fde0ef"
            ],
            [
             0.5,
             "#f7f7f7"
            ],
            [
             0.6,
             "#e6f5d0"
            ],
            [
             0.7,
             "#b8e186"
            ],
            [
             0.8,
             "#7fbc41"
            ],
            [
             0.9,
             "#4d9221"
            ],
            [
             1,
             "#276419"
            ]
           ],
           "sequential": [
            [
             0,
             "#0d0887"
            ],
            [
             0.1111111111111111,
             "#46039f"
            ],
            [
             0.2222222222222222,
             "#7201a8"
            ],
            [
             0.3333333333333333,
             "#9c179e"
            ],
            [
             0.4444444444444444,
             "#bd3786"
            ],
            [
             0.5555555555555556,
             "#d8576b"
            ],
            [
             0.6666666666666666,
             "#ed7953"
            ],
            [
             0.7777777777777778,
             "#fb9f3a"
            ],
            [
             0.8888888888888888,
             "#fdca26"
            ],
            [
             1,
             "#f0f921"
            ]
           ],
           "sequentialminus": [
            [
             0,
             "#0d0887"
            ],
            [
             0.1111111111111111,
             "#46039f"
            ],
            [
             0.2222222222222222,
             "#7201a8"
            ],
            [
             0.3333333333333333,
             "#9c179e"
            ],
            [
             0.4444444444444444,
             "#bd3786"
            ],
            [
             0.5555555555555556,
             "#d8576b"
            ],
            [
             0.6666666666666666,
             "#ed7953"
            ],
            [
             0.7777777777777778,
             "#fb9f3a"
            ],
            [
             0.8888888888888888,
             "#fdca26"
            ],
            [
             1,
             "#f0f921"
            ]
           ]
          },
          "colorway": [
           "#636efa",
           "#EF553B",
           "#00cc96",
           "#ab63fa",
           "#FFA15A",
           "#19d3f3",
           "#FF6692",
           "#B6E880",
           "#FF97FF",
           "#FECB52"
          ],
          "font": {
           "color": "#2a3f5f"
          },
          "geo": {
           "bgcolor": "white",
           "lakecolor": "white",
           "landcolor": "#E5ECF6",
           "showlakes": true,
           "showland": true,
           "subunitcolor": "white"
          },
          "hoverlabel": {
           "align": "left"
          },
          "hovermode": "closest",
          "mapbox": {
           "style": "light"
          },
          "paper_bgcolor": "white",
          "plot_bgcolor": "#E5ECF6",
          "polar": {
           "angularaxis": {
            "gridcolor": "white",
            "linecolor": "white",
            "ticks": ""
           },
           "bgcolor": "#E5ECF6",
           "radialaxis": {
            "gridcolor": "white",
            "linecolor": "white",
            "ticks": ""
           }
          },
          "scene": {
           "xaxis": {
            "backgroundcolor": "#E5ECF6",
            "gridcolor": "white",
            "gridwidth": 2,
            "linecolor": "white",
            "showbackground": true,
            "ticks": "",
            "zerolinecolor": "white"
           },
           "yaxis": {
            "backgroundcolor": "#E5ECF6",
            "gridcolor": "white",
            "gridwidth": 2,
            "linecolor": "white",
            "showbackground": true,
            "ticks": "",
            "zerolinecolor": "white"
           },
           "zaxis": {
            "backgroundcolor": "#E5ECF6",
            "gridcolor": "white",
            "gridwidth": 2,
            "linecolor": "white",
            "showbackground": true,
            "ticks": "",
            "zerolinecolor": "white"
           }
          },
          "shapedefaults": {
           "line": {
            "color": "#2a3f5f"
           }
          },
          "ternary": {
           "aaxis": {
            "gridcolor": "white",
            "linecolor": "white",
            "ticks": ""
           },
           "baxis": {
            "gridcolor": "white",
            "linecolor": "white",
            "ticks": ""
           },
           "bgcolor": "#E5ECF6",
           "caxis": {
            "gridcolor": "white",
            "linecolor": "white",
            "ticks": ""
           }
          },
          "title": {
           "x": 0.05
          },
          "xaxis": {
           "automargin": true,
           "gridcolor": "white",
           "linecolor": "white",
           "ticks": "",
           "title": {
            "standoff": 15
           },
           "zerolinecolor": "white",
           "zerolinewidth": 2
          },
          "yaxis": {
           "automargin": true,
           "gridcolor": "white",
           "linecolor": "white",
           "ticks": "",
           "title": {
            "standoff": 15
           },
           "zerolinecolor": "white",
           "zerolinewidth": 2
          }
         }
        }
       }
      },
      "text/html": [
       "<div>                            <div id=\"fc5a4bfa-85a6-4b24-84c9-4e114edf1def\" class=\"plotly-graph-div\" style=\"height:525px; width:100%;\"></div>            <script type=\"text/javascript\">                require([\"plotly\"], function(Plotly) {                    window.PLOTLYENV=window.PLOTLYENV || {};                                    if (document.getElementById(\"fc5a4bfa-85a6-4b24-84c9-4e114edf1def\")) {                    Plotly.newPlot(                        \"fc5a4bfa-85a6-4b24-84c9-4e114edf1def\",                        [{\"arrangement\":\"freeform\",\"dimensions\":[{\"categoryorder\":\"category ascending\",\"label\":\"100 sample\",\"values\":[\"shared\",\"shared\",\"shared\",\"eqtl_only\",\"eqtl_only\",\"eqtl_only\",\"shared\",\"shared\",\"shared\",\"shared\",\"pcqtl_only\",\"shared\",\"shared\",\"shared\",\"eqtl_only\",\"eqtl_only\",\"eqtl_only\",\"eqtl_only\",\"pcqtl_only\",\"eqtl_only\",\"eqtl_only\",\"eqtl_only\",\"pcqtl_only\",\"eqtl_only\",\"eqtl_only\",\"eqtl_only\",\"pcqtl_only\",\"eqtl_only\",\"eqtl_only\"]},{\"categoryorder\":\"category ascending\",\"label\":\"200 sample\",\"values\":[\"shared\",\"shared\",\"shared\",\"pcqtl_only\",\"pcqtl_only\",\"pcqtl_only\",\"shared\",\"shared\",\"shared\",\"shared\",\"shared\",\"neither\",\"neither\",\"neither\",\"neither\",\"neither\",\"neither\",\"neither\",\"neither\",\"neither\",\"neither\",\"neither\",\"neither\",\"neither\",\"neither\",\"neither\",\"neither\",\"neither\",\"neither\"]},{\"categoryorder\":\"category ascending\",\"label\":\"300 sample\",\"values\":[\"shared\",\"shared\",\"shared\",\"pcqtl_only\",\"pcqtl_only\",\"pcqtl_only\",\"shared\",\"shared\",\"shared\",\"shared\",\"shared\",\"neither\",\"neither\",\"neither\",\"neither\",\"neither\",\"neither\",\"neither\",\"neither\",\"neither\",\"neither\",\"neither\",\"neither\",\"neither\",\"neither\",\"neither\",\"neither\",\"neither\",\"neither\"]},{\"categoryorder\":\"category ascending\",\"label\":\"300 sample\",\"values\":[\"shared\",\"shared\",\"shared\",\"pcqtl_only\",\"pcqtl_only\",\"pcqtl_only\",\"shared\",\"shared\",\"shared\",\"shared\",\"shared\",\"neither\",\"neither\",\"neither\",\"neither\",\"neither\",\"neither\",\"neither\",\"neither\",\"neither\",\"neither\",\"neither\",\"neither\",\"neither\",\"neither\",\"neither\",\"neither\",\"neither\",\"neither\"]}],\"hoverinfo\":\"count+probability\",\"hoveron\":\"color\",\"line\":{\"color\":[\"#734675\",\"#734675\",\"#734675\",\"#67AFD2\",\"#67AFD2\",\"#67AFD2\",\"#734675\",\"#734675\",\"#734675\",\"#734675\",\"#B83A4B\",\"#734675\",\"#734675\",\"#734675\",\"#67AFD2\",\"#67AFD2\",\"#67AFD2\",\"#67AFD2\",\"#B83A4B\",\"#67AFD2\",\"#67AFD2\",\"#67AFD2\",\"#B83A4B\",\"#67AFD2\",\"#67AFD2\",\"#67AFD2\",\"#B83A4B\",\"#67AFD2\",\"#67AFD2\"]},\"type\":\"parcats\"}],                        {\"template\":{\"data\":{\"histogram2dcontour\":[{\"type\":\"histogram2dcontour\",\"colorbar\":{\"outlinewidth\":0,\"ticks\":\"\"},\"colorscale\":[[0.0,\"#0d0887\"],[0.1111111111111111,\"#46039f\"],[0.2222222222222222,\"#7201a8\"],[0.3333333333333333,\"#9c179e\"],[0.4444444444444444,\"#bd3786\"],[0.5555555555555556,\"#d8576b\"],[0.6666666666666666,\"#ed7953\"],[0.7777777777777778,\"#fb9f3a\"],[0.8888888888888888,\"#fdca26\"],[1.0,\"#f0f921\"]]}],\"choropleth\":[{\"type\":\"choropleth\",\"colorbar\":{\"outlinewidth\":0,\"ticks\":\"\"}}],\"histogram2d\":[{\"type\":\"histogram2d\",\"colorbar\":{\"outlinewidth\":0,\"ticks\":\"\"},\"colorscale\":[[0.0,\"#0d0887\"],[0.1111111111111111,\"#46039f\"],[0.2222222222222222,\"#7201a8\"],[0.3333333333333333,\"#9c179e\"],[0.4444444444444444,\"#bd3786\"],[0.5555555555555556,\"#d8576b\"],[0.6666666666666666,\"#ed7953\"],[0.7777777777777778,\"#fb9f3a\"],[0.8888888888888888,\"#fdca26\"],[1.0,\"#f0f921\"]]}],\"heatmap\":[{\"type\":\"heatmap\",\"colorbar\":{\"outlinewidth\":0,\"ticks\":\"\"},\"colorscale\":[[0.0,\"#0d0887\"],[0.1111111111111111,\"#46039f\"],[0.2222222222222222,\"#7201a8\"],[0.3333333333333333,\"#9c179e\"],[0.4444444444444444,\"#bd3786\"],[0.5555555555555556,\"#d8576b\"],[0.6666666666666666,\"#ed7953\"],[0.7777777777777778,\"#fb9f3a\"],[0.8888888888888888,\"#fdca26\"],[1.0,\"#f0f921\"]]}],\"heatmapgl\":[{\"type\":\"heatmapgl\",\"colorbar\":{\"outlinewidth\":0,\"ticks\":\"\"},\"colorscale\":[[0.0,\"#0d0887\"],[0.1111111111111111,\"#46039f\"],[0.2222222222222222,\"#7201a8\"],[0.3333333333333333,\"#9c179e\"],[0.4444444444444444,\"#bd3786\"],[0.5555555555555556,\"#d8576b\"],[0.6666666666666666,\"#ed7953\"],[0.7777777777777778,\"#fb9f3a\"],[0.8888888888888888,\"#fdca26\"],[1.0,\"#f0f921\"]]}],\"contourcarpet\":[{\"type\":\"contourcarpet\",\"colorbar\":{\"outlinewidth\":0,\"ticks\":\"\"}}],\"contour\":[{\"type\":\"contour\",\"colorbar\":{\"outlinewidth\":0,\"ticks\":\"\"},\"colorscale\":[[0.0,\"#0d0887\"],[0.1111111111111111,\"#46039f\"],[0.2222222222222222,\"#7201a8\"],[0.3333333333333333,\"#9c179e\"],[0.4444444444444444,\"#bd3786\"],[0.5555555555555556,\"#d8576b\"],[0.6666666666666666,\"#ed7953\"],[0.7777777777777778,\"#fb9f3a\"],[0.8888888888888888,\"#fdca26\"],[1.0,\"#f0f921\"]]}],\"surface\":[{\"type\":\"surface\",\"colorbar\":{\"outlinewidth\":0,\"ticks\":\"\"},\"colorscale\":[[0.0,\"#0d0887\"],[0.1111111111111111,\"#46039f\"],[0.2222222222222222,\"#7201a8\"],[0.3333333333333333,\"#9c179e\"],[0.4444444444444444,\"#bd3786\"],[0.5555555555555556,\"#d8576b\"],[0.6666666666666666,\"#ed7953\"],[0.7777777777777778,\"#fb9f3a\"],[0.8888888888888888,\"#fdca26\"],[1.0,\"#f0f921\"]]}],\"mesh3d\":[{\"type\":\"mesh3d\",\"colorbar\":{\"outlinewidth\":0,\"ticks\":\"\"}}],\"scatter\":[{\"fillpattern\":{\"fillmode\":\"overlay\",\"size\":10,\"solidity\":0.2},\"type\":\"scatter\"}],\"parcoords\":[{\"type\":\"parcoords\",\"line\":{\"colorbar\":{\"outlinewidth\":0,\"ticks\":\"\"}}}],\"scatterpolargl\":[{\"type\":\"scatterpolargl\",\"marker\":{\"colorbar\":{\"outlinewidth\":0,\"ticks\":\"\"}}}],\"bar\":[{\"error_x\":{\"color\":\"#2a3f5f\"},\"error_y\":{\"color\":\"#2a3f5f\"},\"marker\":{\"line\":{\"color\":\"#E5ECF6\",\"width\":0.5},\"pattern\":{\"fillmode\":\"overlay\",\"size\":10,\"solidity\":0.2}},\"type\":\"bar\"}],\"scattergeo\":[{\"type\":\"scattergeo\",\"marker\":{\"colorbar\":{\"outlinewidth\":0,\"ticks\":\"\"}}}],\"scatterpolar\":[{\"type\":\"scatterpolar\",\"marker\":{\"colorbar\":{\"outlinewidth\":0,\"ticks\":\"\"}}}],\"histogram\":[{\"marker\":{\"pattern\":{\"fillmode\":\"overlay\",\"size\":10,\"solidity\":0.2}},\"type\":\"histogram\"}],\"scattergl\":[{\"type\":\"scattergl\",\"marker\":{\"colorbar\":{\"outlinewidth\":0,\"ticks\":\"\"}}}],\"scatter3d\":[{\"type\":\"scatter3d\",\"line\":{\"colorbar\":{\"outlinewidth\":0,\"ticks\":\"\"}},\"marker\":{\"colorbar\":{\"outlinewidth\":0,\"ticks\":\"\"}}}],\"scattermapbox\":[{\"type\":\"scattermapbox\",\"marker\":{\"colorbar\":{\"outlinewidth\":0,\"ticks\":\"\"}}}],\"scatterternary\":[{\"type\":\"scatterternary\",\"marker\":{\"colorbar\":{\"outlinewidth\":0,\"ticks\":\"\"}}}],\"scattercarpet\":[{\"type\":\"scattercarpet\",\"marker\":{\"colorbar\":{\"outlinewidth\":0,\"ticks\":\"\"}}}],\"carpet\":[{\"aaxis\":{\"endlinecolor\":\"#2a3f5f\",\"gridcolor\":\"white\",\"linecolor\":\"white\",\"minorgridcolor\":\"white\",\"startlinecolor\":\"#2a3f5f\"},\"baxis\":{\"endlinecolor\":\"#2a3f5f\",\"gridcolor\":\"white\",\"linecolor\":\"white\",\"minorgridcolor\":\"white\",\"startlinecolor\":\"#2a3f5f\"},\"type\":\"carpet\"}],\"table\":[{\"cells\":{\"fill\":{\"color\":\"#EBF0F8\"},\"line\":{\"color\":\"white\"}},\"header\":{\"fill\":{\"color\":\"#C8D4E3\"},\"line\":{\"color\":\"white\"}},\"type\":\"table\"}],\"barpolar\":[{\"marker\":{\"line\":{\"color\":\"#E5ECF6\",\"width\":0.5},\"pattern\":{\"fillmode\":\"overlay\",\"size\":10,\"solidity\":0.2}},\"type\":\"barpolar\"}],\"pie\":[{\"automargin\":true,\"type\":\"pie\"}]},\"layout\":{\"autotypenumbers\":\"strict\",\"colorway\":[\"#636efa\",\"#EF553B\",\"#00cc96\",\"#ab63fa\",\"#FFA15A\",\"#19d3f3\",\"#FF6692\",\"#B6E880\",\"#FF97FF\",\"#FECB52\"],\"font\":{\"color\":\"#2a3f5f\"},\"hovermode\":\"closest\",\"hoverlabel\":{\"align\":\"left\"},\"paper_bgcolor\":\"white\",\"plot_bgcolor\":\"#E5ECF6\",\"polar\":{\"bgcolor\":\"#E5ECF6\",\"angularaxis\":{\"gridcolor\":\"white\",\"linecolor\":\"white\",\"ticks\":\"\"},\"radialaxis\":{\"gridcolor\":\"white\",\"linecolor\":\"white\",\"ticks\":\"\"}},\"ternary\":{\"bgcolor\":\"#E5ECF6\",\"aaxis\":{\"gridcolor\":\"white\",\"linecolor\":\"white\",\"ticks\":\"\"},\"baxis\":{\"gridcolor\":\"white\",\"linecolor\":\"white\",\"ticks\":\"\"},\"caxis\":{\"gridcolor\":\"white\",\"linecolor\":\"white\",\"ticks\":\"\"}},\"coloraxis\":{\"colorbar\":{\"outlinewidth\":0,\"ticks\":\"\"}},\"colorscale\":{\"sequential\":[[0.0,\"#0d0887\"],[0.1111111111111111,\"#46039f\"],[0.2222222222222222,\"#7201a8\"],[0.3333333333333333,\"#9c179e\"],[0.4444444444444444,\"#bd3786\"],[0.5555555555555556,\"#d8576b\"],[0.6666666666666666,\"#ed7953\"],[0.7777777777777778,\"#fb9f3a\"],[0.8888888888888888,\"#fdca26\"],[1.0,\"#f0f921\"]],\"sequentialminus\":[[0.0,\"#0d0887\"],[0.1111111111111111,\"#46039f\"],[0.2222222222222222,\"#7201a8\"],[0.3333333333333333,\"#9c179e\"],[0.4444444444444444,\"#bd3786\"],[0.5555555555555556,\"#d8576b\"],[0.6666666666666666,\"#ed7953\"],[0.7777777777777778,\"#fb9f3a\"],[0.8888888888888888,\"#fdca26\"],[1.0,\"#f0f921\"]],\"diverging\":[[0,\"#8e0152\"],[0.1,\"#c51b7d\"],[0.2,\"#de77ae\"],[0.3,\"#f1b6da\"],[0.4,\"#fde0ef\"],[0.5,\"#f7f7f7\"],[0.6,\"#e6f5d0\"],[0.7,\"#b8e186\"],[0.8,\"#7fbc41\"],[0.9,\"#4d9221\"],[1,\"#276419\"]]},\"xaxis\":{\"gridcolor\":\"white\",\"linecolor\":\"white\",\"ticks\":\"\",\"title\":{\"standoff\":15},\"zerolinecolor\":\"white\",\"automargin\":true,\"zerolinewidth\":2},\"yaxis\":{\"gridcolor\":\"white\",\"linecolor\":\"white\",\"ticks\":\"\",\"title\":{\"standoff\":15},\"zerolinecolor\":\"white\",\"automargin\":true,\"zerolinewidth\":2},\"scene\":{\"xaxis\":{\"backgroundcolor\":\"#E5ECF6\",\"gridcolor\":\"white\",\"linecolor\":\"white\",\"showbackground\":true,\"ticks\":\"\",\"zerolinecolor\":\"white\",\"gridwidth\":2},\"yaxis\":{\"backgroundcolor\":\"#E5ECF6\",\"gridcolor\":\"white\",\"linecolor\":\"white\",\"showbackground\":true,\"ticks\":\"\",\"zerolinecolor\":\"white\",\"gridwidth\":2},\"zaxis\":{\"backgroundcolor\":\"#E5ECF6\",\"gridcolor\":\"white\",\"linecolor\":\"white\",\"showbackground\":true,\"ticks\":\"\",\"zerolinecolor\":\"white\",\"gridwidth\":2}},\"shapedefaults\":{\"line\":{\"color\":\"#2a3f5f\"}},\"annotationdefaults\":{\"arrowcolor\":\"#2a3f5f\",\"arrowhead\":0,\"arrowwidth\":1},\"geo\":{\"bgcolor\":\"white\",\"landcolor\":\"#E5ECF6\",\"subunitcolor\":\"white\",\"showland\":true,\"showlakes\":true,\"lakecolor\":\"white\"},\"title\":{\"x\":0.05},\"mapbox\":{\"style\":\"light\"}}}},                        {\"responsive\": true}                    ).then(function(){\n",
       "                            \n",
       "var gd = document.getElementById('fc5a4bfa-85a6-4b24-84c9-4e114edf1def');\n",
       "var x = new MutationObserver(function (mutations, observer) {{\n",
       "        var display = window.getComputedStyle(gd).display;\n",
       "        if (!display || display === 'none') {{\n",
       "            console.log([gd, 'removed!']);\n",
       "            Plotly.purge(gd);\n",
       "            observer.disconnect();\n",
       "        }}\n",
       "}});\n",
       "\n",
       "// Listen for the removal of the full notebook cells\n",
       "var notebookContainer = gd.closest('#notebook-container');\n",
       "if (notebookContainer) {{\n",
       "    x.observe(notebookContainer, {childList: true});\n",
       "}}\n",
       "\n",
       "// Listen for the clearing of the current output cell\n",
       "var outputEl = gd.closest('.output');\n",
       "if (outputEl) {{\n",
       "    x.observe(outputEl, {childList: true});\n",
       "}}\n",
       "\n",
       "                        })                };                });            </script>        </div>"
      ]
     },
     "metadata": {},
     "output_type": "display_data"
    }
   ],
   "source": [
    "# make a flow diagram\n",
    "\n",
    "import plotly.graph_objects as go\n",
    "\n",
    "# Create dimensions\n",
    "dim_sub = go.parcats.Dimension(\n",
    "    values=combined_annotated_signals.exclusive_label_sub,\n",
    "    categoryorder='category ascending', label=\"100 sample\"\n",
    ")\n",
    "\n",
    "dim_200 = go.parcats.Dimension(\n",
    "    values=combined_annotated_signals.exclusive_label_full_200,\n",
    "    categoryorder='category ascending', label=\"200 sample\"\n",
    ")\n",
    "\n",
    "dim_300 = go.parcats.Dimension(\n",
    "    values=combined_annotated_signals.exclusive_label_full_300,\n",
    "    categoryorder='category ascending', label=\"300 sample\"\n",
    ")\n",
    "\n",
    "dim_full = go.parcats.Dimension(\n",
    "    values=combined_annotated_signals.exclusive_label_full,\n",
    "    categoryorder='category ascending', label=\"{} sample\".format(final_sample_size)\n",
    ")\n",
    "\n",
    "# colors based on orig group\n",
    "color_map = {'pcqtl_only':'#B83A4B', 'eqtl_only':'#67AFD2', 'shared':'#734675'}\n",
    "color = [color_map[label] for label in combined_annotated_signals.exclusive_label_sub]\n",
    "\n",
    "\n",
    "fig = go.Figure(data = [go.Parcats(dimensions=[dim_sub, dim_200, dim_300, dim_full],\n",
    "        line={'color': color},\n",
    "        hoveron='color', hoverinfo='count+probability',\n",
    "        arrangement='freeform')])\n",
    "\n",
    "fig.show()\n",
    "\n"
   ]
  },
  {
   "cell_type": "code",
   "execution_count": null,
   "metadata": {},
   "outputs": [],
   "source": []
  },
  {
   "cell_type": "code",
   "execution_count": null,
   "metadata": {},
   "outputs": [],
   "source": []
  }
 ],
 "metadata": {
  "kernelspec": {
   "display_name": "Python 3 (ipykernel)",
   "language": "python",
   "name": "python3"
  },
  "language_info": {
   "codemirror_mode": {
    "name": "ipython",
    "version": 3
   },
   "file_extension": ".py",
   "mimetype": "text/x-python",
   "name": "python",
   "nbconvert_exporter": "python",
   "pygments_lexer": "ipython3",
   "version": "3.8.18"
  }
 },
 "nbformat": 4,
 "nbformat_minor": 2
}
