{
 "cells": [
  {
   "cell_type": "markdown",
   "metadata": {},
   "source": [
    "## Subsampling analysis\n",
    "\n",
    "subsample the number of inidvidualas/RNA-seq datasets and look at how number of signals changes"
   ]
  },
  {
   "cell_type": "code",
   "execution_count": 2,
   "metadata": {},
   "outputs": [
    {
     "name": "stdout",
     "output_type": "stream",
     "text": [
      "The rpy2.ipython extension is already loaded. To reload it, use:\n",
      "  %reload_ext rpy2.ipython\n"
     ]
    }
   ],
   "source": [
    "import pandas as pd\n",
    "import numpy as np\n",
    "import os\n",
    "import yaml\n",
    "import seaborn as sns\n",
    "import matplotlib.pyplot as plt\n",
    "import ast\n",
    "\n",
    "import upsetplot as up\n",
    "from tqdm.auto import tqdm  # for notebooks\n",
    "tqdm.pandas()\n",
    "\n",
    "# load R for some R cells\n",
    "%load_ext rpy2.ipython\n",
    "\n",
    "\n",
    "prefix = '/home/klawren/oak/pcqtls'\n",
    "\n",
    "import sys\n",
    "sys.path.append('/home/klawren/oak/pcqtls/workflow/scripts')\n",
    "from notebook_helper_functions import *"
   ]
  },
  {
   "cell_type": "markdown",
   "metadata": {},
   "source": [
    "I then run snakemake on each sumsample made with 'make_subsamples.ipynb' to get QTLs with config files in config/subsampling/\n",
    "\n",
    "\n",
    "this next analysis assumes results in those folders"
   ]
  },
  {
   "cell_type": "code",
   "execution_count": 3,
   "metadata": {},
   "outputs": [],
   "source": [
    "subsample_output_folder = f'{prefix}/config/subsampling'"
   ]
  },
  {
   "cell_type": "markdown",
   "metadata": {},
   "source": [
    "### configs across subsamples"
   ]
  },
  {
   "cell_type": "code",
   "execution_count": 4,
   "metadata": {},
   "outputs": [],
   "source": [
    "# load in the configs for each \n",
    "\n",
    "subsample_nums = [100,200,300]\n",
    "\n",
    "sub_configs = {}\n",
    "for num_samples in subsample_nums:\n",
    "    config_path= f'{subsample_output_folder}/{num_samples}_subsample.yaml'\n",
    "    with open(config_path, 'r') as f:\n",
    "        config = yaml.safe_load(f)\n",
    "        sub_configs[num_samples] = config\n",
    "\n",
    "main_config_path= f'{prefix}/config/proteincoding_main.yaml'\n",
    "with open(main_config_path, 'r') as f:\n",
    "    final_output_config = yaml.safe_load(f)\n",
    "\n",
    "\n",
    "tissue_ids = load_tissue_ids(final_output_config)\n",
    "tissue_df = load_tissue_df(final_output_config)\n",
    "tissue_pal = sns.color_palette('blend:#B83A4B,#FEC51D,#67AFD2', n_colors=len(tissue_ids))\n",
    "\n",
    "\n",
    "my_tissue_id = tissue_ids[3]"
   ]
  },
  {
   "cell_type": "markdown",
   "metadata": {},
   "source": [
    "## number of singals of each group across sample sizes"
   ]
  },
  {
   "cell_type": "code",
   "execution_count": 5,
   "metadata": {},
   "outputs": [],
   "source": [
    "sample_sizes = pd.read_csv(final_output_config['gtex_meta'], sep='\\t')"
   ]
  },
  {
   "cell_type": "code",
   "execution_count": 6,
   "metadata": {},
   "outputs": [
    {
     "name": "stdout",
     "output_type": "stream",
     "text": [
      "/home/klawren/oak/pcqtls/output/subsampling_constant_clusters/100/coloc//pairs/Cells_Cultured_fibroblasts.v8.pairs_coloc.chr18.txt is empty\n"
     ]
    }
   ],
   "source": [
    "sub_signals = {}\n",
    "for i in subsample_nums:\n",
    "    sub_signals[i] = load_signal_groups(sub_configs[i], my_tissue_id)\n",
    "\n",
    "\n",
    "final_sample_size = sample_sizes[sample_sizes['tissue_id']==my_tissue_id]['sample_size'].values[0]\n",
    "sub_signals[final_sample_size] = load_signal_groups(final_output_config, my_tissue_id)\n",
    "\n",
    "sub_signals = pd.concat(sub_signals, names=['num_samples', 'idx']).reset_index()\n",
    "sub_signals['exclusive_label'] = np.where((sub_signals['num_e_coloc'] > 0), np.where((sub_signals['num_pc_coloc'] > 0), 'shared', 'eqtl_only'), 'pcqtl_only')"
   ]
  },
  {
   "cell_type": "code",
   "execution_count": 8,
   "metadata": {},
   "outputs": [
    {
     "data": {
      "text/plain": [
       "<AxesSubplot: xlabel='num_samples', ylabel='Count'>"
      ]
     },
     "execution_count": 8,
     "metadata": {},
     "output_type": "execute_result"
    },
    {
     "data": {
      "image/png": "[encoded data removed]",
      "text/plain": [
       "<Figure size 640x480 with 1 Axes>"
      ]
     },
     "metadata": {},
     "output_type": "display_data"
    }
   ],
   "source": [
    "sns.histplot(sub_signals, x='num_samples', hue='exclusive_label', multiple='stack')"
   ]
  },
  {
   "cell_type": "markdown",
   "metadata": {},
   "source": [
    "## coloc unique pcqtl signals in subsamples to eqtl signals with more samples"
   ]
  },
  {
   "cell_type": "code",
   "execution_count": 9,
   "metadata": {},
   "outputs": [],
   "source": [
    "def get_lead_var_shared(sub_groups, full_groups):\n",
    "\n",
    "    # if any share a lead variant, we assume those are the same signal and don't need to do a full coloc\n",
    "\n",
    "    potential_lead_var_shared = pd.merge(sub_groups, full_groups, on=['cluster_id', 'tissue_id'], suffixes=['_sub', '_full'])\n",
    "    potential_lead_var_shared = potential_lead_var_shared.explode('lead_var_set_full').explode('lead_var_set_sub')\n",
    "    # take only the ones that share lead variants\n",
    "    lead_var_shared = potential_lead_var_shared[potential_lead_var_shared['lead_var_set_full']==potential_lead_var_shared['lead_var_set_sub']]\n",
    "    # drop duplicates, so only unique sub-full combinations\n",
    "    lead_var_shared = lead_var_shared.drop_duplicates(['signal_id_full', 'signal_id_sub', 'cluster_id', 'tissue_id'])\n",
    "\n",
    "    # group around sub singal sets\n",
    "    lead_var_shared = lead_var_shared.groupby(['signal_id_sub', 'cluster_id', 'tissue_id']).agg({'signal_id_full':list, \n",
    "                                                                                                'num_e_coloc_sub':'first', \n",
    "                                                                                                'num_pc_coloc_sub':'first',\n",
    "                                                                                                'num_e_coloc_full':'sum',\n",
    "                                                                                                'num_pc_coloc_full':'sum'}).reset_index()\n",
    "\n",
    "    print('{} small sample share a lead var with a large sample'.format(lead_var_shared['signal_id_sub'].nunique()))\n",
    "    return lead_var_shared\n",
    "\n",
    "def get_coloc_subsample(sub_config, sub_groups, full_config, full_groups, lead_var_shared):\n",
    "\n",
    "    # get the sub credible sets that didn't have a shared lead var\n",
    "    remaining_sub_groups = sub_groups[~sub_groups['signal_id'].isin(lead_var_shared['signal_id_sub'])]\n",
    "\n",
    "    # these don't have matching lead variant annotaitons, not sure why?\n",
    "    # it appears to be all the longer clusters\n",
    "    # filter out larger clusters and see if any are still unmatched\n",
    "\n",
    "    remaining_sub_groups = remaining_sub_groups[remaining_sub_groups['cluster_id'].apply(len)<150]\n",
    "    print(\"{} of the small sample signals don't share a lead var, will need to be colocd\".format(len(remaining_sub_groups)))\n",
    "\n",
    "\n",
    "    # for the remaining ones, do a full coloc \n",
    "    full_groups['cs_id'] = full_groups['signal_id'].str.split('-')\n",
    "    full_groups = full_groups.explode('cs_id')\n",
    "    remaining_sub_groups['cs_id'] = remaining_sub_groups['signal_id'].str.split('-')\n",
    "    remaining_sub_groups = remaining_sub_groups.explode('cs_id')\n",
    "\n",
    "    groups_merged = pd.merge(remaining_sub_groups, full_groups, on=['cluster_id', 'tissue_id'], suffixes=['_sub', '_full'] )\n",
    "\n",
    "    # add the paths for the susies\n",
    "    def get_susie_path(phenotype_id, config, tissue_id):\n",
    "        if len(phenotype_id) > 150:\n",
    "            # Split the long QTL ID by underscores\n",
    "            long_qtl_id_split = phenotype_id.split(\"_\")\n",
    "            phenotype_id = \"_\".join(long_qtl_id_split[-5:])\n",
    "        return '{}/{}temp/{}/{}.susie.rds'.format(prefix, config['coloc_output_dir'], tissue_id, phenotype_id)\n",
    "\n",
    "    groups_merged['susie_path_full'] = groups_merged['cs_id_full'].str.split('_cs').str[0].apply(get_susie_path, args=(full_config, my_tissue_id))\n",
    "    groups_merged['susie_path_sub'] = groups_merged['cs_id_sub'].str.split('_cs').str[0].apply(get_susie_path, args=(sub_config, my_tissue_id))\n",
    "\n",
    "    # add credible set index labels\n",
    "    groups_merged['cs_num_sub'] = groups_merged['cs_id_sub'].str.split('_cs_').str[-1]\n",
    "    groups_merged['cs_num_full'] = groups_merged['cs_id_full'].str.split('_cs_').str[-1]\n",
    "\n",
    "    # # do you really need to colocalize between every pair of singals in an already coloc'd group?\n",
    "    # # try with just 1 singal from each instead\n",
    "    groups_merged_pruned = groups_merged.drop_duplicates(['signal_id_sub', 'signal_id_full', 'tissue_id'])\n",
    "    groups_merged_pruned['pph4']=0\n",
    "    print('{} colocs if we do every combination'.format(len(groups_merged)))\n",
    "    print('{} colocs if we do 1 credible set per signal group'.format(len(groups_merged_pruned)))\n",
    "\n",
    "    return groups_merged_pruned\n",
    "\n",
    "# combine the shared lead var, coloc'd, and unique signals\n",
    "def combine_signals(sub_groups, lead_var_shared, groups_merged_pruned):\n",
    "\n",
    "    # regrouping is necessary if you don't first prune the signals \n",
    "    groups_merged_pruned = groups_merged_pruned.groupby(['signal_id_sub', 'signal_id_full', 'cluster_id', 'tissue_id']).agg({'num_e_coloc_sub':'first', \n",
    "                                                                                                    'num_pc_coloc_sub':'first',\n",
    "                                                                                                    'num_e_coloc_full':'first',\n",
    "                                                                                                    'num_pc_coloc_full':'first',\n",
    "                                                                                                    'pph4':'max'}).reset_index()\n",
    "\n",
    "    # take only the coloc signals\n",
    "    groups_colocd = groups_merged_pruned[groups_merged_pruned['pph4'] > .75]\n",
    "    print('{} subsignals had a signifigant coloc'.format(groups_colocd['signal_id_sub'].nunique()))\n",
    "    groups_colocd = groups_colocd.groupby(['signal_id_sub', 'cluster_id', 'tissue_id']).agg({'num_pc_coloc_sub':'first', \n",
    "                                                                                    'num_e_coloc_sub':'first', \n",
    "                                                                                    'num_e_coloc_full':'sum',\n",
    "                                                                                    'num_pc_coloc_full':'sum', \n",
    "                                                                                    'pph4':list, \n",
    "                                                                                    'signal_id_full':list}).reset_index()\n",
    "\n",
    "    shared_signals = pd.concat([lead_var_shared, groups_colocd])\n",
    "\n",
    "    # merge back in all the groups\n",
    "    groups_no_colocd = sub_groups[~sub_groups['signal_id'].isin(shared_signals['signal_id_sub'])]\n",
    "    groups_no_colocd['num_e_coloc_full'] = 0\n",
    "    groups_no_colocd['num_pc_coloc_full'] = 0\n",
    "    groups_no_colocd['num_e_coloc_sub'] = groups_no_colocd['num_e_coloc']\n",
    "    groups_no_colocd['num_pc_coloc_sub'] = groups_no_colocd['num_pc_coloc']\n",
    "    groups_no_colocd['signal_id_sub'] = groups_no_colocd['signal_id']\n",
    "\n",
    "    print('{} signals non overlapping'.format(groups_no_colocd['signal_id'].nunique()))\n",
    "\n",
    "\n",
    "    coloc_annotated_signals = pd.concat([shared_signals, groups_no_colocd[['signal_id_sub', 'num_e_coloc_full', 'num_pc_coloc_full', 'num_e_coloc_sub', 'num_pc_coloc_sub', 'cluster_id', 'tissue_id']]])\n",
    "    print('{} signals had a coloc or shared lead var'.format(coloc_annotated_signals['signal_id_sub'].nunique()))\n",
    "\n",
    "    # TODO (fix this/remove this) filter out the large clusters (an bug in the code for these)\n",
    "    coloc_annotated_signals = coloc_annotated_signals[coloc_annotated_signals['cluster_id'].apply(len)<150]\n",
    "\n",
    "    coloc_annotated_signals['exclusive_label_full'] = np.where((coloc_annotated_signals['num_e_coloc_full'] > 0), np.where((coloc_annotated_signals['num_pc_coloc_full'] > 0), 'shared', 'eqtl_only'), np.where((coloc_annotated_signals['num_pc_coloc_full'] > 0), 'pcqtl_only', 'neither'))\n",
    "    coloc_annotated_signals['exclusive_label_sub'] = np.where((coloc_annotated_signals['num_e_coloc_sub'] > 0), np.where((coloc_annotated_signals['num_pc_coloc_sub'] > 0), 'shared', 'eqtl_only'), np.where((coloc_annotated_signals['num_pc_coloc_sub'] > 0), 'pcqtl_only', 'neither'))\n",
    "    return coloc_annotated_signals"
   ]
  },
  {
   "cell_type": "code",
   "execution_count": 14,
   "metadata": {},
   "outputs": [
    {
     "data": {
      "text/plain": [
       "This is coloc version 5.2.3\n"
      ]
     },
     "metadata": {},
     "output_type": "display_data"
    }
   ],
   "source": [
    "%%R -w 3 -h 5 --units in -r 200 \n",
    "library(coloc)\n",
    "\n",
    "get_coloc_from_df <- function(groups_merged_pruned){\n",
    "    # Initialize values\n",
    "    pph4_values <- numeric(nrow(groups_merged_pruned))\n",
    "    skipped_files <- 0  # Counter for skipped files\n",
    "\n",
    "    # Initialize progress bar\n",
    "    pb <- txtProgressBar(min = 0, max = nrow(groups_merged_pruned), style = 3)\n",
    "\n",
    "    # Loop over each row to get the PP.H4.abf value\n",
    "    for (i in 1:nrow(groups_merged_pruned)) {\n",
    "        tryCatch({\n",
    "            susie_sub <- readRDS(file = groups_merged_pruned$susie_path_sub[i])\n",
    "            susie_full <- readRDS(file = groups_merged_pruned$susie_path_full[i])\n",
    "            # extract the value of PP.H4.abf that matches the credible set ids for this signal pair\n",
    "            coloc_summary <- coloc.susie(susie_sub, susie_full)$summary\n",
    "            matched_row <- coloc_summary[coloc_summary$idx1 == groups_merged_pruned$cs_num_sub[i] & coloc_summary$idx2 == groups_merged_pruned$cs_num_full[i], ]\n",
    "            pph4_values[i] <- matched_row$PP.H4.abf[1]\n",
    "        }, error = function(e) {\n",
    "            # If an error occurs (e.g., file not found), assign 0 and increment the skipped file counter\n",
    "            pph4_values[i] <- 0\n",
    "            skipped_files <<- skipped_files + 1\n",
    "            message(paste(\"Skipped file at index:\", i, \"due to error:\", e$message))\n",
    "        })\n",
    "        \n",
    "        # Update the progress bar\n",
    "        setTxtProgressBar(pb, i)\n",
    "    }\n",
    "\n",
    "    # Close the progress bar\n",
    "    close(pb)\n",
    "\n",
    "    # Store the results back into the groups_merged_pruned dataframe\n",
    "    groups_merged_pruned$pph4 <- pph4_values\n",
    "\n",
    "    # Print the number of skipped files\n",
    "    print(paste(\"Total skipped files:\", skipped_files))\n",
    "    return(groups_merged_pruned)\n",
    "}"
   ]
  },
  {
   "cell_type": "code",
   "execution_count": 19,
   "metadata": {},
   "outputs": [
    {
     "name": "stdout",
     "output_type": "stream",
     "text": [
      "List of 20\n",
      " $ alpha                 : num [1:10, 1:5633] 1.36e-33 6.59e-05 1.78e-04 1.78e-04 1.78e-04 ...\n",
      "  ..- attr(*, \"dimnames\")=List of 2\n",
      "  .. ..$ : NULL\n",
      "  .. ..$ : chr [1:5633] \"chr1_152628280_C_T_b38\" \"chr1_152628378_G_T_b38\" \"chr1_152628442_C_T_b38\" \"chr1_152628471_G_A_b38\" ...\n",
      " $ mu                    : num [1:10, 1:5633] -0.0188 -0.0221 0 0 0 ...\n",
      "  ..- attr(*, \"dimnames\")=List of 2\n",
      "  .. ..$ : NULL\n",
      "  .. ..$ : chr [1:5633] \"chr1_152628280_C_T_b38\" \"chr1_152628378_G_T_b38\" \"chr1_152628442_C_T_b38\" \"chr1_152628471_G_A_b38\" ...\n",
      " $ mu2                   : num [1:10, 1:5633] 0.00242 0.00229 0 0 0 ...\n",
      "  ..- attr(*, \"dimnames\")=List of 2\n",
      "  .. ..$ : NULL\n",
      "  .. ..$ : chr [1:5633] \"chr1_152628280_C_T_b38\" \"chr1_152628378_G_T_b38\" \"chr1_152628442_C_T_b38\" \"chr1_152628471_G_A_b38\" ...\n",
      " $ KL                    : num [1:10] 9.74 3.21 1.11e-16 1.11e-16 1.11e-16 ...\n",
      " $ lbf                   : num [1:10] 6.46e+01 1.10e-01 -1.11e-16 -1.11e-16 -1.11e-16 ...\n",
      " $ lbf_variable          : num [1:10, 1:5633] -2.418 -0.881 0 0 0 ...\n",
      "  ..- attr(*, \"dimnames\")=List of 2\n",
      "  .. ..$ : NULL\n",
      "  .. ..$ : chr [1:5633] \"chr1_152628280_C_T_b38\" \"chr1_152628378_G_T_b38\" \"chr1_152628442_C_T_b38\" \"chr1_152628471_G_A_b38\" ...\n",
      " $ sigma2                : num 1\n",
      " $ V                     : num [1:10] 0.3085 0.0138 0 0 0 ...\n",
      " $ pi                    : num [1:5633] 0.000178 0.000178 0.000178 0.000178 0.000178 ...\n",
      " $ null_index            : num 0\n",
      " $ XtXr                  : num [1:5633, 1] 2.12 5.8 -6.44 2.12 -16.13 ...\n",
      " $ converged             : logi TRUE\n",
      " $ elbo                  : num [1:3] -621 -621 -621\n",
      " $ niter                 : int 3\n",
      " $ X_column_scale_factors: Named num [1:5633] 1 1 1 1 1 1 1 1 1 1 ...\n",
      "  ..- attr(*, \"names\")= chr [1:5633] \"chr1_152628280_C_T_b38\" \"chr1_152628378_G_T_b38\" \"chr1_152628442_C_T_b38\" \"chr1_152628471_G_A_b38\" ...\n",
      " $ intercept             : num NA\n",
      " $ sets                  :List of 5\n",
      "  ..$ cs                :List of 1\n",
      "  .. ..$ L1: Named int [1:7] 3406 3410 3412 3415 3417 3438 3444\n",
      "  .. .. ..- attr(*, \"names\")= chr [1:7] \"chr1_153614832_C_T_b38\" \"chr1_153615864_C_T_b38\" \"chr1_153617113_G_C_b38\" \"chr1_153619294_T_C_b38\" ...\n",
      "  ..$ purity            :'data.frame':\t1 obs. of  3 variables:\n",
      "  .. ..$ min.abs.corr   : num 0.965\n",
      "  .. ..$ mean.abs.corr  : num 0.984\n",
      "  .. ..$ median.abs.corr: num 0.995\n",
      "  ..$ cs_index          : int 1\n",
      "  ..$ coverage          : num 0.96\n",
      "  ..$ requested_coverage: num 0.95\n",
      " $ pip                   : Named num [1:5633] 6.59e-05 1.00e-04 8.58e-05 6.59e-05 9.46e-05 ...\n",
      "  ..- attr(*, \"names\")= chr [1:5633] \"chr1_152628280_C_T_b38\" \"chr1_152628378_G_T_b38\" \"chr1_152628442_C_T_b38\" \"chr1_152628471_G_A_b38\" ...\n",
      " $ sld                   : num [1, 1] 0\n",
      "  ..- attr(*, \"dimnames\")=List of 2\n",
      "  .. ..$ : chr \"L1\"\n",
      "  .. ..$ : chr \"L1\"\n",
      " $ pruned                : logi FALSE\n",
      " - attr(*, \"class\")= chr \"susie\"\n"
     ]
    }
   ],
   "source": [
    "%%R -i groups_merged_pruned -w 3 -h 5 --units in -r 200 -o groups_merged_pruned\n",
    "i=3\n",
    "susie_sub <- readRDS(file = groups_merged_pruned$susie_path_sub[i])\n",
    "susie_full <- readRDS(file = groups_merged_pruned$susie_path_full[i])\n",
    "str(susie_full)"
   ]
  },
  {
   "cell_type": "code",
   "execution_count": 18,
   "metadata": {},
   "outputs": [
    {
     "name": "stdout",
     "output_type": "stream",
     "text": [
      "List of 20\n",
      " $ alpha                 : num [1:10, 1:5593] 1.63e-12 1.54e-04 1.53e-04 1.52e-04 1.50e-04 ...\n",
      "  ..- attr(*, \"dimnames\")=List of 2\n",
      "  .. ..$ : NULL\n",
      "  .. ..$ : chr [1:5593] \"chr1_152628280_C_T_b38\" \"chr1_152628378_G_T_b38\" \"chr1_152628442_C_T_b38\" \"chr1_152628471_G_A_b38\" ...\n",
      " $ mu                    : num [1:10, 1:5593] 0.01672 0.00345 0.00358 0.00375 0.00388 ...\n",
      "  ..- attr(*, \"dimnames\")=List of 2\n",
      "  .. ..$ : NULL\n",
      "  .. ..$ : chr [1:5593] \"chr1_152628280_C_T_b38\" \"chr1_152628378_G_T_b38\" \"chr1_152628442_C_T_b38\" \"chr1_152628471_G_A_b38\" ...\n",
      " $ mu2                   : num [1:10, 1:5593] 0.002313 0.000565 0.000587 0.000612 0.000634 ...\n",
      "  ..- attr(*, \"dimnames\")=List of 2\n",
      "  .. ..$ : NULL\n",
      "  .. ..$ : chr [1:5593] \"chr1_152628280_C_T_b38\" \"chr1_152628378_G_T_b38\" \"chr1_152628442_C_T_b38\" \"chr1_152628471_G_A_b38\" ...\n",
      " $ KL                    : num [1:10] 7.876 0.176 0.185 0.195 0.205 ...\n",
      " $ lbf                   : num [1:10] 16.62347 0.00597 0.00656 0.00729 0.00796 ...\n",
      " $ lbf_variable          : num [1:10, 1:5593] -1.887 -0.144 -0.151 -0.158 -0.165 ...\n",
      "  ..- attr(*, \"dimnames\")=List of 2\n",
      "  .. ..$ : NULL\n",
      "  .. ..$ : chr [1:5593] \"chr1_152628280_C_T_b38\" \"chr1_152628378_G_T_b38\" \"chr1_152628442_C_T_b38\" \"chr1_152628471_G_A_b38\" ...\n",
      " $ sigma2                : num 1\n",
      " $ V                     : num [1:10] 0.101656 0.000755 0.000794 0.00084 0.000882 ...\n",
      " $ pi                    : num [1:5593] 0.000179 0.000179 0.000179 0.000179 0.000179 ...\n",
      " $ null_index            : num 0\n",
      " $ XtXr                  : num [1:5593, 1] 3.23 6.16 -2.34 3.23 3.8 ...\n",
      " $ converged             : logi TRUE\n",
      " $ elbo                  : num [1:4] -669 -669 -669 -669\n",
      " $ niter                 : int 4\n",
      " $ X_column_scale_factors: Named num [1:5593] 1 1 1 1 1 1 1 1 1 1 ...\n",
      "  ..- attr(*, \"names\")= chr [1:5593] \"chr1_152628280_C_T_b38\" \"chr1_152628378_G_T_b38\" \"chr1_152628442_C_T_b38\" \"chr1_152628471_G_A_b38\" ...\n",
      " $ intercept             : num NA\n",
      " $ sets                  :List of 5\n",
      "  ..$ cs                :List of 1\n",
      "  .. ..$ L1: Named int [1:20] 3378 3380 3388 3397 3399 3400 3402 3404 3405 3431 ...\n",
      "  .. .. ..- attr(*, \"names\")= chr [1:20] \"chr1_153609782_T_C_b38\" \"chr1_153609927_G_A_b38\" \"chr1_153611856_G_GGTTGTGAGGTAACCC_b38\" \"chr1_153614780_A_T_b38\" ...\n",
      "  ..$ purity            :'data.frame':\t1 obs. of  3 variables:\n",
      "  .. ..$ min.abs.corr   : num 0.701\n",
      "  .. ..$ mean.abs.corr  : num 0.892\n",
      "  .. ..$ median.abs.corr: num 0.891\n",
      "  ..$ cs_index          : int 1\n",
      "  ..$ coverage          : num 0.959\n",
      "  ..$ requested_coverage: num 0.95\n",
      " $ pip                   : Named num [1:5593] 0.00136 0.00135 0.00188 0.00136 0.00134 ...\n",
      "  ..- attr(*, \"names\")= chr [1:5593] \"chr1_152628280_C_T_b38\" \"chr1_152628378_G_T_b38\" \"chr1_152628442_C_T_b38\" \"chr1_152628471_G_A_b38\" ...\n",
      " $ sld                   : num [1, 1] 0\n",
      "  ..- attr(*, \"dimnames\")=List of 2\n",
      "  .. ..$ : chr \"L1\"\n",
      "  .. ..$ : chr \"L1\"\n",
      " $ pruned                : logi FALSE\n",
      " - attr(*, \"class\")= chr \"susie\"\n"
     ]
    }
   ],
   "source": [
    "%%R -i groups_merged_pruned -w 3 -h 5 --units in -r 200 -o groups_merged_pruned\n",
    "i=3\n",
    "susie_sub <- readRDS(file = groups_merged_pruned$susie_path_sub[i])\n",
    "susie_full <- readRDS(file = groups_merged_pruned$susie_path_full[i])\n",
    "summary(susie_sub)\n",
    "str(susie_sub)"
   ]
  },
  {
   "cell_type": "code",
   "execution_count": 13,
   "metadata": {},
   "outputs": [
    {
     "name": "stdout",
     "output_type": "stream",
     "text": [
      "463 small sample size signals\n",
      "1747 large sample size signals\n",
      "79 small sample share a lead var with a large sample\n",
      "384 of the small sample signals don't share a lead var, will need to be colocd\n",
      "2921 colocs if we do every combination\n",
      "1508 colocs if we do 1 credible set per signal group\n"
     ]
    },
    {
     "name": "stderr",
     "output_type": "stream",
     "text": [
      "/local/scratch/klawren/slrmtmp.46962791/ipykernel_7485/1516611404.py:36: SettingWithCopyWarning: \n",
      "A value is trying to be set on a copy of a slice from a DataFrame.\n",
      "Try using .loc[row_indexer,col_indexer] = value instead\n",
      "\n",
      "See the caveats in the documentation: https://pandas.pydata.org/pandas-docs/stable/user_guide/indexing.html#returning-a-view-versus-a-copy\n",
      "  full_groups['cs_id'] = full_groups['signal_id'].str.split('-')\n",
      "/local/scratch/klawren/slrmtmp.46962791/ipykernel_7485/1516611404.py:61: SettingWithCopyWarning: \n",
      "A value is trying to be set on a copy of a slice from a DataFrame.\n",
      "Try using .loc[row_indexer,col_indexer] = value instead\n",
      "\n",
      "See the caveats in the documentation: https://pandas.pydata.org/pandas-docs/stable/user_guide/indexing.html#returning-a-view-versus-a-copy\n",
      "  groups_merged_pruned['pph4']=0\n"
     ]
    }
   ],
   "source": [
    "# pull out one subsample in particular to compare to full sample\n",
    "# I want to get a df with each subsample id, and the num pc and num e signals in the full dataset that coloc with it\n",
    "sub_num_samples = 100\n",
    "sub_config = sub_configs[sub_num_samples]\n",
    "sub_groups = sub_signals[sub_signals['num_samples']==sub_num_samples]\n",
    "print('{} small sample size signals'.format(sub_groups['signal_id'].nunique()))\n",
    "\n",
    "# get the full dataset group\n",
    "full_groups = sub_signals[sub_signals['num_samples']==final_sample_size]\n",
    "print('{} large sample size signals'.format(full_groups['signal_id'].nunique()))\n",
    "\n",
    "\n",
    "# optionally, subset clusters\n",
    "#full_groups = full_groups[full_groups['cluster_id'].isin(sub_groups['cluster_id'].unique()[:20])]\n",
    "#sub_groups = sub_groups[sub_groups['cluster_id'].isin(sub_groups['cluster_id'].unique()[:20])]\n",
    "\n",
    "lead_var_shared = get_lead_var_shared(sub_groups, full_groups)\n",
    "groups_merged_pruned = get_coloc_subsample(sub_config, sub_groups, final_output_config, full_groups, lead_var_shared)"
   ]
  },
  {
   "cell_type": "code",
   "execution_count": 293,
   "metadata": {},
   "outputs": [
    {
     "name": "stdout",
     "output_type": "stream",
     "text": [
      "  |                                                                                                                                                                                              |   0%"
     ]
    },
    {
     "name": "stderr",
     "output_type": "stream",
     "text": [
      "/home/klawren/micromamba/envs/tensorqtl_r/lib/python3.8/site-packages/rpy2/robjects/pandas2ri.py:65: UserWarning:\n",
      "\n",
      "Error while trying to convert the column \"lead_var_set_sub\". Fall back to string conversion. The error is: <class 'list'>\n",
      "\n",
      "/home/klawren/micromamba/envs/tensorqtl_r/lib/python3.8/site-packages/rpy2/robjects/pandas2ri.py:65: UserWarning:\n",
      "\n",
      "Error while trying to convert the column \"lead_var_set_full\". Fall back to string conversion. The error is: <class 'list'>\n",
      "\n"
     ]
    },
    {
     "name": "stdout",
     "output_type": "stream",
     "text": [
      "  |==============================================================================================================================================================================================| 100%\n",
      "[1] \"Total skipped files: 0\"\n"
     ]
    },
    {
     "data": {
      "text/plain": [
       "In addition: Warning message:\n",
       "In coloc.bf_bf(bf1, bf2, ...) :\n",
       "  snp overlap too small between datasets: too few snps with high posterior in one trait represented in other\n"
      ]
     },
     "metadata": {},
     "output_type": "display_data"
    }
   ],
   "source": [
    "%%R -i groups_merged_pruned -w 3 -h 5 --units in -r 200 -o groups_merged_pruned\n",
    "# run coloc for the pruned set in R\n",
    "groups_merged_pruned <- get_coloc_from_df(groups_merged_pruned)\n"
   ]
  },
  {
   "cell_type": "code",
   "execution_count": 334,
   "metadata": {},
   "outputs": [
    {
     "name": "stdout",
     "output_type": "stream",
     "text": [
      "0 subsignals had a signifigant coloc\n",
      "343 signals non overlapping\n",
      "463 signals had a coloc or shared lead var\n"
     ]
    },
    {
     "name": "stderr",
     "output_type": "stream",
     "text": [
      "/local/scratch/klawren/slrmtmp.46962791/ipykernel_23369/1516611404.py:91: SettingWithCopyWarning:\n",
      "\n",
      "\n",
      "A value is trying to be set on a copy of a slice from a DataFrame.\n",
      "Try using .loc[row_indexer,col_indexer] = value instead\n",
      "\n",
      "See the caveats in the documentation: https://pandas.pydata.org/pandas-docs/stable/user_guide/indexing.html#returning-a-view-versus-a-copy\n",
      "\n",
      "/local/scratch/klawren/slrmtmp.46962791/ipykernel_23369/1516611404.py:92: SettingWithCopyWarning:\n",
      "\n",
      "\n",
      "A value is trying to be set on a copy of a slice from a DataFrame.\n",
      "Try using .loc[row_indexer,col_indexer] = value instead\n",
      "\n",
      "See the caveats in the documentation: https://pandas.pydata.org/pandas-docs/stable/user_guide/indexing.html#returning-a-view-versus-a-copy\n",
      "\n",
      "/local/scratch/klawren/slrmtmp.46962791/ipykernel_23369/1516611404.py:93: SettingWithCopyWarning:\n",
      "\n",
      "\n",
      "A value is trying to be set on a copy of a slice from a DataFrame.\n",
      "Try using .loc[row_indexer,col_indexer] = value instead\n",
      "\n",
      "See the caveats in the documentation: https://pandas.pydata.org/pandas-docs/stable/user_guide/indexing.html#returning-a-view-versus-a-copy\n",
      "\n",
      "/local/scratch/klawren/slrmtmp.46962791/ipykernel_23369/1516611404.py:94: SettingWithCopyWarning:\n",
      "\n",
      "\n",
      "A value is trying to be set on a copy of a slice from a DataFrame.\n",
      "Try using .loc[row_indexer,col_indexer] = value instead\n",
      "\n",
      "See the caveats in the documentation: https://pandas.pydata.org/pandas-docs/stable/user_guide/indexing.html#returning-a-view-versus-a-copy\n",
      "\n",
      "/local/scratch/klawren/slrmtmp.46962791/ipykernel_23369/1516611404.py:95: SettingWithCopyWarning:\n",
      "\n",
      "\n",
      "A value is trying to be set on a copy of a slice from a DataFrame.\n",
      "Try using .loc[row_indexer,col_indexer] = value instead\n",
      "\n",
      "See the caveats in the documentation: https://pandas.pydata.org/pandas-docs/stable/user_guide/indexing.html#returning-a-view-versus-a-copy\n",
      "\n"
     ]
    }
   ],
   "source": [
    "coloc_annotated_signals = combine_signals(sub_groups, lead_var_shared, groups_merged_pruned)"
   ]
  },
  {
   "cell_type": "code",
   "execution_count": 335,
   "metadata": {},
   "outputs": [
    {
     "data": {
      "text/plain": [
       "Text(0.5, 1.0, 'how does each small-sample signal coloc with the larger sample signals?')"
      ]
     },
     "execution_count": 335,
     "metadata": {},
     "output_type": "execute_result"
    },
    {
     "data": {
      "image/png": "[encoded data removed]",
      "text/plain": [
       "<Figure size 640x480 with 1 Axes>"
      ]
     },
     "metadata": {},
     "output_type": "display_data"
    }
   ],
   "source": [
    "sns.histplot(coloc_annotated_signals, x='exclusive_label_sub', hue='exclusive_label_full', multiple='stack')\n",
    "plt.title('how does each small-sample signal coloc with the larger sample signals?')"
   ]
  },
  {
   "cell_type": "code",
   "execution_count": 300,
   "metadata": {},
   "outputs": [
    {
     "data": {
      "application/vnd.plotly.v1+json": {
       "config": {
        "plotlyServerURL": "https://plot.ly"
       },
       "data": [
        {
         "arrangement": "freeform",
         "dimensions": [
          {
           "categoryorder": "category ascending",
           "label": "small sample",
           "values": [
            "eqtl_only",
            "eqtl_only",
            "eqtl_only",
            "shared",
            "shared",
            "pcqtl_only",
            "shared",
            "eqtl_only",
            "pcqtl_only",
            "shared",
            "shared",
            "shared",
            "eqtl_only",
            "pcqtl_only",
            "eqtl_only",
            "pcqtl_only",
            "pcqtl_only",
            "shared",
            "eqtl_only",
            "eqtl_only",
            "shared",
            "pcqtl_only",
            "shared",
            "pcqtl_only",
            "eqtl_only",
            "shared",
            "eqtl_only",
            "shared",
            "eqtl_only",
            "shared",
            "eqtl_only",
            "eqtl_only",
            "eqtl_only",
            "eqtl_only",
            "eqtl_only",
            "shared",
            "eqtl_only",
            "shared",
            "eqtl_only",
            "pcqtl_only",
            "eqtl_only",
            "pcqtl_only",
            "eqtl_only",
            "eqtl_only",
            "shared",
            "shared",
            "eqtl_only",
            "pcqtl_only",
            "eqtl_only",
            "eqtl_only",
            "shared",
            "shared",
            "shared",
            "eqtl_only",
            "shared",
            "eqtl_only",
            "eqtl_only",
            "eqtl_only",
            "eqtl_only",
            "pcqtl_only",
            "pcqtl_only",
            "pcqtl_only",
            "eqtl_only",
            "shared",
            "eqtl_only",
            "eqtl_only",
            "eqtl_only",
            "shared",
            "eqtl_only",
            "eqtl_only",
            "shared",
            "shared",
            "pcqtl_only",
            "eqtl_only",
            "shared",
            "eqtl_only",
            "eqtl_only",
            "shared",
            "shared",
            "eqtl_only",
            "pcqtl_only",
            "eqtl_only",
            "eqtl_only",
            "eqtl_only",
            "eqtl_only",
            "eqtl_only",
            "pcqtl_only",
            "pcqtl_only",
            "shared",
            "eqtl_only",
            "eqtl_only",
            "shared",
            "eqtl_only",
            "eqtl_only",
            "pcqtl_only",
            "pcqtl_only",
            "shared",
            "shared",
            "eqtl_only",
            "pcqtl_only",
            "shared",
            "eqtl_only",
            "pcqtl_only",
            "shared",
            "eqtl_only",
            "eqtl_only",
            "pcqtl_only",
            "shared",
            "eqtl_only",
            "pcqtl_only",
            "eqtl_only",
            "shared",
            "eqtl_only",
            "shared",
            "eqtl_only",
            "shared",
            "eqtl_only",
            "pcqtl_only",
            "eqtl_only",
            "pcqtl_only",
            "eqtl_only",
            "pcqtl_only",
            "shared",
            "eqtl_only",
            "eqtl_only",
            "eqtl_only",
            "eqtl_only",
            "pcqtl_only",
            "eqtl_only",
            "shared",
            "eqtl_only",
            "shared",
            "eqtl_only",
            "pcqtl_only",
            "eqtl_only",
            "eqtl_only",
            "eqtl_only",
            "pcqtl_only",
            "eqtl_only",
            "pcqtl_only",
            "shared",
            "eqtl_only",
            "eqtl_only",
            "shared",
            "pcqtl_only",
            "shared",
            "eqtl_only",
            "shared",
            "shared",
            "eqtl_only",
            "eqtl_only",
            "pcqtl_only",
            "shared",
            "shared",
            "pcqtl_only",
            "shared",
            "shared",
            "pcqtl_only",
            "pcqtl_only",
            "shared",
            "pcqtl_only",
            "pcqtl_only",
            "pcqtl_only",
            "eqtl_only",
            "eqtl_only",
            "eqtl_only",
            "pcqtl_only",
            "shared",
            "eqtl_only",
            "shared",
            "eqtl_only",
            "shared",
            "eqtl_only",
            "shared",
            "pcqtl_only",
            "shared",
            "shared",
            "shared",
            "eqtl_only",
            "pcqtl_only",
            "shared",
            "eqtl_only",
            "shared",
            "shared",
            "shared",
            "shared",
            "shared",
            "shared",
            "shared",
            "shared",
            "shared",
            "shared",
            "shared",
            "shared",
            "eqtl_only",
            "shared",
            "shared",
            "shared",
            "shared",
            "shared",
            "pcqtl_only",
            "eqtl_only",
            "pcqtl_only",
            "eqtl_only",
            "pcqtl_only",
            "eqtl_only",
            "pcqtl_only",
            "pcqtl_only",
            "eqtl_only",
            "pcqtl_only",
            "pcqtl_only",
            "eqtl_only",
            "eqtl_only",
            "eqtl_only",
            "eqtl_only",
            "eqtl_only",
            "eqtl_only",
            "eqtl_only",
            "eqtl_only",
            "pcqtl_only",
            "eqtl_only",
            "eqtl_only",
            "eqtl_only",
            "pcqtl_only",
            "eqtl_only",
            "eqtl_only",
            "eqtl_only",
            "eqtl_only",
            "eqtl_only",
            "eqtl_only",
            "pcqtl_only",
            "eqtl_only",
            "eqtl_only",
            "eqtl_only",
            "pcqtl_only",
            "pcqtl_only",
            "pcqtl_only",
            "eqtl_only",
            "pcqtl_only",
            "eqtl_only",
            "eqtl_only",
            "pcqtl_only",
            "eqtl_only",
            "eqtl_only",
            "eqtl_only",
            "pcqtl_only",
            "eqtl_only",
            "eqtl_only",
            "eqtl_only",
            "eqtl_only",
            "pcqtl_only",
            "eqtl_only",
            "pcqtl_only",
            "eqtl_only",
            "eqtl_only",
            "pcqtl_only",
            "eqtl_only",
            "pcqtl_only",
            "eqtl_only",
            "pcqtl_only",
            "eqtl_only",
            "pcqtl_only",
            "eqtl_only",
            "eqtl_only",
            "pcqtl_only",
            "eqtl_only",
            "eqtl_only",
            "pcqtl_only",
            "pcqtl_only",
            "eqtl_only",
            "eqtl_only",
            "eqtl_only",
            "eqtl_only",
            "eqtl_only",
            "eqtl_only",
            "eqtl_only",
            "eqtl_only",
            "eqtl_only",
            "eqtl_only",
            "pcqtl_only",
            "pcqtl_only",
            "eqtl_only",
            "pcqtl_only",
            "eqtl_only",
            "pcqtl_only",
            "pcqtl_only",
            "eqtl_only",
            "eqtl_only",
            "pcqtl_only",
            "eqtl_only",
            "eqtl_only",
            "pcqtl_only",
            "eqtl_only",
            "pcqtl_only",
            "eqtl_only",
            "pcqtl_only",
            "pcqtl_only",
            "eqtl_only",
            "eqtl_only",
            "eqtl_only",
            "eqtl_only",
            "eqtl_only",
            "eqtl_only",
            "eqtl_only",
            "eqtl_only",
            "eqtl_only",
            "eqtl_only",
            "eqtl_only",
            "eqtl_only",
            "eqtl_only",
            "eqtl_only",
            "eqtl_only",
            "eqtl_only",
            "eqtl_only",
            "eqtl_only",
            "eqtl_only",
            "eqtl_only",
            "pcqtl_only",
            "eqtl_only",
            "pcqtl_only",
            "eqtl_only",
            "eqtl_only",
            "eqtl_only",
            "eqtl_only",
            "pcqtl_only",
            "eqtl_only",
            "pcqtl_only",
            "eqtl_only",
            "pcqtl_only",
            "eqtl_only",
            "eqtl_only",
            "eqtl_only",
            "eqtl_only",
            "eqtl_only",
            "pcqtl_only",
            "eqtl_only",
            "pcqtl_only",
            "pcqtl_only",
            "eqtl_only",
            "eqtl_only",
            "eqtl_only",
            "pcqtl_only",
            "pcqtl_only",
            "pcqtl_only",
            "eqtl_only",
            "eqtl_only",
            "eqtl_only",
            "eqtl_only",
            "eqtl_only",
            "eqtl_only",
            "pcqtl_only",
            "pcqtl_only",
            "eqtl_only",
            "pcqtl_only",
            "eqtl_only",
            "pcqtl_only",
            "eqtl_only",
            "eqtl_only",
            "eqtl_only",
            "eqtl_only",
            "pcqtl_only",
            "eqtl_only",
            "eqtl_only",
            "pcqtl_only",
            "pcqtl_only",
            "eqtl_only",
            "eqtl_only",
            "eqtl_only",
            "pcqtl_only",
            "eqtl_only",
            "eqtl_only",
            "eqtl_only",
            "pcqtl_only",
            "pcqtl_only",
            "pcqtl_only",
            "pcqtl_only",
            "eqtl_only",
            "pcqtl_only",
            "eqtl_only",
            "eqtl_only",
            "eqtl_only",
            "eqtl_only",
            "eqtl_only",
            "eqtl_only",
            "eqtl_only",
            "eqtl_only",
            "eqtl_only",
            "eqtl_only",
            "eqtl_only",
            "eqtl_only",
            "pcqtl_only",
            "pcqtl_only",
            "eqtl_only",
            "eqtl_only",
            "eqtl_only",
            "pcqtl_only",
            "eqtl_only",
            "pcqtl_only",
            "eqtl_only",
            "eqtl_only",
            "eqtl_only",
            "eqtl_only",
            "pcqtl_only",
            "eqtl_only",
            "eqtl_only",
            "pcqtl_only",
            "eqtl_only",
            "eqtl_only",
            "eqtl_only",
            "pcqtl_only",
            "eqtl_only",
            "eqtl_only",
            "eqtl_only",
            "pcqtl_only",
            "eqtl_only",
            "eqtl_only",
            "pcqtl_only",
            "eqtl_only",
            "eqtl_only",
            "eqtl_only",
            "pcqtl_only",
            "pcqtl_only",
            "eqtl_only",
            "eqtl_only",
            "pcqtl_only",
            "eqtl_only",
            "eqtl_only",
            "eqtl_only",
            "eqtl_only",
            "pcqtl_only",
            "eqtl_only",
            "eqtl_only",
            "pcqtl_only",
            "eqtl_only",
            "eqtl_only",
            "pcqtl_only",
            "eqtl_only",
            "pcqtl_only",
            "pcqtl_only",
            "eqtl_only",
            "eqtl_only",
            "eqtl_only",
            "eqtl_only",
            "eqtl_only",
            "eqtl_only",
            "eqtl_only",
            "eqtl_only",
            "eqtl_only",
            "pcqtl_only",
            "eqtl_only",
            "pcqtl_only",
            "eqtl_only",
            "pcqtl_only",
            "eqtl_only",
            "eqtl_only",
            "eqtl_only",
            "eqtl_only",
            "eqtl_only",
            "eqtl_only",
            "pcqtl_only",
            "pcqtl_only",
            "eqtl_only",
            "eqtl_only"
           ]
          },
          {
           "categoryorder": "category ascending",
           "label": "large sample",
           "values": [
            "shared",
            "shared",
            "shared",
            "shared",
            "shared",
            "shared",
            "shared",
            "pcqtl_only",
            "pcqtl_only",
            "shared",
            "shared",
            "shared",
            "shared",
            "shared",
            "eqtl_only",
            "pcqtl_only",
            "shared",
            "shared",
            "shared",
            "shared",
            "shared",
            "shared",
            "shared",
            "shared",
            "shared",
            "shared",
            "shared",
            "shared",
            "shared",
            "eqtl_only",
            "shared",
            "shared",
            "pcqtl_only",
            "eqtl_only",
            "pcqtl_only",
            "shared",
            "shared",
            "shared",
            "shared",
            "shared",
            "shared",
            "shared",
            "eqtl_only",
            "shared",
            "shared",
            "shared",
            "shared",
            "shared",
            "shared",
            "shared",
            "shared",
            "shared",
            "shared",
            "shared",
            "eqtl_only",
            "shared",
            "shared",
            "shared",
            "shared",
            "shared",
            "shared",
            "shared",
            "shared",
            "shared",
            "shared",
            "shared",
            "shared",
            "shared",
            "shared",
            "shared",
            "shared",
            "shared",
            "shared",
            "shared",
            "shared",
            "shared",
            "shared",
            "shared",
            "shared",
            "shared",
            "eqtl_only",
            "pcqtl_only",
            "pcqtl_only",
            "shared",
            "eqtl_only",
            "pcqtl_only",
            "shared",
            "shared",
            "eqtl_only",
            "shared",
            "shared",
            "eqtl_only",
            "shared",
            "shared",
            "shared",
            "eqtl_only",
            "shared",
            "shared",
            "shared",
            "shared",
            "shared",
            "shared",
            "shared",
            "shared",
            "pcqtl_only",
            "shared",
            "eqtl_only",
            "shared",
            "shared",
            "shared",
            "shared",
            "shared",
            "shared",
            "shared",
            "shared",
            "pcqtl_only",
            "shared",
            "shared",
            "shared",
            "shared",
            "shared",
            "pcqtl_only",
            "eqtl_only",
            "eqtl_only",
            "shared",
            "shared",
            "shared",
            "shared",
            "shared",
            "shared",
            "shared",
            "shared",
            "shared",
            "eqtl_only",
            "shared",
            "shared",
            "shared",
            "pcqtl_only",
            "shared",
            "shared",
            "eqtl_only",
            "eqtl_only",
            "shared",
            "shared",
            "shared",
            "shared",
            "shared",
            "eqtl_only",
            "pcqtl_only",
            "eqtl_only",
            "shared",
            "eqtl_only",
            "shared",
            "shared",
            "eqtl_only",
            "shared",
            "shared",
            "shared",
            "shared",
            "shared",
            "shared",
            "shared",
            "shared",
            "pcqtl_only",
            "shared",
            "shared",
            "eqtl_only",
            "shared",
            "shared",
            "eqtl_only",
            "shared",
            "shared",
            "shared",
            "shared",
            "shared",
            "shared",
            "shared",
            "shared",
            "shared",
            "shared",
            "shared",
            "eqtl_only",
            "shared",
            "neither",
            "neither",
            "neither",
            "neither",
            "neither",
            "neither",
            "neither",
            "neither",
            "neither",
            "neither",
            "neither",
            "neither",
            "neither",
            "neither",
            "neither",
            "neither",
            "neither",
            "neither",
            "neither",
            "neither",
            "neither",
            "neither",
            "neither",
            "neither",
            "neither",
            "neither",
            "neither",
            "neither",
            "neither",
            "neither",
            "neither",
            "neither",
            "neither",
            "neither",
            "neither",
            "neither",
            "neither",
            "neither",
            "neither",
            "neither",
            "neither",
            "neither",
            "neither",
            "neither",
            "neither",
            "neither",
            "neither",
            "neither",
            "neither",
            "neither",
            "neither",
            "neither",
            "neither",
            "neither",
            "neither",
            "neither",
            "neither",
            "neither",
            "neither",
            "neither",
            "neither",
            "neither",
            "neither",
            "neither",
            "neither",
            "neither",
            "neither",
            "neither",
            "neither",
            "neither",
            "neither",
            "neither",
            "neither",
            "neither",
            "neither",
            "neither",
            "neither",
            "neither",
            "neither",
            "neither",
            "neither",
            "neither",
            "neither",
            "neither",
            "neither",
            "neither",
            "neither",
            "neither",
            "neither",
            "neither",
            "neither",
            "neither",
            "neither",
            "neither",
            "neither",
            "neither",
            "neither",
            "neither",
            "neither",
            "neither",
            "neither",
            "neither",
            "neither",
            "neither",
            "neither",
            "neither",
            "neither",
            "neither",
            "neither",
            "neither",
            "neither",
            "neither",
            "neither",
            "neither",
            "neither",
            "neither",
            "neither",
            "neither",
            "neither",
            "neither",
            "neither",
            "neither",
            "neither",
            "neither",
            "neither",
            "neither",
            "neither",
            "neither",
            "neither",
            "neither",
            "neither",
            "neither",
            "neither",
            "neither",
            "neither",
            "neither",
            "neither",
            "neither",
            "neither",
            "neither",
            "neither",
            "neither",
            "neither",
            "neither",
            "neither",
            "neither",
            "neither",
            "neither",
            "neither",
            "neither",
            "neither",
            "neither",
            "neither",
            "neither",
            "neither",
            "neither",
            "neither",
            "neither",
            "neither",
            "neither",
            "neither",
            "neither",
            "neither",
            "neither",
            "neither",
            "neither",
            "neither",
            "neither",
            "neither",
            "neither",
            "neither",
            "neither",
            "neither",
            "neither",
            "neither",
            "neither",
            "neither",
            "neither",
            "neither",
            "neither",
            "neither",
            "neither",
            "neither",
            "neither",
            "neither",
            "neither",
            "neither",
            "neither",
            "neither",
            "neither",
            "neither",
            "neither",
            "neither",
            "neither",
            "neither",
            "neither",
            "neither",
            "neither",
            "neither",
            "neither",
            "neither",
            "neither",
            "neither",
            "neither",
            "neither",
            "neither",
            "neither",
            "neither",
            "neither",
            "neither",
            "neither",
            "neither",
            "neither",
            "neither",
            "neither",
            "neither",
            "neither",
            "neither",
            "neither",
            "neither",
            "neither",
            "neither",
            "neither",
            "neither",
            "neither",
            "neither",
            "neither",
            "neither",
            "neither",
            "neither",
            "neither",
            "neither",
            "neither",
            "neither",
            "neither",
            "neither",
            "neither",
            "neither",
            "neither",
            "neither",
            "neither",
            "neither",
            "neither",
            "neither",
            "neither",
            "neither",
            "neither",
            "neither",
            "neither",
            "neither",
            "neither",
            "neither",
            "neither",
            "neither",
            "neither",
            "neither",
            "neither",
            "neither",
            "neither",
            "neither",
            "neither",
            "neither",
            "neither",
            "neither",
            "neither",
            "neither",
            "neither",
            "neither",
            "neither",
            "neither",
            "neither",
            "neither",
            "neither",
            "neither",
            "neither",
            "neither",
            "neither",
            "neither",
            "neither",
            "neither"
           ]
          }
         ],
         "hoverinfo": "count+probability",
         "hoveron": "color",
         "type": "parcats"
        }
       ],
       "layout": {
        "template": {
         "data": {
          "bar": [
           {
            "error_x": {
             "color": "#2a3f5f"
            },
            "error_y": {
             "color": "#2a3f5f"
            },
            "marker": {
             "line": {
              "color": "#E5ECF6",
              "width": 0.5
             },
             "pattern": {
              "fillmode": "overlay",
              "size": 10,
              "solidity": 0.2
             }
            },
            "type": "bar"
           }
          ],
          "barpolar": [
           {
            "marker": {
             "line": {
              "color": "#E5ECF6",
              "width": 0.5
             },
             "pattern": {
              "fillmode": "overlay",
              "size": 10,
              "solidity": 0.2
             }
            },
            "type": "barpolar"
           }
          ],
          "carpet": [
           {
            "aaxis": {
             "endlinecolor": "#2a3f5f",
             "gridcolor": "white",
             "linecolor": "white",
             "minorgridcolor": "white",
             "startlinecolor": "#2a3f5f"
            },
            "baxis": {
             "endlinecolor": "#2a3f5f",
             "gridcolor": "white",
             "linecolor": "white",
             "minorgridcolor": "white",
             "startlinecolor": "#2a3f5f"
            },
            "type": "carpet"
           }
          ],
          "choropleth": [
           {
            "colorbar": {
             "outlinewidth": 0,
             "ticks": ""
            },
            "type": "choropleth"
           }
          ],
          "contour": [
           {
            "colorbar": {
             "outlinewidth": 0,
             "ticks": ""
            },
            "colorscale": [
             [
              0,
              "#0d0887"
             ],
             [
              0.1111111111111111,
              "#46039f"
             ],
             [
              0.2222222222222222,
              "#7201a8"
             ],
             [
              0.3333333333333333,
              "#9c179e"
             ],
             [
              0.4444444444444444,
              "#bd3786"
             ],
             [
              0.5555555555555556,
              "#d8576b"
             ],
             [
              0.6666666666666666,
              "#ed7953"
             ],
             [
              0.7777777777777778,
              "#fb9f3a"
             ],
             [
              0.8888888888888888,
              "#fdca26"
             ],
             [
              1,
              "#f0f921"
             ]
            ],
            "type": "contour"
           }
          ],
          "contourcarpet": [
           {
            "colorbar": {
             "outlinewidth": 0,
             "ticks": ""
            },
            "type": "contourcarpet"
           }
          ],
          "heatmap": [
           {
            "colorbar": {
             "outlinewidth": 0,
             "ticks": ""
            },
            "colorscale": [
             [
              0,
              "#0d0887"
             ],
             [
              0.1111111111111111,
              "#46039f"
             ],
             [
              0.2222222222222222,
              "#7201a8"
             ],
             [
              0.3333333333333333,
              "#9c179e"
             ],
             [
              0.4444444444444444,
              "#bd3786"
             ],
             [
              0.5555555555555556,
              "#d8576b"
             ],
             [
              0.6666666666666666,
              "#ed7953"
             ],
             [
              0.7777777777777778,
              "#fb9f3a"
             ],
             [
              0.8888888888888888,
              "#fdca26"
             ],
             [
              1,
              "#f0f921"
             ]
            ],
            "type": "heatmap"
           }
          ],
          "heatmapgl": [
           {
            "colorbar": {
             "outlinewidth": 0,
             "ticks": ""
            },
            "colorscale": [
             [
              0,
              "#0d0887"
             ],
             [
              0.1111111111111111,
              "#46039f"
             ],
             [
              0.2222222222222222,
              "#7201a8"
             ],
             [
              0.3333333333333333,
              "#9c179e"
             ],
             [
              0.4444444444444444,
              "#bd3786"
             ],
             [
              0.5555555555555556,
              "#d8576b"
             ],
             [
              0.6666666666666666,
              "#ed7953"
             ],
             [
              0.7777777777777778,
              "#fb9f3a"
             ],
             [
              0.8888888888888888,
              "#fdca26"
             ],
             [
              1,
              "#f0f921"
             ]
            ],
            "type": "heatmapgl"
           }
          ],
          "histogram": [
           {
            "marker": {
             "pattern": {
              "fillmode": "overlay",
              "size": 10,
              "solidity": 0.2
             }
            },
            "type": "histogram"
           }
          ],
          "histogram2d": [
           {
            "colorbar": {
             "outlinewidth": 0,
             "ticks": ""
            },
            "colorscale": [
             [
              0,
              "#0d0887"
             ],
             [
              0.1111111111111111,
              "#46039f"
             ],
             [
              0.2222222222222222,
              "#7201a8"
             ],
             [
              0.3333333333333333,
              "#9c179e"
             ],
             [
              0.4444444444444444,
              "#bd3786"
             ],
             [
              0.5555555555555556,
              "#d8576b"
             ],
             [
              0.6666666666666666,
              "#ed7953"
             ],
             [
              0.7777777777777778,
              "#fb9f3a"
             ],
             [
              0.8888888888888888,
              "#fdca26"
             ],
             [
              1,
              "#f0f921"
             ]
            ],
            "type": "histogram2d"
           }
          ],
          "histogram2dcontour": [
           {
            "colorbar": {
             "outlinewidth": 0,
             "ticks": ""
            },
            "colorscale": [
             [
              0,
              "#0d0887"
             ],
             [
              0.1111111111111111,
              "#46039f"
             ],
             [
              0.2222222222222222,
              "#7201a8"
             ],
             [
              0.3333333333333333,
              "#9c179e"
             ],
             [
              0.4444444444444444,
              "#bd3786"
             ],
             [
              0.5555555555555556,
              "#d8576b"
             ],
             [
              0.6666666666666666,
              "#ed7953"
             ],
             [
              0.7777777777777778,
              "#fb9f3a"
             ],
             [
              0.8888888888888888,
              "#fdca26"
             ],
             [
              1,
              "#f0f921"
             ]
            ],
            "type": "histogram2dcontour"
           }
          ],
          "mesh3d": [
           {
            "colorbar": {
             "outlinewidth": 0,
             "ticks": ""
            },
            "type": "mesh3d"
           }
          ],
          "parcoords": [
           {
            "line": {
             "colorbar": {
              "outlinewidth": 0,
              "ticks": ""
             }
            },
            "type": "parcoords"
           }
          ],
          "pie": [
           {
            "automargin": true,
            "type": "pie"
           }
          ],
          "scatter": [
           {
            "fillpattern": {
             "fillmode": "overlay",
             "size": 10,
             "solidity": 0.2
            },
            "type": "scatter"
           }
          ],
          "scatter3d": [
           {
            "line": {
             "colorbar": {
              "outlinewidth": 0,
              "ticks": ""
             }
            },
            "marker": {
             "colorbar": {
              "outlinewidth": 0,
              "ticks": ""
             }
            },
            "type": "scatter3d"
           }
          ],
          "scattercarpet": [
           {
            "marker": {
             "colorbar": {
              "outlinewidth": 0,
              "ticks": ""
             }
            },
            "type": "scattercarpet"
           }
          ],
          "scattergeo": [
           {
            "marker": {
             "colorbar": {
              "outlinewidth": 0,
              "ticks": ""
             }
            },
            "type": "scattergeo"
           }
          ],
          "scattergl": [
           {
            "marker": {
             "colorbar": {
              "outlinewidth": 0,
              "ticks": ""
             }
            },
            "type": "scattergl"
           }
          ],
          "scattermapbox": [
           {
            "marker": {
             "colorbar": {
              "outlinewidth": 0,
              "ticks": ""
             }
            },
            "type": "scattermapbox"
           }
          ],
          "scatterpolar": [
           {
            "marker": {
             "colorbar": {
              "outlinewidth": 0,
              "ticks": ""
             }
            },
            "type": "scatterpolar"
           }
          ],
          "scatterpolargl": [
           {
            "marker": {
             "colorbar": {
              "outlinewidth": 0,
              "ticks": ""
             }
            },
            "type": "scatterpolargl"
           }
          ],
          "scatterternary": [
           {
            "marker": {
             "colorbar": {
              "outlinewidth": 0,
              "ticks": ""
             }
            },
            "type": "scatterternary"
           }
          ],
          "surface": [
           {
            "colorbar": {
             "outlinewidth": 0,
             "ticks": ""
            },
            "colorscale": [
             [
              0,
              "#0d0887"
             ],
             [
              0.1111111111111111,
              "#46039f"
             ],
             [
              0.2222222222222222,
              "#7201a8"
             ],
             [
              0.3333333333333333,
              "#9c179e"
             ],
             [
              0.4444444444444444,
              "#bd3786"
             ],
             [
              0.5555555555555556,
              "#d8576b"
             ],
             [
              0.6666666666666666,
              "#ed7953"
             ],
             [
              0.7777777777777778,
              "#fb9f3a"
             ],
             [
              0.8888888888888888,
              "#fdca26"
             ],
             [
              1,
              "#f0f921"
             ]
            ],
            "type": "surface"
           }
          ],
          "table": [
           {
            "cells": {
             "fill": {
              "color": "#EBF0F8"
             },
             "line": {
              "color": "white"
             }
            },
            "header": {
             "fill": {
              "color": "#C8D4E3"
             },
             "line": {
              "color": "white"
             }
            },
            "type": "table"
           }
          ]
         },
         "layout": {
          "annotationdefaults": {
           "arrowcolor": "#2a3f5f",
           "arrowhead": 0,
           "arrowwidth": 1
          },
          "autotypenumbers": "strict",
          "coloraxis": {
           "colorbar": {
            "outlinewidth": 0,
            "ticks": ""
           }
          },
          "colorscale": {
           "diverging": [
            [
             0,
             "#8e0152"
            ],
            [
             0.1,
             "#c51b7d"
            ],
            [
             0.2,
             "#de77ae"
            ],
            [
             0.3,
             "#f1b6da"
            ],
            [
             0.4,
             "#fde0ef"
            ],
            [
             0.5,
             "#f7f7f7"
            ],
            [
             0.6,
             "#e6f5d0"
            ],
            [
             0.7,
             "#b8e186"
            ],
            [
             0.8,
             "#7fbc41"
            ],
            [
             0.9,
             "#4d9221"
            ],
            [
             1,
             "#276419"
            ]
           ],
           "sequential": [
            [
             0,
             "#0d0887"
            ],
            [
             0.1111111111111111,
             "#46039f"
            ],
            [
             0.2222222222222222,
             "#7201a8"
            ],
            [
             0.3333333333333333,
             "#9c179e"
            ],
            [
             0.4444444444444444,
             "#bd3786"
            ],
            [
             0.5555555555555556,
             "#d8576b"
            ],
            [
             0.6666666666666666,
             "#ed7953"
            ],
            [
             0.7777777777777778,
             "#fb9f3a"
            ],
            [
             0.8888888888888888,
             "#fdca26"
            ],
            [
             1,
             "#f0f921"
            ]
           ],
           "sequentialminus": [
            [
             0,
             "#0d0887"
            ],
            [
             0.1111111111111111,
             "#46039f"
            ],
            [
             0.2222222222222222,
             "#7201a8"
            ],
            [
             0.3333333333333333,
             "#9c179e"
            ],
            [
             0.4444444444444444,
             "#bd3786"
            ],
            [
             0.5555555555555556,
             "#d8576b"
            ],
            [
             0.6666666666666666,
             "#ed7953"
            ],
            [
             0.7777777777777778,
             "#fb9f3a"
            ],
            [
             0.8888888888888888,
             "#fdca26"
            ],
            [
             1,
             "#f0f921"
            ]
           ]
          },
          "colorway": [
           "#636efa",
           "#EF553B",
           "#00cc96",
           "#ab63fa",
           "#FFA15A",
           "#19d3f3",
           "#FF6692",
           "#B6E880",
           "#FF97FF",
           "#FECB52"
          ],
          "font": {
           "color": "#2a3f5f"
          },
          "geo": {
           "bgcolor": "white",
           "lakecolor": "white",
           "landcolor": "#E5ECF6",
           "showlakes": true,
           "showland": true,
           "subunitcolor": "white"
          },
          "hoverlabel": {
           "align": "left"
          },
          "hovermode": "closest",
          "mapbox": {
           "style": "light"
          },
          "paper_bgcolor": "white",
          "plot_bgcolor": "#E5ECF6",
          "polar": {
           "angularaxis": {
            "gridcolor": "white",
            "linecolor": "white",
            "ticks": ""
           },
           "bgcolor": "#E5ECF6",
           "radialaxis": {
            "gridcolor": "white",
            "linecolor": "white",
            "ticks": ""
           }
          },
          "scene": {
           "xaxis": {
            "backgroundcolor": "#E5ECF6",
            "gridcolor": "white",
            "gridwidth": 2,
            "linecolor": "white",
            "showbackground": true,
            "ticks": "",
            "zerolinecolor": "white"
           },
           "yaxis": {
            "backgroundcolor": "#E5ECF6",
            "gridcolor": "white",
            "gridwidth": 2,
            "linecolor": "white",
            "showbackground": true,
            "ticks": "",
            "zerolinecolor": "white"
           },
           "zaxis": {
            "backgroundcolor": "#E5ECF6",
            "gridcolor": "white",
            "gridwidth": 2,
            "linecolor": "white",
            "showbackground": true,
            "ticks": "",
            "zerolinecolor": "white"
           }
          },
          "shapedefaults": {
           "line": {
            "color": "#2a3f5f"
           }
          },
          "ternary": {
           "aaxis": {
            "gridcolor": "white",
            "linecolor": "white",
            "ticks": ""
           },
           "baxis": {
            "gridcolor": "white",
            "linecolor": "white",
            "ticks": ""
           },
           "bgcolor": "#E5ECF6",
           "caxis": {
            "gridcolor": "white",
            "linecolor": "white",
            "ticks": ""
           }
          },
          "title": {
           "x": 0.05
          },
          "xaxis": {
           "automargin": true,
           "gridcolor": "white",
           "linecolor": "white",
           "ticks": "",
           "title": {
            "standoff": 15
           },
           "zerolinecolor": "white",
           "zerolinewidth": 2
          },
          "yaxis": {
           "automargin": true,
           "gridcolor": "white",
           "linecolor": "white",
           "ticks": "",
           "title": {
            "standoff": 15
           },
           "zerolinecolor": "white",
           "zerolinewidth": 2
          }
         }
        }
       }
      },
      "text/html": [
       "<div>                            <div id=\"e61865db-5b33-4b1b-84ec-cb3d407a0971\" class=\"plotly-graph-div\" style=\"height:525px; width:100%;\"></div>            <script type=\"text/javascript\">                require([\"plotly\"], function(Plotly) {                    window.PLOTLYENV=window.PLOTLYENV || {};                                    if (document.getElementById(\"e61865db-5b33-4b1b-84ec-cb3d407a0971\")) {                    Plotly.newPlot(                        \"e61865db-5b33-4b1b-84ec-cb3d407a0971\",                        [{\"arrangement\":\"freeform\",\"dimensions\":[{\"categoryorder\":\"category ascending\",\"label\":\"small sample\",\"values\":[\"eqtl_only\",\"eqtl_only\",\"eqtl_only\",\"shared\",\"shared\",\"pcqtl_only\",\"shared\",\"eqtl_only\",\"pcqtl_only\",\"shared\",\"shared\",\"shared\",\"eqtl_only\",\"pcqtl_only\",\"eqtl_only\",\"pcqtl_only\",\"pcqtl_only\",\"shared\",\"eqtl_only\",\"eqtl_only\",\"shared\",\"pcqtl_only\",\"shared\",\"pcqtl_only\",\"eqtl_only\",\"shared\",\"eqtl_only\",\"shared\",\"eqtl_only\",\"shared\",\"eqtl_only\",\"eqtl_only\",\"eqtl_only\",\"eqtl_only\",\"eqtl_only\",\"shared\",\"eqtl_only\",\"shared\",\"eqtl_only\",\"pcqtl_only\",\"eqtl_only\",\"pcqtl_only\",\"eqtl_only\",\"eqtl_only\",\"shared\",\"shared\",\"eqtl_only\",\"pcqtl_only\",\"eqtl_only\",\"eqtl_only\",\"shared\",\"shared\",\"shared\",\"eqtl_only\",\"shared\",\"eqtl_only\",\"eqtl_only\",\"eqtl_only\",\"eqtl_only\",\"pcqtl_only\",\"pcqtl_only\",\"pcqtl_only\",\"eqtl_only\",\"shared\",\"eqtl_only\",\"eqtl_only\",\"eqtl_only\",\"shared\",\"eqtl_only\",\"eqtl_only\",\"shared\",\"shared\",\"pcqtl_only\",\"eqtl_only\",\"shared\",\"eqtl_only\",\"eqtl_only\",\"shared\",\"shared\",\"eqtl_only\",\"pcqtl_only\",\"eqtl_only\",\"eqtl_only\",\"eqtl_only\",\"eqtl_only\",\"eqtl_only\",\"pcqtl_only\",\"pcqtl_only\",\"shared\",\"eqtl_only\",\"eqtl_only\",\"shared\",\"eqtl_only\",\"eqtl_only\",\"pcqtl_only\",\"pcqtl_only\",\"shared\",\"shared\",\"eqtl_only\",\"pcqtl_only\",\"shared\",\"eqtl_only\",\"pcqtl_only\",\"shared\",\"eqtl_only\",\"eqtl_only\",\"pcqtl_only\",\"shared\",\"eqtl_only\",\"pcqtl_only\",\"eqtl_only\",\"shared\",\"eqtl_only\",\"shared\",\"eqtl_only\",\"shared\",\"eqtl_only\",\"pcqtl_only\",\"eqtl_only\",\"pcqtl_only\",\"eqtl_only\",\"pcqtl_only\",\"shared\",\"eqtl_only\",\"eqtl_only\",\"eqtl_only\",\"eqtl_only\",\"pcqtl_only\",\"eqtl_only\",\"shared\",\"eqtl_only\",\"shared\",\"eqtl_only\",\"pcqtl_only\",\"eqtl_only\",\"eqtl_only\",\"eqtl_only\",\"pcqtl_only\",\"eqtl_only\",\"pcqtl_only\",\"shared\",\"eqtl_only\",\"eqtl_only\",\"shared\",\"pcqtl_only\",\"shared\",\"eqtl_only\",\"shared\",\"shared\",\"eqtl_only\",\"eqtl_only\",\"pcqtl_only\",\"shared\",\"shared\",\"pcqtl_only\",\"shared\",\"shared\",\"pcqtl_only\",\"pcqtl_only\",\"shared\",\"pcqtl_only\",\"pcqtl_only\",\"pcqtl_only\",\"eqtl_only\",\"eqtl_only\",\"eqtl_only\",\"pcqtl_only\",\"shared\",\"eqtl_only\",\"shared\",\"eqtl_only\",\"shared\",\"eqtl_only\",\"shared\",\"pcqtl_only\",\"shared\",\"shared\",\"shared\",\"eqtl_only\",\"pcqtl_only\",\"shared\",\"eqtl_only\",\"shared\",\"shared\",\"shared\",\"shared\",\"shared\",\"shared\",\"shared\",\"shared\",\"shared\",\"shared\",\"shared\",\"shared\",\"eqtl_only\",\"shared\",\"shared\",\"shared\",\"shared\",\"shared\",\"pcqtl_only\",\"eqtl_only\",\"pcqtl_only\",\"eqtl_only\",\"pcqtl_only\",\"eqtl_only\",\"pcqtl_only\",\"pcqtl_only\",\"eqtl_only\",\"pcqtl_only\",\"pcqtl_only\",\"eqtl_only\",\"eqtl_only\",\"eqtl_only\",\"eqtl_only\",\"eqtl_only\",\"eqtl_only\",\"eqtl_only\",\"eqtl_only\",\"pcqtl_only\",\"eqtl_only\",\"eqtl_only\",\"eqtl_only\",\"pcqtl_only\",\"eqtl_only\",\"eqtl_only\",\"eqtl_only\",\"eqtl_only\",\"eqtl_only\",\"eqtl_only\",\"pcqtl_only\",\"eqtl_only\",\"eqtl_only\",\"eqtl_only\",\"pcqtl_only\",\"pcqtl_only\",\"pcqtl_only\",\"eqtl_only\",\"pcqtl_only\",\"eqtl_only\",\"eqtl_only\",\"pcqtl_only\",\"eqtl_only\",\"eqtl_only\",\"eqtl_only\",\"pcqtl_only\",\"eqtl_only\",\"eqtl_only\",\"eqtl_only\",\"eqtl_only\",\"pcqtl_only\",\"eqtl_only\",\"pcqtl_only\",\"eqtl_only\",\"eqtl_only\",\"pcqtl_only\",\"eqtl_only\",\"pcqtl_only\",\"eqtl_only\",\"pcqtl_only\",\"eqtl_only\",\"pcqtl_only\",\"eqtl_only\",\"eqtl_only\",\"pcqtl_only\",\"eqtl_only\",\"eqtl_only\",\"pcqtl_only\",\"pcqtl_only\",\"eqtl_only\",\"eqtl_only\",\"eqtl_only\",\"eqtl_only\",\"eqtl_only\",\"eqtl_only\",\"eqtl_only\",\"eqtl_only\",\"eqtl_only\",\"eqtl_only\",\"pcqtl_only\",\"pcqtl_only\",\"eqtl_only\",\"pcqtl_only\",\"eqtl_only\",\"pcqtl_only\",\"pcqtl_only\",\"eqtl_only\",\"eqtl_only\",\"pcqtl_only\",\"eqtl_only\",\"eqtl_only\",\"pcqtl_only\",\"eqtl_only\",\"pcqtl_only\",\"eqtl_only\",\"pcqtl_only\",\"pcqtl_only\",\"eqtl_only\",\"eqtl_only\",\"eqtl_only\",\"eqtl_only\",\"eqtl_only\",\"eqtl_only\",\"eqtl_only\",\"eqtl_only\",\"eqtl_only\",\"eqtl_only\",\"eqtl_only\",\"eqtl_only\",\"eqtl_only\",\"eqtl_only\",\"eqtl_only\",\"eqtl_only\",\"eqtl_only\",\"eqtl_only\",\"eqtl_only\",\"eqtl_only\",\"pcqtl_only\",\"eqtl_only\",\"pcqtl_only\",\"eqtl_only\",\"eqtl_only\",\"eqtl_only\",\"eqtl_only\",\"pcqtl_only\",\"eqtl_only\",\"pcqtl_only\",\"eqtl_only\",\"pcqtl_only\",\"eqtl_only\",\"eqtl_only\",\"eqtl_only\",\"eqtl_only\",\"eqtl_only\",\"pcqtl_only\",\"eqtl_only\",\"pcqtl_only\",\"pcqtl_only\",\"eqtl_only\",\"eqtl_only\",\"eqtl_only\",\"pcqtl_only\",\"pcqtl_only\",\"pcqtl_only\",\"eqtl_only\",\"eqtl_only\",\"eqtl_only\",\"eqtl_only\",\"eqtl_only\",\"eqtl_only\",\"pcqtl_only\",\"pcqtl_only\",\"eqtl_only\",\"pcqtl_only\",\"eqtl_only\",\"pcqtl_only\",\"eqtl_only\",\"eqtl_only\",\"eqtl_only\",\"eqtl_only\",\"pcqtl_only\",\"eqtl_only\",\"eqtl_only\",\"pcqtl_only\",\"pcqtl_only\",\"eqtl_only\",\"eqtl_only\",\"eqtl_only\",\"pcqtl_only\",\"eqtl_only\",\"eqtl_only\",\"eqtl_only\",\"pcqtl_only\",\"pcqtl_only\",\"pcqtl_only\",\"pcqtl_only\",\"eqtl_only\",\"pcqtl_only\",\"eqtl_only\",\"eqtl_only\",\"eqtl_only\",\"eqtl_only\",\"eqtl_only\",\"eqtl_only\",\"eqtl_only\",\"eqtl_only\",\"eqtl_only\",\"eqtl_only\",\"eqtl_only\",\"eqtl_only\",\"pcqtl_only\",\"pcqtl_only\",\"eqtl_only\",\"eqtl_only\",\"eqtl_only\",\"pcqtl_only\",\"eqtl_only\",\"pcqtl_only\",\"eqtl_only\",\"eqtl_only\",\"eqtl_only\",\"eqtl_only\",\"pcqtl_only\",\"eqtl_only\",\"eqtl_only\",\"pcqtl_only\",\"eqtl_only\",\"eqtl_only\",\"eqtl_only\",\"pcqtl_only\",\"eqtl_only\",\"eqtl_only\",\"eqtl_only\",\"pcqtl_only\",\"eqtl_only\",\"eqtl_only\",\"pcqtl_only\",\"eqtl_only\",\"eqtl_only\",\"eqtl_only\",\"pcqtl_only\",\"pcqtl_only\",\"eqtl_only\",\"eqtl_only\",\"pcqtl_only\",\"eqtl_only\",\"eqtl_only\",\"eqtl_only\",\"eqtl_only\",\"pcqtl_only\",\"eqtl_only\",\"eqtl_only\",\"pcqtl_only\",\"eqtl_only\",\"eqtl_only\",\"pcqtl_only\",\"eqtl_only\",\"pcqtl_only\",\"pcqtl_only\",\"eqtl_only\",\"eqtl_only\",\"eqtl_only\",\"eqtl_only\",\"eqtl_only\",\"eqtl_only\",\"eqtl_only\",\"eqtl_only\",\"eqtl_only\",\"pcqtl_only\",\"eqtl_only\",\"pcqtl_only\",\"eqtl_only\",\"pcqtl_only\",\"eqtl_only\",\"eqtl_only\",\"eqtl_only\",\"eqtl_only\",\"eqtl_only\",\"eqtl_only\",\"pcqtl_only\",\"pcqtl_only\",\"eqtl_only\",\"eqtl_only\"]},{\"categoryorder\":\"category ascending\",\"label\":\"large sample\",\"values\":[\"shared\",\"shared\",\"shared\",\"shared\",\"shared\",\"shared\",\"shared\",\"pcqtl_only\",\"pcqtl_only\",\"shared\",\"shared\",\"shared\",\"shared\",\"shared\",\"eqtl_only\",\"pcqtl_only\",\"shared\",\"shared\",\"shared\",\"shared\",\"shared\",\"shared\",\"shared\",\"shared\",\"shared\",\"shared\",\"shared\",\"shared\",\"shared\",\"eqtl_only\",\"shared\",\"shared\",\"pcqtl_only\",\"eqtl_only\",\"pcqtl_only\",\"shared\",\"shared\",\"shared\",\"shared\",\"shared\",\"shared\",\"shared\",\"eqtl_only\",\"shared\",\"shared\",\"shared\",\"shared\",\"shared\",\"shared\",\"shared\",\"shared\",\"shared\",\"shared\",\"shared\",\"eqtl_only\",\"shared\",\"shared\",\"shared\",\"shared\",\"shared\",\"shared\",\"shared\",\"shared\",\"shared\",\"shared\",\"shared\",\"shared\",\"shared\",\"shared\",\"shared\",\"shared\",\"shared\",\"shared\",\"shared\",\"shared\",\"shared\",\"shared\",\"shared\",\"shared\",\"shared\",\"eqtl_only\",\"pcqtl_only\",\"pcqtl_only\",\"shared\",\"eqtl_only\",\"pcqtl_only\",\"shared\",\"shared\",\"eqtl_only\",\"shared\",\"shared\",\"eqtl_only\",\"shared\",\"shared\",\"shared\",\"eqtl_only\",\"shared\",\"shared\",\"shared\",\"shared\",\"shared\",\"shared\",\"shared\",\"shared\",\"pcqtl_only\",\"shared\",\"eqtl_only\",\"shared\",\"shared\",\"shared\",\"shared\",\"shared\",\"shared\",\"shared\",\"shared\",\"pcqtl_only\",\"shared\",\"shared\",\"shared\",\"shared\",\"shared\",\"pcqtl_only\",\"eqtl_only\",\"eqtl_only\",\"shared\",\"shared\",\"shared\",\"shared\",\"shared\",\"shared\",\"shared\",\"shared\",\"shared\",\"eqtl_only\",\"shared\",\"shared\",\"shared\",\"pcqtl_only\",\"shared\",\"shared\",\"eqtl_only\",\"eqtl_only\",\"shared\",\"shared\",\"shared\",\"shared\",\"shared\",\"eqtl_only\",\"pcqtl_only\",\"eqtl_only\",\"shared\",\"eqtl_only\",\"shared\",\"shared\",\"eqtl_only\",\"shared\",\"shared\",\"shared\",\"shared\",\"shared\",\"shared\",\"shared\",\"shared\",\"pcqtl_only\",\"shared\",\"shared\",\"eqtl_only\",\"shared\",\"shared\",\"eqtl_only\",\"shared\",\"shared\",\"shared\",\"shared\",\"shared\",\"shared\",\"shared\",\"shared\",\"shared\",\"shared\",\"shared\",\"eqtl_only\",\"shared\",\"neither\",\"neither\",\"neither\",\"neither\",\"neither\",\"neither\",\"neither\",\"neither\",\"neither\",\"neither\",\"neither\",\"neither\",\"neither\",\"neither\",\"neither\",\"neither\",\"neither\",\"neither\",\"neither\",\"neither\",\"neither\",\"neither\",\"neither\",\"neither\",\"neither\",\"neither\",\"neither\",\"neither\",\"neither\",\"neither\",\"neither\",\"neither\",\"neither\",\"neither\",\"neither\",\"neither\",\"neither\",\"neither\",\"neither\",\"neither\",\"neither\",\"neither\",\"neither\",\"neither\",\"neither\",\"neither\",\"neither\",\"neither\",\"neither\",\"neither\",\"neither\",\"neither\",\"neither\",\"neither\",\"neither\",\"neither\",\"neither\",\"neither\",\"neither\",\"neither\",\"neither\",\"neither\",\"neither\",\"neither\",\"neither\",\"neither\",\"neither\",\"neither\",\"neither\",\"neither\",\"neither\",\"neither\",\"neither\",\"neither\",\"neither\",\"neither\",\"neither\",\"neither\",\"neither\",\"neither\",\"neither\",\"neither\",\"neither\",\"neither\",\"neither\",\"neither\",\"neither\",\"neither\",\"neither\",\"neither\",\"neither\",\"neither\",\"neither\",\"neither\",\"neither\",\"neither\",\"neither\",\"neither\",\"neither\",\"neither\",\"neither\",\"neither\",\"neither\",\"neither\",\"neither\",\"neither\",\"neither\",\"neither\",\"neither\",\"neither\",\"neither\",\"neither\",\"neither\",\"neither\",\"neither\",\"neither\",\"neither\",\"neither\",\"neither\",\"neither\",\"neither\",\"neither\",\"neither\",\"neither\",\"neither\",\"neither\",\"neither\",\"neither\",\"neither\",\"neither\",\"neither\",\"neither\",\"neither\",\"neither\",\"neither\",\"neither\",\"neither\",\"neither\",\"neither\",\"neither\",\"neither\",\"neither\",\"neither\",\"neither\",\"neither\",\"neither\",\"neither\",\"neither\",\"neither\",\"neither\",\"neither\",\"neither\",\"neither\",\"neither\",\"neither\",\"neither\",\"neither\",\"neither\",\"neither\",\"neither\",\"neither\",\"neither\",\"neither\",\"neither\",\"neither\",\"neither\",\"neither\",\"neither\",\"neither\",\"neither\",\"neither\",\"neither\",\"neither\",\"neither\",\"neither\",\"neither\",\"neither\",\"neither\",\"neither\",\"neither\",\"neither\",\"neither\",\"neither\",\"neither\",\"neither\",\"neither\",\"neither\",\"neither\",\"neither\",\"neither\",\"neither\",\"neither\",\"neither\",\"neither\",\"neither\",\"neither\",\"neither\",\"neither\",\"neither\",\"neither\",\"neither\",\"neither\",\"neither\",\"neither\",\"neither\",\"neither\",\"neither\",\"neither\",\"neither\",\"neither\",\"neither\",\"neither\",\"neither\",\"neither\",\"neither\",\"neither\",\"neither\",\"neither\",\"neither\",\"neither\",\"neither\",\"neither\",\"neither\",\"neither\",\"neither\",\"neither\",\"neither\",\"neither\",\"neither\",\"neither\",\"neither\",\"neither\",\"neither\",\"neither\",\"neither\",\"neither\",\"neither\",\"neither\",\"neither\",\"neither\",\"neither\",\"neither\",\"neither\",\"neither\",\"neither\",\"neither\",\"neither\",\"neither\",\"neither\",\"neither\",\"neither\",\"neither\",\"neither\",\"neither\",\"neither\",\"neither\",\"neither\",\"neither\",\"neither\",\"neither\",\"neither\",\"neither\",\"neither\",\"neither\",\"neither\",\"neither\",\"neither\",\"neither\",\"neither\",\"neither\",\"neither\",\"neither\",\"neither\",\"neither\",\"neither\",\"neither\",\"neither\",\"neither\",\"neither\",\"neither\"]}],\"hoverinfo\":\"count+probability\",\"hoveron\":\"color\",\"type\":\"parcats\"}],                        {\"template\":{\"data\":{\"histogram2dcontour\":[{\"type\":\"histogram2dcontour\",\"colorbar\":{\"outlinewidth\":0,\"ticks\":\"\"},\"colorscale\":[[0.0,\"#0d0887\"],[0.1111111111111111,\"#46039f\"],[0.2222222222222222,\"#7201a8\"],[0.3333333333333333,\"#9c179e\"],[0.4444444444444444,\"#bd3786\"],[0.5555555555555556,\"#d8576b\"],[0.6666666666666666,\"#ed7953\"],[0.7777777777777778,\"#fb9f3a\"],[0.8888888888888888,\"#fdca26\"],[1.0,\"#f0f921\"]]}],\"choropleth\":[{\"type\":\"choropleth\",\"colorbar\":{\"outlinewidth\":0,\"ticks\":\"\"}}],\"histogram2d\":[{\"type\":\"histogram2d\",\"colorbar\":{\"outlinewidth\":0,\"ticks\":\"\"},\"colorscale\":[[0.0,\"#0d0887\"],[0.1111111111111111,\"#46039f\"],[0.2222222222222222,\"#7201a8\"],[0.3333333333333333,\"#9c179e\"],[0.4444444444444444,\"#bd3786\"],[0.5555555555555556,\"#d8576b\"],[0.6666666666666666,\"#ed7953\"],[0.7777777777777778,\"#fb9f3a\"],[0.8888888888888888,\"#fdca26\"],[1.0,\"#f0f921\"]]}],\"heatmap\":[{\"type\":\"heatmap\",\"colorbar\":{\"outlinewidth\":0,\"ticks\":\"\"},\"colorscale\":[[0.0,\"#0d0887\"],[0.1111111111111111,\"#46039f\"],[0.2222222222222222,\"#7201a8\"],[0.3333333333333333,\"#9c179e\"],[0.4444444444444444,\"#bd3786\"],[0.5555555555555556,\"#d8576b\"],[0.6666666666666666,\"#ed7953\"],[0.7777777777777778,\"#fb9f3a\"],[0.8888888888888888,\"#fdca26\"],[1.0,\"#f0f921\"]]}],\"heatmapgl\":[{\"type\":\"heatmapgl\",\"colorbar\":{\"outlinewidth\":0,\"ticks\":\"\"},\"colorscale\":[[0.0,\"#0d0887\"],[0.1111111111111111,\"#46039f\"],[0.2222222222222222,\"#7201a8\"],[0.3333333333333333,\"#9c179e\"],[0.4444444444444444,\"#bd3786\"],[0.5555555555555556,\"#d8576b\"],[0.6666666666666666,\"#ed7953\"],[0.7777777777777778,\"#fb9f3a\"],[0.8888888888888888,\"#fdca26\"],[1.0,\"#f0f921\"]]}],\"contourcarpet\":[{\"type\":\"contourcarpet\",\"colorbar\":{\"outlinewidth\":0,\"ticks\":\"\"}}],\"contour\":[{\"type\":\"contour\",\"colorbar\":{\"outlinewidth\":0,\"ticks\":\"\"},\"colorscale\":[[0.0,\"#0d0887\"],[0.1111111111111111,\"#46039f\"],[0.2222222222222222,\"#7201a8\"],[0.3333333333333333,\"#9c179e\"],[0.4444444444444444,\"#bd3786\"],[0.5555555555555556,\"#d8576b\"],[0.6666666666666666,\"#ed7953\"],[0.7777777777777778,\"#fb9f3a\"],[0.8888888888888888,\"#fdca26\"],[1.0,\"#f0f921\"]]}],\"surface\":[{\"type\":\"surface\",\"colorbar\":{\"outlinewidth\":0,\"ticks\":\"\"},\"colorscale\":[[0.0,\"#0d0887\"],[0.1111111111111111,\"#46039f\"],[0.2222222222222222,\"#7201a8\"],[0.3333333333333333,\"#9c179e\"],[0.4444444444444444,\"#bd3786\"],[0.5555555555555556,\"#d8576b\"],[0.6666666666666666,\"#ed7953\"],[0.7777777777777778,\"#fb9f3a\"],[0.8888888888888888,\"#fdca26\"],[1.0,\"#f0f921\"]]}],\"mesh3d\":[{\"type\":\"mesh3d\",\"colorbar\":{\"outlinewidth\":0,\"ticks\":\"\"}}],\"scatter\":[{\"fillpattern\":{\"fillmode\":\"overlay\",\"size\":10,\"solidity\":0.2},\"type\":\"scatter\"}],\"parcoords\":[{\"type\":\"parcoords\",\"line\":{\"colorbar\":{\"outlinewidth\":0,\"ticks\":\"\"}}}],\"scatterpolargl\":[{\"type\":\"scatterpolargl\",\"marker\":{\"colorbar\":{\"outlinewidth\":0,\"ticks\":\"\"}}}],\"bar\":[{\"error_x\":{\"color\":\"#2a3f5f\"},\"error_y\":{\"color\":\"#2a3f5f\"},\"marker\":{\"line\":{\"color\":\"#E5ECF6\",\"width\":0.5},\"pattern\":{\"fillmode\":\"overlay\",\"size\":10,\"solidity\":0.2}},\"type\":\"bar\"}],\"scattergeo\":[{\"type\":\"scattergeo\",\"marker\":{\"colorbar\":{\"outlinewidth\":0,\"ticks\":\"\"}}}],\"scatterpolar\":[{\"type\":\"scatterpolar\",\"marker\":{\"colorbar\":{\"outlinewidth\":0,\"ticks\":\"\"}}}],\"histogram\":[{\"marker\":{\"pattern\":{\"fillmode\":\"overlay\",\"size\":10,\"solidity\":0.2}},\"type\":\"histogram\"}],\"scattergl\":[{\"type\":\"scattergl\",\"marker\":{\"colorbar\":{\"outlinewidth\":0,\"ticks\":\"\"}}}],\"scatter3d\":[{\"type\":\"scatter3d\",\"line\":{\"colorbar\":{\"outlinewidth\":0,\"ticks\":\"\"}},\"marker\":{\"colorbar\":{\"outlinewidth\":0,\"ticks\":\"\"}}}],\"scattermapbox\":[{\"type\":\"scattermapbox\",\"marker\":{\"colorbar\":{\"outlinewidth\":0,\"ticks\":\"\"}}}],\"scatterternary\":[{\"type\":\"scatterternary\",\"marker\":{\"colorbar\":{\"outlinewidth\":0,\"ticks\":\"\"}}}],\"scattercarpet\":[{\"type\":\"scattercarpet\",\"marker\":{\"colorbar\":{\"outlinewidth\":0,\"ticks\":\"\"}}}],\"carpet\":[{\"aaxis\":{\"endlinecolor\":\"#2a3f5f\",\"gridcolor\":\"white\",\"linecolor\":\"white\",\"minorgridcolor\":\"white\",\"startlinecolor\":\"#2a3f5f\"},\"baxis\":{\"endlinecolor\":\"#2a3f5f\",\"gridcolor\":\"white\",\"linecolor\":\"white\",\"minorgridcolor\":\"white\",\"startlinecolor\":\"#2a3f5f\"},\"type\":\"carpet\"}],\"table\":[{\"cells\":{\"fill\":{\"color\":\"#EBF0F8\"},\"line\":{\"color\":\"white\"}},\"header\":{\"fill\":{\"color\":\"#C8D4E3\"},\"line\":{\"color\":\"white\"}},\"type\":\"table\"}],\"barpolar\":[{\"marker\":{\"line\":{\"color\":\"#E5ECF6\",\"width\":0.5},\"pattern\":{\"fillmode\":\"overlay\",\"size\":10,\"solidity\":0.2}},\"type\":\"barpolar\"}],\"pie\":[{\"automargin\":true,\"type\":\"pie\"}]},\"layout\":{\"autotypenumbers\":\"strict\",\"colorway\":[\"#636efa\",\"#EF553B\",\"#00cc96\",\"#ab63fa\",\"#FFA15A\",\"#19d3f3\",\"#FF6692\",\"#B6E880\",\"#FF97FF\",\"#FECB52\"],\"font\":{\"color\":\"#2a3f5f\"},\"hovermode\":\"closest\",\"hoverlabel\":{\"align\":\"left\"},\"paper_bgcolor\":\"white\",\"plot_bgcolor\":\"#E5ECF6\",\"polar\":{\"bgcolor\":\"#E5ECF6\",\"angularaxis\":{\"gridcolor\":\"white\",\"linecolor\":\"white\",\"ticks\":\"\"},\"radialaxis\":{\"gridcolor\":\"white\",\"linecolor\":\"white\",\"ticks\":\"\"}},\"ternary\":{\"bgcolor\":\"#E5ECF6\",\"aaxis\":{\"gridcolor\":\"white\",\"linecolor\":\"white\",\"ticks\":\"\"},\"baxis\":{\"gridcolor\":\"white\",\"linecolor\":\"white\",\"ticks\":\"\"},\"caxis\":{\"gridcolor\":\"white\",\"linecolor\":\"white\",\"ticks\":\"\"}},\"coloraxis\":{\"colorbar\":{\"outlinewidth\":0,\"ticks\":\"\"}},\"colorscale\":{\"sequential\":[[0.0,\"#0d0887\"],[0.1111111111111111,\"#46039f\"],[0.2222222222222222,\"#7201a8\"],[0.3333333333333333,\"#9c179e\"],[0.4444444444444444,\"#bd3786\"],[0.5555555555555556,\"#d8576b\"],[0.6666666666666666,\"#ed7953\"],[0.7777777777777778,\"#fb9f3a\"],[0.8888888888888888,\"#fdca26\"],[1.0,\"#f0f921\"]],\"sequentialminus\":[[0.0,\"#0d0887\"],[0.1111111111111111,\"#46039f\"],[0.2222222222222222,\"#7201a8\"],[0.3333333333333333,\"#9c179e\"],[0.4444444444444444,\"#bd3786\"],[0.5555555555555556,\"#d8576b\"],[0.6666666666666666,\"#ed7953\"],[0.7777777777777778,\"#fb9f3a\"],[0.8888888888888888,\"#fdca26\"],[1.0,\"#f0f921\"]],\"diverging\":[[0,\"#8e0152\"],[0.1,\"#c51b7d\"],[0.2,\"#de77ae\"],[0.3,\"#f1b6da\"],[0.4,\"#fde0ef\"],[0.5,\"#f7f7f7\"],[0.6,\"#e6f5d0\"],[0.7,\"#b8e186\"],[0.8,\"#7fbc41\"],[0.9,\"#4d9221\"],[1,\"#276419\"]]},\"xaxis\":{\"gridcolor\":\"white\",\"linecolor\":\"white\",\"ticks\":\"\",\"title\":{\"standoff\":15},\"zerolinecolor\":\"white\",\"automargin\":true,\"zerolinewidth\":2},\"yaxis\":{\"gridcolor\":\"white\",\"linecolor\":\"white\",\"ticks\":\"\",\"title\":{\"standoff\":15},\"zerolinecolor\":\"white\",\"automargin\":true,\"zerolinewidth\":2},\"scene\":{\"xaxis\":{\"backgroundcolor\":\"#E5ECF6\",\"gridcolor\":\"white\",\"linecolor\":\"white\",\"showbackground\":true,\"ticks\":\"\",\"zerolinecolor\":\"white\",\"gridwidth\":2},\"yaxis\":{\"backgroundcolor\":\"#E5ECF6\",\"gridcolor\":\"white\",\"linecolor\":\"white\",\"showbackground\":true,\"ticks\":\"\",\"zerolinecolor\":\"white\",\"gridwidth\":2},\"zaxis\":{\"backgroundcolor\":\"#E5ECF6\",\"gridcolor\":\"white\",\"linecolor\":\"white\",\"showbackground\":true,\"ticks\":\"\",\"zerolinecolor\":\"white\",\"gridwidth\":2}},\"shapedefaults\":{\"line\":{\"color\":\"#2a3f5f\"}},\"annotationdefaults\":{\"arrowcolor\":\"#2a3f5f\",\"arrowhead\":0,\"arrowwidth\":1},\"geo\":{\"bgcolor\":\"white\",\"landcolor\":\"#E5ECF6\",\"subunitcolor\":\"white\",\"showland\":true,\"showlakes\":true,\"lakecolor\":\"white\"},\"title\":{\"x\":0.05},\"mapbox\":{\"style\":\"light\"}}}},                        {\"responsive\": true}                    ).then(function(){\n",
       "                            \n",
       "var gd = document.getElementById('e61865db-5b33-4b1b-84ec-cb3d407a0971');\n",
       "var x = new MutationObserver(function (mutations, observer) {{\n",
       "        var display = window.getComputedStyle(gd).display;\n",
       "        if (!display || display === 'none') {{\n",
       "            console.log([gd, 'removed!']);\n",
       "            Plotly.purge(gd);\n",
       "            observer.disconnect();\n",
       "        }}\n",
       "}});\n",
       "\n",
       "// Listen for the removal of the full notebook cells\n",
       "var notebookContainer = gd.closest('#notebook-container');\n",
       "if (notebookContainer) {{\n",
       "    x.observe(notebookContainer, {childList: true});\n",
       "}}\n",
       "\n",
       "// Listen for the clearing of the current output cell\n",
       "var outputEl = gd.closest('.output');\n",
       "if (outputEl) {{\n",
       "    x.observe(outputEl, {childList: true});\n",
       "}}\n",
       "\n",
       "                        })                };                });            </script>        </div>"
      ]
     },
     "metadata": {},
     "output_type": "display_data"
    }
   ],
   "source": [
    "# make a flow diagram\n",
    "\n",
    "import plotly.graph_objects as go\n",
    "\n",
    "# Create dimensions\n",
    "sub_dim = go.parcats.Dimension(\n",
    "    values=coloc_annotated_signals.exclusive_label_sub,\n",
    "    categoryorder='category ascending', label=\"small sample\"\n",
    ")\n",
    "\n",
    "full_dim = go.parcats.Dimension(\n",
    "    values=coloc_annotated_signals.exclusive_label_full,\n",
    "    categoryorder='category ascending', label=\"large sample\"\n",
    ")\n",
    "\n",
    "# Create parcats trace\n",
    "color = coloc_annotated_signals.exclusive_label_sub;\n",
    "colorscale = [['eqtl_only', 'lightsteelblue'], ['pcqtl_only', 'mediumseagreen'], ['shared', 'aliceblue']];\n",
    "\n",
    "fig = go.Figure(data = [go.Parcats(dimensions=[sub_dim, full_dim],\n",
    "        #line={'color': color, 'colorscale': colorscale},\n",
    "        hoveron='color', hoverinfo='count+probability',\n",
    "        arrangement='freeform')])\n",
    "\n",
    "fig.show()\n",
    "\n"
   ]
  },
  {
   "cell_type": "markdown",
   "metadata": {},
   "source": [
    "## for 100-200-300-full"
   ]
  },
  {
   "cell_type": "code",
   "execution_count": null,
   "metadata": {},
   "outputs": [
    {
     "name": "stdout",
     "output_type": "stream",
     "text": [
      "120 small sample share a lead var with a large sample\n",
      "343 of the small sample signals don't share a lead var, will need to be colocd\n",
      "2285 colocs if we do every combination\n",
      "1515 colocs if we do 1 credible set per signal group\n"
     ]
    },
    {
     "name": "stderr",
     "output_type": "stream",
     "text": [
      "/local/scratch/klawren/slrmtmp.46962791/ipykernel_23369/3045040756.py:36: SettingWithCopyWarning:\n",
      "\n",
      "\n",
      "A value is trying to be set on a copy of a slice from a DataFrame.\n",
      "Try using .loc[row_indexer,col_indexer] = value instead\n",
      "\n",
      "See the caveats in the documentation: https://pandas.pydata.org/pandas-docs/stable/user_guide/indexing.html#returning-a-view-versus-a-copy\n",
      "\n",
      "/local/scratch/klawren/slrmtmp.46962791/ipykernel_23369/3045040756.py:61: SettingWithCopyWarning:\n",
      "\n",
      "\n",
      "A value is trying to be set on a copy of a slice from a DataFrame.\n",
      "Try using .loc[row_indexer,col_indexer] = value instead\n",
      "\n",
      "See the caveats in the documentation: https://pandas.pydata.org/pandas-docs/stable/user_guide/indexing.html#returning-a-view-versus-a-copy\n",
      "\n"
     ]
    }
   ],
   "source": [
    "# for groups in the 100 to groups in the 200\n",
    "subsample_size_1 = 100\n",
    "subsample_size_2 = 200\n",
    "lead_var_shared_200 = get_lead_var_shared(sub_signals[sub_signals['num_samples']==subsample_size_1], sub_signals[sub_signals['num_samples']==subsample_size_2])\n",
    "groups_merged_pruned_200 = get_coloc_subsample(sub_configs[subsample_size_1], sub_signals[sub_signals['num_samples']==subsample_size_1], sub_configs[subsample_size_2], sub_signals[sub_signals['num_samples']==subsample_size_2], lead_var_shared)\n",
    "\n",
    "# for groups in the 100 to groups in the 300\n",
    "subsample_size_2 = 300\n",
    "lead_var_shared_300 = get_lead_var_shared(sub_signals[sub_signals['num_samples']==subsample_size_1], sub_signals[sub_signals['num_samples']==subsample_size_2])\n",
    "groups_merged_pruned_300 = get_coloc_subsample(sub_configs[subsample_size_1], sub_signals[sub_signals['num_samples']==subsample_size_1], sub_configs[subsample_size_2], sub_signals[sub_signals['num_samples']==subsample_size_2], lead_var_shared)"
   ]
  },
  {
   "cell_type": "code",
   "execution_count": 319,
   "metadata": {},
   "outputs": [
    {
     "name": "stderr",
     "output_type": "stream",
     "text": [
      "/home/klawren/micromamba/envs/tensorqtl_r/lib/python3.8/site-packages/rpy2/robjects/pandas2ri.py:65: UserWarning:\n",
      "\n",
      "Error while trying to convert the column \"lead_var_set_sub\". Fall back to string conversion. The error is: <class 'list'>\n",
      "\n",
      "/home/klawren/micromamba/envs/tensorqtl_r/lib/python3.8/site-packages/rpy2/robjects/pandas2ri.py:65: UserWarning:\n",
      "\n",
      "Error while trying to convert the column \"lead_var_set_full\". Fall back to string conversion. The error is: <class 'list'>\n",
      "\n"
     ]
    },
    {
     "name": "stdout",
     "output_type": "stream",
     "text": [
      "  |==============================================================================================================================================================================================| 100%\n",
      "[1] \"Total skipped files: 0\"\n"
     ]
    }
   ],
   "source": [
    "%%R -i groups_merged_pruned_200 -w 3 -h 5 --units in -r 200 -o groups_merged_pruned_200\n",
    "# run coloc for the pruned set in R\n",
    "groups_merged_pruned_200 <- get_coloc_from_df(groups_merged_pruned_200)"
   ]
  },
  {
   "cell_type": "code",
   "execution_count": null,
   "metadata": {},
   "outputs": [],
   "source": [
    "%%R -i groups_merged_pruned_300 -w 3 -h 5 --units in -r 200 -o groups_merged_pruned_300\n",
    "# run coloc for the pruned set in R\n",
    "groups_merged_pruned_300 <- get_coloc_from_df(groups_merged_pruned_300)"
   ]
  },
  {
   "cell_type": "code",
   "execution_count": null,
   "metadata": {},
   "outputs": [
    {
     "name": "stdout",
     "output_type": "stream",
     "text": [
      "87 subsignals had a signifigant coloc\n",
      "256 signals non overlapping\n",
      "463 signals had a coloc or shared lead var\n"
     ]
    },
    {
     "name": "stderr",
     "output_type": "stream",
     "text": [
      "/local/scratch/klawren/slrmtmp.46962791/ipykernel_23369/1516611404.py:91: SettingWithCopyWarning:\n",
      "\n",
      "\n",
      "A value is trying to be set on a copy of a slice from a DataFrame.\n",
      "Try using .loc[row_indexer,col_indexer] = value instead\n",
      "\n",
      "See the caveats in the documentation: https://pandas.pydata.org/pandas-docs/stable/user_guide/indexing.html#returning-a-view-versus-a-copy\n",
      "\n",
      "/local/scratch/klawren/slrmtmp.46962791/ipykernel_23369/1516611404.py:92: SettingWithCopyWarning:\n",
      "\n",
      "\n",
      "A value is trying to be set on a copy of a slice from a DataFrame.\n",
      "Try using .loc[row_indexer,col_indexer] = value instead\n",
      "\n",
      "See the caveats in the documentation: https://pandas.pydata.org/pandas-docs/stable/user_guide/indexing.html#returning-a-view-versus-a-copy\n",
      "\n",
      "/local/scratch/klawren/slrmtmp.46962791/ipykernel_23369/1516611404.py:93: SettingWithCopyWarning:\n",
      "\n",
      "\n",
      "A value is trying to be set on a copy of a slice from a DataFrame.\n",
      "Try using .loc[row_indexer,col_indexer] = value instead\n",
      "\n",
      "See the caveats in the documentation: https://pandas.pydata.org/pandas-docs/stable/user_guide/indexing.html#returning-a-view-versus-a-copy\n",
      "\n",
      "/local/scratch/klawren/slrmtmp.46962791/ipykernel_23369/1516611404.py:94: SettingWithCopyWarning:\n",
      "\n",
      "\n",
      "A value is trying to be set on a copy of a slice from a DataFrame.\n",
      "Try using .loc[row_indexer,col_indexer] = value instead\n",
      "\n",
      "See the caveats in the documentation: https://pandas.pydata.org/pandas-docs/stable/user_guide/indexing.html#returning-a-view-versus-a-copy\n",
      "\n",
      "/local/scratch/klawren/slrmtmp.46962791/ipykernel_23369/1516611404.py:95: SettingWithCopyWarning:\n",
      "\n",
      "\n",
      "A value is trying to be set on a copy of a slice from a DataFrame.\n",
      "Try using .loc[row_indexer,col_indexer] = value instead\n",
      "\n",
      "See the caveats in the documentation: https://pandas.pydata.org/pandas-docs/stable/user_guide/indexing.html#returning-a-view-versus-a-copy\n",
      "\n"
     ]
    },
    {
     "data": {
      "image/png": "[encoded data removed]",
      "text/plain": [
       "<Figure size 640x480 with 1 Axes>"
      ]
     },
     "metadata": {},
     "output_type": "display_data"
    },
    {
     "ename": "NameError",
     "evalue": "name 'lead_var_shared_300' is not defined",
     "output_type": "error",
     "traceback": [
      "\u001b[0;31m---------------------------------------------------------------------------\u001b[0m",
      "\u001b[0;31mNameError\u001b[0m                                 Traceback (most recent call last)",
      "Cell \u001b[0;32mIn[336], line 6\u001b[0m\n\u001b[1;32m      4\u001b[0m plt\u001b[38;5;241m.\u001b[39mtitle(\u001b[38;5;124m'\u001b[39m\u001b[38;5;124m100 to 200\u001b[39m\u001b[38;5;124m'\u001b[39m)\n\u001b[1;32m      5\u001b[0m plt\u001b[38;5;241m.\u001b[39mshow()\n\u001b[0;32m----> 6\u001b[0m coloc_annotated_signals_300 \u001b[38;5;241m=\u001b[39m combine_signals(sub_signals[sub_signals[\u001b[38;5;124m'\u001b[39m\u001b[38;5;124mnum_samples\u001b[39m\u001b[38;5;124m'\u001b[39m]\u001b[38;5;241m==\u001b[39m\u001b[38;5;241m100\u001b[39m], \u001b[43mlead_var_shared_300\u001b[49m, groups_merged_pruned_300)\n",
      "\u001b[0;31mNameError\u001b[0m: name 'lead_var_shared_300' is not defined"
     ]
    }
   ],
   "source": [
    "# combine the shared lead var, coloc'd, and unique signals\n",
    "coloc_annotated_signals_200 = combine_signals(sub_signals[sub_signals['num_samples']==100], lead_var_shared_200, groups_merged_pruned_200)\n",
    "coloc_annotated_signals_300 = combine_signals(sub_signals[sub_signals['num_samples']==100], lead_var_shared_300, groups_merged_pruned_300)"
   ]
  },
  {
   "cell_type": "code",
   "execution_count": null,
   "metadata": {},
   "outputs": [],
   "source": [
    "sns.histplot(coloc_annotated_signals_200, x='exclusive_label_sub', hue='exclusive_label_full', multiple='stack')\n",
    "plt.title('100 to 200')\n",
    "plt.show()\n",
    "sns.histplot(coloc_annotated_signals_300, x='exclusive_label_sub', hue='exclusive_label_full', multiple='stack')\n",
    "plt.title('100 to 300')\n",
    "plt.show()"
   ]
  },
  {
   "cell_type": "code",
   "execution_count": 331,
   "metadata": {},
   "outputs": [
    {
     "data": {
      "text/html": [
       "<div>\n",
       "<style scoped>\n",
       "    .dataframe tbody tr th:only-of-type {\n",
       "        vertical-align: middle;\n",
       "    }\n",
       "\n",
       "    .dataframe tbody tr th {\n",
       "        vertical-align: top;\n",
       "    }\n",
       "\n",
       "    .dataframe thead th {\n",
       "        text-align: right;\n",
       "    }\n",
       "</style>\n",
       "<table border=\"1\" class=\"dataframe\">\n",
       "  <thead>\n",
       "    <tr style=\"text-align: right;\">\n",
       "      <th></th>\n",
       "      <th>signal_id_sub</th>\n",
       "      <th>exclusive_label_sub</th>\n",
       "      <th>exclusive_label_full</th>\n",
       "    </tr>\n",
       "  </thead>\n",
       "  <tbody>\n",
       "    <tr>\n",
       "      <th>0</th>\n",
       "      <td>ENSG00000006282.20_ENSG00000006283.17_e_ENSG00...</td>\n",
       "      <td>eqtl_only</td>\n",
       "      <td>shared</td>\n",
       "    </tr>\n",
       "    <tr>\n",
       "      <th>1</th>\n",
       "      <td>ENSG00000006282.20_ENSG00000006283.17_e_ENSG00...</td>\n",
       "      <td>eqtl_only</td>\n",
       "      <td>shared</td>\n",
       "    </tr>\n",
       "    <tr>\n",
       "      <th>2</th>\n",
       "      <td>ENSG00000007341.18_ENSG00000116489.12_e_ENSG00...</td>\n",
       "      <td>eqtl_only</td>\n",
       "      <td>shared</td>\n",
       "    </tr>\n",
       "    <tr>\n",
       "      <th>3</th>\n",
       "      <td>ENSG00000010626.14_ENSG00000111671.9_e_ENSG000...</td>\n",
       "      <td>shared</td>\n",
       "      <td>shared</td>\n",
       "    </tr>\n",
       "    <tr>\n",
       "      <th>4</th>\n",
       "      <td>ENSG00000010626.14_ENSG00000111671.9_e_ENSG000...</td>\n",
       "      <td>shared</td>\n",
       "      <td>shared</td>\n",
       "    </tr>\n",
       "    <tr>\n",
       "      <th>...</th>\n",
       "      <td>...</td>\n",
       "      <td>...</td>\n",
       "      <td>...</td>\n",
       "    </tr>\n",
       "    <tr>\n",
       "      <th>454</th>\n",
       "      <td>NaN</td>\n",
       "      <td>eqtl_only</td>\n",
       "      <td>neither</td>\n",
       "    </tr>\n",
       "    <tr>\n",
       "      <th>455</th>\n",
       "      <td>NaN</td>\n",
       "      <td>pcqtl_only</td>\n",
       "      <td>neither</td>\n",
       "    </tr>\n",
       "    <tr>\n",
       "      <th>457</th>\n",
       "      <td>NaN</td>\n",
       "      <td>pcqtl_only</td>\n",
       "      <td>neither</td>\n",
       "    </tr>\n",
       "    <tr>\n",
       "      <th>458</th>\n",
       "      <td>NaN</td>\n",
       "      <td>eqtl_only</td>\n",
       "      <td>neither</td>\n",
       "    </tr>\n",
       "    <tr>\n",
       "      <th>461</th>\n",
       "      <td>NaN</td>\n",
       "      <td>eqtl_only</td>\n",
       "      <td>neither</td>\n",
       "    </tr>\n",
       "  </tbody>\n",
       "</table>\n",
       "<p>463 rows × 3 columns</p>\n",
       "</div>"
      ],
      "text/plain": [
       "                                         signal_id_sub exclusive_label_sub  \\\n",
       "0    ENSG00000006282.20_ENSG00000006283.17_e_ENSG00...           eqtl_only   \n",
       "1    ENSG00000006282.20_ENSG00000006283.17_e_ENSG00...           eqtl_only   \n",
       "2    ENSG00000007341.18_ENSG00000116489.12_e_ENSG00...           eqtl_only   \n",
       "3    ENSG00000010626.14_ENSG00000111671.9_e_ENSG000...              shared   \n",
       "4    ENSG00000010626.14_ENSG00000111671.9_e_ENSG000...              shared   \n",
       "..                                                 ...                 ...   \n",
       "454                                                NaN           eqtl_only   \n",
       "455                                                NaN          pcqtl_only   \n",
       "457                                                NaN          pcqtl_only   \n",
       "458                                                NaN           eqtl_only   \n",
       "461                                                NaN           eqtl_only   \n",
       "\n",
       "    exclusive_label_full  \n",
       "0                 shared  \n",
       "1                 shared  \n",
       "2                 shared  \n",
       "3                 shared  \n",
       "4                 shared  \n",
       "..                   ...  \n",
       "454              neither  \n",
       "455              neither  \n",
       "457              neither  \n",
       "458              neither  \n",
       "461              neither  \n",
       "\n",
       "[463 rows x 3 columns]"
      ]
     },
     "execution_count": 331,
     "metadata": {},
     "output_type": "execute_result"
    }
   ],
   "source": [
    "# combine all sets of signals\n",
    "\n",
    "coloc_annotated_signals[['signal_id_sub', 'exclusive_label_sub', 'exclusive_label_full']]"
   ]
  },
  {
   "cell_type": "code",
   "execution_count": null,
   "metadata": {},
   "outputs": [],
   "source": [
    "coloc_annotated_signals_200[['signal_id_sub', 'exclusive_label_full']]"
   ]
  },
  {
   "cell_type": "code",
   "execution_count": null,
   "metadata": {},
   "outputs": [],
   "source": []
  },
  {
   "cell_type": "markdown",
   "metadata": {},
   "source": [
    "### old"
   ]
  },
  {
   "cell_type": "code",
   "execution_count": 10,
   "metadata": {},
   "outputs": [],
   "source": [
    "def get_qtl_counts(tissue_id, config):\n",
    "    overlap_df = pd.read_csv('{}/{}/{}.v8.overlap.txt'.format(prefix, config['overlap_output_dir'], tissue_id), sep='\\t')\n",
    "    return overlap_df.groupby('orig_cs_dataset').count()['cs_full_id']\n",
    "\n",
    "\n",
    "def get_cluster_count(tissue_id, config):\n",
    "    cluster_df = pd.read_csv('{}/{}/{}_clusters_all_chr.csv'.format(prefix, config['clusters_dir'], tissue_id))\n",
    "    return len(cluster_df)\n",
    "\n",
    "def get_egene_count(tissue_id, config):\n",
    "    overlap_df = pd.read_csv('{}/{}/{}.v8.overlap.txt'.format(prefix, config['overlap_output_dir'], tissue_id), sep='\\t')\n",
    "    if len(overlap_df) == 0:\n",
    "        return 0\n",
    "    else:\n",
    "        return overlap_df['cluster_id'].nunique()\n",
    "    \n",
    "def get_permutation_eqtl_count(tissue_id, config):\n",
    "    permutation_df = load_e_permutation(config, tissue_id)\n",
    "    return len(permutation_df)\n",
    "\n",
    "def get_permutation_pcqtl_count(tissue_id, config):\n",
    "    permutation_df = load_pc_permutation(config, tissue_id)\n",
    "    return len(permutation_df)\n",
    "\n",
    "def get_permutation_egene_count(tissue_id, config):\n",
    "    e_permutation_df = load_e_permutation(config, tissue_id)\n",
    "    pc_permutation_df = load_pc_permutation(config, tissue_id)\n",
    "    e_permutation_df['cluster_id'] = e_permutation_df['phenotype_id'].str.split('_e').str[0]\n",
    "    pc_permutation_df['cluster_id'] = pc_permutation_df['phenotype_id'].str.split('_pc').str[0]\n",
    "\n",
    "    return pd.concat([pc_permutation_df['cluster_id'], e_permutation_df['cluster_id']]).nunique()\n",
    "\n",
    "\n",
    "def get_counts(config):\n",
    "    counts = tissue_df['Tissue'].apply(get_qtl_counts, args=(config,))\n",
    "    counts = tissue_df.join(counts)\n",
    "    counts['clusters'] = counts['Tissue'].apply(get_cluster_count, args=(config,))\n",
    "    counts['eclusters_susie'] = counts['Tissue'].apply(get_egene_count, args=(config,))\n",
    "    try: \n",
    "        counts['eclusters_permutation'] = counts['Tissue'].apply(get_permutation_egene_count, args=(config,))\n",
    "        counts['eqtl_permutaiton'] = counts['Tissue'].apply(get_permutation_eqtl_count, args=(config,))\n",
    "        counts['pcqtl_permutaiton'] = counts['Tissue'].apply(get_permutation_pcqtl_count, args=(config,))\n",
    "    except FileNotFoundError:\n",
    "        print('no permutations')\n",
    "        print(config)\n",
    "    return counts"
   ]
  },
  {
   "cell_type": "code",
   "execution_count": 11,
   "metadata": {},
   "outputs": [
    {
     "ename": "KeyError",
     "evalue": "'overlap_output_dir'",
     "output_type": "error",
     "traceback": [
      "\u001b[0;31m---------------------------------------------------------------------------\u001b[0m",
      "\u001b[0;31mKeyError\u001b[0m                                  Traceback (most recent call last)",
      "Cell \u001b[0;32mIn[11], line 3\u001b[0m\n\u001b[1;32m      1\u001b[0m sub_counts \u001b[38;5;241m=\u001b[39m []\n\u001b[1;32m      2\u001b[0m \u001b[38;5;28;01mfor\u001b[39;00m num_samples \u001b[38;5;129;01min\u001b[39;00m subsample_nums:\n\u001b[0;32m----> 3\u001b[0m     sub_counts\u001b[38;5;241m.\u001b[39mappend(\u001b[43mget_counts\u001b[49m\u001b[43m(\u001b[49m\u001b[43msub_config\u001b[49m\u001b[43m[\u001b[49m\u001b[43mnum_samples\u001b[49m\u001b[43m]\u001b[49m\u001b[43m)\u001b[49m)\n",
      "Cell \u001b[0;32mIn[10], line 35\u001b[0m, in \u001b[0;36mget_counts\u001b[0;34m(config)\u001b[0m\n\u001b[1;32m     34\u001b[0m \u001b[38;5;28;01mdef\u001b[39;00m \u001b[38;5;21mget_counts\u001b[39m(config):\n\u001b[0;32m---> 35\u001b[0m     counts \u001b[38;5;241m=\u001b[39m \u001b[43mtissue_df\u001b[49m\u001b[43m[\u001b[49m\u001b[38;5;124;43m'\u001b[39;49m\u001b[38;5;124;43mTissue\u001b[39;49m\u001b[38;5;124;43m'\u001b[39;49m\u001b[43m]\u001b[49m\u001b[38;5;241;43m.\u001b[39;49m\u001b[43mapply\u001b[49m\u001b[43m(\u001b[49m\u001b[43mget_qtl_counts\u001b[49m\u001b[43m,\u001b[49m\u001b[43m \u001b[49m\u001b[43margs\u001b[49m\u001b[38;5;241;43m=\u001b[39;49m\u001b[43m(\u001b[49m\u001b[43mconfig\u001b[49m\u001b[43m,\u001b[49m\u001b[43m)\u001b[49m\u001b[43m)\u001b[49m\n\u001b[1;32m     36\u001b[0m     counts \u001b[38;5;241m=\u001b[39m tissue_df\u001b[38;5;241m.\u001b[39mjoin(counts)\n\u001b[1;32m     37\u001b[0m     counts[\u001b[38;5;124m'\u001b[39m\u001b[38;5;124mclusters\u001b[39m\u001b[38;5;124m'\u001b[39m] \u001b[38;5;241m=\u001b[39m counts[\u001b[38;5;124m'\u001b[39m\u001b[38;5;124mTissue\u001b[39m\u001b[38;5;124m'\u001b[39m]\u001b[38;5;241m.\u001b[39mapply(get_cluster_count, args\u001b[38;5;241m=\u001b[39m(config,))\n",
      "File \u001b[0;32m~/micromamba/envs/tensorqtl_r/lib/python3.8/site-packages/pandas/core/series.py:4630\u001b[0m, in \u001b[0;36mSeries.apply\u001b[0;34m(self, func, convert_dtype, args, **kwargs)\u001b[0m\n\u001b[1;32m   4520\u001b[0m \u001b[38;5;28;01mdef\u001b[39;00m \u001b[38;5;21mapply\u001b[39m(\n\u001b[1;32m   4521\u001b[0m     \u001b[38;5;28mself\u001b[39m,\n\u001b[1;32m   4522\u001b[0m     func: AggFuncType,\n\u001b[0;32m   (...)\u001b[0m\n\u001b[1;32m   4525\u001b[0m     \u001b[38;5;241m*\u001b[39m\u001b[38;5;241m*\u001b[39mkwargs,\n\u001b[1;32m   4526\u001b[0m ) \u001b[38;5;241m-\u001b[39m\u001b[38;5;241m>\u001b[39m DataFrame \u001b[38;5;241m|\u001b[39m Series:\n\u001b[1;32m   4527\u001b[0m \u001b[38;5;250m    \u001b[39m\u001b[38;5;124;03m\"\"\"\u001b[39;00m\n\u001b[1;32m   4528\u001b[0m \u001b[38;5;124;03m    Invoke function on values of Series.\u001b[39;00m\n\u001b[1;32m   4529\u001b[0m \n\u001b[0;32m   (...)\u001b[0m\n\u001b[1;32m   4628\u001b[0m \u001b[38;5;124;03m    dtype: float64\u001b[39;00m\n\u001b[1;32m   4629\u001b[0m \u001b[38;5;124;03m    \"\"\"\u001b[39;00m\n\u001b[0;32m-> 4630\u001b[0m     \u001b[38;5;28;01mreturn\u001b[39;00m \u001b[43mSeriesApply\u001b[49m\u001b[43m(\u001b[49m\u001b[38;5;28;43mself\u001b[39;49m\u001b[43m,\u001b[49m\u001b[43m \u001b[49m\u001b[43mfunc\u001b[49m\u001b[43m,\u001b[49m\u001b[43m \u001b[49m\u001b[43mconvert_dtype\u001b[49m\u001b[43m,\u001b[49m\u001b[43m \u001b[49m\u001b[43margs\u001b[49m\u001b[43m,\u001b[49m\u001b[43m \u001b[49m\u001b[43mkwargs\u001b[49m\u001b[43m)\u001b[49m\u001b[38;5;241;43m.\u001b[39;49m\u001b[43mapply\u001b[49m\u001b[43m(\u001b[49m\u001b[43m)\u001b[49m\n",
      "File \u001b[0;32m~/micromamba/envs/tensorqtl_r/lib/python3.8/site-packages/pandas/core/apply.py:1025\u001b[0m, in \u001b[0;36mSeriesApply.apply\u001b[0;34m(self)\u001b[0m\n\u001b[1;32m   1022\u001b[0m     \u001b[38;5;28;01mreturn\u001b[39;00m \u001b[38;5;28mself\u001b[39m\u001b[38;5;241m.\u001b[39mapply_str()\n\u001b[1;32m   1024\u001b[0m \u001b[38;5;66;03m# self.f is Callable\u001b[39;00m\n\u001b[0;32m-> 1025\u001b[0m \u001b[38;5;28;01mreturn\u001b[39;00m \u001b[38;5;28;43mself\u001b[39;49m\u001b[38;5;241;43m.\u001b[39;49m\u001b[43mapply_standard\u001b[49m\u001b[43m(\u001b[49m\u001b[43m)\u001b[49m\n",
      "File \u001b[0;32m~/micromamba/envs/tensorqtl_r/lib/python3.8/site-packages/pandas/core/apply.py:1076\u001b[0m, in \u001b[0;36mSeriesApply.apply_standard\u001b[0;34m(self)\u001b[0m\n\u001b[1;32m   1074\u001b[0m     \u001b[38;5;28;01melse\u001b[39;00m:\n\u001b[1;32m   1075\u001b[0m         values \u001b[38;5;241m=\u001b[39m obj\u001b[38;5;241m.\u001b[39mastype(\u001b[38;5;28mobject\u001b[39m)\u001b[38;5;241m.\u001b[39m_values\n\u001b[0;32m-> 1076\u001b[0m         mapped \u001b[38;5;241m=\u001b[39m \u001b[43mlib\u001b[49m\u001b[38;5;241;43m.\u001b[39;49m\u001b[43mmap_infer\u001b[49m\u001b[43m(\u001b[49m\n\u001b[1;32m   1077\u001b[0m \u001b[43m            \u001b[49m\u001b[43mvalues\u001b[49m\u001b[43m,\u001b[49m\n\u001b[1;32m   1078\u001b[0m \u001b[43m            \u001b[49m\u001b[43mf\u001b[49m\u001b[43m,\u001b[49m\n\u001b[1;32m   1079\u001b[0m \u001b[43m            \u001b[49m\u001b[43mconvert\u001b[49m\u001b[38;5;241;43m=\u001b[39;49m\u001b[38;5;28;43mself\u001b[39;49m\u001b[38;5;241;43m.\u001b[39;49m\u001b[43mconvert_dtype\u001b[49m\u001b[43m,\u001b[49m\n\u001b[1;32m   1080\u001b[0m \u001b[43m        \u001b[49m\u001b[43m)\u001b[49m\n\u001b[1;32m   1082\u001b[0m \u001b[38;5;28;01mif\u001b[39;00m \u001b[38;5;28mlen\u001b[39m(mapped) \u001b[38;5;129;01mand\u001b[39;00m \u001b[38;5;28misinstance\u001b[39m(mapped[\u001b[38;5;241m0\u001b[39m], ABCSeries):\n\u001b[1;32m   1083\u001b[0m     \u001b[38;5;66;03m# GH#43986 Need to do list(mapped) in order to get treated as nested\u001b[39;00m\n\u001b[1;32m   1084\u001b[0m     \u001b[38;5;66;03m#  See also GH#25959 regarding EA support\u001b[39;00m\n\u001b[1;32m   1085\u001b[0m     \u001b[38;5;28;01mreturn\u001b[39;00m obj\u001b[38;5;241m.\u001b[39m_constructor_expanddim(\u001b[38;5;28mlist\u001b[39m(mapped), index\u001b[38;5;241m=\u001b[39mobj\u001b[38;5;241m.\u001b[39mindex)\n",
      "File \u001b[0;32m~/micromamba/envs/tensorqtl_r/lib/python3.8/site-packages/pandas/_libs/lib.pyx:2834\u001b[0m, in \u001b[0;36mpandas._libs.lib.map_infer\u001b[0;34m()\u001b[0m\n",
      "File \u001b[0;32m~/micromamba/envs/tensorqtl_r/lib/python3.8/site-packages/pandas/core/apply.py:133\u001b[0m, in \u001b[0;36mApply.__init__.<locals>.f\u001b[0;34m(x)\u001b[0m\n\u001b[1;32m    132\u001b[0m \u001b[38;5;28;01mdef\u001b[39;00m \u001b[38;5;21mf\u001b[39m(x):\n\u001b[0;32m--> 133\u001b[0m     \u001b[38;5;28;01mreturn\u001b[39;00m \u001b[43mfunc\u001b[49m\u001b[43m(\u001b[49m\u001b[43mx\u001b[49m\u001b[43m,\u001b[49m\u001b[43m \u001b[49m\u001b[38;5;241;43m*\u001b[39;49m\u001b[43margs\u001b[49m\u001b[43m,\u001b[49m\u001b[43m \u001b[49m\u001b[38;5;241;43m*\u001b[39;49m\u001b[38;5;241;43m*\u001b[39;49m\u001b[43mkwargs\u001b[49m\u001b[43m)\u001b[49m\n",
      "Cell \u001b[0;32mIn[10], line 2\u001b[0m, in \u001b[0;36mget_qtl_counts\u001b[0;34m(tissue_id, config)\u001b[0m\n\u001b[1;32m      1\u001b[0m \u001b[38;5;28;01mdef\u001b[39;00m \u001b[38;5;21mget_qtl_counts\u001b[39m(tissue_id, config):\n\u001b[0;32m----> 2\u001b[0m     overlap_df \u001b[38;5;241m=\u001b[39m pd\u001b[38;5;241m.\u001b[39mread_csv(\u001b[38;5;124m'\u001b[39m\u001b[38;5;132;01m{}\u001b[39;00m\u001b[38;5;124m/\u001b[39m\u001b[38;5;132;01m{}\u001b[39;00m\u001b[38;5;124m/\u001b[39m\u001b[38;5;132;01m{}\u001b[39;00m\u001b[38;5;124m.v8.overlap.txt\u001b[39m\u001b[38;5;124m'\u001b[39m\u001b[38;5;241m.\u001b[39mformat(prefix, \u001b[43mconfig\u001b[49m\u001b[43m[\u001b[49m\u001b[38;5;124;43m'\u001b[39;49m\u001b[38;5;124;43moverlap_output_dir\u001b[39;49m\u001b[38;5;124;43m'\u001b[39;49m\u001b[43m]\u001b[49m, tissue_id), sep\u001b[38;5;241m=\u001b[39m\u001b[38;5;124m'\u001b[39m\u001b[38;5;130;01m\\t\u001b[39;00m\u001b[38;5;124m'\u001b[39m)\n\u001b[1;32m      3\u001b[0m     \u001b[38;5;28;01mreturn\u001b[39;00m overlap_df\u001b[38;5;241m.\u001b[39mgroupby(\u001b[38;5;124m'\u001b[39m\u001b[38;5;124morig_cs_dataset\u001b[39m\u001b[38;5;124m'\u001b[39m)\u001b[38;5;241m.\u001b[39mcount()[\u001b[38;5;124m'\u001b[39m\u001b[38;5;124mcs_full_id\u001b[39m\u001b[38;5;124m'\u001b[39m]\n",
      "\u001b[0;31mKeyError\u001b[0m: 'overlap_output_dir'"
     ]
    }
   ],
   "source": [
    "sub_counts = []\n",
    "for num_samples in subsample_nums:\n",
    "    sub_counts.append(get_counts(sub_config[num_samples]))"
   ]
  },
  {
   "cell_type": "code",
   "execution_count": 82,
   "metadata": {},
   "outputs": [],
   "source": [
    "joined_count_df = pd.concat(sub_counts, keys=[*subsample_nums, 101], names=['num_samples', 'idx'])\n",
    "joined_count_df.fillna(0, inplace=True)\n",
    "joined_count_df.reset_index(level=0, inplace=True)\n",
    "joined_counts = joined_count_df.melt(id_vars=['Tissue', 'num_samples'], var_name='count_type', value_name='count')"
   ]
  },
  {
   "cell_type": "code",
   "execution_count": 83,
   "metadata": {},
   "outputs": [
    {
     "data": {
      "text/html": [
       "<div>\n",
       "<style scoped>\n",
       "    .dataframe tbody tr th:only-of-type {\n",
       "        vertical-align: middle;\n",
       "    }\n",
       "\n",
       "    .dataframe tbody tr th {\n",
       "        vertical-align: top;\n",
       "    }\n",
       "\n",
       "    .dataframe thead th {\n",
       "        text-align: right;\n",
       "    }\n",
       "</style>\n",
       "<table border=\"1\" class=\"dataframe\">\n",
       "  <thead>\n",
       "    <tr style=\"text-align: right;\">\n",
       "      <th></th>\n",
       "      <th>Tissue</th>\n",
       "      <th>num_samples</th>\n",
       "      <th>count_type</th>\n",
       "      <th>count</th>\n",
       "    </tr>\n",
       "  </thead>\n",
       "  <tbody>\n",
       "    <tr>\n",
       "      <th>0</th>\n",
       "      <td>Cells_Cultured_fibroblasts</td>\n",
       "      <td>100</td>\n",
       "      <td>control_eqtl</td>\n",
       "      <td>3041.0</td>\n",
       "    </tr>\n",
       "    <tr>\n",
       "      <th>1</th>\n",
       "      <td>Skin_Not_Sun_Exposed_Suprapubic</td>\n",
       "      <td>100</td>\n",
       "      <td>control_eqtl</td>\n",
       "      <td>3024.0</td>\n",
       "    </tr>\n",
       "    <tr>\n",
       "      <th>2</th>\n",
       "      <td>Whole_Blood</td>\n",
       "      <td>100</td>\n",
       "      <td>control_eqtl</td>\n",
       "      <td>3220.0</td>\n",
       "    </tr>\n",
       "    <tr>\n",
       "      <th>3</th>\n",
       "      <td>Cells_Cultured_fibroblasts</td>\n",
       "      <td>200</td>\n",
       "      <td>control_eqtl</td>\n",
       "      <td>1315.0</td>\n",
       "    </tr>\n",
       "    <tr>\n",
       "      <th>4</th>\n",
       "      <td>Skin_Not_Sun_Exposed_Suprapubic</td>\n",
       "      <td>200</td>\n",
       "      <td>control_eqtl</td>\n",
       "      <td>926.0</td>\n",
       "    </tr>\n",
       "    <tr>\n",
       "      <th>...</th>\n",
       "      <td>...</td>\n",
       "      <td>...</td>\n",
       "      <td>...</td>\n",
       "      <td>...</td>\n",
       "    </tr>\n",
       "    <tr>\n",
       "      <th>58</th>\n",
       "      <td>Skin_Not_Sun_Exposed_Suprapubic</td>\n",
       "      <td>200</td>\n",
       "      <td>pcqtl_permutaiton</td>\n",
       "      <td>964.0</td>\n",
       "    </tr>\n",
       "    <tr>\n",
       "      <th>59</th>\n",
       "      <td>Whole_Blood</td>\n",
       "      <td>200</td>\n",
       "      <td>pcqtl_permutaiton</td>\n",
       "      <td>957.0</td>\n",
       "    </tr>\n",
       "    <tr>\n",
       "      <th>60</th>\n",
       "      <td>Cells_Cultured_fibroblasts</td>\n",
       "      <td>300</td>\n",
       "      <td>pcqtl_permutaiton</td>\n",
       "      <td>0.0</td>\n",
       "    </tr>\n",
       "    <tr>\n",
       "      <th>61</th>\n",
       "      <td>Skin_Not_Sun_Exposed_Suprapubic</td>\n",
       "      <td>300</td>\n",
       "      <td>pcqtl_permutaiton</td>\n",
       "      <td>0.0</td>\n",
       "    </tr>\n",
       "    <tr>\n",
       "      <th>62</th>\n",
       "      <td>Whole_Blood</td>\n",
       "      <td>300</td>\n",
       "      <td>pcqtl_permutaiton</td>\n",
       "      <td>0.0</td>\n",
       "    </tr>\n",
       "  </tbody>\n",
       "</table>\n",
       "<p>63 rows × 4 columns</p>\n",
       "</div>"
      ],
      "text/plain": [
       "                             Tissue  num_samples         count_type   count\n",
       "0        Cells_Cultured_fibroblasts          100       control_eqtl  3041.0\n",
       "1   Skin_Not_Sun_Exposed_Suprapubic          100       control_eqtl  3024.0\n",
       "2                       Whole_Blood          100       control_eqtl  3220.0\n",
       "3        Cells_Cultured_fibroblasts          200       control_eqtl  1315.0\n",
       "4   Skin_Not_Sun_Exposed_Suprapubic          200       control_eqtl   926.0\n",
       "..                              ...          ...                ...     ...\n",
       "58  Skin_Not_Sun_Exposed_Suprapubic          200  pcqtl_permutaiton   964.0\n",
       "59                      Whole_Blood          200  pcqtl_permutaiton   957.0\n",
       "60       Cells_Cultured_fibroblasts          300  pcqtl_permutaiton     0.0\n",
       "61  Skin_Not_Sun_Exposed_Suprapubic          300  pcqtl_permutaiton     0.0\n",
       "62                      Whole_Blood          300  pcqtl_permutaiton     0.0\n",
       "\n",
       "[63 rows x 4 columns]"
      ]
     },
     "execution_count": 83,
     "metadata": {},
     "output_type": "execute_result"
    }
   ],
   "source": [
    "joined_counts"
   ]
  },
  {
   "cell_type": "code",
   "execution_count": 84,
   "metadata": {},
   "outputs": [
    {
     "data": {
      "text/plain": [
       "Text(0.5, 0.98, 'Subsampled counts')"
      ]
     },
     "execution_count": 84,
     "metadata": {},
     "output_type": "execute_result"
    },
    {
     "data": {
      "image/png": "[encoded data removed]",
      "text/plain": [
       "<Figure size 2395.75x300 with 7 Axes>"
      ]
     },
     "metadata": {},
     "output_type": "display_data"
    }
   ],
   "source": [
    "g = sns.FacetGrid(joined_counts, col=\"count_type\", hue='Tissue', palette = tissue_pal)\n",
    "g.map(sns.lineplot, \"num_samples\", \"count\")\n",
    "g.map(sns.scatterplot, \"num_samples\", \"count\")\n",
    "g.add_legend()\n",
    "g.fig.subplots_adjust(top=0.8)\n",
    "g.fig.suptitle('Subsampled counts')"
   ]
  },
  {
   "cell_type": "markdown",
   "metadata": {},
   "source": [
    "look at p values for each snp"
   ]
  },
  {
   "cell_type": "code",
   "execution_count": 59,
   "metadata": {},
   "outputs": [],
   "source": [
    "sub_overlaps = {}\n",
    "pc_nominals = {}\n",
    "e_nominals = {}\n",
    "for num_samples in subsample_nums:\n",
    "    sub_overlaps[num_samples] = load_overlap(sub_config[num_samples], tissue_id)\n",
    "    sub_overlaps[num_samples]['cs_size']=sub_overlaps[num_samples]['variant_list'].str.split(',').apply(len) \n",
    "    pc_nominals[num_samples] = load_pc_nominal(sub_config[num_samples], tissue_id, get_var_position=True)\n",
    "    e_nominals[num_samples] = load_e_nominal(sub_config[num_samples], tissue_id, get_var_position=True)"
   ]
  },
  {
   "cell_type": "code",
   "execution_count": 10,
   "metadata": {},
   "outputs": [],
   "source": [
    "e_nominals[100]['is_lead'] = e_nominals[100]['variant_id'].isin(sub_overlaps[100]['lead_variant_id'])\n",
    "e_nominals[200]['is_lead'] = e_nominals[200]['variant_id'].isin(sub_overlaps[200]['lead_variant_id'])\n",
    "e_nominal_merged = pd.merge(left=e_nominals[100], right=e_nominals[200],left_on=['phenotype_id', 'variant_id'], right_on=['phenotype_id', 'variant_id'], suffixes=['_100', '_200'])"
   ]
  },
  {
   "cell_type": "code",
   "execution_count": 11,
   "metadata": {},
   "outputs": [
    {
     "data": {
      "image/png": "[encoded data removed]",
      "text/plain": [
       "<Figure size 1500x500 with 1 Axes>"
      ]
     },
     "metadata": {},
     "output_type": "display_data"
    }
   ],
   "source": [
    "fig, ax = plt.subplots(figsize=(15,5))\n",
    "sns.scatterplot(e_nominal_merged, y='pval_nominal_200', x='variant_pos_200', ax=ax, color='orange', s=5, label='200 samples')\n",
    "sns.scatterplot(e_nominal_merged, y='pval_nominal_100', x='variant_pos_100', ax=ax, color='blue', s=5, label='100 samples')\n",
    "\n",
    "ax.set_yscale('log')\n",
    "ax.invert_yaxis()\n"
   ]
  },
  {
   "cell_type": "code",
   "execution_count": 41,
   "metadata": {},
   "outputs": [],
   "source": [
    "cs_sizes={}\n",
    "for num_samples in sub_overlaps.keys():\n",
    "    cs_sizes[num_samples] = pd.Series(sub_overlaps[num_samples][(sub_overlaps[num_samples]['lead_variant_id'].str.contains('chr22'))&(sub_overlaps[num_samples]['orig_cs_dataset']=='control_eqtl')]['variant_list'].str.split(',').apply(len).values)\n",
    "\n",
    "cs_sizes = pd.DataFrame(pd.concat(cs_sizes, names=['num_samples', 'idx']), columns=['cs_size'])"
   ]
  },
  {
   "cell_type": "code",
   "execution_count": 43,
   "metadata": {},
   "outputs": [
    {
     "data": {
      "text/plain": [
       "Text(0.5, 24.140625, 'credible set size')"
      ]
     },
     "execution_count": 43,
     "metadata": {},
     "output_type": "execute_result"
    },
    {
     "data": {
      "image/png": "[encoded data removed]",
      "text/plain": [
       "<Figure size 640x480 with 1 Axes>"
      ]
     },
     "metadata": {},
     "output_type": "display_data"
    }
   ],
   "source": [
    "sns.histplot(x='cs_size', data=cs_sizes, hue='num_samples', multiple='dodge', bins=range(0, cs_sizes['cs_size'].max()))\n",
    "\n",
    "ax.set_ylabel('Count')\n",
    "ax.set_xlabel('credible set size')"
   ]
  },
  {
   "cell_type": "code",
   "execution_count": 48,
   "metadata": {},
   "outputs": [
    {
     "data": {
      "application/javascript": "(function(root) {\n  function now() {\n    return new Date();\n  }\n\n  var force = true;\n  var py_version = '3.1.1'.replace('rc', '-rc.').replace('.dev', '-dev.');\n  var is_dev = py_version.indexOf(\"+\") !== -1 || py_version.indexOf(\"-\") !== -1;\n  var reloading = false;\n  var Bokeh = root.Bokeh;\n  var bokeh_loaded = Bokeh != null && (Bokeh.version === py_version || (Bokeh.versions !== undefined && Bokeh.versions.has(py_version)));\n\n  if (typeof (root._bokeh_timeout) === \"undefined\" || force) {\n    root._bokeh_timeout = Date.now() + 5000;\n    root._bokeh_failed_load = false;\n  }\n\n  function run_callbacks() {\n    try {\n      root._bokeh_onload_callbacks.forEach(function(callback) {\n        if (callback != null)\n          callback();\n      });\n    } finally {\n      delete root._bokeh_onload_callbacks;\n    }\n    console.debug(\"Bokeh: all callbacks have finished\");\n  }\n\n  function load_libs(css_urls, js_urls, js_modules, js_exports, callback) {\n    if (css_urls == null) css_urls = [];\n    if (js_urls == null) js_urls = [];\n    if (js_modules == null) js_modules = [];\n    if (js_exports == null) js_exports = {};\n\n    root._bokeh_onload_callbacks.push(callback);\n\n    if (root._bokeh_is_loading > 0) {\n      console.debug(\"Bokeh: BokehJS is being loaded, scheduling callback at\", now());\n      return null;\n    }\n    if (js_urls.length === 0 && js_modules.length === 0 && Object.keys(js_exports).length === 0) {\n      run_callbacks();\n      return null;\n    }\n    if (!reloading) {\n      console.debug(\"Bokeh: BokehJS not loaded, scheduling load and callback at\", now());\n    }\n\n    function on_load() {\n      root._bokeh_is_loading--;\n      if (root._bokeh_is_loading === 0) {\n        console.debug(\"Bokeh: all BokehJS libraries/stylesheets loaded\");\n        run_callbacks()\n      }\n    }\n    window._bokeh_on_load = on_load\n\n    function on_error() {\n      console.error(\"failed to load \" + url);\n    }\n\n    var skip = [];\n    if (window.requirejs) {\n      window.requirejs.config({'packages': {}, 'paths': {'jspanel': 'https://cdn.jsdelivr.net/npm/jspanel4@4.12.0/dist/jspanel', 'jspanel-modal': 'https://cdn.jsdelivr.net/npm/jspanel4@4.12.0/dist/extensions/modal/jspanel.modal', 'jspanel-tooltip': 'https://cdn.jsdelivr.net/npm/jspanel4@4.12.0/dist/extensions/tooltip/jspanel.tooltip', 'jspanel-hint': 'https://cdn.jsdelivr.net/npm/jspanel4@4.12.0/dist/extensions/hint/jspanel.hint', 'jspanel-layout': 'https://cdn.jsdelivr.net/npm/jspanel4@4.12.0/dist/extensions/layout/jspanel.layout', 'jspanel-contextmenu': 'https://cdn.jsdelivr.net/npm/jspanel4@4.12.0/dist/extensions/contextmenu/jspanel.contextmenu', 'jspanel-dock': 'https://cdn.jsdelivr.net/npm/jspanel4@4.12.0/dist/extensions/dock/jspanel.dock', 'gridstack': 'https://cdn.jsdelivr.net/npm/gridstack@7.2.3/dist/gridstack-all', 'notyf': 'https://cdn.jsdelivr.net/npm/notyf@3/notyf.min'}, 'shim': {'jspanel': {'exports': 'jsPanel'}, 'gridstack': {'exports': 'GridStack'}}});\n      require([\"jspanel\"], function(jsPanel) {\n\twindow.jsPanel = jsPanel\n\ton_load()\n      })\n      require([\"jspanel-modal\"], function() {\n\ton_load()\n      })\n      require([\"jspanel-tooltip\"], function() {\n\ton_load()\n      })\n      require([\"jspanel-hint\"], function() {\n\ton_load()\n      })\n      require([\"jspanel-layout\"], function() {\n\ton_load()\n      })\n      require([\"jspanel-contextmenu\"], function() {\n\ton_load()\n      })\n      require([\"jspanel-dock\"], function() {\n\ton_load()\n      })\n      require([\"gridstack\"], function(GridStack) {\n\twindow.GridStack = GridStack\n\ton_load()\n      })\n      require([\"notyf\"], function() {\n\ton_load()\n      })\n      root._bokeh_is_loading = css_urls.length + 9;\n    } else {\n      root._bokeh_is_loading = css_urls.length + js_urls.length + js_modules.length + Object.keys(js_exports).length;\n    }\n\n    var existing_stylesheets = []\n    var links = document.getElementsByTagName('link')\n    for (var i = 0; i < links.length; i++) {\n      var link = links[i]\n      if (link.href != null) {\n\texisting_stylesheets.push(link.href)\n      }\n    }\n    for (var i = 0; i < css_urls.length; i++) {\n      var url = css_urls[i];\n      if (existing_stylesheets.indexOf(url) !== -1) {\n\ton_load()\n\tcontinue;\n      }\n      const element = document.createElement(\"link\");\n      element.onload = on_load;\n      element.onerror = on_error;\n      element.rel = \"stylesheet\";\n      element.type = \"text/css\";\n      element.href = url;\n      console.debug(\"Bokeh: injecting link tag for BokehJS stylesheet: \", url);\n      document.body.appendChild(element);\n    }    if (((window['jsPanel'] !== undefined) && (!(window['jsPanel'] instanceof HTMLElement))) || window.requirejs) {\n      var urls = ['https://cdn.holoviz.org/panel/1.2.3/dist/bundled/floatpanel/jspanel4@4.12.0/dist/jspanel.js', 'https://cdn.holoviz.org/panel/1.2.3/dist/bundled/floatpanel/jspanel4@4.12.0/dist/extensions/modal/jspanel.modal.js', 'https://cdn.holoviz.org/panel/1.2.3/dist/bundled/floatpanel/jspanel4@4.12.0/dist/extensions/tooltip/jspanel.tooltip.js', 'https://cdn.holoviz.org/panel/1.2.3/dist/bundled/floatpanel/jspanel4@4.12.0/dist/extensions/hint/jspanel.hint.js', 'https://cdn.holoviz.org/panel/1.2.3/dist/bundled/floatpanel/jspanel4@4.12.0/dist/extensions/layout/jspanel.layout.js', 'https://cdn.holoviz.org/panel/1.2.3/dist/bundled/floatpanel/jspanel4@4.12.0/dist/extensions/contextmenu/jspanel.contextmenu.js', 'https://cdn.holoviz.org/panel/1.2.3/dist/bundled/floatpanel/jspanel4@4.12.0/dist/extensions/dock/jspanel.dock.js'];\n      for (var i = 0; i < urls.length; i++) {\n        skip.push(urls[i])\n      }\n    }    if (((window['GridStack'] !== undefined) && (!(window['GridStack'] instanceof HTMLElement))) || window.requirejs) {\n      var urls = ['https://cdn.holoviz.org/panel/1.2.3/dist/bundled/gridstack/gridstack@7.2.3/dist/gridstack-all.js'];\n      for (var i = 0; i < urls.length; i++) {\n        skip.push(urls[i])\n      }\n    }    if (((window['Notyf'] !== undefined) && (!(window['Notyf'] instanceof HTMLElement))) || window.requirejs) {\n      var urls = ['https://cdn.holoviz.org/panel/1.2.3/dist/bundled/notificationarea/notyf@3/notyf.min.js'];\n      for (var i = 0; i < urls.length; i++) {\n        skip.push(urls[i])\n      }\n    }    var existing_scripts = []\n    var scripts = document.getElementsByTagName('script')\n    for (var i = 0; i < scripts.length; i++) {\n      var script = scripts[i]\n      if (script.src != null) {\n\texisting_scripts.push(script.src)\n      }\n    }\n    for (var i = 0; i < js_urls.length; i++) {\n      var url = js_urls[i];\n      if (skip.indexOf(url) !== -1 || existing_scripts.indexOf(url) !== -1) {\n\tif (!window.requirejs) {\n\t  on_load();\n\t}\n\tcontinue;\n      }\n      var element = document.createElement('script');\n      element.onload = on_load;\n      element.onerror = on_error;\n      element.async = false;\n      element.src = url;\n      console.debug(\"Bokeh: injecting script tag for BokehJS library: \", url);\n      document.head.appendChild(element);\n    }\n    for (var i = 0; i < js_modules.length; i++) {\n      var url = js_modules[i];\n      if (skip.indexOf(url) !== -1 || existing_scripts.indexOf(url) !== -1) {\n\tif (!window.requirejs) {\n\t  on_load();\n\t}\n\tcontinue;\n      }\n      var element = document.createElement('script');\n      element.onload = on_load;\n      element.onerror = on_error;\n      element.async = false;\n      element.src = url;\n      element.type = \"module\";\n      console.debug(\"Bokeh: injecting script tag for BokehJS library: \", url);\n      document.head.appendChild(element);\n    }\n    for (const name in js_exports) {\n      var url = js_exports[name];\n      if (skip.indexOf(url) >= 0 || root[name] != null) {\n\tif (!window.requirejs) {\n\t  on_load();\n\t}\n\tcontinue;\n      }\n      var element = document.createElement('script');\n      element.onerror = on_error;\n      element.async = false;\n      element.type = \"module\";\n      console.debug(\"Bokeh: injecting script tag for BokehJS library: \", url);\n      element.textContent = `\n      import ${name} from \"${url}\"\n      window.${name} = ${name}\n      window._bokeh_on_load()\n      `\n      document.head.appendChild(element);\n    }\n    if (!js_urls.length && !js_modules.length) {\n      on_load()\n    }\n  };\n\n  function inject_raw_css(css) {\n    const element = document.createElement(\"style\");\n    element.appendChild(document.createTextNode(css));\n    document.body.appendChild(element);\n  }\n\n  var js_urls = [\"https://cdn.bokeh.org/bokeh/release/bokeh-3.1.1.min.js\", \"https://cdn.bokeh.org/bokeh/release/bokeh-gl-3.1.1.min.js\", \"https://cdn.bokeh.org/bokeh/release/bokeh-widgets-3.1.1.min.js\", \"https://cdn.bokeh.org/bokeh/release/bokeh-tables-3.1.1.min.js\", \"https://cdn.holoviz.org/panel/1.2.3/dist/panel.min.js\"];\n  var js_modules = [];\n  var js_exports = {};\n  var css_urls = [];\n  var inline_js = [    function(Bokeh) {\n      Bokeh.set_log_level(\"info\");\n    },\nfunction(Bokeh) {} // ensure no trailing comma for IE\n  ];\n\n  function run_inline_js() {\n    if ((root.Bokeh !== undefined) || (force === true)) {\n      for (var i = 0; i < inline_js.length; i++) {\n        inline_js[i].call(root, root.Bokeh);\n      }\n      // Cache old bokeh versions\n      if (Bokeh != undefined && !reloading) {\n\tvar NewBokeh = root.Bokeh;\n\tif (Bokeh.versions === undefined) {\n\t  Bokeh.versions = new Map();\n\t}\n\tif (NewBokeh.version !== Bokeh.version) {\n\t  Bokeh.versions.set(NewBokeh.version, NewBokeh)\n\t}\n\troot.Bokeh = Bokeh;\n      }} else if (Date.now() < root._bokeh_timeout) {\n      setTimeout(run_inline_js, 100);\n    } else if (!root._bokeh_failed_load) {\n      console.log(\"Bokeh: BokehJS failed to load within specified timeout.\");\n      root._bokeh_failed_load = true;\n    }\n    root._bokeh_is_initializing = false\n  }\n\n  function load_or_wait() {\n    // Implement a backoff loop that tries to ensure we do not load multiple\n    // versions of Bokeh and its dependencies at the same time.\n    // In recent versions we use the root._bokeh_is_initializing flag\n    // to determine whether there is an ongoing attempt to initialize\n    // bokeh, however for backward compatibility we also try to ensure\n    // that we do not start loading a newer (Panel>=1.0 and Bokeh>3) version\n    // before older versions are fully initialized.\n    if (root._bokeh_is_initializing && Date.now() > root._bokeh_timeout) {\n      root._bokeh_is_initializing = false;\n      root._bokeh_onload_callbacks = undefined;\n      console.log(\"Bokeh: BokehJS was loaded multiple times but one version failed to initialize.\");\n      load_or_wait();\n    } else if (root._bokeh_is_initializing || (typeof root._bokeh_is_initializing === \"undefined\" && root._bokeh_onload_callbacks !== undefined)) {\n      setTimeout(load_or_wait, 100);\n    } else {\n      Bokeh = root.Bokeh;\n      bokeh_loaded = Bokeh != null && (Bokeh.version === py_version || (Bokeh.versions !== undefined && Bokeh.versions.has(py_version)));\n      root._bokeh_is_initializing = true\n      root._bokeh_onload_callbacks = []\n      if (!reloading && (!bokeh_loaded || is_dev)) {\n\troot.Bokeh = undefined;\n      }\n      load_libs(css_urls, js_urls, js_modules, js_exports, function() {\n\tconsole.debug(\"Bokeh: BokehJS plotting callback run at\", now());\n\trun_inline_js();\n      });\n    }\n  }\n  // Give older versions of the autoload script a head-start to ensure\n  // they initialize before we start loading newer version.\n  setTimeout(load_or_wait, 100)\n}(window));",
      "application/vnd.holoviews_load.v0+json": ""
     },
     "metadata": {},
     "output_type": "display_data"
    },
    {
     "data": {
      "application/javascript": "\nif ((window.PyViz === undefined) || (window.PyViz instanceof HTMLElement)) {\n  window.PyViz = {comms: {}, comm_status:{}, kernels:{}, receivers: {}, plot_index: []}\n}\n\n\n    function JupyterCommManager() {\n    }\n\n    JupyterCommManager.prototype.register_target = function(plot_id, comm_id, msg_handler) {\n      if (window.comm_manager || ((window.Jupyter !== undefined) && (Jupyter.notebook.kernel != null))) {\n        var comm_manager = window.comm_manager || Jupyter.notebook.kernel.comm_manager;\n        comm_manager.register_target(comm_id, function(comm) {\n          comm.on_msg(msg_handler);\n        });\n      } else if ((plot_id in window.PyViz.kernels) && (window.PyViz.kernels[plot_id])) {\n        window.PyViz.kernels[plot_id].registerCommTarget(comm_id, function(comm) {\n          comm.onMsg = msg_handler;\n        });\n      } else if (typeof google != 'undefined' && google.colab.kernel != null) {\n        google.colab.kernel.comms.registerTarget(comm_id, (comm) => {\n          var messages = comm.messages[Symbol.asyncIterator]();\n          function processIteratorResult(result) {\n            var message = result.value;\n            console.log(message)\n            var content = {data: message.data, comm_id};\n            var buffers = []\n            for (var buffer of message.buffers || []) {\n              buffers.push(new DataView(buffer))\n            }\n            var metadata = message.metadata || {};\n            var msg = {content, buffers, metadata}\n            msg_handler(msg);\n            return messages.next().then(processIteratorResult);\n          }\n          return messages.next().then(processIteratorResult);\n        })\n      }\n    }\n\n    JupyterCommManager.prototype.get_client_comm = function(plot_id, comm_id, msg_handler) {\n      if (comm_id in window.PyViz.comms) {\n        return window.PyViz.comms[comm_id];\n      } else if (window.comm_manager || ((window.Jupyter !== undefined) && (Jupyter.notebook.kernel != null))) {\n        var comm_manager = window.comm_manager || Jupyter.notebook.kernel.comm_manager;\n        var comm = comm_manager.new_comm(comm_id, {}, {}, {}, comm_id);\n        if (msg_handler) {\n          comm.on_msg(msg_handler);\n        }\n      } else if ((plot_id in window.PyViz.kernels) && (window.PyViz.kernels[plot_id])) {\n        var comm = window.PyViz.kernels[plot_id].connectToComm(comm_id);\n        comm.open();\n        if (msg_handler) {\n          comm.onMsg = msg_handler;\n        }\n      } else if (typeof google != 'undefined' && google.colab.kernel != null) {\n        var comm_promise = google.colab.kernel.comms.open(comm_id)\n        comm_promise.then((comm) => {\n          window.PyViz.comms[comm_id] = comm;\n          if (msg_handler) {\n            var messages = comm.messages[Symbol.asyncIterator]();\n            function processIteratorResult(result) {\n              var message = result.value;\n              var content = {data: message.data};\n              var metadata = message.metadata || {comm_id};\n              var msg = {content, metadata}\n              msg_handler(msg);\n              return messages.next().then(processIteratorResult);\n            }\n            return messages.next().then(processIteratorResult);\n          }\n        }) \n        var sendClosure = (data, metadata, buffers, disposeOnDone) => {\n          return comm_promise.then((comm) => {\n            comm.send(data, metadata, buffers, disposeOnDone);\n          });\n        };\n        var comm = {\n          send: sendClosure\n        };\n      }\n      window.PyViz.comms[comm_id] = comm;\n      return comm;\n    }\n    window.PyViz.comm_manager = new JupyterCommManager();\n    \n\n\nvar JS_MIME_TYPE = 'application/javascript';\nvar HTML_MIME_TYPE = 'text/html';\nvar EXEC_MIME_TYPE = 'application/vnd.holoviews_exec.v0+json';\nvar CLASS_NAME = 'output';\n\n/**\n * Render data to the DOM node\n */\nfunction render(props, node) {\n  var div = document.createElement(\"div\");\n  var script = document.createElement(\"script\");\n  node.appendChild(div);\n  node.appendChild(script);\n}\n\n/**\n * Handle when a new output is added\n */\nfunction handle_add_output(event, handle) {\n  var output_area = handle.output_area;\n  var output = handle.output;\n  if ((output.data == undefined) || (!output.data.hasOwnProperty(EXEC_MIME_TYPE))) {\n    return\n  }\n  var id = output.metadata[EXEC_MIME_TYPE][\"id\"];\n  var toinsert = output_area.element.find(\".\" + CLASS_NAME.split(' ')[0]);\n  if (id !== undefined) {\n    var nchildren = toinsert.length;\n    var html_node = toinsert[nchildren-1].children[0];\n    html_node.innerHTML = output.data[HTML_MIME_TYPE];\n    var scripts = [];\n    var nodelist = html_node.querySelectorAll(\"script\");\n    for (var i in nodelist) {\n      if (nodelist.hasOwnProperty(i)) {\n        scripts.push(nodelist[i])\n      }\n    }\n\n    scripts.forEach( function (oldScript) {\n      var newScript = document.createElement(\"script\");\n      var attrs = [];\n      var nodemap = oldScript.attributes;\n      for (var j in nodemap) {\n        if (nodemap.hasOwnProperty(j)) {\n          attrs.push(nodemap[j])\n        }\n      }\n      attrs.forEach(function(attr) { newScript.setAttribute(attr.name, attr.value) });\n      newScript.appendChild(document.createTextNode(oldScript.innerHTML));\n      oldScript.parentNode.replaceChild(newScript, oldScript);\n    });\n    if (JS_MIME_TYPE in output.data) {\n      toinsert[nchildren-1].children[1].textContent = output.data[JS_MIME_TYPE];\n    }\n    output_area._hv_plot_id = id;\n    if ((window.Bokeh !== undefined) && (id in Bokeh.index)) {\n      window.PyViz.plot_index[id] = Bokeh.index[id];\n    } else {\n      window.PyViz.plot_index[id] = null;\n    }\n  } else if (output.metadata[EXEC_MIME_TYPE][\"server_id\"] !== undefined) {\n    var bk_div = document.createElement(\"div\");\n    bk_div.innerHTML = output.data[HTML_MIME_TYPE];\n    var script_attrs = bk_div.children[0].attributes;\n    for (var i = 0; i < script_attrs.length; i++) {\n      toinsert[toinsert.length - 1].childNodes[1].setAttribute(script_attrs[i].name, script_attrs[i].value);\n    }\n    // store reference to server id on output_area\n    output_area._bokeh_server_id = output.metadata[EXEC_MIME_TYPE][\"server_id\"];\n  }\n}\n\n/**\n * Handle when an output is cleared or removed\n */\nfunction handle_clear_output(event, handle) {\n  var id = handle.cell.output_area._hv_plot_id;\n  var server_id = handle.cell.output_area._bokeh_server_id;\n  if (((id === undefined) || !(id in PyViz.plot_index)) && (server_id !== undefined)) { return; }\n  var comm = window.PyViz.comm_manager.get_client_comm(\"hv-extension-comm\", \"hv-extension-comm\", function () {});\n  if (server_id !== null) {\n    comm.send({event_type: 'server_delete', 'id': server_id});\n    return;\n  } else if (comm !== null) {\n    comm.send({event_type: 'delete', 'id': id});\n  }\n  delete PyViz.plot_index[id];\n  if ((window.Bokeh !== undefined) & (id in window.Bokeh.index)) {\n    var doc = window.Bokeh.index[id].model.document\n    doc.clear();\n    const i = window.Bokeh.documents.indexOf(doc);\n    if (i > -1) {\n      window.Bokeh.documents.splice(i, 1);\n    }\n  }\n}\n\n/**\n * Handle kernel restart event\n */\nfunction handle_kernel_cleanup(event, handle) {\n  delete PyViz.comms[\"hv-extension-comm\"];\n  window.PyViz.plot_index = {}\n}\n\n/**\n * Handle update_display_data messages\n */\nfunction handle_update_output(event, handle) {\n  handle_clear_output(event, {cell: {output_area: handle.output_area}})\n  handle_add_output(event, handle)\n}\n\nfunction register_renderer(events, OutputArea) {\n  function append_mime(data, metadata, element) {\n    // create a DOM node to render to\n    var toinsert = this.create_output_subarea(\n    metadata,\n    CLASS_NAME,\n    EXEC_MIME_TYPE\n    );\n    this.keyboard_manager.register_events(toinsert);\n    // Render to node\n    var props = {data: data, metadata: metadata[EXEC_MIME_TYPE]};\n    render(props, toinsert[0]);\n    element.append(toinsert);\n    return toinsert\n  }\n\n  events.on('output_added.OutputArea', handle_add_output);\n  events.on('output_updated.OutputArea', handle_update_output);\n  events.on('clear_output.CodeCell', handle_clear_output);\n  events.on('delete.Cell', handle_clear_output);\n  events.on('kernel_ready.Kernel', handle_kernel_cleanup);\n\n  OutputArea.prototype.register_mime_type(EXEC_MIME_TYPE, append_mime, {\n    safe: true,\n    index: 0\n  });\n}\n\nif (window.Jupyter !== undefined) {\n  try {\n    var events = require('base/js/events');\n    var OutputArea = require('notebook/js/outputarea').OutputArea;\n    if (OutputArea.prototype.mime_types().indexOf(EXEC_MIME_TYPE) == -1) {\n      register_renderer(events, OutputArea);\n    }\n  } catch(err) {\n  }\n}\n",
      "application/vnd.holoviews_load.v0+json": ""
     },
     "metadata": {},
     "output_type": "display_data"
    },
    {
     "data": {
      "text/html": [
       "<style>*[data-root-id],\n",
       "*[data-root-id] > * {\n",
       "  box-sizing: border-box;\n",
       "  font-family: var(--jp-ui-font-family);\n",
       "  font-size: var(--jp-ui-font-size1);\n",
       "  color: var(--vscode-editor-foreground, var(--jp-ui-font-color1));\n",
       "}\n",
       "\n",
       "/* Override VSCode background color */\n",
       ".cell-output-ipywidget-background:has(\n",
       "    > .cell-output-ipywidget-background > .lm-Widget > *[data-root-id]\n",
       "  ),\n",
       ".cell-output-ipywidget-background:has(> .lm-Widget > *[data-root-id]) {\n",
       "  background-color: transparent !important;\n",
       "}\n",
       "</style>"
      ]
     },
     "metadata": {},
     "output_type": "display_data"
    },
    {
     "data": {
      "text/html": [
       "\n",
       "<div class=\"logo-block\">\n",
       "<img src='data:image/png;base64,iVBORw0KGgoAAAANSUhEUgAAAEAAAABACAYAAACqaXHeAAAABHNCSVQICAgIfAhkiAAAAAlwSFlz\n",
       "AAAB+wAAAfsBxc2miwAAABl0RVh0U29mdHdhcmUAd3d3Lmlua3NjYXBlLm9yZ5vuPBoAAA6zSURB\n",
       "VHic7ZtpeFRVmsf/5966taWqUlUJ2UioBBJiIBAwCZtog9IOgjqACsogKtqirT2ttt069nQ/zDzt\n",
       "tI4+CrJIREFaFgWhBXpUNhHZQoKBkIUASchWla1S+3ar7r1nPkDaCAnZKoQP/D7mnPOe9/xy76n3\n",
       "nFSAW9ziFoPFNED2LLK5wcyBDObkb8ZkxuaoSYlI6ZcOKq1eWFdedqNzGHQBk9RMEwFAASkk0Xw3\n",
       "ETacDNi2vtvc7L0ROdw0AjoSotQVkKSvHQz/wRO1lScGModBFbDMaNRN1A4tUBCS3lk7BWhQkgpD\n",
       "lG4852/+7DWr1R3uHAZVQDsbh6ZPN7CyxUrCzJMRouusj0ipRwD2uKm0Zn5d2dFwzX1TCGhnmdGo\n",
       "G62Nna+isiUqhkzuKrkQaJlPEv5mFl2fvGg2t/VnzkEV8F5ioioOEWkLG86fvbpthynjdhXYZziQ\n",
       "x1hC9J2NFyi8vCTt91Fh04KGip0AaG9zuCk2wQCVyoNU3Hjezee9bq92duzzTmxsRJoy+jEZZZYo\n",
       "GTKJ6SJngdJqAfRzpze0+jHreUtPc7gpBLQnIYK6BYp/uGhw9YK688eu7v95ysgshcg9qSLMo3JC\n",
       "4jqLKQFBgdKDPoQ+Pltb8dUyQLpeDjeVgI6EgLIQFT5tEl3rn2losHVsexbZ3EyT9wE1uGdkIPcy\n",
       "BGxn8QUq1QrA5nqW5i2tLqvrrM9NK6AdkVIvL9E9bZL/oyfMVd/jqvc8LylzRBKDJSzIExwhQzuL\n",
       "QYGQj4rHfFTc8mUdu3E7yoLtbTe9gI4EqVgVkug2i5+uXGo919ixbRog+3fTbQ8qJe4ZOYNfMoTI\n",
       "OoshUNosgO60AisX15aeI2PSIp5KiFLI9ubb1vV3Qb2ltwLakUCDAkWX7/nHKRmmGIl9VgYsUhJm\n",
       "2NXjKYADtM1ygne9QQDIXlk49FBstMKx66D1v4+XuQr7vqTe0VcBHQlRWiOCbmmSYe2SqtL6q5rJ\n",
       "zsTb7lKx3FKOYC4DoqyS/B5bvLPxvD9Qtf6saxYLQGJErmDOdOMr/zo96km1nElr8bmPOBwI9COv\n",
       "HnFPRIwmkSOv9kcAS4heRsidOkpeWBgZM+UBrTFAXNYL5Vf2ii9c1trNzpYdaoVil3WIc+wdk+gQ\n",
       "noie3ecCcxt9ITcLAPWt/laGEO/9U6PmzZkenTtsSMQ8uYywJVW+grCstAvCIaAdArAsIWkRDDs/\n",
       "KzLm2YcjY1Lv0UdW73HabE9n6V66cxSzfEmuJssTpKGVp+0vHq73FwL46eOjpMpbRAnNmJFrGJNu\n",
       "Ukf9Yrz+3rghiumCKNXXWPhLYcjxGsIpoCMsIRoFITkW8AuyM8jC1+/QLx4bozCEJIq38+1rtpR6\n",
       "V/yzb8eBlRb3fo5l783N0CWolAzJHaVNzkrTzlEp2bQ2q3TC5gn6wpnoQAmwSiGh2GitnTmVMc5O\n",
       "UyfKWUKCIsU7+fZDKwqdT6DDpvkzAX4/+AMFjk0tDp5GRXLpQ2MUmhgDp5gxQT8+Y7hyPsMi8uxF\n",
       "71H0oebujHALECjFKaW9Lm68n18wXp2kVzIcABytD5iXFzg+WVXkegpAsOOYziqo0OkK76GyquC3\n",
       "ltZAzMhhqlSNmmWTE5T6e3IN05ITFLM4GdN0vtZ3ob8Jh1NAKXFbm5PtLU/eqTSlGjkNAJjdgn/N\n",
       "aedXa0tdi7+t9G0FIF49rtMSEgAs1kDLkTPO7ebm4IUWeyh1bKomXqlgMG6kJmHcSM0clYLJ8XtR\n",
       "1GTnbV3F6I5wCGikAb402npp1h1s7LQUZZSMIfALFOuL3UUrfnS8+rez7v9qcold5tilgHbO1fjK\n",
       "9ubb17u9oshxzMiUBKXWqJNxd+fqb0tLVs4lILFnK71H0Ind7uiPgACVcFJlrb0tV6DzxqqTIhUM\n",
       "CwDf1/rrVhTa33/3pGPxJYdQ2l2cbgVcQSosdx8uqnDtbGjh9SlDVSMNWhlnilfqZk42Th2ZpLpf\n",
       "xrHec5e815zrr0dfBZSwzkZfqsv+1FS1KUknUwPARVvItfKUY+cn57yP7qv07UE3p8B2uhUwLk09\n",
       "e0SCOrK+hbdYHYLjRIl71wWzv9jpEoeOHhGRrJAzyEyNiJuUqX0g2sBN5kGK6y2Blp5M3lsB9Qh4\n",
       "y2Ja6x6+i0ucmKgwMATwhSjdUu49tKrQ/pvN5d53ml2CGwCmJipmKjgmyuaXzNeL2a0AkQ01Th5j\n",
       "2DktO3Jyk8f9vcOBQHV94OK+fPumJmvQHxJoWkaKWq9Vs+yUsbq0zGT1I4RgeH2b5wef7+c7bl8F\n",
       "eKgoHVVZa8ZPEORzR6sT1BzDUAD/d9F78e2Tzv99v8D+fLVTqAKAsbGamKey1Mt9Ann4eH3gTXTz\n",
       "idWtAJ8PQWOk7NzSeQn/OTHDuEikVF1R4z8BQCy+6D1aWRfY0tTGG2OM8rRoPaeIj5ZHzJxszElN\n",
       "VM8K8JS5WOfv8mzRnQAKoEhmt8gyPM4lU9SmBK1MCQBnW4KONT86v1hZ1PbwSXPw4JWussVjtH9Y\n",
       "NCoiL9UoH/6PSu8jFrfY2t36erQHXLIEakMi1SydmzB31h3GGXFDFNPaK8Rme9B79Ixrd0WN+1ij\n",
       "NRQ/doRmuFLBkHSTOm5GruG+pFjFdAmorG4IXH1Qua6ASniclfFtDYt+oUjKipPrCQB7QBQ2lrgP\n",
       "fFzm+9XWUtcqJ3/5vDLDpJ79XHZk3u8nGZ42qlj1+ydtbxysCezrydp6ugmipNJ7WBPB5tydY0jP\n",
       "HaVNzs3QzeE4ZpTbI+ZbnSFPbVOw9vsfnVvqWnirPyCNGD08IlqtYkh2hjZ5dErEQzoNm+6ykyOt\n",
       "Lt5/PQEuSRRKo22VkydK+vvS1XEKlhCJAnsqvcVvH7f/ZU2R67eXbMEGAMiIV5oWZWiWvz5Fv2xG\n",
       "sjqNJQRvn3Rs2lji/lNP19VjAQDgD7FHhujZB9OGqYxRkZxixgRDVlqS6uEOFaJUVu0rPFzctrnF\n",
       "JqijImVp8dEKVWyUXDk92zAuMZ6bFwpBU1HrOw6AdhQgUooChb0+ItMbWJitSo5Ws3IAOGEOtL53\n",
       "0vHZih9sC4vtofZ7Qu6523V/fmGcds1TY3V36pUsBwAbSlxnVh2xLfAD/IAIMDf7XYIkNmXfpp2l\n",
       "18rkAJAy9HKFaIr/qULkeQQKy9zf1JgDB2uaeFNGijo5QsUyacNUUTOnGO42xSnv4oOwpDi1zYkc\n",
       "efUc3I5Gk6PhyTuVKaOGyLUAYPGIoY9Pu/atL/L92+4q9wbflRJ2Trpm/jPjdBtfnqB/dIThcl8A\n",
       "KG7hbRuKnb8qsQsVvVlTrwQAQMUlf3kwJI24Z4JhPMtcfng5GcH49GsrxJpGvvHIaeem2ma+KSjQ\n",
       "lIwUdYyCY8j4dE1KzijNnIP2llF2wcXNnsoapw9XxsgYAl6k+KzUXbi2yP3KR2ecf6z3BFsBICdW\n",
       "nvnIaG3eHybqX7vbpEqUMT+9OL4Qpe8VON7dXuFd39v19FoAABRVePbGGuXTszO0P7tu6lghUonE\n",
       "llRdrhArLvmKdh9u29jcFiRRkfLUxBiFNiqSU9icoZQHo5mYBI1MBgBH6wMNb+U7Pnw337H4gi1Y\n",
       "ciWs+uks3Z9fztUvfzxTm9Ne8XXkvQLHNytOOZeiD4e0PgkAIAYCYknKUNUDSXEKzdWNpnil7r4p\n",
       "xqkjTarZMtk/K8TQ6Qve78qqvXurGwIJqcOUKfUWHsm8KGvxSP68YudXq4pcj39X49uOK2X142O0\n",
       "Tz5/u/7TVybqH0rSya6ZBwD21/gubbrgWdDgEOx9WUhfBaC2ibcEBYm7a7x+ukrBMNcEZggyR0TE\n",
       "T8zUPjikQ4VosQZbTpS4vqizBKvqmvjsqnpfzaZyx9JPiz1/bfGKdgD45XB1zoIMzYbfTdS/NClB\n",
       "Gct0USiY3YL/g0LHy/uq/Ef6uo5+n0R/vyhp17Klpge763f8rMu6YU/zrn2nml+2WtH+Z+5IAAFc\n",
       "2bUTdTDOSNa9+cQY7YLsOIXhevEkCvzph7a8laecz/Un/z4/Ae04XeL3UQb57IwU9ZDr9UuKVajv\n",
       "nxp1+1UVIo/LjztZkKH59fO3G/JemqCfmaCRqbqbd90ZZ8FfjtkfAyD0J/9+C2h1hDwsSxvGjNDc\n",
       "b4zk5NfrSwiQblLHzZhg+Jf4aPlUwpDqkQqa9nimbt1/TDH8OitGMaQnj+RJS6B1fbF7SY1TqO5v\n",
       "/v0WAADl1f7zokgS7s7VT2DZ7pegUjBM7mjtiDZbcN4j0YrHH0rXpCtY0qPX0cVL0rv5jv/ZXend\n",
       "0u/EESYBAFBU4T4Qa5TflZOhTe7pmKpaP8kCVUVw1+yhXfJWvn1P3hnXi33JsTN6PnP3hHZ8Z3/h\n",
       "aLHzmkNPuPj7Bc/F/Q38CwjTpSwQXgE4Vmwry9tpfq/ZFgqFMy4AVDtCvi8rvMvOmv0N4YwbVgEA\n",
       "sPM72/KVnzfspmH7HQGCRLG2yL1+z8XwvPcdCbsAANh+xPzstgMtxeGKt+6MK3/tacfvwhWvIwMi\n",
       "oKEBtm0H7W+UVfkc/Y1V0BhoPlDr/w1w/eu1vjIgAgDg22OtX6/eYfnEz/focrZTHAFR+PSs56/7\n",
       "q32nwpjazxgwAQCwcU/T62t3WL7r6/jVRa6/byp1rei+Z98ZUAEAhEPHPc8fKnTU9nbgtnOe8h0l\n",
       "9hcGIqmODLQAHCy2Xti6v/XNRivf43f4fFvIteu854+VHnR7q9tfBlwAAGz+pnndB9vM26UebAe8\n",
       "SLHujPOTPVW+rwY+sxskAAC2HrA8t2Vvc7ffP1r9o+vwR2dcr92InIAbKKC1FZ5tB1tf+/G8p8sv\n",
       "N/9Q5zd/XR34LYCwV5JdccMEAMDBk45DH243r/X4xGvqxFa/GNpS7n6rwOwNWwHVE26oAADYurf1\n",
       "zx/utOzt+DMKYM0p17YtZZ5VNzqfsB2HewG1WXE8PoZ7gOclbTIvynZf9JV+fqZtfgs/8F/Nu5rB\n",
       "EIBmJ+8QRMmpU7EzGRsf2FzuePqYRbzh/zE26EwdrT10f6r6o8HOYzCJB9Dpff8tbnGLG8L/A/WE\n",
       "roTBs2RqAAAAAElFTkSuQmCC'\n",
       "     style='height:25px; border-radius:12px; display: inline-block; float: left; vertical-align: middle'></img>\n",
       "\n",
       "\n",
       "  <img src='data:image/png;base64,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'\n",
       "       style='height:15px; border-radius:12px; display: inline-block; float: left'></img>\n",
       "  \n",
       "\n",
       "\n",
       "\n",
       "\n",
       "</div>\n"
      ]
     },
     "metadata": {},
     "output_type": "display_data"
    }
   ],
   "source": [
    "import holoviews as hv\n",
    "hv.extension('bokeh')"
   ]
  },
  {
   "cell_type": "code",
   "execution_count": 49,
   "metadata": {},
   "outputs": [
    {
     "data": {},
     "metadata": {},
     "output_type": "display_data"
    },
    {
     "data": {
      "application/vnd.holoviews_exec.v0+json": "",
      "text/html": [
       "<div id='p1002'>\n",
       "  <div id=\"baf989a0-c1e6-4d71-8b97-5b58364a9c5d\" data-root-id=\"p1002\" style=\"display: contents;\"></div>\n",
       "</div>\n",
       "<script type=\"application/javascript\">(function(root) {\n",
       "  var docs_json = {\"1463bb4f-e76b-41ac-9eef-7e539f6868b1\":{\"version\":\"3.1.1\",\"title\":\"Bokeh Application\",\"defs\":[{\"type\":\"model\",\"name\":\"ReactiveHTML1\"},{\"type\":\"model\",\"name\":\"FlexBox1\",\"properties\":[{\"name\":\"align_content\",\"kind\":\"Any\",\"default\":\"flex-start\"},{\"name\":\"align_items\",\"kind\":\"Any\",\"default\":\"flex-start\"},{\"name\":\"flex_direction\",\"kind\":\"Any\",\"default\":\"row\"},{\"name\":\"flex_wrap\",\"kind\":\"Any\",\"default\":\"wrap\"},{\"name\":\"justify_content\",\"kind\":\"Any\",\"default\":\"flex-start\"}]},{\"type\":\"model\",\"name\":\"FloatPanel1\",\"properties\":[{\"name\":\"config\",\"kind\":\"Any\",\"default\":{\"type\":\"map\"}},{\"name\":\"contained\",\"kind\":\"Any\",\"default\":true},{\"name\":\"position\",\"kind\":\"Any\",\"default\":\"right-top\"},{\"name\":\"offsetx\",\"kind\":\"Any\",\"default\":null},{\"name\":\"offsety\",\"kind\":\"Any\",\"default\":null},{\"name\":\"theme\",\"kind\":\"Any\",\"default\":\"primary\"},{\"name\":\"status\",\"kind\":\"Any\",\"default\":\"normalized\"}]},{\"type\":\"model\",\"name\":\"GridStack1\",\"properties\":[{\"name\":\"mode\",\"kind\":\"Any\",\"default\":\"warn\"},{\"name\":\"ncols\",\"kind\":\"Any\",\"default\":null},{\"name\":\"nrows\",\"kind\":\"Any\",\"default\":null},{\"name\":\"allow_resize\",\"kind\":\"Any\",\"default\":true},{\"name\":\"allow_drag\",\"kind\":\"Any\",\"default\":true},{\"name\":\"state\",\"kind\":\"Any\",\"default\":[]}]},{\"type\":\"model\",\"name\":\"drag1\",\"properties\":[{\"name\":\"slider_width\",\"kind\":\"Any\",\"default\":5},{\"name\":\"slider_color\",\"kind\":\"Any\",\"default\":\"black\"},{\"name\":\"value\",\"kind\":\"Any\",\"default\":50}]},{\"type\":\"model\",\"name\":\"click1\",\"properties\":[{\"name\":\"terminal_output\",\"kind\":\"Any\",\"default\":\"\"},{\"name\":\"debug_name\",\"kind\":\"Any\",\"default\":\"\"},{\"name\":\"clears\",\"kind\":\"Any\",\"default\":0}]},{\"type\":\"model\",\"name\":\"FastWrapper1\",\"properties\":[{\"name\":\"object\",\"kind\":\"Any\",\"default\":null},{\"name\":\"style\",\"kind\":\"Any\",\"default\":null}]},{\"type\":\"model\",\"name\":\"NotificationAreaBase1\",\"properties\":[{\"name\":\"js_events\",\"kind\":\"Any\",\"default\":{\"type\":\"map\"}},{\"name\":\"position\",\"kind\":\"Any\",\"default\":\"bottom-right\"},{\"name\":\"_clear\",\"kind\":\"Any\",\"default\":0}]},{\"type\":\"model\",\"name\":\"NotificationArea1\",\"properties\":[{\"name\":\"js_events\",\"kind\":\"Any\",\"default\":{\"type\":\"map\"}},{\"name\":\"notifications\",\"kind\":\"Any\",\"default\":[]},{\"name\":\"position\",\"kind\":\"Any\",\"default\":\"bottom-right\"},{\"name\":\"_clear\",\"kind\":\"Any\",\"default\":0},{\"name\":\"types\",\"kind\":\"Any\",\"default\":[{\"type\":\"map\",\"entries\":[[\"type\",\"warning\"],[\"background\",\"#ffc107\"],[\"icon\",{\"type\":\"map\",\"entries\":[[\"className\",\"fas fa-exclamation-triangle\"],[\"tagName\",\"i\"],[\"color\",\"white\"]]}]]},{\"type\":\"map\",\"entries\":[[\"type\",\"info\"],[\"background\",\"#007bff\"],[\"icon\",{\"type\":\"map\",\"entries\":[[\"className\",\"fas fa-info-circle\"],[\"tagName\",\"i\"],[\"color\",\"white\"]]}]]}]}]},{\"type\":\"model\",\"name\":\"Notification\",\"properties\":[{\"name\":\"background\",\"kind\":\"Any\",\"default\":null},{\"name\":\"duration\",\"kind\":\"Any\",\"default\":3000},{\"name\":\"icon\",\"kind\":\"Any\",\"default\":null},{\"name\":\"message\",\"kind\":\"Any\",\"default\":\"\"},{\"name\":\"notification_type\",\"kind\":\"Any\",\"default\":null},{\"name\":\"_destroyed\",\"kind\":\"Any\",\"default\":false}]},{\"type\":\"model\",\"name\":\"TemplateActions1\",\"properties\":[{\"name\":\"open_modal\",\"kind\":\"Any\",\"default\":0},{\"name\":\"close_modal\",\"kind\":\"Any\",\"default\":0}]},{\"type\":\"model\",\"name\":\"BootstrapTemplateActions1\",\"properties\":[{\"name\":\"open_modal\",\"kind\":\"Any\",\"default\":0},{\"name\":\"close_modal\",\"kind\":\"Any\",\"default\":0}]},{\"type\":\"model\",\"name\":\"MaterialTemplateActions1\",\"properties\":[{\"name\":\"open_modal\",\"kind\":\"Any\",\"default\":0},{\"name\":\"close_modal\",\"kind\":\"Any\",\"default\":0}]}],\"roots\":[{\"type\":\"object\",\"name\":\"Row\",\"id\":\"p1002\",\"attributes\":{\"name\":\"Row00847\",\"tags\":[\"embedded\"],\"stylesheets\":[\"\\n:host(.pn-loading.pn-arc):before, .pn-loading.pn-arc:before {\\n  background-image: url(\\\"data:image/svg+xml;base64,PHN2ZyB4bWxucz0iaHR0cDovL3d3dy53My5vcmcvMjAwMC9zdmciIHN0eWxlPSJtYXJnaW46IGF1dG87IGJhY2tncm91bmQ6IG5vbmU7IGRpc3BsYXk6IGJsb2NrOyBzaGFwZS1yZW5kZXJpbmc6IGF1dG87IiB2aWV3Qm94PSIwIDAgMTAwIDEwMCIgcHJlc2VydmVBc3BlY3RSYXRpbz0ieE1pZFlNaWQiPiAgPGNpcmNsZSBjeD0iNTAiIGN5PSI1MCIgZmlsbD0ibm9uZSIgc3Ryb2tlPSIjYzNjM2MzIiBzdHJva2Utd2lkdGg9IjEwIiByPSIzNSIgc3Ryb2tlLWRhc2hhcnJheT0iMTY0LjkzMzYxNDMxMzQ2NDE1IDU2Ljk3Nzg3MTQzNzgyMTM4Ij4gICAgPGFuaW1hdGVUcmFuc2Zvcm0gYXR0cmlidXRlTmFtZT0idHJhbnNmb3JtIiB0eXBlPSJyb3RhdGUiIHJlcGVhdENvdW50PSJpbmRlZmluaXRlIiBkdXI9IjFzIiB2YWx1ZXM9IjAgNTAgNTA7MzYwIDUwIDUwIiBrZXlUaW1lcz0iMDsxIj48L2FuaW1hdGVUcmFuc2Zvcm0+ICA8L2NpcmNsZT48L3N2Zz4=\\\");\\n  background-size: auto calc(min(50%, 400px));\\n}\",{\"type\":\"object\",\"name\":\"ImportedStyleSheet\",\"id\":\"p1005\",\"attributes\":{\"url\":\"https://cdn.holoviz.org/panel/1.2.3/dist/css/loading.css\"}},{\"type\":\"object\",\"name\":\"ImportedStyleSheet\",\"id\":\"p1174\",\"attributes\":{\"url\":\"https://cdn.holoviz.org/panel/1.2.3/dist/css/listpanel.css\"}},{\"type\":\"object\",\"name\":\"ImportedStyleSheet\",\"id\":\"p1003\",\"attributes\":{\"url\":\"https://cdn.holoviz.org/panel/1.2.3/dist/bundled/theme/default.css\"}},{\"type\":\"object\",\"name\":\"ImportedStyleSheet\",\"id\":\"p1004\",\"attributes\":{\"url\":\"https://cdn.holoviz.org/panel/1.2.3/dist/bundled/theme/native.css\"}}],\"min_width\":1000,\"margin\":0,\"sizing_mode\":\"stretch_width\",\"align\":\"start\",\"children\":[{\"type\":\"object\",\"name\":\"Spacer\",\"id\":\"p1006\",\"attributes\":{\"name\":\"HSpacer00858\",\"stylesheets\":[\"\\n:host(.pn-loading.pn-arc):before, .pn-loading.pn-arc:before {\\n  background-image: url(\\\"data:image/svg+xml;base64,PHN2ZyB4bWxucz0iaHR0cDovL3d3dy53My5vcmcvMjAwMC9zdmciIHN0eWxlPSJtYXJnaW46IGF1dG87IGJhY2tncm91bmQ6IG5vbmU7IGRpc3BsYXk6IGJsb2NrOyBzaGFwZS1yZW5kZXJpbmc6IGF1dG87IiB2aWV3Qm94PSIwIDAgMTAwIDEwMCIgcHJlc2VydmVBc3BlY3RSYXRpbz0ieE1pZFlNaWQiPiAgPGNpcmNsZSBjeD0iNTAiIGN5PSI1MCIgZmlsbD0ibm9uZSIgc3Ryb2tlPSIjYzNjM2MzIiBzdHJva2Utd2lkdGg9IjEwIiByPSIzNSIgc3Ryb2tlLWRhc2hhcnJheT0iMTY0LjkzMzYxNDMxMzQ2NDE1IDU2Ljk3Nzg3MTQzNzgyMTM4Ij4gICAgPGFuaW1hdGVUcmFuc2Zvcm0gYXR0cmlidXRlTmFtZT0idHJhbnNmb3JtIiB0eXBlPSJyb3RhdGUiIHJlcGVhdENvdW50PSJpbmRlZmluaXRlIiBkdXI9IjFzIiB2YWx1ZXM9IjAgNTAgNTA7MzYwIDUwIDUwIiBrZXlUaW1lcz0iMDsxIj48L2FuaW1hdGVUcmFuc2Zvcm0+ICA8L2NpcmNsZT48L3N2Zz4=\\\");\\n  background-size: auto calc(min(50%, 400px));\\n}\",{\"id\":\"p1005\"},{\"id\":\"p1003\"},{\"id\":\"p1004\"}],\"margin\":0,\"sizing_mode\":\"stretch_width\",\"align\":\"start\"}},{\"type\":\"object\",\"name\":\"Figure\",\"id\":\"p1012\",\"attributes\":{\"width\":1000,\"margin\":[5,10],\"sizing_mode\":\"fixed\",\"align\":\"start\",\"x_range\":{\"type\":\"object\",\"name\":\"Range1d\",\"id\":\"p1007\",\"attributes\":{\"tags\":[[[\"x\",\"x\",null]],[]],\"start\":-238.75,\"end\":1041.75,\"reset_start\":-238.75,\"reset_end\":1041.75}},\"y_range\":{\"type\":\"object\",\"name\":\"Range1d\",\"id\":\"p1008\",\"attributes\":{\"tags\":[[[\"y\",\"y\",null]],{\"type\":\"map\",\"entries\":[[\"invert_yaxis\",false],[\"autorange\",false]]}],\"start\":-25.000000000000036,\"end\":525.0000000000001,\"reset_start\":-25.000000000000036,\"reset_end\":525.0000000000001}},\"x_scale\":{\"type\":\"object\",\"name\":\"LinearScale\",\"id\":\"p1024\"},\"y_scale\":{\"type\":\"object\",\"name\":\"LinearScale\",\"id\":\"p1025\"},\"title\":{\"type\":\"object\",\"name\":\"Title\",\"id\":\"p1015\",\"attributes\":{\"text\":\"Shared lead vars 100 vs 200 subsamples\",\"text_color\":\"black\",\"text_font_size\":\"12pt\"}},\"outline_line_alpha\":0,\"renderers\":[{\"type\":\"object\",\"name\":\"GraphRenderer\",\"id\":\"p1081\",\"attributes\":{\"layout_provider\":{\"type\":\"object\",\"name\":\"StaticLayoutProvider\",\"id\":\"p1064\",\"attributes\":{\"graph_layout\":{\"type\":\"map\",\"entries\":[[0,[7.5,315.2]],[1,[7.5,55.2]],[2,[992.5,64.56986299999998]],[3,[992.5,324.56986301369864]]]}}},\"node_renderer\":{\"type\":\"object\",\"name\":\"GlyphRenderer\",\"id\":\"p1070\",\"attributes\":{\"data_source\":{\"type\":\"object\",\"name\":\"ColumnDataSource\",\"id\":\"p1057\",\"attributes\":{\"selected\":{\"type\":\"object\",\"name\":\"Selection\",\"id\":\"p1058\",\"attributes\":{\"indices\":[],\"line_indices\":[]}},\"selection_policy\":{\"type\":\"object\",\"name\":\"UnionRenderers\",\"id\":\"p1059\"},\"data\":{\"type\":\"map\",\"entries\":[[\"index\",{\"type\":\"ndarray\",\"array\":[\"QTL w/ 100\",\"Not QTL w/ 100\",\"QTL w/ 200\",\"Not QTL w/ 200\"],\"shape\":[4],\"dtype\":\"object\",\"order\":\"little\"}],[\"x0\",[0.0,0.0,985.0,985.0]],[\"x1\",[15.0,15.0,1000.0,1000.0]],[\"y0\",[130.39999999999998,0.0,-2.930988785010413e-14,149.13972602739722]],[\"y1\",[500.0,110.4,129.139726,500.0]]]}}},\"view\":{\"type\":\"object\",\"name\":\"CDSView\",\"id\":\"p1071\",\"attributes\":{\"filter\":{\"type\":\"object\",\"name\":\"AllIndices\",\"id\":\"p1072\"}}},\"glyph\":{\"type\":\"object\",\"name\":\"Circle\",\"id\":\"p1065\",\"attributes\":{\"size\":{\"type\":\"value\",\"value\":10},\"fill_color\":{\"type\":\"field\",\"field\":\"index\",\"transform\":{\"type\":\"object\",\"name\":\"CategoricalColorMapper\",\"id\":\"p1056\",\"attributes\":{\"palette\":[\"#1f77b4\",\"#aec7e8\",\"#ff7f0e\",\"#ffbb78\"],\"factors\":[\"QTL w/ 100\",\"Not QTL w/ 100\",\"QTL w/ 200\",\"Not QTL w/ 200\"]}}}}},\"selection_glyph\":{\"type\":\"object\",\"name\":\"Circle\",\"id\":\"p1067\",\"attributes\":{\"size\":{\"type\":\"value\",\"value\":10},\"fill_color\":{\"type\":\"field\",\"field\":\"index\",\"transform\":{\"id\":\"p1056\"}}}},\"nonselection_glyph\":{\"type\":\"object\",\"name\":\"Circle\",\"id\":\"p1066\",\"attributes\":{\"size\":{\"type\":\"value\",\"value\":10},\"line_alpha\":{\"type\":\"value\",\"value\":0.2},\"fill_color\":{\"type\":\"field\",\"field\":\"index\",\"transform\":{\"id\":\"p1056\"}},\"fill_alpha\":{\"type\":\"value\",\"value\":0.2},\"hatch_alpha\":{\"type\":\"value\",\"value\":0.2}}},\"hover_glyph\":{\"type\":\"object\",\"name\":\"Circle\",\"id\":\"p1068\",\"attributes\":{\"size\":{\"type\":\"value\",\"value\":10},\"fill_color\":{\"type\":\"field\",\"field\":\"index\",\"transform\":{\"id\":\"p1056\"}}}},\"muted_glyph\":{\"type\":\"object\",\"name\":\"Circle\",\"id\":\"p1069\",\"attributes\":{\"size\":{\"type\":\"value\",\"value\":10},\"line_alpha\":{\"type\":\"value\",\"value\":0.2},\"fill_color\":{\"type\":\"field\",\"field\":\"index\",\"transform\":{\"id\":\"p1056\"}},\"fill_alpha\":{\"type\":\"value\",\"value\":0.2},\"hatch_alpha\":{\"type\":\"value\",\"value\":0.2}}}}},\"edge_renderer\":{\"type\":\"object\",\"name\":\"GlyphRenderer\",\"id\":\"p1078\",\"attributes\":{\"data_source\":{\"type\":\"object\",\"name\":\"ColumnDataSource\",\"id\":\"p1061\",\"attributes\":{\"selected\":{\"type\":\"object\",\"name\":\"Selection\",\"id\":\"p1062\",\"attributes\":{\"indices\":[],\"line_indices\":[]}},\"selection_policy\":{\"type\":\"object\",\"name\":\"UnionRenderers\",\"id\":\"p1063\"},\"data\":{\"type\":\"map\",\"entries\":[[\"start\",{\"type\":\"ndarray\",\"array\":{\"type\":\"bytes\",\"data\":\"AAAAAAAAAAABAAAA\"},\"shape\":[3],\"dtype\":\"int32\",\"order\":\"little\"}],[\"end\",{\"type\":\"ndarray\",\"array\":{\"type\":\"bytes\",\"data\":\"AgAAAAMAAAACAAAA\"},\"shape\":[3],\"dtype\":\"int32\",\"order\":\"little\"}],[\"xs\",[{\"type\":\"ndarray\",\"array\":{\"type\":\"bytes\",\"data\":\"AAAAAAAALkAAAAAAAAAuQAAAAAAAAC5AaNk40k0MRkAkPIj/5gFSQBQID8RqtlhAQ2p8t9wmX0A6/k2tM6tiQDOsHJcapGVA8QuQWbh/aEBQ6g01oj9rQDQU/Glt5W1APCtgnFc5cEAEP+BwfnRxQN0rsdL1pHJAOdgFYojLc0CLKhG/AOl0QEAJBoop/nVAyFoXY80Ld0CXBXjqthJ4QBnwWsCwE3lAwgDzhIUPekD/HXPY/wZ7QEYuDlvq+ntAARj3rA/sfEClwWBuOtt9QKARfj81yX5AYu6BwMq2f0Atn8/IYlKAQP9zhCn4yYBA3eh40opCgUAAccYTgLyBQJ5/hj09OIJA84fSnye2gkA0/cOKpDaDQJxSdE4ZuoNAYPv8OutAhEC6anegf8uEQOIT/c47WoVAEGqnFoXthUB+4I/HwIWGQGDqzzFUI4dA8vqApaTGh0BshbxyF3CIQAT9m+kRIIlA89Q4WvnWiUBwgKwUM5WKQLdyEGkkW4tA/R5+pzIpjEB7+A4gw/+MQGly3CI7341AAAAAAADIjkAAAAAAAMiOQAAAAAAAyI5AAAAAAADIjkBqctwiO9+NQHv4DiDD/4xA/h5+pzIpjEC4chBpJFuLQHKArBQzlYpA89Q4WvnWiUAF/ZvpESCJQG2FvHIXcIhA9PqApaTGh0Bh6s8xVCOHQH7gj8fAhYZAEGqnFoXthUDiE/3OO1qFQLtqd6B/y4RAYfv8OutAhECdUnROGbqDQDX9w4qkNoNA84fSnye2gkCff4Y9PTiCQP9wxhOAvIFA3eh40opCgUAAdIQp+MmAQC6fz8hiUoBAY+6BwMq2f0CfEX4/Ncl+QKXBYG46231AAxj3rA/sfEBGLg5b6vp7QAEec9j/BntAxADzhIUPekAb8FrAsBN5QJcFeOq2EnhAyVoXY80Ld0A/CQaKKf51QI0qEb8A6XRAPNgFYojLc0DfK7HS9aRyQAU/4HB+dHFAQCtgnFc5cEA3FPxpbeVtQFPqDTWiP2tA8guQWbh/aEA1rByXGqRlQD/+Ta0zq2JATGp8t9wmX0AaCA/EarZYQCk8iP/mAVJAbNk40k0MRkAAAAAAAAAuQA==\"},\"shape\":[104],\"dtype\":\"float64\",\"order\":\"little\"},{\"type\":\"ndarray\",\"array\":{\"type\":\"bytes\",\"data\":\"AAAAAAAALkAAAAAAAAAuQAAAAAAAAC5AaNk40k0MRkAkPIj/5gFSQBQID8RqtlhAQ2p8t9wmX0A6/k2tM6tiQDOsHJcapGVA8QuQWbh/aEBQ6g01oj9rQDQU/Glt5W1APCtgnFc5cEAEP+BwfnRxQN0rsdL1pHJAOdgFYojLc0CLKhG/AOl0QEAJBoop/nVAyFoXY80Ld0CXBXjqthJ4QBnwWsCwE3lAwgDzhIUPekD/HXPY/wZ7QEYuDlvq+ntAARj3rA/sfEClwWBuOtt9QKARfj81yX5AYu6BwMq2f0Atn8/IYlKAQP9zhCn4yYBA3eh40opCgUAAccYTgLyBQJ5/hj09OIJA84fSnye2gkA0/cOKpDaDQJxSdE4ZuoNAYPv8OutAhEC6anegf8uEQOIT/c47WoVAEGqnFoXthUB+4I/HwIWGQGDqzzFUI4dA8vqApaTGh0BshbxyF3CIQAT9m+kRIIlA89Q4WvnWiUBwgKwUM5WKQLdyEGkkW4tA/R5+pzIpjEB7+A4gw/+MQGly3CI7341AAAAAAADIjkAAAAAAAMiOQAAAAAAAyI5AAAAAAADIjkBqctwiO9+NQHv4DiDD/4xA/h5+pzIpjEC4chBpJFuLQHKArBQzlYpA89Q4WvnWiUAF/ZvpESCJQG2FvHIXcIhA9PqApaTGh0Bh6s8xVCOHQH7gj8fAhYZAEGqnFoXthUDiE/3OO1qFQLtqd6B/y4RAYfv8OutAhECdUnROGbqDQDX9w4qkNoNA84fSnye2gkCff4Y9PTiCQP9wxhOAvIFA3eh40opCgUAAdIQp+MmAQC6fz8hiUoBAY+6BwMq2f0CfEX4/Ncl+QKXBYG46231AAxj3rA/sfEBGLg5b6vp7QAEec9j/BntAxADzhIUPekAb8FrAsBN5QJcFeOq2EnhAyVoXY80Ld0A/CQaKKf51QI0qEb8A6XRAPNgFYojLc0DfK7HS9aRyQAU/4HB+dHFAQCtgnFc5cEA3FPxpbeVtQFPqDTWiP2tA8guQWbh/aEA1rByXGqRlQD/+Ta0zq2JATGp8t9wmX0AaCA/EarZYQCk8iP/mAVJAbNk40k0MRkAAAAAAAAAuQA==\"},\"shape\":[104],\"dtype\":\"float64\",\"order\":\"little\"},{\"type\":\"ndarray\",\"array\":{\"type\":\"bytes\",\"data\":\"AAAAAAAALkAAAAAAAAAuQAAAAAAAAC5AaNk40k0MRkAkPIj/5gFSQBQID8RqtlhAQ2p8t9wmX0A6/k2tM6tiQDOsHJcapGVA8QuQWbh/aEBQ6g01oj9rQDQU/Glt5W1APCtgnFc5cEAEP+BwfnRxQN0rsdL1pHJAOdgFYojLc0CLKhG/AOl0QEAJBoop/nVAyFoXY80Ld0CXBXjqthJ4QBnwWsCwE3lAwgDzhIUPekD/HXPY/wZ7QEYuDlvq+ntAARj3rA/sfEClwWBuOtt9QKARfj81yX5AYu6BwMq2f0Atn8/IYlKAQP9zhCn4yYBA3eh40opCgUAAccYTgLyBQJ5/hj09OIJA84fSnye2gkA0/cOKpDaDQJxSdE4ZuoNAYPv8OutAhEC6anegf8uEQOIT/c47WoVAEGqnFoXthUB+4I/HwIWGQGDqzzFUI4dA8vqApaTGh0BshbxyF3CIQAT9m+kRIIlA89Q4WvnWiUBwgKwUM5WKQLdyEGkkW4tA/R5+pzIpjEB7+A4gw/+MQGly3CI7341AAAAAAADIjkAAAAAAAMiOQAAAAAAAyI5AAAAAAADIjkBqctwiO9+NQHv4DiDD/4xA/h5+pzIpjEC4chBpJFuLQHKArBQzlYpA89Q4WvnWiUAF/ZvpESCJQG2FvHIXcIhA9PqApaTGh0Bh6s8xVCOHQH7gj8fAhYZAEGqnFoXthUDiE/3OO1qFQLtqd6B/y4RAYfv8OutAhECdUnROGbqDQDX9w4qkNoNA84fSnye2gkCff4Y9PTiCQP9wxhOAvIFA3eh40opCgUAAdIQp+MmAQC6fz8hiUoBAY+6BwMq2f0CfEX4/Ncl+QKXBYG46231AAxj3rA/sfEBGLg5b6vp7QAEec9j/BntAxADzhIUPekAb8FrAsBN5QJcFeOq2EnhAyVoXY80Ld0A/CQaKKf51QI0qEb8A6XRAPNgFYojLc0DfK7HS9aRyQAU/4HB+dHFAQCtgnFc5cEA3FPxpbeVtQFPqDTWiP2tA8guQWbh/aEA1rByXGqRlQD/+Ta0zq2JATGp8t9wmX0AaCA/EarZYQCk8iP/mAVJAbNk40k0MRkAAAAAAAAAuQA==\"},\"shape\":[104],\"dtype\":\"float64\",\"order\":\"little\"}]],[\"ys\",[{\"type\":\"ndarray\",\"array\":{\"type\":\"bytes\",\"data\":\"RsK3onikYkDMzMzMzExgQMzMzMzMTGBApSzb3gJMYEDXsBo5sElgQFrwqZHlRWBAIYKnnrNAYEAl/TEWKzpgQFz4Z65cMmBAvwpoHVkpYEBCy1AZMR9gQN3QQFj1E2BAhrJWkLYHYEBpDmLvCvVfQMHL3Ijl2F9A/spaWR67X0AROhnN1ptfQONGVVAwe19AYx9MT0xZX0CA8To2TDZfQCjrXnFREl9ARzr1bH3tXkDKDDuV8cdeQKKQbVbPoV5AuvPJHDh7XkABZI1UTVReQGIP9WkwLV5AzCM+yQIGXkAuz6Xe5d5dQHU/aRb7t11AjaLF3GORXUBkJvidQWtdQOn4Pca1RV1ACEjUweEgXUCuQfj85vxcQMwT5+Pm2VxATuzd4gK4XEAg+RlmXJdcQDBo2NkUeFxAbmdWqk1aXEDEJNFDKD5cQCPOhRLGI1xAdpGxgkgLXECsnJEA0fRbQLIdY/iA4FtAdkJj1nnOW0DlOM8G3b5bQO0u5PXLsVtAfFLfD2inW0B/0f3A0p9bQOPZfHUtm1tAl5mZmZmZW0CXmZmZmZlbQEbCt6J4JGBARsK3ongkYEBrYqmQQiVgQDneaTaVJ2BAuZ7a3V8rYEDxDN3QkTBgQO2RUlkaN2BAtZYcweg+YEBVhBxS7EdgQNLDM1YUUmBANr5DF1BdYECM3C3fjmlgQNyH0/e/dmBAMCkWq9KEYECSKddCtpNgQAvy9whao2BAoutZR62zYEBhf95Hn8RgQFMWZ1Qf1mBAfhnVthzoYEDv8Qm5hvpgQKsI56RMDWFAwMZNxF0gYUA0lR9hqTNhQBHdPcUeR2FAYQeKOq1aYUArfeUKRG5hQHqnMYDSgWFAWO9P5EeVYUDMvSGBk6hhQOB7iKCku2FAnpJljGrOYUAOa5qO1OBhQDpuCPHR8mFAKwWR/VEEYkDrmBX+QxViQIKSdzyXJWJA+lqYAjs1YkBaW1maHkRiQLD8m00xUmJAAKhBZmJfYkBWxisuoWtiQLzAO+/cdmJAOQBT8wSBYkDW7VKECIpiQJ/yHOzWkWJAm3eSdF+YYkDU5ZRnkZ1iQFOmBQ9coWJAHyLGtK6jYkBGwreieKRiQA==\"},\"shape\":[104],\"dtype\":\"float64\",\"order\":\"little\"},{\"type\":\"ndarray\",\"array\":{\"type\":\"bytes\",\"data\":\"AAAAAABAf0BIwreieKRiQEjCt6J4pGJAR8K3onikYkBHwreieKRiQEjCt6J4pGJASMK3onikYkBIwreieKRiQEfCt6J4pGJAScK3onikYkBJwreieKRiQEnCt6J4pGJAR8K3onikYkBHwreieKRiQEfCt6J4pGJAR8K3onikYkBIwreieKRiQEjCt6J4pGJASMK3onikYkBIwreieKRiQEjCt6J4pGJAR8K3onikYkBGwreieKRiQEfCt6J4pGJAR8K3onikYkBHwreieKRiQEjCt6J4pGJAR8K3onikYkBGwreieKRiQEfCt6J4pGJAR8K3onikYkBHwreieKRiQEfCt6J4pGJAR8K3onikYkBGwreieKRiQEbCt6J4pGJAR8K3onikYkBHwreieKRiQEbCt6J4pGJARsK3onikYkBGwreieKRiQEbCt6J4pGJARsK3onikYkBGwreieKRiQEbCt6J4pGJARsK3onikYkBGwreieKRiQEbCt6J4pGJARsK3onikYkBGwreieKRiQEXCt6J4pGJARsK3onikYkBGwreieKRiQP//////P39A//////8/f0D+/////z9/QP7/////P39AAAAAAABAf0D//////z9/QAAAAAAAQH9A//////8/f0ACAAAAAEB/QAAAAAAAQH9AAAAAAABAf0D+/////z9/QP//////P39A/v////8/f0D+/////z9/QAAAAAAAQH9A//////8/f0AAAAAAAEB/QAAAAAAAQH9A/v////8/f0AAAAAAAEB/QP7/////P39A//////8/f0AAAAAAAEB/QP7/////P39AAAAAAABAf0D//////z9/QP//////P39AAAAAAABAf0AAAAAAAEB/QAAAAAAAQH9AAAAAAABAf0AAAAAAAEB/QP//////P39AAAAAAABAf0D//////z9/QAAAAAAAQH9AAAAAAABAf0AAAAAAAEB/QAAAAAAAQH9AAAAAAABAf0AAAAAAAEB/QAAAAAAAQH9AAAAAAABAf0D//////z9/QAAAAAAAQH9AAAAAAABAf0AAAAAAAEB/QAAAAAAAQH9AAAAAAABAf0AAAAAAAEB/QA==\"},\"shape\":[104],\"dtype\":\"float64\",\"order\":\"little\"},{\"type\":\"ndarray\",\"array\":{\"type\":\"bytes\",\"data\":\"mZmZmZmZW0AAAAAAAAAAAAAAAAAAAAAAczVq9mQxhLyqSxmnF+qjvB5uwaIjF7a8GHh3CH1bw7xaPkyRis/NvBhZELd+JtW88z2bUIxc3Lz00DPLRz7ivJIsywSVvOa85xuklX6i67yFhCefqnTwvAovrt80RfO8iEKubIY/9rwO9G+mR2D5vKN4O+0gpPy8q4KsUN0DAL2YZ4iR3sMBvZyFVWlokAO9Pvc3CM9nBb0C11OeZkgHvXA/zVuDMAm9CkvIcHkeC71XFGkNnRANvd+102FCBQ+9ECUWz159EL3SdUt5sXcRvXram0fDcBK9SGAZUr5nE71+FNawzFsUvV8E5HsYTBW9Mj1Vy8s3Fr0zzDu3EB4Xvaq+qVcR/he91iGxxPfWGL38AmQW7qcZvV1v1GQecBq9PXQUyLIuG73eHjZY1eIbvYJ8Sy2wixy9bZpmX20oHb3hhZkGN7gdvSFM9jo3Oh69bvqOFJitHr0MnnWrgxEfvT9EvBckZR+9SPp0caOnH71pzbHQK9gfveXKhE3n9R+9AAAAAAAAIL0AAAAAAAAgvZeZmZmZmVtAl5mZmZmZW0CXmZmZmZlbQJWZmZmZmVtAmJmZmZmZW0CYmZmZmZlbQJeZmZmZmVtAl5mZmZmZW0CZmZmZmZlbQJeZmZmZmVtAl5mZmZmZW0CXmZmZmZlbQJaZmZmZmVtAlpmZmZmZW0CYmZmZmZlbQJeZmZmZmVtAmZmZmZmZW0CZmZmZmZlbQJmZmZmZmVtAl5mZmZmZW0CXmZmZmZlbQJeZmZmZmVtAmJmZmZmZW0CZmZmZmZlbQJeZmZmZmVtAmJmZmZmZW0CYmZmZmZlbQJiZmZmZmVtAmJmZmZmZW0CZmZmZmZlbQJiZmZmZmVtAmJmZmZmZW0CYmZmZmZlbQJiZmZmZmVtAmJmZmZmZW0CYmZmZmZlbQJmZmZmZmVtAmZmZmZmZW0CZmZmZmZlbQJmZmZmZmVtAmJmZmZmZW0CZmZmZmZlbQJmZmZmZmVtAmpmZmZmZW0CYmZmZmZlbQJmZmZmZmVtAmpmZmZmZW0CZmZmZmZlbQJmZmZmZmVtAmZmZmZmZW0CZmZmZmZlbQA==\"},\"shape\":[104],\"dtype\":\"float64\",\"order\":\"little\"}]],[\"source\",[\"QTL w/ 100\",\"QTL w/ 100\",\"Not QTL w/ 100\"]],[\"target\",[\"QTL w/ 200\",\"Not QTL w/ 200\",\"QTL w/ 200\"]],[\"size\",{\"type\":\"ndarray\",\"array\":{\"type\":\"bytes\",\"data\":\"HQEAANgUAACPBgAA\"},\"shape\":[3],\"dtype\":\"int32\",\"order\":\"little\"}],[\"edge_color\",[\"QTL w/ 200\",\"Not QTL w/ 200\",\"QTL w/ 200\"]]]}}},\"view\":{\"type\":\"object\",\"name\":\"CDSView\",\"id\":\"p1079\",\"attributes\":{\"filter\":{\"type\":\"object\",\"name\":\"AllIndices\",\"id\":\"p1080\"}}},\"glyph\":{\"type\":\"object\",\"name\":\"Patches\",\"id\":\"p1098\",\"attributes\":{\"xs\":{\"type\":\"field\",\"field\":\"xs\"},\"ys\":{\"type\":\"field\",\"field\":\"ys\"},\"line_color\":{\"type\":\"field\",\"field\":\"edge_color\",\"transform\":{\"type\":\"object\",\"name\":\"CategoricalColorMapper\",\"id\":\"p1060\",\"attributes\":{\"palette\":[\"#1f77b4\",\"#aec7e8\",\"#ff7f0e\",\"#ffbb78\"],\"factors\":[\"QTL w/ 100\",\"Not QTL w/ 100\",\"QTL w/ 200\",\"Not QTL w/ 200\"]}}},\"fill_color\":{\"type\":\"field\",\"field\":\"edge_color\",\"transform\":{\"id\":\"p1060\"}},\"fill_alpha\":{\"type\":\"value\",\"value\":0.6}}},\"selection_glyph\":{\"type\":\"object\",\"name\":\"Patches\",\"id\":\"p1099\",\"attributes\":{\"xs\":{\"type\":\"field\",\"field\":\"xs\"},\"ys\":{\"type\":\"field\",\"field\":\"ys\"},\"line_color\":{\"type\":\"field\",\"field\":\"edge_color\",\"transform\":{\"id\":\"p1060\"}},\"fill_color\":{\"type\":\"field\",\"field\":\"edge_color\",\"transform\":{\"id\":\"p1060\"}},\"fill_alpha\":{\"type\":\"value\",\"value\":0.6}}},\"nonselection_glyph\":{\"type\":\"object\",\"name\":\"Patches\",\"id\":\"p1100\",\"attributes\":{\"xs\":{\"type\":\"field\",\"field\":\"xs\"},\"ys\":{\"type\":\"field\",\"field\":\"ys\"},\"line_color\":{\"type\":\"field\",\"field\":\"edge_color\",\"transform\":{\"id\":\"p1060\"}},\"line_alpha\":{\"type\":\"value\",\"value\":0.2},\"fill_color\":{\"type\":\"field\",\"field\":\"edge_color\",\"transform\":{\"id\":\"p1060\"}},\"fill_alpha\":{\"type\":\"value\",\"value\":0.2}}},\"hover_glyph\":{\"type\":\"object\",\"name\":\"Patches\",\"id\":\"p1101\",\"attributes\":{\"xs\":{\"type\":\"field\",\"field\":\"xs\"},\"ys\":{\"type\":\"field\",\"field\":\"ys\"},\"line_color\":{\"type\":\"field\",\"field\":\"edge_color\",\"transform\":{\"id\":\"p1060\"}},\"line_alpha\":{\"type\":\"value\",\"value\":0.9},\"fill_color\":{\"type\":\"field\",\"field\":\"edge_color\",\"transform\":{\"id\":\"p1060\"}},\"fill_alpha\":{\"type\":\"value\",\"value\":0.9}}},\"muted_glyph\":{\"type\":\"object\",\"name\":\"Patches\",\"id\":\"p1102\",\"attributes\":{\"xs\":{\"type\":\"field\",\"field\":\"xs\"},\"ys\":{\"type\":\"field\",\"field\":\"ys\"},\"line_color\":{\"type\":\"field\",\"field\":\"edge_color\",\"transform\":{\"id\":\"p1060\"}},\"fill_color\":{\"type\":\"field\",\"field\":\"edge_color\",\"transform\":{\"id\":\"p1060\"}},\"fill_alpha\":{\"type\":\"value\",\"value\":0.6}}}}},\"selection_policy\":{\"type\":\"object\",\"name\":\"NodesAndLinkedEdges\",\"id\":\"p1103\"},\"inspection_policy\":{\"type\":\"object\",\"name\":\"EdgesAndLinkedNodes\",\"id\":\"p1105\"}}},{\"type\":\"object\",\"name\":\"GlyphRenderer\",\"id\":\"p1118\",\"attributes\":{\"data_source\":{\"id\":\"p1057\"},\"view\":{\"id\":\"p1071\"},\"glyph\":{\"type\":\"object\",\"name\":\"Quad\",\"id\":\"p1113\",\"attributes\":{\"left\":{\"type\":\"field\",\"field\":\"x0\"},\"right\":{\"type\":\"field\",\"field\":\"x1\"},\"bottom\":{\"type\":\"field\",\"field\":\"y0\"},\"top\":{\"type\":\"field\",\"field\":\"y1\"},\"fill_color\":{\"type\":\"field\",\"field\":\"index\",\"transform\":{\"id\":\"p1056\"}}}},\"selection_glyph\":{\"type\":\"object\",\"name\":\"Quad\",\"id\":\"p1115\",\"attributes\":{\"left\":{\"type\":\"field\",\"field\":\"x0\"},\"right\":{\"type\":\"field\",\"field\":\"x1\"},\"bottom\":{\"type\":\"field\",\"field\":\"y0\"},\"top\":{\"type\":\"field\",\"field\":\"y1\"},\"fill_color\":{\"type\":\"field\",\"field\":\"index\",\"transform\":{\"id\":\"p1056\"}}}},\"nonselection_glyph\":{\"type\":\"object\",\"name\":\"Quad\",\"id\":\"p1114\",\"attributes\":{\"left\":{\"type\":\"field\",\"field\":\"x0\"},\"right\":{\"type\":\"field\",\"field\":\"x1\"},\"bottom\":{\"type\":\"field\",\"field\":\"y0\"},\"top\":{\"type\":\"field\",\"field\":\"y1\"},\"line_alpha\":{\"type\":\"value\",\"value\":0.2},\"fill_color\":{\"type\":\"field\",\"field\":\"index\",\"transform\":{\"id\":\"p1056\"}},\"fill_alpha\":{\"type\":\"value\",\"value\":0.2},\"hatch_alpha\":{\"type\":\"value\",\"value\":0.2}}},\"hover_glyph\":{\"type\":\"object\",\"name\":\"Quad\",\"id\":\"p1116\",\"attributes\":{\"left\":{\"type\":\"field\",\"field\":\"x0\"},\"right\":{\"type\":\"field\",\"field\":\"x1\"},\"bottom\":{\"type\":\"field\",\"field\":\"y0\"},\"top\":{\"type\":\"field\",\"field\":\"y1\"},\"fill_color\":{\"type\":\"field\",\"field\":\"index\",\"transform\":{\"id\":\"p1056\"}}}},\"muted_glyph\":{\"type\":\"object\",\"name\":\"Quad\",\"id\":\"p1117\",\"attributes\":{\"left\":{\"type\":\"field\",\"field\":\"x0\"},\"right\":{\"type\":\"field\",\"field\":\"x1\"},\"bottom\":{\"type\":\"field\",\"field\":\"y0\"},\"top\":{\"type\":\"field\",\"field\":\"y1\"},\"line_alpha\":{\"type\":\"value\",\"value\":0.2},\"fill_color\":{\"type\":\"field\",\"field\":\"index\",\"transform\":{\"id\":\"p1056\"}},\"fill_alpha\":{\"type\":\"value\",\"value\":0.2},\"hatch_alpha\":{\"type\":\"value\",\"value\":0.2}}}}},{\"type\":\"object\",\"name\":\"GlyphRenderer\",\"id\":\"p1130\",\"attributes\":{\"data_source\":{\"type\":\"object\",\"name\":\"ColumnDataSource\",\"id\":\"p1121\",\"attributes\":{\"selected\":{\"type\":\"object\",\"name\":\"Selection\",\"id\":\"p1122\",\"attributes\":{\"indices\":[],\"line_indices\":[]}},\"selection_policy\":{\"type\":\"object\",\"name\":\"UnionRenderers\",\"id\":\"p1123\"},\"data\":{\"type\":\"map\",\"entries\":[[\"x\",{\"type\":\"ndarray\",\"array\":{\"type\":\"bytes\",\"data\":\"AAAAAAAADsAAAAAAAAAOwAAAAAAAqo5AAAAAAACqjkA=\"},\"shape\":[4],\"dtype\":\"float64\",\"order\":\"little\"}],[\"y\",{\"type\":\"ndarray\",\"array\":{\"type\":\"bytes\",\"data\":\"MzMzMzOzc0CamZmZmZlLQNMMqaJ4JFBAkvCtKB5JdEA=\"},\"shape\":[4],\"dtype\":\"float64\",\"order\":\"little\"}],[\"text\",[\"QTL w/ 100 - 5621\",\"Not QTL w/ 100 - 1679\",\"QTL w/ 200 - 1964\",\"Not QTL w/ 200 - 5336\"]]]}}},\"view\":{\"type\":\"object\",\"name\":\"CDSView\",\"id\":\"p1131\",\"attributes\":{\"filter\":{\"type\":\"object\",\"name\":\"AllIndices\",\"id\":\"p1132\"}}},\"glyph\":{\"type\":\"object\",\"name\":\"Text\",\"id\":\"p1127\",\"attributes\":{\"x\":{\"type\":\"field\",\"field\":\"x\"},\"y\":{\"type\":\"field\",\"field\":\"y\"},\"text\":{\"type\":\"field\",\"field\":\"text\"},\"text_color\":{\"type\":\"value\",\"value\":\"black\"},\"text_font_size\":{\"type\":\"value\",\"value\":\"8pt\"},\"text_align\":{\"type\":\"value\",\"value\":\"right\"},\"text_baseline\":{\"type\":\"value\",\"value\":\"middle\"}}},\"selection_glyph\":{\"type\":\"object\",\"name\":\"Text\",\"id\":\"p1133\",\"attributes\":{\"x\":{\"type\":\"field\",\"field\":\"x\"},\"y\":{\"type\":\"field\",\"field\":\"y\"},\"text\":{\"type\":\"field\",\"field\":\"text\"},\"angle\":{\"type\":\"value\",\"value\":0},\"x_offset\":{\"type\":\"value\",\"value\":0},\"y_offset\":{\"type\":\"value\",\"value\":0},\"text_color\":{\"type\":\"value\",\"value\":\"black\"},\"text_outline_color\":{\"type\":\"value\",\"value\":null},\"text_alpha\":{\"type\":\"value\",\"value\":1.0},\"text_font_size\":{\"type\":\"value\",\"value\":\"8pt\"},\"text_font_style\":{\"type\":\"value\",\"value\":\"normal\"},\"text_align\":{\"type\":\"value\",\"value\":\"right\"},\"text_baseline\":{\"type\":\"value\",\"value\":\"middle\"},\"text_line_height\":{\"type\":\"value\",\"value\":1.2},\"background_fill_color\":{\"type\":\"value\",\"value\":null},\"background_fill_alpha\":{\"type\":\"value\",\"value\":1.0},\"background_hatch_color\":{\"type\":\"value\",\"value\":null},\"background_hatch_alpha\":{\"type\":\"value\",\"value\":1.0},\"background_hatch_scale\":{\"type\":\"value\",\"value\":12.0},\"background_hatch_pattern\":{\"type\":\"value\",\"value\":null},\"background_hatch_weight\":{\"type\":\"value\",\"value\":1.0},\"border_line_color\":{\"type\":\"value\",\"value\":null},\"border_line_alpha\":{\"type\":\"value\",\"value\":1.0},\"border_line_width\":{\"type\":\"value\",\"value\":1},\"border_line_join\":{\"type\":\"value\",\"value\":\"bevel\"},\"border_line_cap\":{\"type\":\"value\",\"value\":\"butt\"},\"border_line_dash\":{\"type\":\"value\",\"value\":[]},\"border_line_dash_offset\":{\"type\":\"value\",\"value\":0}}},\"nonselection_glyph\":{\"type\":\"object\",\"name\":\"Text\",\"id\":\"p1128\",\"attributes\":{\"x\":{\"type\":\"field\",\"field\":\"x\"},\"y\":{\"type\":\"field\",\"field\":\"y\"},\"text\":{\"type\":\"field\",\"field\":\"text\"},\"text_color\":{\"type\":\"value\",\"value\":\"black\"},\"text_alpha\":{\"type\":\"value\",\"value\":0.1},\"text_font_size\":{\"type\":\"value\",\"value\":\"8pt\"},\"text_align\":{\"type\":\"value\",\"value\":\"right\"},\"text_baseline\":{\"type\":\"value\",\"value\":\"middle\"}}},\"muted_glyph\":{\"type\":\"object\",\"name\":\"Text\",\"id\":\"p1129\",\"attributes\":{\"x\":{\"type\":\"field\",\"field\":\"x\"},\"y\":{\"type\":\"field\",\"field\":\"y\"},\"text\":{\"type\":\"field\",\"field\":\"text\"},\"text_color\":{\"type\":\"value\",\"value\":\"black\"},\"text_alpha\":{\"type\":\"value\",\"value\":0.2},\"text_font_size\":{\"type\":\"value\",\"value\":\"8pt\"},\"text_align\":{\"type\":\"value\",\"value\":\"right\"},\"text_baseline\":{\"type\":\"value\",\"value\":\"middle\"}}}}}],\"toolbar\":{\"type\":\"object\",\"name\":\"Toolbar\",\"id\":\"p1019\",\"attributes\":{\"tools\":[{\"type\":\"object\",\"name\":\"HoverTool\",\"id\":\"p1011\",\"attributes\":{\"tags\":[\"hv_created\"],\"renderers\":[{\"id\":\"p1081\"}],\"tooltips\":[[\"source\",\"@{source}\"],[\"target\",\"@{target}\"],[\"size\",\"@{size}\"]]}},{\"type\":\"object\",\"name\":\"SaveTool\",\"id\":\"p1040\"},{\"type\":\"object\",\"name\":\"PanTool\",\"id\":\"p1041\"},{\"type\":\"object\",\"name\":\"WheelZoomTool\",\"id\":\"p1042\"},{\"type\":\"object\",\"name\":\"BoxZoomTool\",\"id\":\"p1043\",\"attributes\":{\"overlay\":{\"type\":\"object\",\"name\":\"BoxAnnotation\",\"id\":\"p1044\",\"attributes\":{\"syncable\":false,\"level\":\"overlay\",\"visible\":false,\"left_units\":\"canvas\",\"right_units\":\"canvas\",\"bottom_units\":\"canvas\",\"top_units\":\"canvas\",\"line_color\":\"black\",\"line_alpha\":1.0,\"line_width\":2,\"line_dash\":[4,4],\"fill_color\":\"lightgrey\",\"fill_alpha\":0.5}}}},{\"type\":\"object\",\"name\":\"ResetTool\",\"id\":\"p1045\"},{\"type\":\"object\",\"name\":\"TapTool\",\"id\":\"p1046\",\"attributes\":{\"renderers\":\"auto\"}}],\"active_drag\":{\"id\":\"p1041\"},\"active_scroll\":{\"id\":\"p1042\"}}},\"left\":[{\"type\":\"object\",\"name\":\"LinearAxis\",\"id\":\"p1033\",\"attributes\":{\"visible\":false,\"ticker\":{\"type\":\"object\",\"name\":\"BasicTicker\",\"id\":\"p1035\",\"attributes\":{\"mantissas\":[1,2,5]}},\"formatter\":{\"type\":\"object\",\"name\":\"BasicTickFormatter\",\"id\":\"p1034\"},\"axis_label\":\"y\",\"major_label_policy\":{\"type\":\"object\",\"name\":\"AllLabels\",\"id\":\"p1036\"}}}],\"below\":[{\"type\":\"object\",\"name\":\"LinearAxis\",\"id\":\"p1026\",\"attributes\":{\"visible\":false,\"ticker\":{\"type\":\"object\",\"name\":\"BasicTicker\",\"id\":\"p1028\",\"attributes\":{\"mantissas\":[1,2,5]}},\"formatter\":{\"type\":\"object\",\"name\":\"BasicTickFormatter\",\"id\":\"p1027\"},\"axis_label\":\"x\",\"major_label_policy\":{\"type\":\"object\",\"name\":\"AllLabels\",\"id\":\"p1029\"}}}],\"center\":[{\"type\":\"object\",\"name\":\"Grid\",\"id\":\"p1032\",\"attributes\":{\"axis\":{\"id\":\"p1026\"},\"grid_line_color\":null}},{\"type\":\"object\",\"name\":\"Grid\",\"id\":\"p1039\",\"attributes\":{\"dimension\":1,\"axis\":{\"id\":\"p1033\"},\"grid_line_color\":null}}],\"min_border_top\":10,\"min_border_bottom\":10,\"min_border_left\":10,\"min_border_right\":10,\"output_backend\":\"webgl\"}},{\"type\":\"object\",\"name\":\"Spacer\",\"id\":\"p1172\",\"attributes\":{\"name\":\"HSpacer00861\",\"stylesheets\":[\"\\n:host(.pn-loading.pn-arc):before, .pn-loading.pn-arc:before {\\n  background-image: url(\\\"data:image/svg+xml;base64,PHN2ZyB4bWxucz0iaHR0cDovL3d3dy53My5vcmcvMjAwMC9zdmciIHN0eWxlPSJtYXJnaW46IGF1dG87IGJhY2tncm91bmQ6IG5vbmU7IGRpc3BsYXk6IGJsb2NrOyBzaGFwZS1yZW5kZXJpbmc6IGF1dG87IiB2aWV3Qm94PSIwIDAgMTAwIDEwMCIgcHJlc2VydmVBc3BlY3RSYXRpbz0ieE1pZFlNaWQiPiAgPGNpcmNsZSBjeD0iNTAiIGN5PSI1MCIgZmlsbD0ibm9uZSIgc3Ryb2tlPSIjYzNjM2MzIiBzdHJva2Utd2lkdGg9IjEwIiByPSIzNSIgc3Ryb2tlLWRhc2hhcnJheT0iMTY0LjkzMzYxNDMxMzQ2NDE1IDU2Ljk3Nzg3MTQzNzgyMTM4Ij4gICAgPGFuaW1hdGVUcmFuc2Zvcm0gYXR0cmlidXRlTmFtZT0idHJhbnNmb3JtIiB0eXBlPSJyb3RhdGUiIHJlcGVhdENvdW50PSJpbmRlZmluaXRlIiBkdXI9IjFzIiB2YWx1ZXM9IjAgNTAgNTA7MzYwIDUwIDUwIiBrZXlUaW1lcz0iMDsxIj48L2FuaW1hdGVUcmFuc2Zvcm0+ICA8L2NpcmNsZT48L3N2Zz4=\\\");\\n  background-size: auto calc(min(50%, 400px));\\n}\",{\"id\":\"p1005\"},{\"id\":\"p1003\"},{\"id\":\"p1004\"}],\"margin\":0,\"sizing_mode\":\"stretch_width\",\"align\":\"start\"}}]}}],\"callbacks\":{\"type\":\"map\"}}};\n",
       "  var render_items = [{\"docid\":\"1463bb4f-e76b-41ac-9eef-7e539f6868b1\",\"roots\":{\"p1002\":\"baf989a0-c1e6-4d71-8b97-5b58364a9c5d\"},\"root_ids\":[\"p1002\"]}];\n",
       "  var docs = Object.values(docs_json)\n",
       "  if (!docs) {\n",
       "    return\n",
       "  }\n",
       "  const py_version = docs[0].version.replace('rc', '-rc.').replace('.dev', '-dev.')\n",
       "  const is_dev = py_version.indexOf(\"+\") !== -1 || py_version.indexOf(\"-\") !== -1\n",
       "  function embed_document(root) {\n",
       "    var Bokeh = get_bokeh(root)\n",
       "    Bokeh.embed.embed_items_notebook(docs_json, render_items);\n",
       "    for (const render_item of render_items) {\n",
       "      for (const root_id of render_item.root_ids) {\n",
       "\tconst id_el = document.getElementById(root_id)\n",
       "\tif (id_el.children.length && (id_el.children[0].className === 'bk-root')) {\n",
       "\t  const root_el = id_el.children[0]\n",
       "\t  root_el.id = root_el.id + '-rendered'\n",
       "\t}\n",
       "      }\n",
       "    }\n",
       "  }\n",
       "  function get_bokeh(root) {\n",
       "    if (root.Bokeh === undefined) {\n",
       "      return null\n",
       "    } else if (root.Bokeh.version !== py_version && !is_dev) {\n",
       "      if (root.Bokeh.versions === undefined || !root.Bokeh.versions.has(py_version)) {\n",
       "\treturn null\n",
       "      }\n",
       "      return root.Bokeh.versions.get(py_version);\n",
       "    } else if (root.Bokeh.version === py_version) {\n",
       "      return root.Bokeh\n",
       "    }\n",
       "    return null\n",
       "  }\n",
       "  function is_loaded(root) {\n",
       "    var Bokeh = get_bokeh(root)\n",
       "    return (Bokeh != null && Bokeh.Panel !== undefined)\n",
       "  }\n",
       "  if (is_loaded(root)) {\n",
       "    embed_document(root);\n",
       "  } else {\n",
       "    var attempts = 0;\n",
       "    var timer = setInterval(function(root) {\n",
       "      if (is_loaded(root)) {\n",
       "        clearInterval(timer);\n",
       "        embed_document(root);\n",
       "      } else if (document.readyState == \"complete\") {\n",
       "        attempts++;\n",
       "        if (attempts > 200) {\n",
       "          clearInterval(timer);\n",
       "\t  var Bokeh = get_bokeh(root)\n",
       "\t  if (Bokeh == null || Bokeh.Panel == null) {\n",
       "            console.warn(\"Panel: ERROR: Unable to run Panel code because Bokeh or Panel library is missing\");\n",
       "\t  } else {\n",
       "\t    console.warn(\"Panel: WARNING: Attempting to render but not all required libraries could be resolved.\")\n",
       "\t    embed_document(root)\n",
       "\t  }\n",
       "        }\n",
       "      }\n",
       "    }, 25, root)\n",
       "  }\n",
       "})(window);</script>"
      ],
      "text/plain": [
       ":Sankey   [source,target]   (size)"
      ]
     },
     "execution_count": 49,
     "metadata": {
      "application/vnd.holoviews_exec.v0+json": {
       "id": "p1002"
      }
     },
     "output_type": "execute_result"
    }
   ],
   "source": [
    "# get the counts for unique lead vars \n",
    "subset_counts = up.query(up.from_contents({'100':sub_overlaps[100]['lead_variant_id'].unique(),\n",
    " '200':sub_overlaps[200]['lead_variant_id'].unique()})).subset_sizes\n",
    "\n",
    "subset_counts = pd.DataFrame(subset_counts)\n",
    "\n",
    "subset_counts['source'] = [('' if value else 'Not ') + 'QTL w/ 100' for value in subset_counts.index.get_level_values('100')]\n",
    "subset_counts['target'] = [('' if value else 'Not ') + 'QTL w/ 200' for value in subset_counts.index.get_level_values('200')]\n",
    "\n",
    "# sort the target and source to be QTLs on the bottom, not QTLs on the top \n",
    "subset_counts['source'] = pd.Categorical(subset_counts['source'], [\"QTL w/ 100\", \"Not QTL w/ 100\"])\n",
    "subset_counts['target'] = pd.Categorical(subset_counts['target'], [\"QTL w/ 200\", \"Not QTL w/ 200\"])\n",
    "\n",
    "subset_counts.sort_values(['source', 'target'], inplace=True)\n",
    "\n",
    "sankey = hv.Sankey(subset_counts, label='Shared lead vars 100 vs 200 subsamples', vdims='size')\n",
    "sankey.opts(label_position='left', edge_color='target', cmap='tab20')"
   ]
  },
  {
   "cell_type": "code",
   "execution_count": null,
   "metadata": {},
   "outputs": [],
   "source": [
    "def get_cs_overlap(row, var_list):\n",
    "    return sum(var_list.isin(row['variant_list_2'])) > 0\n",
    "\n",
    "sub_overlaps[100]['variant_list_2'] = sub_overlaps[100]['variant_list'].apply(ast.literal_eval)\n",
    "vars_100 = sub_overlaps[100]['variant_list_2'].explode()\n",
    "\n",
    "sub_overlaps[200]['variant_list_2'] = sub_overlaps[200]['variant_list'].apply(ast.literal_eval)\n",
    "vars_200 = sub_overlaps[200]['variant_list_2'].explode()\n",
    "\n",
    "sub_overlaps[100]['200_overlap'] = sub_overlaps[100].progress_apply(get_cs_overlap, axis=1, args=(vars_200,))\n",
    "sub_overlaps[200]['100_overlap'] = sub_overlaps[200].progress_apply(get_cs_overlap, axis=1, args=(vars_100,))"
   ]
  },
  {
   "cell_type": "code",
   "execution_count": 50,
   "metadata": {},
   "outputs": [],
   "source": [
    "subset_counts.loc[(True,True), 'size'] = sum(sub_overlaps[100]['200_overlap'])\n",
    "subset_counts.loc[(False,True), 'size'] = len(sub_overlaps[100]) - sum(sub_overlaps[100]['200_overlap'])\n",
    "subset_counts.loc[(True,False), 'size'] = len(sub_overlaps[200]) - sum(sub_overlaps[200]['100_overlap'])"
   ]
  },
  {
   "cell_type": "code",
   "execution_count": 73,
   "metadata": {},
   "outputs": [
    {
     "data": {},
     "metadata": {},
     "output_type": "display_data"
    },
    {
     "data": {
      "application/vnd.holoviews_exec.v0+json": "",
      "text/html": [
       "<div id='p1554'>\n",
       "  <div id=\"d1ca106b-2643-49f1-90b6-95f9567dec68\" data-root-id=\"p1554\" style=\"display: contents;\"></div>\n",
       "</div>\n",
       "<script type=\"application/javascript\">(function(root) {\n",
       "  var docs_json = {\"48acb79a-993c-4c90-9fd5-25666a76a8b7\":{\"version\":\"3.1.1\",\"title\":\"Bokeh Application\",\"defs\":[{\"type\":\"model\",\"name\":\"ReactiveHTML1\"},{\"type\":\"model\",\"name\":\"FlexBox1\",\"properties\":[{\"name\":\"align_content\",\"kind\":\"Any\",\"default\":\"flex-start\"},{\"name\":\"align_items\",\"kind\":\"Any\",\"default\":\"flex-start\"},{\"name\":\"flex_direction\",\"kind\":\"Any\",\"default\":\"row\"},{\"name\":\"flex_wrap\",\"kind\":\"Any\",\"default\":\"wrap\"},{\"name\":\"justify_content\",\"kind\":\"Any\",\"default\":\"flex-start\"}]},{\"type\":\"model\",\"name\":\"FloatPanel1\",\"properties\":[{\"name\":\"config\",\"kind\":\"Any\",\"default\":{\"type\":\"map\"}},{\"name\":\"contained\",\"kind\":\"Any\",\"default\":true},{\"name\":\"position\",\"kind\":\"Any\",\"default\":\"right-top\"},{\"name\":\"offsetx\",\"kind\":\"Any\",\"default\":null},{\"name\":\"offsety\",\"kind\":\"Any\",\"default\":null},{\"name\":\"theme\",\"kind\":\"Any\",\"default\":\"primary\"},{\"name\":\"status\",\"kind\":\"Any\",\"default\":\"normalized\"}]},{\"type\":\"model\",\"name\":\"GridStack1\",\"properties\":[{\"name\":\"mode\",\"kind\":\"Any\",\"default\":\"warn\"},{\"name\":\"ncols\",\"kind\":\"Any\",\"default\":null},{\"name\":\"nrows\",\"kind\":\"Any\",\"default\":null},{\"name\":\"allow_resize\",\"kind\":\"Any\",\"default\":true},{\"name\":\"allow_drag\",\"kind\":\"Any\",\"default\":true},{\"name\":\"state\",\"kind\":\"Any\",\"default\":[]}]},{\"type\":\"model\",\"name\":\"drag1\",\"properties\":[{\"name\":\"slider_width\",\"kind\":\"Any\",\"default\":5},{\"name\":\"slider_color\",\"kind\":\"Any\",\"default\":\"black\"},{\"name\":\"value\",\"kind\":\"Any\",\"default\":50}]},{\"type\":\"model\",\"name\":\"click1\",\"properties\":[{\"name\":\"terminal_output\",\"kind\":\"Any\",\"default\":\"\"},{\"name\":\"debug_name\",\"kind\":\"Any\",\"default\":\"\"},{\"name\":\"clears\",\"kind\":\"Any\",\"default\":0}]},{\"type\":\"model\",\"name\":\"FastWrapper1\",\"properties\":[{\"name\":\"object\",\"kind\":\"Any\",\"default\":null},{\"name\":\"style\",\"kind\":\"Any\",\"default\":null}]},{\"type\":\"model\",\"name\":\"NotificationAreaBase1\",\"properties\":[{\"name\":\"js_events\",\"kind\":\"Any\",\"default\":{\"type\":\"map\"}},{\"name\":\"position\",\"kind\":\"Any\",\"default\":\"bottom-right\"},{\"name\":\"_clear\",\"kind\":\"Any\",\"default\":0}]},{\"type\":\"model\",\"name\":\"NotificationArea1\",\"properties\":[{\"name\":\"js_events\",\"kind\":\"Any\",\"default\":{\"type\":\"map\"}},{\"name\":\"notifications\",\"kind\":\"Any\",\"default\":[]},{\"name\":\"position\",\"kind\":\"Any\",\"default\":\"bottom-right\"},{\"name\":\"_clear\",\"kind\":\"Any\",\"default\":0},{\"name\":\"types\",\"kind\":\"Any\",\"default\":[{\"type\":\"map\",\"entries\":[[\"type\",\"warning\"],[\"background\",\"#ffc107\"],[\"icon\",{\"type\":\"map\",\"entries\":[[\"className\",\"fas fa-exclamation-triangle\"],[\"tagName\",\"i\"],[\"color\",\"white\"]]}]]},{\"type\":\"map\",\"entries\":[[\"type\",\"info\"],[\"background\",\"#007bff\"],[\"icon\",{\"type\":\"map\",\"entries\":[[\"className\",\"fas fa-info-circle\"],[\"tagName\",\"i\"],[\"color\",\"white\"]]}]]}]}]},{\"type\":\"model\",\"name\":\"Notification\",\"properties\":[{\"name\":\"background\",\"kind\":\"Any\",\"default\":null},{\"name\":\"duration\",\"kind\":\"Any\",\"default\":3000},{\"name\":\"icon\",\"kind\":\"Any\",\"default\":null},{\"name\":\"message\",\"kind\":\"Any\",\"default\":\"\"},{\"name\":\"notification_type\",\"kind\":\"Any\",\"default\":null},{\"name\":\"_destroyed\",\"kind\":\"Any\",\"default\":false}]},{\"type\":\"model\",\"name\":\"TemplateActions1\",\"properties\":[{\"name\":\"open_modal\",\"kind\":\"Any\",\"default\":0},{\"name\":\"close_modal\",\"kind\":\"Any\",\"default\":0}]},{\"type\":\"model\",\"name\":\"BootstrapTemplateActions1\",\"properties\":[{\"name\":\"open_modal\",\"kind\":\"Any\",\"default\":0},{\"name\":\"close_modal\",\"kind\":\"Any\",\"default\":0}]},{\"type\":\"model\",\"name\":\"MaterialTemplateActions1\",\"properties\":[{\"name\":\"open_modal\",\"kind\":\"Any\",\"default\":0},{\"name\":\"close_modal\",\"kind\":\"Any\",\"default\":0}]}],\"roots\":[{\"type\":\"object\",\"name\":\"Row\",\"id\":\"p1554\",\"attributes\":{\"name\":\"Row01511\",\"tags\":[\"embedded\"],\"stylesheets\":[\"\\n:host(.pn-loading.pn-arc):before, .pn-loading.pn-arc:before {\\n  background-image: url(\\\"data:image/svg+xml;base64,PHN2ZyB4bWxucz0iaHR0cDovL3d3dy53My5vcmcvMjAwMC9zdmciIHN0eWxlPSJtYXJnaW46IGF1dG87IGJhY2tncm91bmQ6IG5vbmU7IGRpc3BsYXk6IGJsb2NrOyBzaGFwZS1yZW5kZXJpbmc6IGF1dG87IiB2aWV3Qm94PSIwIDAgMTAwIDEwMCIgcHJlc2VydmVBc3BlY3RSYXRpbz0ieE1pZFlNaWQiPiAgPGNpcmNsZSBjeD0iNTAiIGN5PSI1MCIgZmlsbD0ibm9uZSIgc3Ryb2tlPSIjYzNjM2MzIiBzdHJva2Utd2lkdGg9IjEwIiByPSIzNSIgc3Ryb2tlLWRhc2hhcnJheT0iMTY0LjkzMzYxNDMxMzQ2NDE1IDU2Ljk3Nzg3MTQzNzgyMTM4Ij4gICAgPGFuaW1hdGVUcmFuc2Zvcm0gYXR0cmlidXRlTmFtZT0idHJhbnNmb3JtIiB0eXBlPSJyb3RhdGUiIHJlcGVhdENvdW50PSJpbmRlZmluaXRlIiBkdXI9IjFzIiB2YWx1ZXM9IjAgNTAgNTA7MzYwIDUwIDUwIiBrZXlUaW1lcz0iMDsxIj48L2FuaW1hdGVUcmFuc2Zvcm0+ICA8L2NpcmNsZT48L3N2Zz4=\\\");\\n  background-size: auto calc(min(50%, 400px));\\n}\",{\"type\":\"object\",\"name\":\"ImportedStyleSheet\",\"id\":\"p1557\",\"attributes\":{\"url\":\"https://cdn.holoviz.org/panel/1.2.3/dist/css/loading.css\"}},{\"type\":\"object\",\"name\":\"ImportedStyleSheet\",\"id\":\"p1724\",\"attributes\":{\"url\":\"https://cdn.holoviz.org/panel/1.2.3/dist/css/listpanel.css\"}},{\"type\":\"object\",\"name\":\"ImportedStyleSheet\",\"id\":\"p1555\",\"attributes\":{\"url\":\"https://cdn.holoviz.org/panel/1.2.3/dist/bundled/theme/default.css\"}},{\"type\":\"object\",\"name\":\"ImportedStyleSheet\",\"id\":\"p1556\",\"attributes\":{\"url\":\"https://cdn.holoviz.org/panel/1.2.3/dist/bundled/theme/native.css\"}}],\"min_width\":1000,\"margin\":0,\"sizing_mode\":\"stretch_width\",\"align\":\"start\",\"children\":[{\"type\":\"object\",\"name\":\"Spacer\",\"id\":\"p1558\",\"attributes\":{\"name\":\"HSpacer01522\",\"stylesheets\":[\"\\n:host(.pn-loading.pn-arc):before, .pn-loading.pn-arc:before {\\n  background-image: url(\\\"data:image/svg+xml;base64,PHN2ZyB4bWxucz0iaHR0cDovL3d3dy53My5vcmcvMjAwMC9zdmciIHN0eWxlPSJtYXJnaW46IGF1dG87IGJhY2tncm91bmQ6IG5vbmU7IGRpc3BsYXk6IGJsb2NrOyBzaGFwZS1yZW5kZXJpbmc6IGF1dG87IiB2aWV3Qm94PSIwIDAgMTAwIDEwMCIgcHJlc2VydmVBc3BlY3RSYXRpbz0ieE1pZFlNaWQiPiAgPGNpcmNsZSBjeD0iNTAiIGN5PSI1MCIgZmlsbD0ibm9uZSIgc3Ryb2tlPSIjYzNjM2MzIiBzdHJva2Utd2lkdGg9IjEwIiByPSIzNSIgc3Ryb2tlLWRhc2hhcnJheT0iMTY0LjkzMzYxNDMxMzQ2NDE1IDU2Ljk3Nzg3MTQzNzgyMTM4Ij4gICAgPGFuaW1hdGVUcmFuc2Zvcm0gYXR0cmlidXRlTmFtZT0idHJhbnNmb3JtIiB0eXBlPSJyb3RhdGUiIHJlcGVhdENvdW50PSJpbmRlZmluaXRlIiBkdXI9IjFzIiB2YWx1ZXM9IjAgNTAgNTA7MzYwIDUwIDUwIiBrZXlUaW1lcz0iMDsxIj48L2FuaW1hdGVUcmFuc2Zvcm0+ICA8L2NpcmNsZT48L3N2Zz4=\\\");\\n  background-size: auto calc(min(50%, 400px));\\n}\",{\"id\":\"p1557\"},{\"id\":\"p1555\"},{\"id\":\"p1556\"}],\"margin\":0,\"sizing_mode\":\"stretch_width\",\"align\":\"start\"}},{\"type\":\"object\",\"name\":\"Figure\",\"id\":\"p1564\",\"attributes\":{\"width\":1000,\"margin\":[5,10],\"sizing_mode\":\"fixed\",\"align\":\"start\",\"x_range\":{\"type\":\"object\",\"name\":\"Range1d\",\"id\":\"p1559\",\"attributes\":{\"tags\":[[[\"x\",\"x\",null]],[]],\"start\":-238.75,\"end\":1041.75,\"reset_start\":-238.75,\"reset_end\":1041.75}},\"y_range\":{\"type\":\"object\",\"name\":\"Range1d\",\"id\":\"p1560\",\"attributes\":{\"tags\":[[[\"y\",\"y\",null]],{\"type\":\"map\",\"entries\":[[\"invert_yaxis\",false],[\"autorange\",false]]}],\"start\":-25.000000000000007,\"end\":525.0000000000001,\"reset_start\":-25.000000000000007,\"reset_end\":525.0000000000001}},\"x_scale\":{\"type\":\"object\",\"name\":\"LinearScale\",\"id\":\"p1576\"},\"y_scale\":{\"type\":\"object\",\"name\":\"LinearScale\",\"id\":\"p1577\"},\"title\":{\"type\":\"object\",\"name\":\"Title\",\"id\":\"p1567\",\"attributes\":{\"text\":\"Credible set overlap 100 vs 200 subsample\",\"text_color\":\"black\",\"text_font_size\":\"12pt\"}},\"outline_line_alpha\":0,\"renderers\":[{\"type\":\"object\",\"name\":\"GraphRenderer\",\"id\":\"p1631\",\"attributes\":{\"layout_provider\":{\"type\":\"object\",\"name\":\"StaticLayoutProvider\",\"id\":\"p1615\",\"attributes\":{\"graph_layout\":{\"type\":\"map\",\"entries\":[[0,[7.5,428.71977804201344]],[1,[7.5,168.719778]],[2,[992.5,193.293698]],[3,[992.5,453.2936979785969]]]}}},\"node_renderer\":{\"type\":\"object\",\"name\":\"GlyphRenderer\",\"id\":\"p1621\",\"attributes\":{\"data_source\":{\"type\":\"object\",\"name\":\"ColumnDataSource\",\"id\":\"p1609\",\"attributes\":{\"selected\":{\"type\":\"object\",\"name\":\"Selection\",\"id\":\"p1610\",\"attributes\":{\"indices\":[],\"line_indices\":[]}},\"selection_policy\":{\"type\":\"object\",\"name\":\"UnionRenderers\",\"id\":\"p1611\"},\"data\":{\"type\":\"map\",\"entries\":[[\"index\",{\"type\":\"ndarray\",\"array\":[\"part of cs w/ 100\",\"Not part of cs w/ 100\",\"part of cs w/ 200\",\"Not part of cs w/ 200\"],\"shape\":[4],\"dtype\":\"object\",\"order\":\"little\"}],[\"x0\",[0.0,0.0,985.0,985.0]],[\"x1\",[15.0,15.0,1000.0,1000.0]],[\"y0\",[357.43955608402695,0.0,1.3322676295501878e-14,406.58739595719385]],[\"y1\",[500.0,337.439556,386.587396,500.0]]]}}},\"view\":{\"type\":\"object\",\"name\":\"CDSView\",\"id\":\"p1622\",\"attributes\":{\"filter\":{\"type\":\"object\",\"name\":\"AllIndices\",\"id\":\"p1623\"}}},\"glyph\":{\"type\":\"object\",\"name\":\"Circle\",\"id\":\"p1616\",\"attributes\":{\"size\":{\"type\":\"value\",\"value\":10},\"fill_color\":{\"type\":\"field\",\"field\":\"index\",\"transform\":{\"type\":\"object\",\"name\":\"CategoricalColorMapper\",\"id\":\"p1608\",\"attributes\":{\"palette\":[\"#1f77b4\",\"#aec7e8\",\"#ff7f0e\",\"#ffbb78\"],\"factors\":[\"part of cs w/ 100\",\"Not part of cs w/ 100\",\"part of cs w/ 200\",\"Not part of cs w/ 200\"]}}}}},\"selection_glyph\":{\"type\":\"object\",\"name\":\"Circle\",\"id\":\"p1618\",\"attributes\":{\"size\":{\"type\":\"value\",\"value\":10},\"fill_color\":{\"type\":\"field\",\"field\":\"index\",\"transform\":{\"id\":\"p1608\"}}}},\"nonselection_glyph\":{\"type\":\"object\",\"name\":\"Circle\",\"id\":\"p1617\",\"attributes\":{\"size\":{\"type\":\"value\",\"value\":10},\"line_alpha\":{\"type\":\"value\",\"value\":0.2},\"fill_color\":{\"type\":\"field\",\"field\":\"index\",\"transform\":{\"id\":\"p1608\"}},\"fill_alpha\":{\"type\":\"value\",\"value\":0.2},\"hatch_alpha\":{\"type\":\"value\",\"value\":0.2}}},\"hover_glyph\":{\"type\":\"object\",\"name\":\"Circle\",\"id\":\"p1619\",\"attributes\":{\"size\":{\"type\":\"value\",\"value\":10},\"fill_color\":{\"type\":\"field\",\"field\":\"index\",\"transform\":{\"id\":\"p1608\"}}}},\"muted_glyph\":{\"type\":\"object\",\"name\":\"Circle\",\"id\":\"p1620\",\"attributes\":{\"size\":{\"type\":\"value\",\"value\":10},\"line_alpha\":{\"type\":\"value\",\"value\":0.2},\"fill_color\":{\"type\":\"field\",\"field\":\"index\",\"transform\":{\"id\":\"p1608\"}},\"fill_alpha\":{\"type\":\"value\",\"value\":0.2},\"hatch_alpha\":{\"type\":\"value\",\"value\":0.2}}}}},\"edge_renderer\":{\"type\":\"object\",\"name\":\"GlyphRenderer\",\"id\":\"p1628\",\"attributes\":{\"data_source\":{\"type\":\"object\",\"name\":\"ColumnDataSource\",\"id\":\"p1612\",\"attributes\":{\"selected\":{\"type\":\"object\",\"name\":\"Selection\",\"id\":\"p1613\",\"attributes\":{\"indices\":[],\"line_indices\":[]}},\"selection_policy\":{\"type\":\"object\",\"name\":\"UnionRenderers\",\"id\":\"p1614\"},\"data\":{\"type\":\"map\",\"entries\":[[\"start\",{\"type\":\"ndarray\",\"array\":{\"type\":\"bytes\",\"data\":\"AAAAAAAAAAABAAAA\"},\"shape\":[3],\"dtype\":\"int32\",\"order\":\"little\"}],[\"end\",{\"type\":\"ndarray\",\"array\":{\"type\":\"bytes\",\"data\":\"AgAAAAMAAAACAAAA\"},\"shape\":[3],\"dtype\":\"int32\",\"order\":\"little\"}],[\"xs\",[{\"type\":\"ndarray\",\"array\":{\"type\":\"bytes\",\"data\":\"AAAAAAAALkAAAAAAAAAuQAAAAAAAAC5AaNk40k0MRkAkPIj/5gFSQBQID8RqtlhAQ2p8t9wmX0A6/k2tM6tiQDOsHJcapGVA8QuQWbh/aEBQ6g01oj9rQDQU/Glt5W1APCtgnFc5cEAEP+BwfnRxQN0rsdL1pHJAOdgFYojLc0CLKhG/AOl0QEAJBoop/nVAyFoXY80Ld0CXBXjqthJ4QBnwWsCwE3lAwgDzhIUPekD/HXPY/wZ7QEYuDlvq+ntAARj3rA/sfEClwWBuOtt9QKARfj81yX5AYu6BwMq2f0Atn8/IYlKAQP9zhCn4yYBA3eh40opCgUAAccYTgLyBQJ5/hj09OIJA84fSnye2gkA0/cOKpDaDQJxSdE4ZuoNAYPv8OutAhEC6anegf8uEQOIT/c47WoVAEGqnFoXthUB+4I/HwIWGQGDqzzFUI4dA8vqApaTGh0BshbxyF3CIQAT9m+kRIIlA89Q4WvnWiUBwgKwUM5WKQLdyEGkkW4tA/R5+pzIpjEB7+A4gw/+MQGly3CI7341AAAAAAADIjkAAAAAAAMiOQAAAAAAAyI5AAAAAAADIjkBqctwiO9+NQHv4DiDD/4xA/h5+pzIpjEC4chBpJFuLQHKArBQzlYpA89Q4WvnWiUAF/ZvpESCJQG2FvHIXcIhA9PqApaTGh0Bh6s8xVCOHQH7gj8fAhYZAEGqnFoXthUDiE/3OO1qFQLtqd6B/y4RAYfv8OutAhECdUnROGbqDQDX9w4qkNoNA84fSnye2gkCff4Y9PTiCQP9wxhOAvIFA3eh40opCgUAAdIQp+MmAQC6fz8hiUoBAY+6BwMq2f0CfEX4/Ncl+QKXBYG46231AAxj3rA/sfEBGLg5b6vp7QAEec9j/BntAxADzhIUPekAb8FrAsBN5QJcFeOq2EnhAyVoXY80Ld0A/CQaKKf51QI0qEb8A6XRAPNgFYojLc0DfK7HS9aRyQAU/4HB+dHFAQCtgnFc5cEA3FPxpbeVtQFPqDTWiP2tA8guQWbh/aEA1rByXGqRlQD/+Ta0zq2JATGp8t9wmX0AaCA/EarZYQCk8iP/mAVJAbNk40k0MRkAAAAAAAAAuQA==\"},\"shape\":[104],\"dtype\":\"float64\",\"order\":\"little\"},{\"type\":\"ndarray\",\"array\":{\"type\":\"bytes\",\"data\":\"AAAAAAAALkAAAAAAAAAuQAAAAAAAAC5AaNk40k0MRkAkPIj/5gFSQBQID8RqtlhAQ2p8t9wmX0A6/k2tM6tiQDOsHJcapGVA8QuQWbh/aEBQ6g01oj9rQDQU/Glt5W1APCtgnFc5cEAEP+BwfnRxQN0rsdL1pHJAOdgFYojLc0CLKhG/AOl0QEAJBoop/nVAyFoXY80Ld0CXBXjqthJ4QBnwWsCwE3lAwgDzhIUPekD/HXPY/wZ7QEYuDlvq+ntAARj3rA/sfEClwWBuOtt9QKARfj81yX5AYu6BwMq2f0Atn8/IYlKAQP9zhCn4yYBA3eh40opCgUAAccYTgLyBQJ5/hj09OIJA84fSnye2gkA0/cOKpDaDQJxSdE4ZuoNAYPv8OutAhEC6anegf8uEQOIT/c47WoVAEGqnFoXthUB+4I/HwIWGQGDqzzFUI4dA8vqApaTGh0BshbxyF3CIQAT9m+kRIIlA89Q4WvnWiUBwgKwUM5WKQLdyEGkkW4tA/R5+pzIpjEB7+A4gw/+MQGly3CI7341AAAAAAADIjkAAAAAAAMiOQAAAAAAAyI5AAAAAAADIjkBqctwiO9+NQHv4DiDD/4xA/h5+pzIpjEC4chBpJFuLQHKArBQzlYpA89Q4WvnWiUAF/ZvpESCJQG2FvHIXcIhA9PqApaTGh0Bh6s8xVCOHQH7gj8fAhYZAEGqnFoXthUDiE/3OO1qFQLtqd6B/y4RAYfv8OutAhECdUnROGbqDQDX9w4qkNoNA84fSnye2gkCff4Y9PTiCQP9wxhOAvIFA3eh40opCgUAAdIQp+MmAQC6fz8hiUoBAY+6BwMq2f0CfEX4/Ncl+QKXBYG46231AAxj3rA/sfEBGLg5b6vp7QAEec9j/BntAxADzhIUPekAb8FrAsBN5QJcFeOq2EnhAyVoXY80Ld0A/CQaKKf51QI0qEb8A6XRAPNgFYojLc0DfK7HS9aRyQAU/4HB+dHFAQCtgnFc5cEA3FPxpbeVtQFPqDTWiP2tA8guQWbh/aEA1rByXGqRlQD/+Ta0zq2JATGp8t9wmX0AaCA/EarZYQCk8iP/mAVJAbNk40k0MRkAAAAAAAAAuQA==\"},\"shape\":[104],\"dtype\":\"float64\",\"order\":\"little\"},{\"type\":\"ndarray\",\"array\":{\"type\":\"bytes\",\"data\":\"AAAAAAAALkAAAAAAAAAuQAAAAAAAAC5AaNk40k0MRkAkPIj/5gFSQBQID8RqtlhAQ2p8t9wmX0A6/k2tM6tiQDOsHJcapGVA8QuQWbh/aEBQ6g01oj9rQDQU/Glt5W1APCtgnFc5cEAEP+BwfnRxQN0rsdL1pHJAOdgFYojLc0CLKhG/AOl0QEAJBoop/nVAyFoXY80Ld0CXBXjqthJ4QBnwWsCwE3lAwgDzhIUPekD/HXPY/wZ7QEYuDlvq+ntAARj3rA/sfEClwWBuOtt9QKARfj81yX5AYu6BwMq2f0Atn8/IYlKAQP9zhCn4yYBA3eh40opCgUAAccYTgLyBQJ5/hj09OIJA84fSnye2gkA0/cOKpDaDQJxSdE4ZuoNAYPv8OutAhEC6anegf8uEQOIT/c47WoVAEGqnFoXthUB+4I/HwIWGQGDqzzFUI4dA8vqApaTGh0BshbxyF3CIQAT9m+kRIIlA89Q4WvnWiUBwgKwUM5WKQLdyEGkkW4tA/R5+pzIpjEB7+A4gw/+MQGly3CI7341AAAAAAADIjkAAAAAAAMiOQAAAAAAAyI5AAAAAAADIjkBqctwiO9+NQHv4DiDD/4xA/h5+pzIpjEC4chBpJFuLQHKArBQzlYpA89Q4WvnWiUAF/ZvpESCJQG2FvHIXcIhA9PqApaTGh0Bh6s8xVCOHQH7gj8fAhYZAEGqnFoXthUDiE/3OO1qFQLtqd6B/y4RAYfv8OutAhECdUnROGbqDQDX9w4qkNoNA84fSnye2gkCff4Y9PTiCQP9wxhOAvIFA3eh40opCgUAAdIQp+MmAQC6fz8hiUoBAY+6BwMq2f0CfEX4/Ncl+QKXBYG46231AAxj3rA/sfEBGLg5b6vp7QAEec9j/BntAxADzhIUPekAb8FrAsBN5QJcFeOq2EnhAyVoXY80Ld0A/CQaKKf51QI0qEb8A6XRAPNgFYojLc0DfK7HS9aRyQAU/4HB+dHFAQCtgnFc5cEA3FPxpbeVtQFPqDTWiP2tA8guQWbh/aEA1rByXGqRlQD/+Ta0zq2JATGp8t9wmX0AaCA/EarZYQCk8iP/mAVJAbNk40k0MRkAAAAAAAAAuQA==\"},\"shape\":[104],\"dtype\":\"float64\",\"order\":\"little\"}]],[\"ys\",[{\"type\":\"ndarray\",\"array\":{\"type\":\"bytes\",\"data\":\"M59N+WVpeUB12vVrCFd2QHXa9WsIV3ZAYQr9dKNWdkB5zBwielV2QD1sZM6UU3ZAIDXj1PtQdkChcqiQt012QD1ww1zQSXZAcHlDlE5FdkCw2TeSOkB2QH7cr7GcOnZAUs26TX00dkCp92fB5C12QP+mxmfbJnZAzSbmm2kfdkCSwtW4lxd2QMjFpBluD3ZA6HtiGfUGdkBvMB4TNf51QNou52E29XVAocLMYAHsdUBBN95qnuJ1QDfYKtsV2XVA/vDBDHDPdUAOzbJatcV1QOi3DCDuu3VAA/3etyKydUDa5zh9W6h1QO3DKcugnnVAs9zA/PqUdUCofQ1tcot1QEnyHncPgnVAEYYEdtp4dUB6hM3E2291QAI5ib4bZ3VAI+9GvqJedUBX8hUfeVZ1QByOBTynTnVA6g0lcDVHdUBAvYMWLEB1QJjnMIqTOXVAbdg7JnQzdUA627NF1i11QHw7qEPCKHVArEQoe0AkdUBIQkNHWSB1QMt/CAMVHXVArkiHCXwadUBv6M61lhh1QIiq7mJtF3VAddr1awgXdUB12vVrCBd1QDOfTfllKXhAM59N+WUpeEBFb0bwyil4QCytJkP0KnhAbQ3fltkseECIRGCQci94QAYHm9S2MnhAaQmACJ42eEA7AADRHzt4QPmfC9MzQHhAK52Ts9FFeEBUrIgX8Ut4QP6B26OJUnhAqNJ8/ZJZeEDYUl3JBGF4QBW3bazWaHhA4bOeSwBxeEDB/eBLeXl4QDpJJVI5gnhAz0pcAziLeEAHt3YEbZR4QGVCZfrPnXhAb6EYilineECqiIFY/rB4QJiskAq5unhAwcE2RYDEeECmfGStS854QM2RCugS2HhAvLUZms3heED3nIJoc+t4QAD8Nfj79HhAX4ck7l7+eECX8z7vkwd5QC31daCSEHlApkC6plIZeUCFivymyyF5QFGHLUb1KXlAjOs9KccxeUC+ax71ODl5QGi8v05CQHlAEJIS29pGeUA8oQc/+kx5QG6ejx+YUnlALD6bIaxXeUD7NBvqLVx5QGA3AB4VYHlA3vk6YlljeUD6MLxb8mV5QDmRdK/XZ3lAIM9UAgFpeUAzn035ZWl5QA==\"},\"shape\":[104],\"dtype\":\"float64\",\"order\":\"little\"},{\"type\":\"ndarray\",\"array\":{\"type\":\"bytes\",\"data\":\"//////8/f0Azn035ZWl5QDOfTfllaXlAMp9N+WVpeUAyn035ZWl5QDSfTfllaXlAM59N+WVpeUAyn035ZWl5QDKfTfllaXlANJ9N+WVpeUA0n035ZWl5QDSfTfllaXlAMZ9N+WVpeUAyn035ZWl5QDKfTfllaXlAM59N+WVpeUA0n035ZWl5QDWfTfllaXlANJ9N+WVpeUA1n035ZWl5QDOfTfllaXlAM59N+WVpeUAyn035ZWl5QDOfTfllaXlANJ9N+WVpeUA0n035ZWl5QDWfTfllaXlANJ9N+WVpeUAzn035ZWl5QDSfTfllaXlAM59N+WVpeUA0n035ZWl5QDSfTfllaXlANJ9N+WVpeUAzn035ZWl5QDSfTfllaXlANJ9N+WVpeUA0n035ZWl5QDSfTfllaXlANJ9N+WVpeUA0n035ZWl5QDSfTfllaXlANJ9N+WVpeUA0n035ZWl5QDSfTfllaXlAM59N+WVpeUA0n035ZWl5QDSfTfllaXlANJ9N+WVpeUA0n035ZWl5QDOfTfllaXlANJ9N+WVpeUA0n035ZWl5QAAAAAAAQH9AAAAAAABAf0D//////z9/QP7/////P39AAAAAAABAf0AAAAAAAEB/QAEAAAAAQH9A//////8/f0ACAAAAAEB/QAEAAAAAQH9AAQAAAABAf0D//////z9/QP//////P39A/v////8/f0AAAAAAAEB/QP//////P39AAQAAAABAf0AAAAAAAEB/QAEAAAAAQH9AAAAAAABAf0AAAAAAAEB/QP7/////P39A/v////8/f0D//////z9/QP//////P39AAAAAAABAf0D//////z9/QP//////P39A//////8/f0AAAAAAAEB/QAAAAAAAQH9AAAAAAABAf0D//////z9/QP//////P39AAAAAAABAf0D+/////z9/QAAAAAAAQH9AAAAAAABAf0AAAAAAAEB/QP//////P39A//////8/f0D//////z9/QAAAAAAAQH9AAAAAAABAf0D//////z9/QP//////P39AAAAAAABAf0D//////z9/QAAAAAAAQH9A//////8/f0D//////z9/QA==\"},\"shape\":[104],\"dtype\":\"float64\",\"order\":\"little\"},{\"type\":\"ndarray\",\"array\":{\"type\":\"bytes\",\"data\":\"ddr1awgXdUAAAAAAAAAAAAAAAAAAAAAAAAAAAAAAAAAAAAAAAAAAAAAAAAAAAAAAAAAAAAAAAAAAAAAAAAAAAAAAAAAAAAAAAAAAAAAAAAAAAAAAAAAAAAAAAAAAAAAAAAAAAAAAAAAAAAAAAAAAAAAAAAAAAAAAAAAAAAAAAAAAAAAAAAAAAAAAAAAAAAAAAAAAAAAAAAAAAAAAAAAAAAAAAAAAAAAAAAAAAAAAAAAAAAAAAAAAAAAAAAAAAAAAAAAAAAAAAAAAAAAAAAAAAAAAAAAAAAAAAAAAAAAAAAAAAAAAAAAAAAAAAAAAAAAAAAAAAAAAAAAAAAAAAAAAAAAAAAAAAAAAAAAAAAAAAAAAAAAAAAAAAAAAAAAAAAAAAAAAAAAAAAAAAAAAAAAAAAAAAAAAAAAAAAAAAAAAAAAAAAAAAAAAAAAAAAAAAAAAAAAAAAAAAAAAAAAAAAAAAAAAAAAAAAAAAAAAAAAAAAAAAAAAAAAAAAAAAAAAAAAAAAAAAAAAAAAAAAAAAAAAAAAAAAAAAAAAAAAAAAAAAAAAAAAAAAAAAHXa9WsIF3VAddr1awgXdUB02vVrCBd1QHPa9WsIF3VAdtr1awgXdUB12vVrCBd1QHXa9WsIF3VAddr1awgXdUB32vVrCBd1QHXa9WsIF3VAdtr1awgXdUB02vVrCBd1QHXa9WsIF3VAddr1awgXdUBz2vVrCBd1QHTa9WsIF3VAdtr1awgXdUB12vVrCBd1QHfa9WsIF3VAdNr1awgXdUB12vVrCBd1QHTa9WsIF3VAdNr1awgXdUB12vVrCBd1QHTa9WsIF3VAdtr1awgXdUB12vVrCBd1QHXa9WsIF3VAddr1awgXdUB22vVrCBd1QHba9WsIF3VAddr1awgXdUB22vVrCBd1QHTa9WsIF3VAddr1awgXdUB12vVrCBd1QHXa9WsIF3VAddr1awgXdUB12vVrCBd1QHXa9WsIF3VAddr1awgXdUB12vVrCBd1QHba9WsIF3VAdtr1awgXdUB12vVrCBd1QHXa9WsIF3VAdtr1awgXdUB12vVrCBd1QHXa9WsIF3VAdNr1awgXdUB12vVrCBd1QA==\"},\"shape\":[104],\"dtype\":\"float64\",\"order\":\"little\"}]],[\"source\",[\"part of cs w/ 100\",\"part of cs w/ 100\",\"Not part of cs w/ 100\"]],[\"target\",[\"part of cs w/ 200\",\"Not part of cs w/ 200\",\"part of cs w/ 200\"]],[\"size\",{\"type\":\"ndarray\",\"array\":{\"type\":\"bytes\",\"data\":\"BwMAAMEFAADJFAAA\"},\"shape\":[3],\"dtype\":\"int32\",\"order\":\"little\"}]]}}},\"view\":{\"type\":\"object\",\"name\":\"CDSView\",\"id\":\"p1629\",\"attributes\":{\"filter\":{\"type\":\"object\",\"name\":\"AllIndices\",\"id\":\"p1630\"}}},\"glyph\":{\"type\":\"object\",\"name\":\"Patches\",\"id\":\"p1648\",\"attributes\":{\"xs\":{\"type\":\"field\",\"field\":\"xs\"},\"ys\":{\"type\":\"field\",\"field\":\"ys\"},\"fill_alpha\":{\"type\":\"value\",\"value\":0.6}}},\"selection_glyph\":{\"type\":\"object\",\"name\":\"Patches\",\"id\":\"p1649\",\"attributes\":{\"xs\":{\"type\":\"field\",\"field\":\"xs\"},\"ys\":{\"type\":\"field\",\"field\":\"ys\"},\"fill_alpha\":{\"type\":\"value\",\"value\":0.6}}},\"nonselection_glyph\":{\"type\":\"object\",\"name\":\"Patches\",\"id\":\"p1650\",\"attributes\":{\"xs\":{\"type\":\"field\",\"field\":\"xs\"},\"ys\":{\"type\":\"field\",\"field\":\"ys\"},\"line_alpha\":{\"type\":\"value\",\"value\":0.2},\"fill_alpha\":{\"type\":\"value\",\"value\":0.2}}},\"hover_glyph\":{\"type\":\"object\",\"name\":\"Patches\",\"id\":\"p1651\",\"attributes\":{\"xs\":{\"type\":\"field\",\"field\":\"xs\"},\"ys\":{\"type\":\"field\",\"field\":\"ys\"},\"line_alpha\":{\"type\":\"value\",\"value\":0.9},\"fill_alpha\":{\"type\":\"value\",\"value\":0.9}}},\"muted_glyph\":{\"type\":\"object\",\"name\":\"Patches\",\"id\":\"p1652\",\"attributes\":{\"xs\":{\"type\":\"field\",\"field\":\"xs\"},\"ys\":{\"type\":\"field\",\"field\":\"ys\"},\"fill_alpha\":{\"type\":\"value\",\"value\":0.6}}}}},\"selection_policy\":{\"type\":\"object\",\"name\":\"NodesAndLinkedEdges\",\"id\":\"p1653\"},\"inspection_policy\":{\"type\":\"object\",\"name\":\"EdgesAndLinkedNodes\",\"id\":\"p1655\"}}},{\"type\":\"object\",\"name\":\"GlyphRenderer\",\"id\":\"p1668\",\"attributes\":{\"data_source\":{\"id\":\"p1609\"},\"view\":{\"id\":\"p1622\"},\"glyph\":{\"type\":\"object\",\"name\":\"Quad\",\"id\":\"p1663\",\"attributes\":{\"left\":{\"type\":\"field\",\"field\":\"x0\"},\"right\":{\"type\":\"field\",\"field\":\"x1\"},\"bottom\":{\"type\":\"field\",\"field\":\"y0\"},\"top\":{\"type\":\"field\",\"field\":\"y1\"},\"fill_color\":{\"type\":\"field\",\"field\":\"index\",\"transform\":{\"id\":\"p1608\"}}}},\"selection_glyph\":{\"type\":\"object\",\"name\":\"Quad\",\"id\":\"p1665\",\"attributes\":{\"left\":{\"type\":\"field\",\"field\":\"x0\"},\"right\":{\"type\":\"field\",\"field\":\"x1\"},\"bottom\":{\"type\":\"field\",\"field\":\"y0\"},\"top\":{\"type\":\"field\",\"field\":\"y1\"},\"fill_color\":{\"type\":\"field\",\"field\":\"index\",\"transform\":{\"id\":\"p1608\"}}}},\"nonselection_glyph\":{\"type\":\"object\",\"name\":\"Quad\",\"id\":\"p1664\",\"attributes\":{\"left\":{\"type\":\"field\",\"field\":\"x0\"},\"right\":{\"type\":\"field\",\"field\":\"x1\"},\"bottom\":{\"type\":\"field\",\"field\":\"y0\"},\"top\":{\"type\":\"field\",\"field\":\"y1\"},\"line_alpha\":{\"type\":\"value\",\"value\":0.2},\"fill_color\":{\"type\":\"field\",\"field\":\"index\",\"transform\":{\"id\":\"p1608\"}},\"fill_alpha\":{\"type\":\"value\",\"value\":0.2},\"hatch_alpha\":{\"type\":\"value\",\"value\":0.2}}},\"hover_glyph\":{\"type\":\"object\",\"name\":\"Quad\",\"id\":\"p1666\",\"attributes\":{\"left\":{\"type\":\"field\",\"field\":\"x0\"},\"right\":{\"type\":\"field\",\"field\":\"x1\"},\"bottom\":{\"type\":\"field\",\"field\":\"y0\"},\"top\":{\"type\":\"field\",\"field\":\"y1\"},\"fill_color\":{\"type\":\"field\",\"field\":\"index\",\"transform\":{\"id\":\"p1608\"}}}},\"muted_glyph\":{\"type\":\"object\",\"name\":\"Quad\",\"id\":\"p1667\",\"attributes\":{\"left\":{\"type\":\"field\",\"field\":\"x0\"},\"right\":{\"type\":\"field\",\"field\":\"x1\"},\"bottom\":{\"type\":\"field\",\"field\":\"y0\"},\"top\":{\"type\":\"field\",\"field\":\"y1\"},\"line_alpha\":{\"type\":\"value\",\"value\":0.2},\"fill_color\":{\"type\":\"field\",\"field\":\"index\",\"transform\":{\"id\":\"p1608\"}},\"fill_alpha\":{\"type\":\"value\",\"value\":0.2},\"hatch_alpha\":{\"type\":\"value\",\"value\":0.2}}}}},{\"type\":\"object\",\"name\":\"GlyphRenderer\",\"id\":\"p1680\",\"attributes\":{\"data_source\":{\"type\":\"object\",\"name\":\"ColumnDataSource\",\"id\":\"p1671\",\"attributes\":{\"selected\":{\"type\":\"object\",\"name\":\"Selection\",\"id\":\"p1672\",\"attributes\":{\"indices\":[],\"line_indices\":[]}},\"selection_policy\":{\"type\":\"object\",\"name\":\"UnionRenderers\",\"id\":\"p1673\"},\"data\":{\"type\":\"map\",\"entries\":[[\"x\",{\"type\":\"ndarray\",\"array\":{\"type\":\"bytes\",\"data\":\"AAAAAAAADsAAAAAAAAAOwAAAAAAAqo5AAAAAAACqjkA=\"},\"shape\":[4],\"dtype\":\"float64\",\"order\":\"little\"}],[\"y\",{\"type\":\"ndarray\",\"array\":{\"type\":\"bytes\",\"data\":\"Ou36NYTLekArTN9rCBdlQNIcWfllKWhAms+m/LJUfEA=\"},\"shape\":[4],\"dtype\":\"float64\",\"order\":\"little\"}],[\"text\",[\"part of cs w/ 100 - 2248\",\"Not part of cs w/ 100 - 5321\",\"part of cs w/ 200 - 6096\",\"Not part of cs w/ 200 - 1473\"]]]}}},\"view\":{\"type\":\"object\",\"name\":\"CDSView\",\"id\":\"p1681\",\"attributes\":{\"filter\":{\"type\":\"object\",\"name\":\"AllIndices\",\"id\":\"p1682\"}}},\"glyph\":{\"type\":\"object\",\"name\":\"Text\",\"id\":\"p1677\",\"attributes\":{\"x\":{\"type\":\"field\",\"field\":\"x\"},\"y\":{\"type\":\"field\",\"field\":\"y\"},\"text\":{\"type\":\"field\",\"field\":\"text\"},\"text_color\":{\"type\":\"value\",\"value\":\"black\"},\"text_font_size\":{\"type\":\"value\",\"value\":\"8pt\"},\"text_align\":{\"type\":\"value\",\"value\":\"right\"},\"text_baseline\":{\"type\":\"value\",\"value\":\"middle\"}}},\"selection_glyph\":{\"type\":\"object\",\"name\":\"Text\",\"id\":\"p1683\",\"attributes\":{\"x\":{\"type\":\"field\",\"field\":\"x\"},\"y\":{\"type\":\"field\",\"field\":\"y\"},\"text\":{\"type\":\"field\",\"field\":\"text\"},\"angle\":{\"type\":\"value\",\"value\":0},\"x_offset\":{\"type\":\"value\",\"value\":0},\"y_offset\":{\"type\":\"value\",\"value\":0},\"text_color\":{\"type\":\"value\",\"value\":\"black\"},\"text_outline_color\":{\"type\":\"value\",\"value\":null},\"text_alpha\":{\"type\":\"value\",\"value\":1.0},\"text_font_size\":{\"type\":\"value\",\"value\":\"8pt\"},\"text_font_style\":{\"type\":\"value\",\"value\":\"normal\"},\"text_align\":{\"type\":\"value\",\"value\":\"right\"},\"text_baseline\":{\"type\":\"value\",\"value\":\"middle\"},\"text_line_height\":{\"type\":\"value\",\"value\":1.2},\"background_fill_color\":{\"type\":\"value\",\"value\":null},\"background_fill_alpha\":{\"type\":\"value\",\"value\":1.0},\"background_hatch_color\":{\"type\":\"value\",\"value\":null},\"background_hatch_alpha\":{\"type\":\"value\",\"value\":1.0},\"background_hatch_scale\":{\"type\":\"value\",\"value\":12.0},\"background_hatch_pattern\":{\"type\":\"value\",\"value\":null},\"background_hatch_weight\":{\"type\":\"value\",\"value\":1.0},\"border_line_color\":{\"type\":\"value\",\"value\":null},\"border_line_alpha\":{\"type\":\"value\",\"value\":1.0},\"border_line_width\":{\"type\":\"value\",\"value\":1},\"border_line_join\":{\"type\":\"value\",\"value\":\"bevel\"},\"border_line_cap\":{\"type\":\"value\",\"value\":\"butt\"},\"border_line_dash\":{\"type\":\"value\",\"value\":[]},\"border_line_dash_offset\":{\"type\":\"value\",\"value\":0}}},\"nonselection_glyph\":{\"type\":\"object\",\"name\":\"Text\",\"id\":\"p1678\",\"attributes\":{\"x\":{\"type\":\"field\",\"field\":\"x\"},\"y\":{\"type\":\"field\",\"field\":\"y\"},\"text\":{\"type\":\"field\",\"field\":\"text\"},\"text_color\":{\"type\":\"value\",\"value\":\"black\"},\"text_alpha\":{\"type\":\"value\",\"value\":0.1},\"text_font_size\":{\"type\":\"value\",\"value\":\"8pt\"},\"text_align\":{\"type\":\"value\",\"value\":\"right\"},\"text_baseline\":{\"type\":\"value\",\"value\":\"middle\"}}},\"muted_glyph\":{\"type\":\"object\",\"name\":\"Text\",\"id\":\"p1679\",\"attributes\":{\"x\":{\"type\":\"field\",\"field\":\"x\"},\"y\":{\"type\":\"field\",\"field\":\"y\"},\"text\":{\"type\":\"field\",\"field\":\"text\"},\"text_color\":{\"type\":\"value\",\"value\":\"black\"},\"text_alpha\":{\"type\":\"value\",\"value\":0.2},\"text_font_size\":{\"type\":\"value\",\"value\":\"8pt\"},\"text_align\":{\"type\":\"value\",\"value\":\"right\"},\"text_baseline\":{\"type\":\"value\",\"value\":\"middle\"}}}}}],\"toolbar\":{\"type\":\"object\",\"name\":\"Toolbar\",\"id\":\"p1571\",\"attributes\":{\"tools\":[{\"type\":\"object\",\"name\":\"HoverTool\",\"id\":\"p1563\",\"attributes\":{\"tags\":[\"hv_created\"],\"renderers\":[{\"id\":\"p1631\"}],\"tooltips\":[[\"source\",\"@{source}\"],[\"target\",\"@{target}\"],[\"size\",\"@{size}\"]]}},{\"type\":\"object\",\"name\":\"SaveTool\",\"id\":\"p1592\"},{\"type\":\"object\",\"name\":\"PanTool\",\"id\":\"p1593\"},{\"type\":\"object\",\"name\":\"WheelZoomTool\",\"id\":\"p1594\"},{\"type\":\"object\",\"name\":\"BoxZoomTool\",\"id\":\"p1595\",\"attributes\":{\"overlay\":{\"type\":\"object\",\"name\":\"BoxAnnotation\",\"id\":\"p1596\",\"attributes\":{\"syncable\":false,\"level\":\"overlay\",\"visible\":false,\"left_units\":\"canvas\",\"right_units\":\"canvas\",\"bottom_units\":\"canvas\",\"top_units\":\"canvas\",\"line_color\":\"black\",\"line_alpha\":1.0,\"line_width\":2,\"line_dash\":[4,4],\"fill_color\":\"lightgrey\",\"fill_alpha\":0.5}}}},{\"type\":\"object\",\"name\":\"ResetTool\",\"id\":\"p1597\"},{\"type\":\"object\",\"name\":\"TapTool\",\"id\":\"p1598\",\"attributes\":{\"renderers\":\"auto\"}}],\"active_drag\":{\"id\":\"p1593\"},\"active_scroll\":{\"id\":\"p1594\"}}},\"left\":[{\"type\":\"object\",\"name\":\"LinearAxis\",\"id\":\"p1585\",\"attributes\":{\"visible\":false,\"ticker\":{\"type\":\"object\",\"name\":\"BasicTicker\",\"id\":\"p1587\",\"attributes\":{\"mantissas\":[1,2,5]}},\"formatter\":{\"type\":\"object\",\"name\":\"BasicTickFormatter\",\"id\":\"p1586\"},\"axis_label\":\"y\",\"major_label_policy\":{\"type\":\"object\",\"name\":\"AllLabels\",\"id\":\"p1588\"}}}],\"below\":[{\"type\":\"object\",\"name\":\"LinearAxis\",\"id\":\"p1578\",\"attributes\":{\"visible\":false,\"ticker\":{\"type\":\"object\",\"name\":\"BasicTicker\",\"id\":\"p1580\",\"attributes\":{\"mantissas\":[1,2,5]}},\"formatter\":{\"type\":\"object\",\"name\":\"BasicTickFormatter\",\"id\":\"p1579\"},\"axis_label\":\"x\",\"major_label_policy\":{\"type\":\"object\",\"name\":\"AllLabels\",\"id\":\"p1581\"}}}],\"center\":[{\"type\":\"object\",\"name\":\"Grid\",\"id\":\"p1584\",\"attributes\":{\"axis\":{\"id\":\"p1578\"},\"grid_line_color\":null}},{\"type\":\"object\",\"name\":\"Grid\",\"id\":\"p1591\",\"attributes\":{\"dimension\":1,\"axis\":{\"id\":\"p1585\"},\"grid_line_color\":null}}],\"min_border_top\":10,\"min_border_bottom\":10,\"min_border_left\":10,\"min_border_right\":10,\"output_backend\":\"webgl\"}},{\"type\":\"object\",\"name\":\"Spacer\",\"id\":\"p1722\",\"attributes\":{\"name\":\"HSpacer01525\",\"stylesheets\":[\"\\n:host(.pn-loading.pn-arc):before, .pn-loading.pn-arc:before {\\n  background-image: url(\\\"data:image/svg+xml;base64,PHN2ZyB4bWxucz0iaHR0cDovL3d3dy53My5vcmcvMjAwMC9zdmciIHN0eWxlPSJtYXJnaW46IGF1dG87IGJhY2tncm91bmQ6IG5vbmU7IGRpc3BsYXk6IGJsb2NrOyBzaGFwZS1yZW5kZXJpbmc6IGF1dG87IiB2aWV3Qm94PSIwIDAgMTAwIDEwMCIgcHJlc2VydmVBc3BlY3RSYXRpbz0ieE1pZFlNaWQiPiAgPGNpcmNsZSBjeD0iNTAiIGN5PSI1MCIgZmlsbD0ibm9uZSIgc3Ryb2tlPSIjYzNjM2MzIiBzdHJva2Utd2lkdGg9IjEwIiByPSIzNSIgc3Ryb2tlLWRhc2hhcnJheT0iMTY0LjkzMzYxNDMxMzQ2NDE1IDU2Ljk3Nzg3MTQzNzgyMTM4Ij4gICAgPGFuaW1hdGVUcmFuc2Zvcm0gYXR0cmlidXRlTmFtZT0idHJhbnNmb3JtIiB0eXBlPSJyb3RhdGUiIHJlcGVhdENvdW50PSJpbmRlZmluaXRlIiBkdXI9IjFzIiB2YWx1ZXM9IjAgNTAgNTA7MzYwIDUwIDUwIiBrZXlUaW1lcz0iMDsxIj48L2FuaW1hdGVUcmFuc2Zvcm0+ICA8L2NpcmNsZT48L3N2Zz4=\\\");\\n  background-size: auto calc(min(50%, 400px));\\n}\",{\"id\":\"p1557\"},{\"id\":\"p1555\"},{\"id\":\"p1556\"}],\"margin\":0,\"sizing_mode\":\"stretch_width\",\"align\":\"start\"}}]}}],\"callbacks\":{\"type\":\"map\"}}};\n",
       "  var render_items = [{\"docid\":\"48acb79a-993c-4c90-9fd5-25666a76a8b7\",\"roots\":{\"p1554\":\"d1ca106b-2643-49f1-90b6-95f9567dec68\"},\"root_ids\":[\"p1554\"]}];\n",
       "  var docs = Object.values(docs_json)\n",
       "  if (!docs) {\n",
       "    return\n",
       "  }\n",
       "  const py_version = docs[0].version.replace('rc', '-rc.').replace('.dev', '-dev.')\n",
       "  const is_dev = py_version.indexOf(\"+\") !== -1 || py_version.indexOf(\"-\") !== -1\n",
       "  function embed_document(root) {\n",
       "    var Bokeh = get_bokeh(root)\n",
       "    Bokeh.embed.embed_items_notebook(docs_json, render_items);\n",
       "    for (const render_item of render_items) {\n",
       "      for (const root_id of render_item.root_ids) {\n",
       "\tconst id_el = document.getElementById(root_id)\n",
       "\tif (id_el.children.length && (id_el.children[0].className === 'bk-root')) {\n",
       "\t  const root_el = id_el.children[0]\n",
       "\t  root_el.id = root_el.id + '-rendered'\n",
       "\t}\n",
       "      }\n",
       "    }\n",
       "  }\n",
       "  function get_bokeh(root) {\n",
       "    if (root.Bokeh === undefined) {\n",
       "      return null\n",
       "    } else if (root.Bokeh.version !== py_version && !is_dev) {\n",
       "      if (root.Bokeh.versions === undefined || !root.Bokeh.versions.has(py_version)) {\n",
       "\treturn null\n",
       "      }\n",
       "      return root.Bokeh.versions.get(py_version);\n",
       "    } else if (root.Bokeh.version === py_version) {\n",
       "      return root.Bokeh\n",
       "    }\n",
       "    return null\n",
       "  }\n",
       "  function is_loaded(root) {\n",
       "    var Bokeh = get_bokeh(root)\n",
       "    return (Bokeh != null && Bokeh.Panel !== undefined)\n",
       "  }\n",
       "  if (is_loaded(root)) {\n",
       "    embed_document(root);\n",
       "  } else {\n",
       "    var attempts = 0;\n",
       "    var timer = setInterval(function(root) {\n",
       "      if (is_loaded(root)) {\n",
       "        clearInterval(timer);\n",
       "        embed_document(root);\n",
       "      } else if (document.readyState == \"complete\") {\n",
       "        attempts++;\n",
       "        if (attempts > 200) {\n",
       "          clearInterval(timer);\n",
       "\t  var Bokeh = get_bokeh(root)\n",
       "\t  if (Bokeh == null || Bokeh.Panel == null) {\n",
       "            console.warn(\"Panel: ERROR: Unable to run Panel code because Bokeh or Panel library is missing\");\n",
       "\t  } else {\n",
       "\t    console.warn(\"Panel: WARNING: Attempting to render but not all required libraries could be resolved.\")\n",
       "\t    embed_document(root)\n",
       "\t  }\n",
       "        }\n",
       "      }\n",
       "    }, 25, root)\n",
       "  }\n",
       "})(window);</script>"
      ],
      "text/plain": [
       ":Sankey   [source,target]   (size)"
      ]
     },
     "execution_count": 73,
     "metadata": {
      "application/vnd.holoviews_exec.v0+json": {
       "id": "p1554"
      }
     },
     "output_type": "execute_result"
    }
   ],
   "source": [
    "subset_counts = pd.DataFrame(subset_counts)\n",
    "\n",
    "subset_counts['source'] = [('' if value else 'Not ') + 'part of cs w/ 100' for value in subset_counts.index.get_level_values('100')]\n",
    "subset_counts['target'] = [('' if value else 'Not ') + 'part of cs w/ 200' for value in subset_counts.index.get_level_values('200')]\n",
    "\n",
    "# sort the target and source to be QTLs on the bottom, not QTLs on the top \n",
    "subset_counts['source'] = pd.Categorical(subset_counts['source'], [\"part of cs w/ 100\", \"Not part of cs w/ 100\"])\n",
    "subset_counts['target'] = pd.Categorical(subset_counts['target'], [\"part of cs w/ 200\", \"Not part of cs w/ 200\"])\n",
    "\n",
    "subset_counts.sort_values(['source', 'target'], inplace=True)\n",
    "\n",
    "sankey = hv.Sankey(subset_counts, label='Credible set overlap 100 vs 200 subsample', vdims='size')\n",
    "sankey.opts(label_position='left', node_color='index', cmap='tab20')"
   ]
  },
  {
   "cell_type": "code",
   "execution_count": 72,
   "metadata": {},
   "outputs": [
    {
     "data": {
      "text/plain": [
       "<AxesSubplot: xlabel='cs_size', ylabel='Count'>"
      ]
     },
     "execution_count": 72,
     "metadata": {},
     "output_type": "execute_result"
    },
    {
     "data": {
      "image/png": "[encoded data removed]",
      "text/plain": [
       "<Figure size 640x480 with 1 Axes>"
      ]
     },
     "metadata": {},
     "output_type": "display_data"
    }
   ],
   "source": [
    "# color 100 vs 200 histogram by the above categories\n",
    "\n",
    "\n",
    "sns.histplot(x='cs_size', data=sub_overlaps[100][(sub_overlaps[100]['orig_cs_dataset']=='control_eqtl')], hue='200_overlap', bins=range(0,50))"
   ]
  },
  {
   "cell_type": "code",
   "execution_count": null,
   "metadata": {},
   "outputs": [],
   "source": []
  }
 ],
 "metadata": {
  "kernelspec": {
   "display_name": "Python 3 (ipykernel)",
   "language": "python",
   "name": "python3"
  },
  "language_info": {
   "codemirror_mode": {
    "name": "ipython",
    "version": 3
   },
   "file_extension": ".py",
   "mimetype": "text/x-python",
   "name": "python",
   "nbconvert_exporter": "python",
   "pygments_lexer": "ipython3",
   "version": "3.8.18"
  }
 },
 "nbformat": 4,
 "nbformat_minor": 2
}
