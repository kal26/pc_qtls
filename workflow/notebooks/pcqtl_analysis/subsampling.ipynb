{
 "cells": [
  {
   "cell_type": "markdown",
   "metadata": {},
   "source": [
    "subsample the number of inidviduals and look at how number of signals changes"
   ]
  },
  {
   "cell_type": "code",
   "execution_count": 1,
   "metadata": {},
   "outputs": [],
   "source": [
    "import pandas as pd\n",
    "import numpy as np\n",
    "import os"
   ]
  },
  {
   "cell_type": "code",
   "execution_count": 2,
   "metadata": {},
   "outputs": [],
   "source": [
    "# get outputs from a config file\n",
    "prefix = '/home/klawren/oak/pcqtls'\n",
    "import yaml\n",
    "config_path= f'{prefix}/config/tami_clusters/proteincoding.yaml'\n",
    "with open(config_path, 'r') as f:\n",
    "    config = yaml.safe_load(f)\n",
    "\n",
    "tissue_id_path = config['tissue_id_path']\n",
    "clusters_dir = config['clusters_dir']\n",
    "expression_dir = config['expression_dir']\n",
    "covariates_dir = config['covariates_dir']\n",
    "\n",
    "tissue_df = pd.read_csv(f\"{prefix}/{tissue_id_path}\", header=0)\n",
    "tissue_ids = list(tissue_df['Tissue'])\n",
    "tissue_id = 'Cells_Cultured_fibroblasts'"
   ]
  },
  {
   "cell_type": "markdown",
   "metadata": {},
   "source": [
    "### create the subsampled expression and covar files"
   ]
  },
  {
   "cell_type": "code",
   "execution_count": 3,
   "metadata": {},
   "outputs": [],
   "source": [
    "# minimum of 300 in each tissue, I'll do 100, 200, 300\n",
    "\n",
    "for num_samples in [100,200,300]:\n",
    "    output_dir = f'{prefix}/data/processed/subsampling/{num_samples}'\n",
    "    os.mkdir(output_dir)\n",
    "    os.mkdir(f'{output_dir}/covariates/')\n",
    "    os.mkdir(f'{output_dir}/normalized_expression/')\n",
    "\n",
    "    for tissue_id in tissue_ids:\n",
    "        # load in each expression and covariates files\n",
    "        expression_df = pd.read_csv(f'{prefix}/{expression_dir}/{tissue_id}.v8.normalized_expression.bed', sep='\\t')\n",
    "        covariates_df = pd.read_csv(f'{prefix}/{covariates_dir}/{tissue_id}.v8.covariates.txt', sep='\\t', index_col=0).T\n",
    "\n",
    "        selected_samples = covariates_df.index[:num_samples].values\n",
    "\n",
    "        # write out first x as a subset\n",
    "        sub_expression = expression_df[np.concatenate([expression_df.columns[:4].values, selected_samples])]\n",
    "        sub_expression.to_csv(f'{output_dir}/normalized_expression/{tissue_id}.v8.normalized_expression.bed', sep='\\t', index=None)\n",
    "\n",
    "        sub_covar = covariates_df.loc[selected_samples]\n",
    "        sub_covar.T.to_csv(f'{output_dir}/covariates/{tissue_id}.v8.covariates.txt', sep='\\t')\n",
    "\n"
   ]
  },
  {
   "cell_type": "markdown",
   "metadata": {},
   "source": [
    "I then run snakemake on each of these 4 to get the QTLs with config files in config/subsampling/"
   ]
  },
  {
   "cell_type": "code",
   "execution_count": null,
   "metadata": {},
   "outputs": [],
   "source": []
  }
 ],
 "metadata": {
  "kernelspec": {
   "display_name": "Python 3 (ipykernel)",
   "language": "python",
   "name": "python3"
  }
 },
 "nbformat": 4,
 "nbformat_minor": 2
}
