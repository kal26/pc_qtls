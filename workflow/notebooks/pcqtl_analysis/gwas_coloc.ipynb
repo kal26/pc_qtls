{
 "cells": [
  {
   "cell_type": "code",
   "execution_count": 3,
   "metadata": {},
   "outputs": [],
   "source": [
    "import pandas as pd\n",
    "import numpy as np\n",
    "import yaml\n",
    "import seaborn as sns\n",
    "import matplotlib.pyplot as plt\n",
    "import statsmodels.api as sm\n",
    "import os\n",
    "\n",
    "\n",
    "from tqdm.auto import tqdm  # for notebooks\n",
    "tqdm.pandas()\n",
    "\n",
    "\n",
    "prefix = '/home/klawren/oak/pcqtls'\n",
    "\n",
    "import sys\n",
    "sys.path.append('/home/klawren/oak/pcqtls/workflow/scripts')\n",
    "from notebook_helper_functions import *"
   ]
  },
  {
   "cell_type": "code",
   "execution_count": 4,
   "metadata": {},
   "outputs": [],
   "source": [
    "main_config_path= f'{prefix}/config/proteincoding_high_corr.yaml'\n",
    "with open(main_config_path, 'r') as f:\n",
    "    config = yaml.safe_load(f)\n",
    "\n",
    "tissue_ids = load_tissue_ids(config)\n"
   ]
  },
  {
   "cell_type": "markdown",
   "metadata": {},
   "source": [
    "## load in the completed cluster gwas colocs"
   ]
  },
  {
   "cell_type": "code",
   "execution_count": 6,
   "metadata": {},
   "outputs": [
    {
     "data": {
      "text/html": [
       "<div>\n",
       "<style scoped>\n",
       "    .dataframe tbody tr th:only-of-type {\n",
       "        vertical-align: middle;\n",
       "    }\n",
       "\n",
       "    .dataframe tbody tr th {\n",
       "        vertical-align: top;\n",
       "    }\n",
       "\n",
       "    .dataframe thead th {\n",
       "        text-align: right;\n",
       "    }\n",
       "</style>\n",
       "<table border=\"1\" class=\"dataframe\">\n",
       "  <thead>\n",
       "    <tr style=\"text-align: right;\">\n",
       "      <th></th>\n",
       "      <th>gwas_id</th>\n",
       "      <th>qtl_id</th>\n",
       "      <th>nsnps</th>\n",
       "      <th>hit_gwas</th>\n",
       "      <th>hit_qtl</th>\n",
       "      <th>PP.H0.abf</th>\n",
       "      <th>PP.H1.abf</th>\n",
       "      <th>PP.H2.abf</th>\n",
       "      <th>PP.H3.abf</th>\n",
       "      <th>PP.H4.abf</th>\n",
       "      <th>idx1</th>\n",
       "      <th>idx1.1</th>\n",
       "      <th>gwas_cs_is</th>\n",
       "    </tr>\n",
       "  </thead>\n",
       "  <tbody>\n",
       "  </tbody>\n",
       "</table>\n",
       "</div>"
      ],
      "text/plain": [
       "Empty DataFrame\n",
       "Columns: [gwas_id, qtl_id, nsnps, hit_gwas, hit_qtl, PP.H0.abf, PP.H1.abf, PP.H2.abf, PP.H3.abf, PP.H4.abf, idx1, idx1.1, gwas_cs_is]\n",
       "Index: []"
      ]
     },
     "execution_count": 6,
     "metadata": {},
     "output_type": "execute_result"
    }
   ],
   "source": [
    "\n",
    "# Function to recursively get list of files ending with .qtl_gwas.txt\n",
    "# this should later be updated to exclude the emp files\n",
    "\n",
    "def get_files(directory):\n",
    "    file_list = []\n",
    "    for root, directories, files in os.walk(directory):\n",
    "        for file in files:\n",
    "            if file.endswith(\".gwas_coloc.txt\"):\n",
    "                file_list.append(os.path.join(root, file))\n",
    "    return file_list\n",
    "\n",
    "# Get the list of files\n",
    "coloc_file_list = get_files(config['coloc_output_dir'])\n",
    "\n",
    "# Load each file into a DataFrame and concatenate them\n",
    "cluster_colocs = []\n",
    "for cluster_file in coloc_file_list:\n",
    "    cluster_coloc = pd.read_csv(cluster_file, sep='\\t')  # Assuming tab-separated file\n",
    "    cluster_colocs.append(cluster_coloc)\n",
    "\n",
    "# Concatenate all DataFrames into a single DataFrame\n",
    "gwas_coloc = pd.concat(cluster_colocs, ignore_index=True)\n",
    "\n",
    "# Print the combined DataFrame\n",
    "gwas_coloc.head()"
   ]
  },
  {
   "cell_type": "code",
   "execution_count": null,
   "metadata": {},
   "outputs": [],
   "source": []
  }
 ],
 "metadata": {
  "kernelspec": {
   "display_name": "Python 3 (ipykernel)",
   "language": "python",
   "name": "python3"
  },
  "language_info": {
   "codemirror_mode": {
    "name": "ipython",
    "version": 3
   },
   "file_extension": ".py",
   "mimetype": "text/x-python",
   "name": "python",
   "nbconvert_exporter": "python",
   "pygments_lexer": "ipython3",
   "version": "3.8.18"
  }
 },
 "nbformat": 4,
 "nbformat_minor": 2
}
