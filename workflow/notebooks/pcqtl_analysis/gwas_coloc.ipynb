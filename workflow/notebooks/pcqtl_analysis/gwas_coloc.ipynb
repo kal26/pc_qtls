{
 "cells": [
  {
   "cell_type": "code",
   "execution_count": 102,
   "metadata": {},
   "outputs": [
    {
     "name": "stdout",
     "output_type": "stream",
     "text": [
      "The history saving thread hit an unexpected error (OperationalError('unable to open database file')).History will not be written to the database.\n"
     ]
    }
   ],
   "source": [
    "import pandas as pd\n",
    "import numpy as np\n",
    "import yaml\n",
    "import seaborn as sns\n",
    "import matplotlib.pyplot as plt\n",
    "import statsmodels.api as sm\n",
    "import os\n",
    "import upsetplot as up\n",
    "import ast\n",
    "\n",
    "\n",
    "\n",
    "from tqdm.auto import tqdm  # for notebooks\n",
    "tqdm.pandas()\n",
    "\n",
    "\n",
    "prefix = '/home/klawren/oak/pcqtls'\n",
    "\n",
    "import sys\n",
    "sys.path.append('/home/klawren/oak/pcqtls/workflow/scripts')\n",
    "from notebook_helper_functions import *"
   ]
  },
  {
   "cell_type": "code",
   "execution_count": 103,
   "metadata": {},
   "outputs": [],
   "source": [
    "main_config_path= f'{prefix}/config/proteincoding_main.yaml'\n",
    "with open(main_config_path, 'r') as f:\n",
    "    config = yaml.safe_load(f)\n",
    "\n",
    "tissue_ids = load_tissue_ids(config)\n"
   ]
  },
  {
   "cell_type": "code",
   "execution_count": 104,
   "metadata": {},
   "outputs": [],
   "source": [
    "gwas_meta = pd.read_csv(config['gwas_meta'], sep='\\t', header=0)\n",
    "gwas_ids = gwas_meta['Tag']"
   ]
  },
  {
   "cell_type": "markdown",
   "metadata": {},
   "source": [
    "## load in the completed cluster gwas colocs"
   ]
  },
  {
   "cell_type": "code",
   "execution_count": 105,
   "metadata": {},
   "outputs": [
    {
     "data": {
      "text/plain": [
       "49"
      ]
     },
     "execution_count": 105,
     "metadata": {},
     "output_type": "execute_result"
    }
   ],
   "source": [
    "\n",
    "# Function to recursively get list of files ending with .qtl_gwas.txt\n",
    "# this should later be updated to exclude the emp files\n",
    "\n",
    "def get_files(directory):\n",
    "    file_list = []\n",
    "    for root, directories, files in os.walk(directory):\n",
    "        for file in files:\n",
    "            if file.endswith(\"susie_FALSE.gwas_coloc.txt\"):\n",
    "                file_list.append(os.path.join(root, file))\n",
    "    return file_list\n",
    "\n",
    "# Get the list of files\n",
    "coloc_file_list = get_files(config['coloc_output_dir'])\n",
    "len(coloc_file_list)"
   ]
  },
  {
   "cell_type": "code",
   "execution_count": 108,
   "metadata": {},
   "outputs": [
    {
     "data": {
      "application/vnd.jupyter.widget-view+json": {
       "model_id": "8dc9767551ce4111bb8d01123d793cff",
       "version_major": 2,
       "version_minor": 0
      },
      "text/plain": [
       "  0%|          | 0/49 [00:00<?, ?it/s]"
      ]
     },
     "metadata": {},
     "output_type": "display_data"
    },
    {
     "data": {
      "text/html": [
       "<div>\n",
       "<style scoped>\n",
       "    .dataframe tbody tr th:only-of-type {\n",
       "        vertical-align: middle;\n",
       "    }\n",
       "\n",
       "    .dataframe tbody tr th {\n",
       "        vertical-align: top;\n",
       "    }\n",
       "\n",
       "    .dataframe thead th {\n",
       "        text-align: right;\n",
       "    }\n",
       "</style>\n",
       "<table border=\"1\" class=\"dataframe\">\n",
       "  <thead>\n",
       "    <tr style=\"text-align: right;\">\n",
       "      <th></th>\n",
       "      <th>nsnps</th>\n",
       "      <th>PP.H0.abf</th>\n",
       "      <th>PP.H1.abf</th>\n",
       "      <th>PP.H2.abf</th>\n",
       "      <th>PP.H3.abf</th>\n",
       "      <th>PP.H4.abf</th>\n",
       "      <th>gwas_id</th>\n",
       "      <th>qtl_id</th>\n",
       "      <th>tissue_id</th>\n",
       "      <th>cluster_id</th>\n",
       "    </tr>\n",
       "  </thead>\n",
       "  <tbody>\n",
       "    <tr>\n",
       "      <th>0</th>\n",
       "      <td>4807</td>\n",
       "      <td>1.053141e-16</td>\n",
       "      <td>1.095288e-10</td>\n",
       "      <td>9.615183e-07</td>\n",
       "      <td>0.999999</td>\n",
       "      <td>4.050302e-08</td>\n",
       "      <td>BCAC_ER_positive_BreastCancer_EUR</td>\n",
       "      <td>ENSG00000117222.13_ENSG00000174529.7_e_ENSG000...</td>\n",
       "      <td>Muscle_Skeletal</td>\n",
       "      <td>ENSG00000117222.13_ENSG00000174529.7</td>\n",
       "    </tr>\n",
       "    <tr>\n",
       "      <th>1</th>\n",
       "      <td>4807</td>\n",
       "      <td>6.859456e-13</td>\n",
       "      <td>7.133977e-07</td>\n",
       "      <td>9.615176e-07</td>\n",
       "      <td>0.999998</td>\n",
       "      <td>4.086441e-08</td>\n",
       "      <td>BCAC_ER_positive_BreastCancer_EUR</td>\n",
       "      <td>ENSG00000117222.13_ENSG00000174529.7_pc1</td>\n",
       "      <td>Muscle_Skeletal</td>\n",
       "      <td>ENSG00000117222.13_ENSG00000174529.7</td>\n",
       "    </tr>\n",
       "    <tr>\n",
       "      <th>2</th>\n",
       "      <td>4807</td>\n",
       "      <td>2.694343e-07</td>\n",
       "      <td>2.802172e-01</td>\n",
       "      <td>6.916314e-07</td>\n",
       "      <td>0.719311</td>\n",
       "      <td>4.711937e-04</td>\n",
       "      <td>BCAC_ER_positive_BreastCancer_EUR</td>\n",
       "      <td>ENSG00000117222.13_ENSG00000174529.7_pc2</td>\n",
       "      <td>Muscle_Skeletal</td>\n",
       "      <td>ENSG00000117222.13_ENSG00000174529.7</td>\n",
       "    </tr>\n",
       "    <tr>\n",
       "      <th>3</th>\n",
       "      <td>5047</td>\n",
       "      <td>2.444624e-25</td>\n",
       "      <td>3.594430e-05</td>\n",
       "      <td>6.800900e-21</td>\n",
       "      <td>0.999964</td>\n",
       "      <td>6.397565e-08</td>\n",
       "      <td>EAGLE_Eczema</td>\n",
       "      <td>ENSG00000143520.6_ENSG00000143536.7_ENSG000001...</td>\n",
       "      <td>Muscle_Skeletal</td>\n",
       "      <td>ENSG00000143520.6_ENSG00000143536.7_ENSG000001...</td>\n",
       "    </tr>\n",
       "    <tr>\n",
       "      <th>4</th>\n",
       "      <td>5047</td>\n",
       "      <td>4.439841e-24</td>\n",
       "      <td>6.528078e-04</td>\n",
       "      <td>6.796597e-21</td>\n",
       "      <td>0.999331</td>\n",
       "      <td>1.603225e-05</td>\n",
       "      <td>EAGLE_Eczema</td>\n",
       "      <td>ENSG00000143520.6_ENSG00000143536.7_ENSG000001...</td>\n",
       "      <td>Muscle_Skeletal</td>\n",
       "      <td>ENSG00000143520.6_ENSG00000143536.7_ENSG000001...</td>\n",
       "    </tr>\n",
       "    <tr>\n",
       "      <th>...</th>\n",
       "      <td>...</td>\n",
       "      <td>...</td>\n",
       "      <td>...</td>\n",
       "      <td>...</td>\n",
       "      <td>...</td>\n",
       "      <td>...</td>\n",
       "      <td>...</td>\n",
       "      <td>...</td>\n",
       "      <td>...</td>\n",
       "      <td>...</td>\n",
       "    </tr>\n",
       "    <tr>\n",
       "      <th>1499</th>\n",
       "      <td>1863</td>\n",
       "      <td>2.376714e-01</td>\n",
       "      <td>5.590122e-03</td>\n",
       "      <td>7.391769e-01</td>\n",
       "      <td>0.017386</td>\n",
       "      <td>1.760858e-04</td>\n",
       "      <td>UKB_20002_1289_self_reported_schizophrenia</td>\n",
       "      <td>ENSG00000167371.17_ENSG00000280789.1_e_ENSG000...</td>\n",
       "      <td>Thyroid</td>\n",
       "      <td>ENSG00000167371.17_ENSG00000280789.1</td>\n",
       "    </tr>\n",
       "    <tr>\n",
       "      <th>1500</th>\n",
       "      <td>1831</td>\n",
       "      <td>3.788154e-29</td>\n",
       "      <td>8.912496e-31</td>\n",
       "      <td>9.769474e-01</td>\n",
       "      <td>0.022985</td>\n",
       "      <td>6.770359e-05</td>\n",
       "      <td>UKB_20002_1289_self_reported_schizophrenia</td>\n",
       "      <td>ENSG00000090238.11_ENSG00000149922.10_e_ENSG00...</td>\n",
       "      <td>Thyroid</td>\n",
       "      <td>ENSG00000090238.11_ENSG00000149922.10</td>\n",
       "    </tr>\n",
       "    <tr>\n",
       "      <th>1501</th>\n",
       "      <td>1831</td>\n",
       "      <td>1.946233e-74</td>\n",
       "      <td>4.578958e-76</td>\n",
       "      <td>9.763283e-01</td>\n",
       "      <td>0.022970</td>\n",
       "      <td>7.020811e-04</td>\n",
       "      <td>UKB_20002_1289_self_reported_schizophrenia</td>\n",
       "      <td>ENSG00000090238.11_ENSG00000149922.10_e_ENSG00...</td>\n",
       "      <td>Thyroid</td>\n",
       "      <td>ENSG00000090238.11_ENSG00000149922.10</td>\n",
       "    </tr>\n",
       "    <tr>\n",
       "      <th>1502</th>\n",
       "      <td>1831</td>\n",
       "      <td>1.152347e-78</td>\n",
       "      <td>2.711159e-80</td>\n",
       "      <td>9.765790e-01</td>\n",
       "      <td>0.022976</td>\n",
       "      <td>4.451606e-04</td>\n",
       "      <td>UKB_20002_1289_self_reported_schizophrenia</td>\n",
       "      <td>ENSG00000090238.11_ENSG00000149922.10_pc1</td>\n",
       "      <td>Thyroid</td>\n",
       "      <td>ENSG00000090238.11_ENSG00000149922.10</td>\n",
       "    </tr>\n",
       "    <tr>\n",
       "      <th>1503</th>\n",
       "      <td>1831</td>\n",
       "      <td>1.058140e-10</td>\n",
       "      <td>2.489516e-12</td>\n",
       "      <td>9.769023e-01</td>\n",
       "      <td>0.022984</td>\n",
       "      <td>1.139901e-04</td>\n",
       "      <td>UKB_20002_1289_self_reported_schizophrenia</td>\n",
       "      <td>ENSG00000090238.11_ENSG00000149922.10_pc2</td>\n",
       "      <td>Thyroid</td>\n",
       "      <td>ENSG00000090238.11_ENSG00000149922.10</td>\n",
       "    </tr>\n",
       "  </tbody>\n",
       "</table>\n",
       "<p>1504 rows × 10 columns</p>\n",
       "</div>"
      ],
      "text/plain": [
       "     nsnps     PP.H0.abf     PP.H1.abf     PP.H2.abf  PP.H3.abf     PP.H4.abf  \\\n",
       "0     4807  1.053141e-16  1.095288e-10  9.615183e-07   0.999999  4.050302e-08   \n",
       "1     4807  6.859456e-13  7.133977e-07  9.615176e-07   0.999998  4.086441e-08   \n",
       "2     4807  2.694343e-07  2.802172e-01  6.916314e-07   0.719311  4.711937e-04   \n",
       "3     5047  2.444624e-25  3.594430e-05  6.800900e-21   0.999964  6.397565e-08   \n",
       "4     5047  4.439841e-24  6.528078e-04  6.796597e-21   0.999331  1.603225e-05   \n",
       "...    ...           ...           ...           ...        ...           ...   \n",
       "1499  1863  2.376714e-01  5.590122e-03  7.391769e-01   0.017386  1.760858e-04   \n",
       "1500  1831  3.788154e-29  8.912496e-31  9.769474e-01   0.022985  6.770359e-05   \n",
       "1501  1831  1.946233e-74  4.578958e-76  9.763283e-01   0.022970  7.020811e-04   \n",
       "1502  1831  1.152347e-78  2.711159e-80  9.765790e-01   0.022976  4.451606e-04   \n",
       "1503  1831  1.058140e-10  2.489516e-12  9.769023e-01   0.022984  1.139901e-04   \n",
       "\n",
       "                                         gwas_id  \\\n",
       "0              BCAC_ER_positive_BreastCancer_EUR   \n",
       "1              BCAC_ER_positive_BreastCancer_EUR   \n",
       "2              BCAC_ER_positive_BreastCancer_EUR   \n",
       "3                                   EAGLE_Eczema   \n",
       "4                                   EAGLE_Eczema   \n",
       "...                                          ...   \n",
       "1499  UKB_20002_1289_self_reported_schizophrenia   \n",
       "1500  UKB_20002_1289_self_reported_schizophrenia   \n",
       "1501  UKB_20002_1289_self_reported_schizophrenia   \n",
       "1502  UKB_20002_1289_self_reported_schizophrenia   \n",
       "1503  UKB_20002_1289_self_reported_schizophrenia   \n",
       "\n",
       "                                                 qtl_id        tissue_id  \\\n",
       "0     ENSG00000117222.13_ENSG00000174529.7_e_ENSG000...  Muscle_Skeletal   \n",
       "1              ENSG00000117222.13_ENSG00000174529.7_pc1  Muscle_Skeletal   \n",
       "2              ENSG00000117222.13_ENSG00000174529.7_pc2  Muscle_Skeletal   \n",
       "3     ENSG00000143520.6_ENSG00000143536.7_ENSG000001...  Muscle_Skeletal   \n",
       "4     ENSG00000143520.6_ENSG00000143536.7_ENSG000001...  Muscle_Skeletal   \n",
       "...                                                 ...              ...   \n",
       "1499  ENSG00000167371.17_ENSG00000280789.1_e_ENSG000...          Thyroid   \n",
       "1500  ENSG00000090238.11_ENSG00000149922.10_e_ENSG00...          Thyroid   \n",
       "1501  ENSG00000090238.11_ENSG00000149922.10_e_ENSG00...          Thyroid   \n",
       "1502          ENSG00000090238.11_ENSG00000149922.10_pc1          Thyroid   \n",
       "1503          ENSG00000090238.11_ENSG00000149922.10_pc2          Thyroid   \n",
       "\n",
       "                                             cluster_id  \n",
       "0                  ENSG00000117222.13_ENSG00000174529.7  \n",
       "1                  ENSG00000117222.13_ENSG00000174529.7  \n",
       "2                  ENSG00000117222.13_ENSG00000174529.7  \n",
       "3     ENSG00000143520.6_ENSG00000143536.7_ENSG000001...  \n",
       "4     ENSG00000143520.6_ENSG00000143536.7_ENSG000001...  \n",
       "...                                                 ...  \n",
       "1499               ENSG00000167371.17_ENSG00000280789.1  \n",
       "1500              ENSG00000090238.11_ENSG00000149922.10  \n",
       "1501              ENSG00000090238.11_ENSG00000149922.10  \n",
       "1502              ENSG00000090238.11_ENSG00000149922.10  \n",
       "1503              ENSG00000090238.11_ENSG00000149922.10  \n",
       "\n",
       "[1504 rows x 10 columns]"
      ]
     },
     "execution_count": 108,
     "metadata": {},
     "output_type": "execute_result"
    }
   ],
   "source": [
    "\n",
    "# Load each file into a DataFrame and concatenate them\n",
    "cluster_colocs = []\n",
    "for cluster_file in tqdm(coloc_file_list):\n",
    "    cluster_coloc = pd.read_csv(cluster_file, sep='\\t')  # Assuming tab-separated file\n",
    "    tissue_id = cluster_file.split('/')[3]\n",
    "    cluster_coloc['tissue_id'] = tissue_id\n",
    "    cluster_colocs.append(cluster_coloc)\n",
    "\n",
    "# Concatenate all DataFrames into a single DataFrame\n",
    "gwas_coloc = pd.concat(cluster_colocs, ignore_index=True)\n",
    "gwas_coloc['cluster_id'] = np.where(gwas_coloc['qtl_id'].str.contains('_e'), gwas_coloc['qtl_id'].str.split('_e').str[0], gwas_coloc['qtl_id'].str.split('_pc').str[0])\n",
    "# Print the combined DataFrame\n",
    "gwas_coloc"
   ]
  },
  {
   "cell_type": "code",
   "execution_count": 37,
   "metadata": {},
   "outputs": [],
   "source": [
    "#gwas_coloc = gwas_coloc[(gwas_coloc['hit1'].isna())]"
   ]
  },
  {
   "cell_type": "code",
   "execution_count": 109,
   "metadata": {},
   "outputs": [],
   "source": [
    "gwas_coloc_melted  = gwas_coloc.melt(id_vars=['tissue_id', 'gwas_id', 'qtl_id'], value_name='prob', var_name='prob_type', value_vars=[f'PP.H{i}.abf' for i in range(5)])"
   ]
  },
  {
   "cell_type": "code",
   "execution_count": 112,
   "metadata": {},
   "outputs": [
    {
     "data": {
      "image/png": "[encoded data removed]",
      "text/plain": [
       "<Figure size 640x480 with 1 Axes>"
      ]
     },
     "metadata": {},
     "output_type": "display_data"
    }
   ],
   "source": [
    "ax = sns.histplot(gwas_coloc_melted, x='prob', hue='prob_type', bins=100, multiple='stack')\n",
    "ax.set_yscale('log')"
   ]
  },
  {
   "cell_type": "code",
   "execution_count": 115,
   "metadata": {},
   "outputs": [],
   "source": [
    "# plot of which hypothesis is most probable for each row\n",
    "gwas_coloc['highest_prob'] = gwas_coloc[['PP.H0.abf', 'PP.H1.abf', 'PP.H2.abf', 'PP.H3.abf', 'PP.H4.abf']].idxmax(axis=1)\n"
   ]
  },
  {
   "cell_type": "code",
   "execution_count": 118,
   "metadata": {},
   "outputs": [
    {
     "data": {
      "text/plain": [
       "<AxesSubplot: xlabel='count', ylabel='highest_prob'>"
      ]
     },
     "execution_count": 118,
     "metadata": {},
     "output_type": "execute_result"
    },
    {
     "data": {
      "image/png": "[encoded data removed]",
      "text/plain": [
       "<Figure size 640x480 with 1 Axes>"
      ]
     },
     "metadata": {},
     "output_type": "display_data"
    }
   ],
   "source": [
    "sns.countplot(gwas_coloc['highest_prob'])"
   ]
  },
  {
   "cell_type": "code",
   "execution_count": 111,
   "metadata": {},
   "outputs": [
    {
     "data": {
      "text/html": [
       "<div>\n",
       "<style scoped>\n",
       "    .dataframe tbody tr th:only-of-type {\n",
       "        vertical-align: middle;\n",
       "    }\n",
       "\n",
       "    .dataframe tbody tr th {\n",
       "        vertical-align: top;\n",
       "    }\n",
       "\n",
       "    .dataframe thead th {\n",
       "        text-align: right;\n",
       "    }\n",
       "</style>\n",
       "<table border=\"1\" class=\"dataframe\">\n",
       "  <thead>\n",
       "    <tr style=\"text-align: right;\">\n",
       "      <th></th>\n",
       "      <th>nsnps</th>\n",
       "      <th>PP.H0.abf</th>\n",
       "      <th>PP.H1.abf</th>\n",
       "      <th>PP.H2.abf</th>\n",
       "      <th>PP.H3.abf</th>\n",
       "      <th>PP.H4.abf</th>\n",
       "      <th>gwas_id</th>\n",
       "      <th>qtl_id</th>\n",
       "      <th>tissue_id</th>\n",
       "      <th>cluster_id</th>\n",
       "    </tr>\n",
       "  </thead>\n",
       "  <tbody>\n",
       "    <tr>\n",
       "      <th>27</th>\n",
       "      <td>4316</td>\n",
       "      <td>5.824749e-11</td>\n",
       "      <td>1.505164e-06</td>\n",
       "      <td>3.287483e-06</td>\n",
       "      <td>0.084035</td>\n",
       "      <td>0.915960</td>\n",
       "      <td>EAGLE_Eczema</td>\n",
       "      <td>ENSG00000115602.16_ENSG00000115604.10_e_ENSG00...</td>\n",
       "      <td>Muscle_Skeletal</td>\n",
       "      <td>ENSG00000115602.16_ENSG00000115604.10</td>\n",
       "    </tr>\n",
       "    <tr>\n",
       "      <th>28</th>\n",
       "      <td>4316</td>\n",
       "      <td>2.160792e-08</td>\n",
       "      <td>5.583667e-04</td>\n",
       "      <td>3.365306e-06</td>\n",
       "      <td>0.086049</td>\n",
       "      <td>0.913389</td>\n",
       "      <td>EAGLE_Eczema</td>\n",
       "      <td>ENSG00000115602.16_ENSG00000115604.10_pc1</td>\n",
       "      <td>Muscle_Skeletal</td>\n",
       "      <td>ENSG00000115602.16_ENSG00000115604.10</td>\n",
       "    </tr>\n",
       "    <tr>\n",
       "      <th>238</th>\n",
       "      <td>2589</td>\n",
       "      <td>1.051995e-19</td>\n",
       "      <td>1.298757e-18</td>\n",
       "      <td>1.864899e-02</td>\n",
       "      <td>0.229482</td>\n",
       "      <td>0.751869</td>\n",
       "      <td>pgc.scz2</td>\n",
       "      <td>ENSG00000054116.11_ENSG00000116871.15_e_ENSG00...</td>\n",
       "      <td>Thyroid</td>\n",
       "      <td>ENSG00000054116.11_ENSG00000116871.15</td>\n",
       "    </tr>\n",
       "    <tr>\n",
       "      <th>239</th>\n",
       "      <td>2589</td>\n",
       "      <td>3.014462e-11</td>\n",
       "      <td>3.721553e-10</td>\n",
       "      <td>1.993824e-02</td>\n",
       "      <td>0.245416</td>\n",
       "      <td>0.734646</td>\n",
       "      <td>pgc.scz2</td>\n",
       "      <td>ENSG00000054116.11_ENSG00000116871.15_pc1</td>\n",
       "      <td>Thyroid</td>\n",
       "      <td>ENSG00000054116.11_ENSG00000116871.15</td>\n",
       "    </tr>\n",
       "    <tr>\n",
       "      <th>240</th>\n",
       "      <td>2589</td>\n",
       "      <td>3.206609e-04</td>\n",
       "      <td>3.958771e-03</td>\n",
       "      <td>1.101750e-02</td>\n",
       "      <td>0.135169</td>\n",
       "      <td>0.849534</td>\n",
       "      <td>pgc.scz2</td>\n",
       "      <td>ENSG00000054116.11_ENSG00000116871.15_pc2</td>\n",
       "      <td>Thyroid</td>\n",
       "      <td>ENSG00000054116.11_ENSG00000116871.15</td>\n",
       "    </tr>\n",
       "    <tr>\n",
       "      <th>363</th>\n",
       "      <td>4408</td>\n",
       "      <td>2.973602e-59</td>\n",
       "      <td>2.741592e-58</td>\n",
       "      <td>1.757987e-02</td>\n",
       "      <td>0.161261</td>\n",
       "      <td>0.821159</td>\n",
       "      <td>CARDIoGRAM_C4D_CAD_ADDITIVE</td>\n",
       "      <td>ENSG00000183386.9_ENSG00000183431.11_e_ENSG000...</td>\n",
       "      <td>Thyroid</td>\n",
       "      <td>ENSG00000183386.9_ENSG00000183431.11</td>\n",
       "    </tr>\n",
       "    <tr>\n",
       "      <th>364</th>\n",
       "      <td>4408</td>\n",
       "      <td>4.108262e-44</td>\n",
       "      <td>3.787722e-43</td>\n",
       "      <td>9.299574e-03</td>\n",
       "      <td>0.084834</td>\n",
       "      <td>0.905866</td>\n",
       "      <td>CARDIoGRAM_C4D_CAD_ADDITIVE</td>\n",
       "      <td>ENSG00000183386.9_ENSG00000183431.11_e_ENSG000...</td>\n",
       "      <td>Thyroid</td>\n",
       "      <td>ENSG00000183386.9_ENSG00000183431.11</td>\n",
       "    </tr>\n",
       "    <tr>\n",
       "      <th>365</th>\n",
       "      <td>4408</td>\n",
       "      <td>1.063246e-83</td>\n",
       "      <td>9.802879e-83</td>\n",
       "      <td>5.935836e-03</td>\n",
       "      <td>0.053787</td>\n",
       "      <td>0.940277</td>\n",
       "      <td>CARDIoGRAM_C4D_CAD_ADDITIVE</td>\n",
       "      <td>ENSG00000183386.9_ENSG00000183431.11_pc1</td>\n",
       "      <td>Thyroid</td>\n",
       "      <td>ENSG00000183386.9_ENSG00000183431.11</td>\n",
       "    </tr>\n",
       "    <tr>\n",
       "      <th>505</th>\n",
       "      <td>3347</td>\n",
       "      <td>2.094724e-27</td>\n",
       "      <td>7.613812e-26</td>\n",
       "      <td>3.254958e-03</td>\n",
       "      <td>0.117431</td>\n",
       "      <td>0.879315</td>\n",
       "      <td>UKB_1807_Fathers_age_at_death</td>\n",
       "      <td>ENSG00000109182.11_ENSG00000109184.14_pc1</td>\n",
       "      <td>Thyroid</td>\n",
       "      <td>ENSG00000109182.11_ENSG00000109184.14</td>\n",
       "    </tr>\n",
       "    <tr>\n",
       "      <th>666</th>\n",
       "      <td>5300</td>\n",
       "      <td>2.110790e-133</td>\n",
       "      <td>1.110702e-129</td>\n",
       "      <td>2.472140e-05</td>\n",
       "      <td>0.129214</td>\n",
       "      <td>0.870761</td>\n",
       "      <td>BCAC_Overall_BreastCancer_EUR</td>\n",
       "      <td>ENSG00000152348.15_ENSG00000186468.12_ENSG0000...</td>\n",
       "      <td>Thyroid</td>\n",
       "      <td>ENSG00000152348.15_ENSG00000186468.12_ENSG0000...</td>\n",
       "    </tr>\n",
       "    <tr>\n",
       "      <th>783</th>\n",
       "      <td>4053</td>\n",
       "      <td>1.612630e-07</td>\n",
       "      <td>2.458699e-07</td>\n",
       "      <td>1.901774e-03</td>\n",
       "      <td>0.001903</td>\n",
       "      <td>0.996194</td>\n",
       "      <td>UKB_20002_1226_self_reported_hypothyroidism_or...</td>\n",
       "      <td>ENSG00000027869.11_ENSG00000198400.11_pc2</td>\n",
       "      <td>Thyroid</td>\n",
       "      <td>ENSG00000027869.11_ENSG00000198400.11</td>\n",
       "    </tr>\n",
       "    <tr>\n",
       "      <th>798</th>\n",
       "      <td>4756</td>\n",
       "      <td>6.764787e-36</td>\n",
       "      <td>7.047523e-35</td>\n",
       "      <td>1.521337e-02</td>\n",
       "      <td>0.157665</td>\n",
       "      <td>0.827122</td>\n",
       "      <td>UKB_20002_1226_self_reported_hypothyroidism_or...</td>\n",
       "      <td>ENSG00000142606.15_ENSG00000157870.14_e_ENSG00...</td>\n",
       "      <td>Thyroid</td>\n",
       "      <td>ENSG00000142606.15_ENSG00000157870.14</td>\n",
       "    </tr>\n",
       "    <tr>\n",
       "      <th>799</th>\n",
       "      <td>4756</td>\n",
       "      <td>2.299418e-29</td>\n",
       "      <td>2.395522e-28</td>\n",
       "      <td>8.404459e-03</td>\n",
       "      <td>0.086652</td>\n",
       "      <td>0.904943</td>\n",
       "      <td>UKB_20002_1226_self_reported_hypothyroidism_or...</td>\n",
       "      <td>ENSG00000142606.15_ENSG00000157870.14_pc1</td>\n",
       "      <td>Thyroid</td>\n",
       "      <td>ENSG00000142606.15_ENSG00000157870.14</td>\n",
       "    </tr>\n",
       "    <tr>\n",
       "      <th>944</th>\n",
       "      <td>4023</td>\n",
       "      <td>5.998242e-24</td>\n",
       "      <td>1.383170e-20</td>\n",
       "      <td>3.370013e-06</td>\n",
       "      <td>0.006778</td>\n",
       "      <td>0.993219</td>\n",
       "      <td>UKB_1200_Sleeplessness_or_insomnia</td>\n",
       "      <td>ENSG00000136682.14_ENSG00000184492.6_e_ENSG000...</td>\n",
       "      <td>Thyroid</td>\n",
       "      <td>ENSG00000136682.14_ENSG00000184492.6</td>\n",
       "    </tr>\n",
       "    <tr>\n",
       "      <th>945</th>\n",
       "      <td>4023</td>\n",
       "      <td>6.032469e-18</td>\n",
       "      <td>1.391062e-14</td>\n",
       "      <td>6.045729e-06</td>\n",
       "      <td>0.012954</td>\n",
       "      <td>0.987040</td>\n",
       "      <td>UKB_1200_Sleeplessness_or_insomnia</td>\n",
       "      <td>ENSG00000136682.14_ENSG00000184492.6_e_ENSG000...</td>\n",
       "      <td>Thyroid</td>\n",
       "      <td>ENSG00000136682.14_ENSG00000184492.6</td>\n",
       "    </tr>\n",
       "    <tr>\n",
       "      <th>946</th>\n",
       "      <td>4023</td>\n",
       "      <td>4.492788e-32</td>\n",
       "      <td>1.036018e-28</td>\n",
       "      <td>4.217531e-06</td>\n",
       "      <td>0.008734</td>\n",
       "      <td>0.991262</td>\n",
       "      <td>UKB_1200_Sleeplessness_or_insomnia</td>\n",
       "      <td>ENSG00000136682.14_ENSG00000184492.6_pc1</td>\n",
       "      <td>Thyroid</td>\n",
       "      <td>ENSG00000136682.14_ENSG00000184492.6</td>\n",
       "    </tr>\n",
       "    <tr>\n",
       "      <th>1062</th>\n",
       "      <td>4023</td>\n",
       "      <td>2.727220e-53</td>\n",
       "      <td>1.117363e-20</td>\n",
       "      <td>1.532243e-35</td>\n",
       "      <td>0.005283</td>\n",
       "      <td>0.994717</td>\n",
       "      <td>UKB_1160_Sleep_duration</td>\n",
       "      <td>ENSG00000136682.14_ENSG00000184492.6_e_ENSG000...</td>\n",
       "      <td>Thyroid</td>\n",
       "      <td>ENSG00000136682.14_ENSG00000184492.6</td>\n",
       "    </tr>\n",
       "    <tr>\n",
       "      <th>1063</th>\n",
       "      <td>4023</td>\n",
       "      <td>6.375578e-47</td>\n",
       "      <td>2.612123e-14</td>\n",
       "      <td>6.389592e-35</td>\n",
       "      <td>0.025204</td>\n",
       "      <td>0.974796</td>\n",
       "      <td>UKB_1160_Sleep_duration</td>\n",
       "      <td>ENSG00000136682.14_ENSG00000184492.6_e_ENSG000...</td>\n",
       "      <td>Thyroid</td>\n",
       "      <td>ENSG00000136682.14_ENSG00000184492.6</td>\n",
       "    </tr>\n",
       "    <tr>\n",
       "      <th>1064</th>\n",
       "      <td>4023</td>\n",
       "      <td>2.561943e-61</td>\n",
       "      <td>1.049648e-28</td>\n",
       "      <td>2.404982e-35</td>\n",
       "      <td>0.008862</td>\n",
       "      <td>0.991138</td>\n",
       "      <td>UKB_1160_Sleep_duration</td>\n",
       "      <td>ENSG00000136682.14_ENSG00000184492.6_pc1</td>\n",
       "      <td>Thyroid</td>\n",
       "      <td>ENSG00000136682.14_ENSG00000184492.6</td>\n",
       "    </tr>\n",
       "    <tr>\n",
       "      <th>1115</th>\n",
       "      <td>3792</td>\n",
       "      <td>3.308851e-24</td>\n",
       "      <td>2.493506e-23</td>\n",
       "      <td>6.004227e-03</td>\n",
       "      <td>0.044297</td>\n",
       "      <td>0.949698</td>\n",
       "      <td>UKB_20022_Birth_weight</td>\n",
       "      <td>ENSG00000069275.12_ENSG00000117280.12_ENSG0000...</td>\n",
       "      <td>Thyroid</td>\n",
       "      <td>ENSG00000069275.12_ENSG00000117280.12_ENSG0000...</td>\n",
       "    </tr>\n",
       "    <tr>\n",
       "      <th>1117</th>\n",
       "      <td>3792</td>\n",
       "      <td>7.423815e-18</td>\n",
       "      <td>5.594487e-17</td>\n",
       "      <td>3.482998e-02</td>\n",
       "      <td>0.261771</td>\n",
       "      <td>0.703399</td>\n",
       "      <td>UKB_20022_Birth_weight</td>\n",
       "      <td>ENSG00000069275.12_ENSG00000117280.12_ENSG0000...</td>\n",
       "      <td>Thyroid</td>\n",
       "      <td>ENSG00000069275.12_ENSG00000117280.12_ENSG0000...</td>\n",
       "    </tr>\n",
       "  </tbody>\n",
       "</table>\n",
       "</div>"
      ],
      "text/plain": [
       "     nsnps      PP.H0.abf      PP.H1.abf     PP.H2.abf  PP.H3.abf  PP.H4.abf  \\\n",
       "27    4316   5.824749e-11   1.505164e-06  3.287483e-06   0.084035   0.915960   \n",
       "28    4316   2.160792e-08   5.583667e-04  3.365306e-06   0.086049   0.913389   \n",
       "238   2589   1.051995e-19   1.298757e-18  1.864899e-02   0.229482   0.751869   \n",
       "239   2589   3.014462e-11   3.721553e-10  1.993824e-02   0.245416   0.734646   \n",
       "240   2589   3.206609e-04   3.958771e-03  1.101750e-02   0.135169   0.849534   \n",
       "363   4408   2.973602e-59   2.741592e-58  1.757987e-02   0.161261   0.821159   \n",
       "364   4408   4.108262e-44   3.787722e-43  9.299574e-03   0.084834   0.905866   \n",
       "365   4408   1.063246e-83   9.802879e-83  5.935836e-03   0.053787   0.940277   \n",
       "505   3347   2.094724e-27   7.613812e-26  3.254958e-03   0.117431   0.879315   \n",
       "666   5300  2.110790e-133  1.110702e-129  2.472140e-05   0.129214   0.870761   \n",
       "783   4053   1.612630e-07   2.458699e-07  1.901774e-03   0.001903   0.996194   \n",
       "798   4756   6.764787e-36   7.047523e-35  1.521337e-02   0.157665   0.827122   \n",
       "799   4756   2.299418e-29   2.395522e-28  8.404459e-03   0.086652   0.904943   \n",
       "944   4023   5.998242e-24   1.383170e-20  3.370013e-06   0.006778   0.993219   \n",
       "945   4023   6.032469e-18   1.391062e-14  6.045729e-06   0.012954   0.987040   \n",
       "946   4023   4.492788e-32   1.036018e-28  4.217531e-06   0.008734   0.991262   \n",
       "1062  4023   2.727220e-53   1.117363e-20  1.532243e-35   0.005283   0.994717   \n",
       "1063  4023   6.375578e-47   2.612123e-14  6.389592e-35   0.025204   0.974796   \n",
       "1064  4023   2.561943e-61   1.049648e-28  2.404982e-35   0.008862   0.991138   \n",
       "1115  3792   3.308851e-24   2.493506e-23  6.004227e-03   0.044297   0.949698   \n",
       "1117  3792   7.423815e-18   5.594487e-17  3.482998e-02   0.261771   0.703399   \n",
       "\n",
       "                                                gwas_id  \\\n",
       "27                                         EAGLE_Eczema   \n",
       "28                                         EAGLE_Eczema   \n",
       "238                                            pgc.scz2   \n",
       "239                                            pgc.scz2   \n",
       "240                                            pgc.scz2   \n",
       "363                         CARDIoGRAM_C4D_CAD_ADDITIVE   \n",
       "364                         CARDIoGRAM_C4D_CAD_ADDITIVE   \n",
       "365                         CARDIoGRAM_C4D_CAD_ADDITIVE   \n",
       "505                       UKB_1807_Fathers_age_at_death   \n",
       "666                       BCAC_Overall_BreastCancer_EUR   \n",
       "783   UKB_20002_1226_self_reported_hypothyroidism_or...   \n",
       "798   UKB_20002_1226_self_reported_hypothyroidism_or...   \n",
       "799   UKB_20002_1226_self_reported_hypothyroidism_or...   \n",
       "944                  UKB_1200_Sleeplessness_or_insomnia   \n",
       "945                  UKB_1200_Sleeplessness_or_insomnia   \n",
       "946                  UKB_1200_Sleeplessness_or_insomnia   \n",
       "1062                            UKB_1160_Sleep_duration   \n",
       "1063                            UKB_1160_Sleep_duration   \n",
       "1064                            UKB_1160_Sleep_duration   \n",
       "1115                             UKB_20022_Birth_weight   \n",
       "1117                             UKB_20022_Birth_weight   \n",
       "\n",
       "                                                 qtl_id        tissue_id  \\\n",
       "27    ENSG00000115602.16_ENSG00000115604.10_e_ENSG00...  Muscle_Skeletal   \n",
       "28            ENSG00000115602.16_ENSG00000115604.10_pc1  Muscle_Skeletal   \n",
       "238   ENSG00000054116.11_ENSG00000116871.15_e_ENSG00...          Thyroid   \n",
       "239           ENSG00000054116.11_ENSG00000116871.15_pc1          Thyroid   \n",
       "240           ENSG00000054116.11_ENSG00000116871.15_pc2          Thyroid   \n",
       "363   ENSG00000183386.9_ENSG00000183431.11_e_ENSG000...          Thyroid   \n",
       "364   ENSG00000183386.9_ENSG00000183431.11_e_ENSG000...          Thyroid   \n",
       "365            ENSG00000183386.9_ENSG00000183431.11_pc1          Thyroid   \n",
       "505           ENSG00000109182.11_ENSG00000109184.14_pc1          Thyroid   \n",
       "666   ENSG00000152348.15_ENSG00000186468.12_ENSG0000...          Thyroid   \n",
       "783           ENSG00000027869.11_ENSG00000198400.11_pc2          Thyroid   \n",
       "798   ENSG00000142606.15_ENSG00000157870.14_e_ENSG00...          Thyroid   \n",
       "799           ENSG00000142606.15_ENSG00000157870.14_pc1          Thyroid   \n",
       "944   ENSG00000136682.14_ENSG00000184492.6_e_ENSG000...          Thyroid   \n",
       "945   ENSG00000136682.14_ENSG00000184492.6_e_ENSG000...          Thyroid   \n",
       "946            ENSG00000136682.14_ENSG00000184492.6_pc1          Thyroid   \n",
       "1062  ENSG00000136682.14_ENSG00000184492.6_e_ENSG000...          Thyroid   \n",
       "1063  ENSG00000136682.14_ENSG00000184492.6_e_ENSG000...          Thyroid   \n",
       "1064           ENSG00000136682.14_ENSG00000184492.6_pc1          Thyroid   \n",
       "1115  ENSG00000069275.12_ENSG00000117280.12_ENSG0000...          Thyroid   \n",
       "1117  ENSG00000069275.12_ENSG00000117280.12_ENSG0000...          Thyroid   \n",
       "\n",
       "                                             cluster_id  \n",
       "27                ENSG00000115602.16_ENSG00000115604.10  \n",
       "28                ENSG00000115602.16_ENSG00000115604.10  \n",
       "238               ENSG00000054116.11_ENSG00000116871.15  \n",
       "239               ENSG00000054116.11_ENSG00000116871.15  \n",
       "240               ENSG00000054116.11_ENSG00000116871.15  \n",
       "363                ENSG00000183386.9_ENSG00000183431.11  \n",
       "364                ENSG00000183386.9_ENSG00000183431.11  \n",
       "365                ENSG00000183386.9_ENSG00000183431.11  \n",
       "505               ENSG00000109182.11_ENSG00000109184.14  \n",
       "666   ENSG00000152348.15_ENSG00000186468.12_ENSG0000...  \n",
       "783               ENSG00000027869.11_ENSG00000198400.11  \n",
       "798               ENSG00000142606.15_ENSG00000157870.14  \n",
       "799               ENSG00000142606.15_ENSG00000157870.14  \n",
       "944                ENSG00000136682.14_ENSG00000184492.6  \n",
       "945                ENSG00000136682.14_ENSG00000184492.6  \n",
       "946                ENSG00000136682.14_ENSG00000184492.6  \n",
       "1062               ENSG00000136682.14_ENSG00000184492.6  \n",
       "1063               ENSG00000136682.14_ENSG00000184492.6  \n",
       "1064               ENSG00000136682.14_ENSG00000184492.6  \n",
       "1115  ENSG00000069275.12_ENSG00000117280.12_ENSG0000...  \n",
       "1117  ENSG00000069275.12_ENSG00000117280.12_ENSG0000...  "
      ]
     },
     "execution_count": 111,
     "metadata": {},
     "output_type": "execute_result"
    }
   ],
   "source": [
    "gwas_coloc[gwas_coloc['PP.H4.abf'] > .7]"
   ]
  },
  {
   "cell_type": "markdown",
   "metadata": {},
   "source": [
    "first look just at the number of hits, not trying to overlap pc and eqtls "
   ]
  },
  {
   "cell_type": "code",
   "execution_count": 119,
   "metadata": {},
   "outputs": [],
   "source": [
    "# make ids for each credible set in the qtl and gwas\n",
    "# if susie\n",
    "#gwas_coloc['gwas_cs_id'] = gwas_coloc['gwas_id'] + '_' + gwas_coloc['hit1']\n",
    "#gwas_coloc['qtl_cs_id'] = gwas_coloc['qtl_id'] + '_' + gwas_coloc['hit2'].astype(str)\n",
    "\n",
    "# otherwise\n",
    "gwas_coloc['gwas_cs_id'] = gwas_coloc['gwas_id'] + '_' + gwas_coloc['cluster_id']\n",
    "gwas_coloc['qtl_cs_id'] = gwas_coloc['qtl_id']+ '_' + gwas_coloc['cluster_id']\n"
   ]
  },
  {
   "cell_type": "code",
   "execution_count": 120,
   "metadata": {},
   "outputs": [
    {
     "name": "stdout",
     "output_type": "stream",
     "text": [
      "number pcqtls total (could overlap): 8\n",
      "number eqtls total (could overlap):11\n"
     ]
    }
   ],
   "source": [
    "# count number of e and pc hits\n",
    "gwas_coloc_hits = gwas_coloc[gwas_coloc['PP.H4.abf'] > .75]\n",
    "print('number pcqtls total (could overlap): {}'.format(sum(gwas_coloc_hits['qtl_cs_id'].str.contains('_pc'))))\n",
    "print('number eqtls total (could overlap):{}'.format(sum(gwas_coloc_hits['qtl_cs_id'].str.contains('_e'))))"
   ]
  },
  {
   "cell_type": "code",
   "execution_count": 121,
   "metadata": {},
   "outputs": [
    {
     "name": "stderr",
     "output_type": "stream",
     "text": [
      "/local/scratch/klawren/slrmtmp.45342476/ipykernel_42135/2015912640.py:2: SettingWithCopyWarning: \n",
      "A value is trying to be set on a copy of a slice from a DataFrame.\n",
      "Try using .loc[row_indexer,col_indexer] = value instead\n",
      "\n",
      "See the caveats in the documentation: https://pandas.pydata.org/pandas-docs/stable/user_guide/indexing.html#returning-a-view-versus-a-copy\n",
      "  gwas_coloc_hits['type'] = np.where(gwas_coloc_hits['qtl_cs_id'].str.contains('_pc'), 'pcqtl', 'eqtl')\n"
     ]
    },
    {
     "data": {
      "text/plain": [
       "<AxesSubplot: xlabel='Count', ylabel='tissue_id'>"
      ]
     },
     "execution_count": 121,
     "metadata": {},
     "output_type": "execute_result"
    },
    {
     "data": {
      "image/png": "[encoded data removed]",
      "text/plain": [
       "<Figure size 640x480 with 1 Axes>"
      ]
     },
     "metadata": {},
     "output_type": "display_data"
    }
   ],
   "source": [
    "# raw counts (could overlap)\n",
    "gwas_coloc_hits['type'] = np.where(gwas_coloc_hits['qtl_cs_id'].str.contains('_pc'), 'pcqtl', 'eqtl')\n",
    "sns.histplot(gwas_coloc_hits, hue='type', y='tissue_id', multiple='dodge')"
   ]
  },
  {
   "cell_type": "code",
   "execution_count": 122,
   "metadata": {},
   "outputs": [
    {
     "data": {
      "text/html": [
       "<div>\n",
       "<style scoped>\n",
       "    .dataframe tbody tr th:only-of-type {\n",
       "        vertical-align: middle;\n",
       "    }\n",
       "\n",
       "    .dataframe tbody tr th {\n",
       "        vertical-align: top;\n",
       "    }\n",
       "\n",
       "    .dataframe thead th {\n",
       "        text-align: right;\n",
       "    }\n",
       "</style>\n",
       "<table border=\"1\" class=\"dataframe\">\n",
       "  <thead>\n",
       "    <tr style=\"text-align: right;\">\n",
       "      <th></th>\n",
       "      <th>qtl_cs_id</th>\n",
       "      <th>num_e</th>\n",
       "      <th>num_pc</th>\n",
       "      <th>num_colocs</th>\n",
       "    </tr>\n",
       "    <tr>\n",
       "      <th>tissue_id</th>\n",
       "      <th></th>\n",
       "      <th></th>\n",
       "      <th></th>\n",
       "      <th></th>\n",
       "    </tr>\n",
       "  </thead>\n",
       "  <tbody>\n",
       "    <tr>\n",
       "      <th>Muscle_Skeletal</th>\n",
       "      <td>[ENSG00000115602.16_ENSG00000115604.10_e_ENSG0...</td>\n",
       "      <td>1</td>\n",
       "      <td>1</td>\n",
       "      <td>2</td>\n",
       "    </tr>\n",
       "    <tr>\n",
       "      <th>Thyroid</th>\n",
       "      <td>[ENSG00000054116.11_ENSG00000116871.15_e_ENSG0...</td>\n",
       "      <td>8</td>\n",
       "      <td>6</td>\n",
       "      <td>14</td>\n",
       "    </tr>\n",
       "  </tbody>\n",
       "</table>\n",
       "</div>"
      ],
      "text/plain": [
       "                                                         qtl_cs_id  num_e  \\\n",
       "tissue_id                                                                   \n",
       "Muscle_Skeletal  [ENSG00000115602.16_ENSG00000115604.10_e_ENSG0...      1   \n",
       "Thyroid          [ENSG00000054116.11_ENSG00000116871.15_e_ENSG0...      8   \n",
       "\n",
       "                 num_pc  num_colocs  \n",
       "tissue_id                            \n",
       "Muscle_Skeletal       1           2  \n",
       "Thyroid               6          14  "
      ]
     },
     "execution_count": 122,
     "metadata": {},
     "output_type": "execute_result"
    }
   ],
   "source": [
    "gwas_coloc_counts = gwas_coloc_hits.groupby('tissue_id').agg({'qtl_cs_id':'unique'})\n",
    "gwas_coloc_counts['num_e'] = gwas_coloc_counts['qtl_cs_id'].astype(str).str.count('_e')\n",
    "gwas_coloc_counts['num_pc'] = gwas_coloc_counts['qtl_cs_id'].astype(str).str.count('_pc')\n",
    "gwas_coloc_counts['num_colocs'] = gwas_coloc_counts['num_e'] + gwas_coloc_counts['num_pc']\n",
    "\n",
    "gwas_coloc_counts"
   ]
  },
  {
   "cell_type": "code",
   "execution_count": 123,
   "metadata": {},
   "outputs": [
    {
     "name": "stderr",
     "output_type": "stream",
     "text": [
      "/local/scratch/klawren/slrmtmp.45342476/ipykernel_42135/1038350952.py:8: UserWarning: The palette list has more values (13) than needed (2), which may not be intended.\n",
      "  ax = sns.barplot(gwas_coloc_counts, x='num_colocs', hue='tissue_id', y='tissue_id', palette=tissue_pal, saturation=1, edgecolor='k', width=.85, ax=ax)\n",
      "/local/scratch/klawren/slrmtmp.45342476/ipykernel_42135/1038350952.py:16: UserWarning: FixedFormatter should only be used together with FixedLocator\n",
      "  ax.set_yticklabels(tissue_labels)\n"
     ]
    },
    {
     "data": {
      "image/png": "[encoded data removed]",
      "text/plain": [
       "<Figure size 300x500 with 1 Axes>"
      ]
     },
     "metadata": {},
     "output_type": "display_data"
    }
   ],
   "source": [
    "# make a simple plot with total colocs in each tissue (the signals could overlap)\n",
    "tissue_pal = sns.color_palette('blend:#B83A4B,#FEC51D,#67AFD2', n_colors=len(tissue_ids))\n",
    "\n",
    "\n",
    "# plot showing number of clusters in each tissue\n",
    "\n",
    "fig, ax = plt.subplots(figsize=(3,5))\n",
    "ax = sns.barplot(gwas_coloc_counts, x='num_colocs', hue='tissue_id', y='tissue_id', palette=tissue_pal, saturation=1, edgecolor='k', width=.85, ax=ax)\n",
    "\n",
    "ax.spines['top'].set_visible(False)\n",
    "ax.spines['right'].set_visible(False)\n",
    "\n",
    "# Replace underscores with spaces in the tissue labels\n",
    "tissue_labels = ax.get_yticklabels()\n",
    "tissue_labels = [tissue_label.get_text().replace('_', ' ') for tissue_label in tissue_labels]\n",
    "ax.set_yticklabels(tissue_labels)\n",
    "\n",
    "ax.set_xlabel('Number of colocalized qtls\\n (with any gwas)')\n",
    "ax.set_ylabel('')\n",
    "\n",
    "plt.show()"
   ]
  },
  {
   "cell_type": "code",
   "execution_count": 124,
   "metadata": {},
   "outputs": [
    {
     "data": {
      "text/plain": [
       "<AxesSubplot: xlabel='num_gwas', ylabel='Count'>"
      ]
     },
     "execution_count": 124,
     "metadata": {},
     "output_type": "execute_result"
    },
    {
     "data": {
      "image/png": "[encoded data removed]",
      "text/plain": [
       "<Figure size 640x480 with 1 Axes>"
      ]
     },
     "metadata": {},
     "output_type": "display_data"
    }
   ],
   "source": [
    "# number of gwas hits per qtl\n",
    "gwas_grouped_colocs = gwas_coloc_hits.groupby('qtl_cs_id').agg({'gwas_cs_id':'unique', \n",
    "                                                             'type':'first'})\n",
    "gwas_grouped_colocs['num_gwas'] = gwas_grouped_colocs['gwas_cs_id'].apply(len)\n",
    "sns.histplot(gwas_grouped_colocs, x='num_gwas', hue='type', multiple='stack')"
   ]
  },
  {
   "cell_type": "markdown",
   "metadata": {},
   "source": [
    "if there are a lot of high numbers in the above plot, I may need to rethink not combining over gwas loci in some way below. currently if a an eqtl loci colocs with 3 gwas loci, that counts for 3 colocs in the below plots?"
   ]
  },
  {
   "cell_type": "markdown",
   "metadata": {},
   "source": [
    "now combine around gwas signals - does each one colocalize to a pcqtl, an eqtl, or multiple pcqtls?"
   ]
  },
  {
   "cell_type": "code",
   "execution_count": 125,
   "metadata": {},
   "outputs": [],
   "source": [
    "# group by qtl signal\n",
    "gwas_coloc_overlap = gwas_coloc_hits.groupby(['gwas_cs_id', 'tissue_id']).agg({'qtl_cs_id':'unique'})\n",
    "\n",
    "# count things\n",
    "gwas_coloc_overlap['num_hits'] = gwas_coloc_overlap['qtl_cs_id'].apply(len)\n",
    "gwas_coloc_overlap['num_eqtl'] = gwas_coloc_overlap['qtl_cs_id'].astype(str).str.count('_e')\n",
    "gwas_coloc_overlap['num_pcqtl'] = gwas_coloc_overlap['qtl_cs_id'].astype(str).str.count('_pc')\n",
    "gwas_coloc_overlap['hit_type'] = np.where(gwas_coloc_overlap['num_eqtl']>0, np.where(gwas_coloc_overlap['num_pcqtl']>0, 'both', 'eqtl_only'), \n",
    "                                          np.where(gwas_coloc_overlap['num_pcqtl']>0, 'pcqtl_only', 'neither??'))"
   ]
  },
  {
   "cell_type": "code",
   "execution_count": 126,
   "metadata": {},
   "outputs": [
    {
     "name": "stderr",
     "output_type": "stream",
     "text": [
      "/local/scratch/klawren/slrmtmp.45342476/ipykernel_42135/3260416558.py:14: UserWarning: FixedFormatter should only be used together with FixedLocator\n",
      "  ax.set_yticklabels(tissue_labels)\n"
     ]
    },
    {
     "data": {
      "text/plain": [
       "Text(0.5, 0, 'Number of colocalized QTLs (each gwas counts seperately)')"
      ]
     },
     "execution_count": 126,
     "metadata": {},
     "output_type": "execute_result"
    },
    {
     "data": {
      "image/png": "[encoded data removed]",
      "text/plain": [
       "<Figure size 640x480 with 1 Axes>"
      ]
     },
     "metadata": {},
     "output_type": "display_data"
    }
   ],
   "source": [
    "# histogram with gtle type\n",
    "\n",
    "ax = sns.histplot(gwas_coloc_overlap, y='tissue_id', hue='hit_type', multiple='stack', \n",
    "             hue_order=['pcqtl_only','eqtl_only', 'both'], \n",
    "             palette=('#B83A4B', '#016895', '#67AFD2'), \n",
    "             shrink=.9)\n",
    "\n",
    "ax.spines['top'].set_visible(False)\n",
    "ax.spines['right'].set_visible(False)\n",
    "\n",
    "# Replace underscores with spaces in the tissue labels\n",
    "tissue_labels = ax.get_yticklabels()\n",
    "tissue_labels = [tissue_label.get_text().replace('_', ' ') for tissue_label in tissue_labels]\n",
    "ax.set_yticklabels(tissue_labels)\n",
    "\n",
    "ax.set_xlabel('Number of colocalized QTLs (each gwas counts seperately)')\n"
   ]
  },
  {
   "cell_type": "code",
   "execution_count": 127,
   "metadata": {},
   "outputs": [
    {
     "data": {
      "image/png": "[encoded data removed]",
      "text/plain": [
       "<Figure size 800x600 with 4 Axes>"
      ]
     },
     "metadata": {},
     "output_type": "display_data"
    }
   ],
   "source": [
    "# make indicator columns \n",
    "gwas_coloc_overlap['pcQTL'] = gwas_coloc_overlap['num_pcqtl'] > 0\n",
    "gwas_coloc_overlap['eQTL'] = gwas_coloc_overlap['num_eqtl'] > 0\n",
    "\n",
    "# multiple egenes\n",
    "gwas_coloc_overlap['multiple_e_shared'] = gwas_coloc_overlap['num_eqtl']>1  \n",
    "\n",
    "upset_to_plot = gwas_coloc_overlap.set_index('eQTL').set_index('pcQTL', append=True)\n",
    "\n",
    "upset_to_plot['multiple_e_shared_label'] = np.where(upset_to_plot['multiple_e_shared'], 'multiple eQTL', 'single eQTL')\n",
    "upset_to_plot['multiple_e_shared_label'] = np.where(upset_to_plot['num_eqtl'] > 0, upset_to_plot['multiple_e_shared_label'], 'exclusive pcQTL')\n",
    "\n",
    "fig = plt.figure(figsize=(8, 6))\n",
    "upset = up.UpSet(upset_to_plot, intersection_plot_elements=0,show_counts=False, element_size=None)  # disable the default bar chart\n",
    "upset.add_stacked_bars(by=\"multiple_e_shared_label\", title=\"Count\", elements=8, colors=('#B83A4B', '#016895', '#67AFD2'))\n",
    "\n",
    "params = {\"legend.fontsize\": 10}\n",
    "with plt.rc_context(params):\n",
    "    upset.plot(fig=fig)\n",
    "\n",
    "plt.grid(False)\n",
    "\n",
    "\n",
    "plt.suptitle('GWAS colocalizations')\n",
    "plt.show()"
   ]
  },
  {
   "cell_type": "markdown",
   "metadata": {},
   "source": [
    "now make it  so that each gwas doesn't count seperately"
   ]
  },
  {
   "cell_type": "code",
   "execution_count": 128,
   "metadata": {},
   "outputs": [
    {
     "name": "stderr",
     "output_type": "stream",
     "text": [
      "/local/scratch/klawren/slrmtmp.45342476/ipykernel_42135/1952816446.py:2: SettingWithCopyWarning: \n",
      "A value is trying to be set on a copy of a slice from a DataFrame.\n",
      "Try using .loc[row_indexer,col_indexer] = value instead\n",
      "\n",
      "See the caveats in the documentation: https://pandas.pydata.org/pandas-docs/stable/user_guide/indexing.html#returning-a-view-versus-a-copy\n",
      "  gwas_coloc_hits['gwas_tissue_cs_id'] = gwas_coloc_hits['gwas_cs_id'] + '_' + gwas_coloc_hits['tissue_id']\n",
      "/local/scratch/klawren/slrmtmp.45342476/ipykernel_42135/1952816446.py:3: SettingWithCopyWarning: \n",
      "A value is trying to be set on a copy of a slice from a DataFrame.\n",
      "Try using .loc[row_indexer,col_indexer] = value instead\n",
      "\n",
      "See the caveats in the documentation: https://pandas.pydata.org/pandas-docs/stable/user_guide/indexing.html#returning-a-view-versus-a-copy\n",
      "  gwas_coloc_hits['qtl_tissue_cs_id'] = gwas_coloc_hits['qtl_cs_id'] + '_' + gwas_coloc_hits['tissue_id']\n"
     ]
    }
   ],
   "source": [
    "# something about tissue sharing??\n",
    "gwas_coloc_hits['gwas_tissue_cs_id'] = gwas_coloc_hits['gwas_cs_id'] + '_' + gwas_coloc_hits['tissue_id']\n",
    "gwas_coloc_hits['qtl_tissue_cs_id'] = gwas_coloc_hits['qtl_cs_id'] + '_' + gwas_coloc_hits['tissue_id']\n",
    "\n",
    "qtl_grouped_colocs = gwas_coloc_hits.groupby('qtl_tissue_cs_id').agg({'gwas_tissue_cs_id':'unique'})\n",
    "gwas_grouped_colocs = gwas_coloc_hits.groupby('gwas_tissue_cs_id').agg({'qtl_tissue_cs_id':'unique'})"
   ]
  },
  {
   "cell_type": "code",
   "execution_count": 129,
   "metadata": {},
   "outputs": [
    {
     "name": "stdout",
     "output_type": "stream",
     "text": [
      "9\n",
      "9\n",
      "9\n"
     ]
    }
   ],
   "source": [
    "qtl_sets = []\n",
    "gwas_sets = []\n",
    "for idx, row in gwas_grouped_colocs.iloc[:30].iterrows():\n",
    "    qtl_set = set(row['qtl_tissue_cs_id'].astype(list))\n",
    "    new_qtls = 1\n",
    "    new_gwas = 1\n",
    "    gwas_set = set([idx])\n",
    "    # expand the set to all overlapping qtls and gwas\n",
    "    while ((new_qtls > 0) | (new_gwas > 1)):\n",
    "        gwas_set_old = gwas_set\n",
    "        qtl_set_old = qtl_set\n",
    "        for gwas_cs_id in gwas_set:\n",
    "            qtl_set = set(np.append(list(qtl_set), gwas_grouped_colocs.loc[gwas_cs_id,'qtl_tissue_cs_id']))\n",
    "        new_qtls = len(qtl_set) - len(qtl_set_old)\n",
    "        for qtl_cs_id in qtl_set:\n",
    "            gwas_set = set(np.append(list(gwas_set), qtl_grouped_colocs.loc[qtl_cs_id,'gwas_tissue_cs_id']))\n",
    "        new_gwas = len(gwas_set) - len(gwas_set_old)\n",
    "\n",
    "    qtl_sets.append(set(qtl_set))\n",
    "    gwas_sets.append(set(gwas_set))\n",
    "\n",
    "\n",
    "coloc_sets = pd.DataFrame({'gwas_sets':gwas_sets, \n",
    "              'qtl_sets':qtl_sets})\n",
    "\n",
    "coloc_sets['sorted_gwas_sets'] = coloc_sets['gwas_sets'].apply(lambda x: sorted(list(x))).astype(str)\n",
    "coloc_sets['sorted_qtl_sets'] = coloc_sets['qtl_sets'].apply(lambda x: sorted(list(x))).astype(str)\n",
    "\n",
    "coloc_sets = coloc_sets[['sorted_gwas_sets', 'sorted_qtl_sets']].drop_duplicates()\n",
    "\n",
    "# these should all be the same\n",
    "print(len(coloc_sets))\n",
    "print(len(coloc_sets['sorted_gwas_sets'].unique()))\n",
    "print(len(coloc_sets['sorted_qtl_sets'].unique()))\n",
    "\n",
    "coloc_sets['num_eqtl'] = coloc_sets['sorted_qtl_sets'].str.count('_e')\n",
    "coloc_sets['num_pcqtl'] = coloc_sets['sorted_qtl_sets'].str.count('_pc')\n"
   ]
  },
  {
   "cell_type": "code",
   "execution_count": 130,
   "metadata": {},
   "outputs": [],
   "source": [
    "def get_tissue_ids(signal_set):\n",
    "    tissue_ids = []\n",
    "    for signal_id in ast.literal_eval(signal_set):\n",
    "        tissue_ids.append(signal_id.split('_')[-1])\n",
    "    return list(set(tissue_ids))\n",
    "\n",
    "def get_pheno_ids(signal_set):\n",
    "    tissue_ids = []\n",
    "    for signal_id in ast.literal_eval(signal_set):\n",
    "        tissue_ids.append(signal_id.split('_')[-1])\n",
    "    return list(set(tissue_ids))"
   ]
  },
  {
   "cell_type": "code",
   "execution_count": 131,
   "metadata": {},
   "outputs": [
    {
     "data": {
      "image/png": "[encoded data removed]",
      "text/plain": [
       "<Figure size 800x600 with 4 Axes>"
      ]
     },
     "metadata": {},
     "output_type": "display_data"
    }
   ],
   "source": [
    "# make indicator columns \n",
    "coloc_sets['pcQTL'] = coloc_sets['num_pcqtl'] > 0\n",
    "coloc_sets['eQTL'] = coloc_sets['num_eqtl'] > 0\n",
    "\n",
    "# multiple egenes\n",
    "coloc_sets['multiple_e_shared'] = coloc_sets['num_eqtl']>1  \n",
    "\n",
    "upset_to_plot = coloc_sets.set_index('eQTL').set_index('pcQTL', append=True)\n",
    "\n",
    "upset_to_plot['multiple_e_shared_label'] = np.where(upset_to_plot['multiple_e_shared'], 'multiple eQTL', 'single eQTL')\n",
    "upset_to_plot['multiple_e_shared_label'] = np.where(upset_to_plot['num_eqtl'] > 0, upset_to_plot['multiple_e_shared_label'], 'exclusive pcQTL')\n",
    "\n",
    "fig = plt.figure(figsize=(8, 6))\n",
    "upset = up.UpSet(upset_to_plot, intersection_plot_elements=0,show_counts=False, element_size=None)  # disable the default bar chart\n",
    "upset.add_stacked_bars(by=\"multiple_e_shared_label\", title=\"Count\", elements=8, colors=('#B83A4B', '#016895', '#67AFD2'))\n",
    "\n",
    "params = {\"legend.fontsize\": 10}\n",
    "with plt.rc_context(params):\n",
    "    upset.plot(fig=fig)\n",
    "\n",
    "plt.grid(False)\n",
    "\n",
    "\n",
    "plt.suptitle('GWAS colocalizations')\n",
    "plt.show()"
   ]
  },
  {
   "cell_type": "code",
   "execution_count": 132,
   "metadata": {},
   "outputs": [],
   "source": [
    "coloc_sets['qtl_tissues'] = coloc_sets['sorted_qtl_sets'].apply(get_tissue_ids)\n",
    "coloc_sets['qtl_clusters'] = coloc_sets['sorted_qtl_sets'].apply(get_pheno_ids)\n",
    "coloc_sets['num_clusters'] = coloc_sets['qtl_tissues'].apply(len)\n",
    "coloc_sets['num_qtl_tissues'] = coloc_sets['qtl_clusters'].apply(len)\n",
    "\n",
    "\n",
    "coloc_sets['gwas_tissues'] = coloc_sets['sorted_gwas_sets'].apply(get_tissue_ids)\n",
    "coloc_sets['gwas_types'] = coloc_sets['sorted_gwas_sets'].apply(get_pheno_ids)\n",
    "coloc_sets['num_gwas_tissues'] = coloc_sets['gwas_tissues'].apply(len)\n",
    "coloc_sets['num_gwas_types'] = coloc_sets['gwas_types'].apply(len)\n",
    "\n",
    "coloc_sets['type'] = np.where(coloc_sets['num_pcqtl']>0, np.where(coloc_sets['num_eqtl']>0, 'both', 'pcqtl_only'), 'eqtl_only')"
   ]
  },
  {
   "cell_type": "code",
   "execution_count": 133,
   "metadata": {},
   "outputs": [
    {
     "data": {
      "text/plain": [
       "<AxesSubplot: xlabel='num_gwas_tissues', ylabel='Count'>"
      ]
     },
     "execution_count": 133,
     "metadata": {},
     "output_type": "execute_result"
    },
    {
     "data": {
      "image/png": "[encoded data removed]",
      "text/plain": [
       "<Figure size 640x480 with 1 Axes>"
      ]
     },
     "metadata": {},
     "output_type": "display_data"
    }
   ],
   "source": [
    "# number of tissues vs signal type\n",
    "sns.histplot(coloc_sets, x='num_gwas_tissues', hue='type', multiple='dodge', bins=range(0, max(coloc_sets['num_gwas_tissues'])+1))\n"
   ]
  },
  {
   "cell_type": "code",
   "execution_count": 134,
   "metadata": {},
   "outputs": [
    {
     "data": {
      "text/plain": [
       "<AxesSubplot: xlabel='num_gwas_types', ylabel='Count'>"
      ]
     },
     "execution_count": 134,
     "metadata": {},
     "output_type": "execute_result"
    },
    {
     "data": {
      "image/png": "[encoded data removed]",
      "text/plain": [
       "<Figure size 640x480 with 1 Axes>"
      ]
     },
     "metadata": {},
     "output_type": "display_data"
    }
   ],
   "source": [
    "sns.histplot(coloc_sets, x='num_gwas_types', hue='type', multiple='dodge')"
   ]
  },
  {
   "cell_type": "code",
   "execution_count": 135,
   "metadata": {},
   "outputs": [
    {
     "data": {
      "text/plain": [
       "<AxesSubplot: xlabel='num_qtl_tissues', ylabel='Count'>"
      ]
     },
     "execution_count": 135,
     "metadata": {},
     "output_type": "execute_result"
    },
    {
     "data": {
      "image/png": "[encoded data removed]",
      "text/plain": [
       "<Figure size 640x480 with 1 Axes>"
      ]
     },
     "metadata": {},
     "output_type": "display_data"
    }
   ],
   "source": [
    "sns.histplot(coloc_sets, x='num_qtl_tissues', hue='type', multiple='dodge')"
   ]
  },
  {
   "cell_type": "code",
   "execution_count": 136,
   "metadata": {},
   "outputs": [
    {
     "data": {
      "text/plain": [
       "<AxesSubplot: xlabel='num_clusters', ylabel='Count'>"
      ]
     },
     "execution_count": 136,
     "metadata": {},
     "output_type": "execute_result"
    },
    {
     "data": {
      "image/png": "[encoded data removed]",
      "text/plain": [
       "<Figure size 640x480 with 1 Axes>"
      ]
     },
     "metadata": {},
     "output_type": "display_data"
    }
   ],
   "source": [
    "# ideally this should be all 1\n",
    "sns.histplot(coloc_sets, x='num_clusters', hue='type', multiple='dodge')"
   ]
  },
  {
   "cell_type": "code",
   "execution_count": null,
   "metadata": {},
   "outputs": [],
   "source": []
  }
 ],
 "metadata": {
  "kernelspec": {
   "display_name": "Python 3 (ipykernel)",
   "language": "python",
   "name": "python3"
  },
  "language_info": {
   "codemirror_mode": {
    "name": "ipython",
    "version": 3
   },
   "file_extension": ".py",
   "mimetype": "text/x-python",
   "name": "python",
   "nbconvert_exporter": "python",
   "pygments_lexer": "ipython3",
   "version": "3.8.18"
  }
 },
 "nbformat": 4,
 "nbformat_minor": 2
}
