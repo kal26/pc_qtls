{
 "cells": [
  {
   "cell_type": "code",
   "execution_count": 3,
   "metadata": {},
   "outputs": [],
   "source": [
    "import pandas as pd\n",
    "import numpy as np\n",
    "import yaml\n",
    "import seaborn as sns\n",
    "import matplotlib.pyplot as plt\n",
    "import statsmodels.api as sm\n",
    "import os\n",
    "import upsetplot as up\n",
    "\n",
    "\n",
    "\n",
    "from tqdm.auto import tqdm  # for notebooks\n",
    "tqdm.pandas()\n",
    "\n",
    "\n",
    "prefix = '/home/klawren/oak/pcqtls'\n",
    "\n",
    "import sys\n",
    "sys.path.append('/home/klawren/oak/pcqtls/workflow/scripts')\n",
    "from notebook_helper_functions import *"
   ]
  },
  {
   "cell_type": "code",
   "execution_count": 12,
   "metadata": {},
   "outputs": [],
   "source": [
    "main_config_path= f'{prefix}/config/proteincoding_main.yaml'\n",
    "with open(main_config_path, 'r') as f:\n",
    "    config = yaml.safe_load(f)\n",
    "\n",
    "tissue_ids = load_tissue_ids(config)\n"
   ]
  },
  {
   "cell_type": "code",
   "execution_count": 15,
   "metadata": {},
   "outputs": [],
   "source": [
    "gwas_meta = pd.read_csv(config['gwas_meta'], sep='\\t', header=0)\n",
    "gwas_ids = gwas_meta['Tag']"
   ]
  },
  {
   "cell_type": "code",
   "execution_count": 17,
   "metadata": {},
   "outputs": [
    {
     "data": {
      "text/plain": [
       "0                                UKB_1160_Sleep_duration\n",
       "1          UKB_1180_Morning_or_evening_person_chronotype\n",
       "2                     UKB_1200_Sleeplessness_or_insomnia\n",
       "3                          UKB_1807_Fathers_age_at_death\n",
       "4      UKB_20002_1094_self_reported_deep_venous_throm...\n",
       "                             ...                        \n",
       "109                               ICBP_DiastolicPressure\n",
       "110                    BCAC_ER_negative_BreastCancer_EUR\n",
       "111                    BCAC_ER_positive_BreastCancer_EUR\n",
       "112                        BCAC_Overall_BreastCancer_EUR\n",
       "113                                       tag.evrsmk.tbl\n",
       "Name: Tag, Length: 114, dtype: object"
      ]
     },
     "execution_count": 17,
     "metadata": {},
     "output_type": "execute_result"
    }
   ],
   "source": [
    "gwas_ids"
   ]
  },
  {
   "cell_type": "markdown",
   "metadata": {},
   "source": [
    "## load in the completed cluster gwas colocs"
   ]
  },
  {
   "cell_type": "code",
   "execution_count": 366,
   "metadata": {},
   "outputs": [
    {
     "data": {
      "text/plain": [
       "725"
      ]
     },
     "execution_count": 366,
     "metadata": {},
     "output_type": "execute_result"
    }
   ],
   "source": [
    "\n",
    "# Function to recursively get list of files ending with .qtl_gwas.txt\n",
    "# this should later be updated to exclude the emp files\n",
    "\n",
    "def get_files(directory):\n",
    "    file_list = []\n",
    "    for root, directories, files in os.walk(directory):\n",
    "        for file in files:\n",
    "            if file.endswith(\".gwas_coloc.txt\"):\n",
    "                file_list.append(os.path.join(root, file))\n",
    "    return file_list\n",
    "\n",
    "# Get the list of files\n",
    "coloc_file_list = get_files(config['coloc_output_dir'])\n",
    "len(coloc_file_list)"
   ]
  },
  {
   "cell_type": "code",
   "execution_count": 368,
   "metadata": {},
   "outputs": [
    {
     "data": {
      "text/html": [
       "<div>\n",
       "<style scoped>\n",
       "    .dataframe tbody tr th:only-of-type {\n",
       "        vertical-align: middle;\n",
       "    }\n",
       "\n",
       "    .dataframe tbody tr th {\n",
       "        vertical-align: top;\n",
       "    }\n",
       "\n",
       "    .dataframe thead th {\n",
       "        text-align: right;\n",
       "    }\n",
       "</style>\n",
       "<table border=\"1\" class=\"dataframe\">\n",
       "  <thead>\n",
       "    <tr style=\"text-align: right;\">\n",
       "      <th></th>\n",
       "      <th>gwas_id</th>\n",
       "      <th>qtl_id</th>\n",
       "      <th>nsnps</th>\n",
       "      <th>hit_gwas</th>\n",
       "      <th>hit_qtl</th>\n",
       "      <th>PP.H0.abf</th>\n",
       "      <th>PP.H1.abf</th>\n",
       "      <th>PP.H2.abf</th>\n",
       "      <th>PP.H3.abf</th>\n",
       "      <th>PP.H4.abf</th>\n",
       "      <th>idx1</th>\n",
       "      <th>idx1.1</th>\n",
       "      <th>gwas_cs_is</th>\n",
       "    </tr>\n",
       "  </thead>\n",
       "  <tbody>\n",
       "  </tbody>\n",
       "</table>\n",
       "</div>"
      ],
      "text/plain": [
       "Empty DataFrame\n",
       "Columns: [gwas_id, qtl_id, nsnps, hit_gwas, hit_qtl, PP.H0.abf, PP.H1.abf, PP.H2.abf, PP.H3.abf, PP.H4.abf, idx1, idx1.1, gwas_cs_is]\n",
       "Index: []"
      ]
     },
     "execution_count": 368,
     "metadata": {},
     "output_type": "execute_result"
    }
   ],
   "source": [
    "\n",
    "# Load each file into a DataFrame and concatenate them\n",
    "cluster_colocs = []\n",
    "for cluster_file in coloc_file_list:\n",
    "    cluster_coloc = pd.read_csv(cluster_file, sep='\\t')  # Assuming tab-separated file\n",
    "    cluster_colocs.append(cluster_coloc)\n",
    "\n",
    "# Concatenate all DataFrames into a single DataFrame\n",
    "gwas_coloc = pd.concat(cluster_colocs, ignore_index=True)\n",
    "\n",
    "# Print the combined DataFrame\n",
    "gwas_coloc.head()"
   ]
  },
  {
   "cell_type": "code",
   "execution_count": 250,
   "metadata": {},
   "outputs": [
    {
     "data": {
      "text/html": [
       "<div>\n",
       "<style scoped>\n",
       "    .dataframe tbody tr th:only-of-type {\n",
       "        vertical-align: middle;\n",
       "    }\n",
       "\n",
       "    .dataframe tbody tr th {\n",
       "        vertical-align: top;\n",
       "    }\n",
       "\n",
       "    .dataframe thead th {\n",
       "        text-align: right;\n",
       "    }\n",
       "</style>\n",
       "<table border=\"1\" class=\"dataframe\">\n",
       "  <thead>\n",
       "    <tr style=\"text-align: right;\">\n",
       "      <th></th>\n",
       "      <th>nsnps</th>\n",
       "      <th>hit1</th>\n",
       "      <th>hit2</th>\n",
       "      <th>PP.H0.abf</th>\n",
       "      <th>PP.H1.abf</th>\n",
       "      <th>PP.H2.abf</th>\n",
       "      <th>PP.H3.abf</th>\n",
       "      <th>PP.H4.abf</th>\n",
       "      <th>idx1</th>\n",
       "      <th>idx2</th>\n",
       "      <th>qtl1_id</th>\n",
       "      <th>qtl2_id</th>\n",
       "      <th>tissue_id</th>\n",
       "      <th>idx1.1</th>\n",
       "      <th>qtl_id</th>\n",
       "      <th>gwas_id</th>\n",
       "    </tr>\n",
       "  </thead>\n",
       "  <tbody>\n",
       "    <tr>\n",
       "      <th>0</th>\n",
       "      <td>217</td>\n",
       "      <td>chr21_5097921_C_T_b38</td>\n",
       "      <td>chr21_5089937_T_C_b38</td>\n",
       "      <td>1.758209e-31</td>\n",
       "      <td>2.723828e-02</td>\n",
       "      <td>6.277450e-30</td>\n",
       "      <td>0.972506</td>\n",
       "      <td>0.000256</td>\n",
       "      <td>1</td>\n",
       "      <td>2.0</td>\n",
       "      <td>ENSG00000275464.4_ENSG00000280071.3_ENSG000002...</td>\n",
       "      <td>ENSG00000275464.4_ENSG00000280071.3_ENSG000002...</td>\n",
       "      <td>Skin_Not_Sun_Exposed_Suprapubic</td>\n",
       "      <td>NaN</td>\n",
       "      <td>ENSG00000275464.4_ENSG00000280071.3_ENSG000002...</td>\n",
       "      <td>UKB_1160_Sleep_duration</td>\n",
       "    </tr>\n",
       "    <tr>\n",
       "      <th>1</th>\n",
       "      <td>217</td>\n",
       "      <td>chr21_5089937_T_C_b38</td>\n",
       "      <td>chr21_5089937_T_C_b38</td>\n",
       "      <td>6.663639e-06</td>\n",
       "      <td>5.606860e-05</td>\n",
       "      <td>2.379163e-04</td>\n",
       "      <td>0.000002</td>\n",
       "      <td>0.999697</td>\n",
       "      <td>2</td>\n",
       "      <td>2.0</td>\n",
       "      <td>ENSG00000275464.4_ENSG00000280071.3_ENSG000002...</td>\n",
       "      <td>ENSG00000275464.4_ENSG00000280071.3_ENSG000002...</td>\n",
       "      <td>Skin_Not_Sun_Exposed_Suprapubic</td>\n",
       "      <td>NaN</td>\n",
       "      <td>ENSG00000275464.4_ENSG00000280071.3_ENSG000002...</td>\n",
       "      <td>UKB_1180_Morning_or_evening_person_chronotype</td>\n",
       "    </tr>\n",
       "    <tr>\n",
       "      <th>2</th>\n",
       "      <td>217</td>\n",
       "      <td>chr21_5097921_C_T_b38</td>\n",
       "      <td>chr21_5097921_C_T_b38</td>\n",
       "      <td>9.328045e-58</td>\n",
       "      <td>1.445106e-28</td>\n",
       "      <td>1.406098e-32</td>\n",
       "      <td>0.000179</td>\n",
       "      <td>0.999821</td>\n",
       "      <td>1</td>\n",
       "      <td>1.0</td>\n",
       "      <td>ENSG00000275464.4_ENSG00000280071.3_ENSG000002...</td>\n",
       "      <td>ENSG00000275464.4_ENSG00000280071.3_ENSG000002...</td>\n",
       "      <td>Skin_Not_Sun_Exposed_Suprapubic</td>\n",
       "      <td>NaN</td>\n",
       "      <td>ENSG00000275464.4_ENSG00000280071.3_ENSG000002...</td>\n",
       "      <td>UKB_1160_Sleep_duration</td>\n",
       "    </tr>\n",
       "    <tr>\n",
       "      <th>3</th>\n",
       "      <td>217</td>\n",
       "      <td>chr21_5089937_T_C_b38</td>\n",
       "      <td>chr21_5097921_C_T_b38</td>\n",
       "      <td>7.039426e-27</td>\n",
       "      <td>5.923051e-26</td>\n",
       "      <td>1.061114e-01</td>\n",
       "      <td>0.892831</td>\n",
       "      <td>0.001057</td>\n",
       "      <td>2</td>\n",
       "      <td>1.0</td>\n",
       "      <td>ENSG00000275464.4_ENSG00000280071.3_ENSG000002...</td>\n",
       "      <td>ENSG00000275464.4_ENSG00000280071.3_ENSG000002...</td>\n",
       "      <td>Skin_Not_Sun_Exposed_Suprapubic</td>\n",
       "      <td>NaN</td>\n",
       "      <td>ENSG00000275464.4_ENSG00000280071.3_ENSG000002...</td>\n",
       "      <td>UKB_20002_1094_self_reported_deep_venous_throm...</td>\n",
       "    </tr>\n",
       "    <tr>\n",
       "      <th>4</th>\n",
       "      <td>217</td>\n",
       "      <td>chr21_5097921_C_T_b38</td>\n",
       "      <td>chr21_5097921_C_T_b38</td>\n",
       "      <td>1.553989e-43</td>\n",
       "      <td>2.407449e-14</td>\n",
       "      <td>1.331259e-32</td>\n",
       "      <td>0.000063</td>\n",
       "      <td>0.999937</td>\n",
       "      <td>1</td>\n",
       "      <td>1.0</td>\n",
       "      <td>ENSG00000275464.4_ENSG00000280071.3_ENSG000002...</td>\n",
       "      <td>ENSG00000275464.4_ENSG00000280071.3_ENSG000002...</td>\n",
       "      <td>Skin_Not_Sun_Exposed_Suprapubic</td>\n",
       "      <td>NaN</td>\n",
       "      <td>ENSG00000275464.4_ENSG00000280071.3_ENSG000002...</td>\n",
       "      <td>UKB_1200_Sleeplessness_or_insomnia</td>\n",
       "    </tr>\n",
       "  </tbody>\n",
       "</table>\n",
       "</div>"
      ],
      "text/plain": [
       "  nsnps                   hit1                   hit2     PP.H0.abf  \\\n",
       "0   217  chr21_5097921_C_T_b38  chr21_5089937_T_C_b38  1.758209e-31   \n",
       "1   217  chr21_5089937_T_C_b38  chr21_5089937_T_C_b38  6.663639e-06   \n",
       "2   217  chr21_5097921_C_T_b38  chr21_5097921_C_T_b38  9.328045e-58   \n",
       "3   217  chr21_5089937_T_C_b38  chr21_5097921_C_T_b38  7.039426e-27   \n",
       "4   217  chr21_5097921_C_T_b38  chr21_5097921_C_T_b38  1.553989e-43   \n",
       "\n",
       "      PP.H1.abf     PP.H2.abf  PP.H3.abf  PP.H4.abf idx1  idx2  \\\n",
       "0  2.723828e-02  6.277450e-30   0.972506   0.000256    1   2.0   \n",
       "1  5.606860e-05  2.379163e-04   0.000002   0.999697    2   2.0   \n",
       "2  1.445106e-28  1.406098e-32   0.000179   0.999821    1   1.0   \n",
       "3  5.923051e-26  1.061114e-01   0.892831   0.001057    2   1.0   \n",
       "4  2.407449e-14  1.331259e-32   0.000063   0.999937    1   1.0   \n",
       "\n",
       "                                             qtl1_id  \\\n",
       "0  ENSG00000275464.4_ENSG00000280071.3_ENSG000002...   \n",
       "1  ENSG00000275464.4_ENSG00000280071.3_ENSG000002...   \n",
       "2  ENSG00000275464.4_ENSG00000280071.3_ENSG000002...   \n",
       "3  ENSG00000275464.4_ENSG00000280071.3_ENSG000002...   \n",
       "4  ENSG00000275464.4_ENSG00000280071.3_ENSG000002...   \n",
       "\n",
       "                                             qtl2_id  \\\n",
       "0  ENSG00000275464.4_ENSG00000280071.3_ENSG000002...   \n",
       "1  ENSG00000275464.4_ENSG00000280071.3_ENSG000002...   \n",
       "2  ENSG00000275464.4_ENSG00000280071.3_ENSG000002...   \n",
       "3  ENSG00000275464.4_ENSG00000280071.3_ENSG000002...   \n",
       "4  ENSG00000275464.4_ENSG00000280071.3_ENSG000002...   \n",
       "\n",
       "                         tissue_id idx1.1  \\\n",
       "0  Skin_Not_Sun_Exposed_Suprapubic    NaN   \n",
       "1  Skin_Not_Sun_Exposed_Suprapubic    NaN   \n",
       "2  Skin_Not_Sun_Exposed_Suprapubic    NaN   \n",
       "3  Skin_Not_Sun_Exposed_Suprapubic    NaN   \n",
       "4  Skin_Not_Sun_Exposed_Suprapubic    NaN   \n",
       "\n",
       "                                              qtl_id  \\\n",
       "0  ENSG00000275464.4_ENSG00000280071.3_ENSG000002...   \n",
       "1  ENSG00000275464.4_ENSG00000280071.3_ENSG000002...   \n",
       "2  ENSG00000275464.4_ENSG00000280071.3_ENSG000002...   \n",
       "3  ENSG00000275464.4_ENSG00000280071.3_ENSG000002...   \n",
       "4  ENSG00000275464.4_ENSG00000280071.3_ENSG000002...   \n",
       "\n",
       "                                             gwas_id  \n",
       "0                            UKB_1160_Sleep_duration  \n",
       "1      UKB_1180_Morning_or_evening_person_chronotype  \n",
       "2                            UKB_1160_Sleep_duration  \n",
       "3  UKB_20002_1094_self_reported_deep_venous_throm...  \n",
       "4                 UKB_1200_Sleeplessness_or_insomnia  "
      ]
     },
     "execution_count": 250,
     "metadata": {},
     "output_type": "execute_result"
    }
   ],
   "source": [
    "# make some fake data\n",
    "# use the qtl coloc for the outline\n",
    "\n",
    "\n",
    "# Function to recursively get list of files ending with .qtl_coloc.txt\n",
    "def get_files(directory):\n",
    "    file_list = []\n",
    "    for root, directories, files in os.walk(directory):\n",
    "        for file in files:\n",
    "            if file.endswith(\".qtl_coloc.txt\"):\n",
    "                file_list.append(os.path.join(root, file))\n",
    "    return file_list\n",
    "\n",
    "# Get the list of files\n",
    "coloc_file_list = get_files(config['coloc_output_dir'])\n",
    "\n",
    "# Load each file into a DataFrame and concatenate them\n",
    "cluster_colocs = []\n",
    "for cluster_file in coloc_file_list:\n",
    "    cluster_coloc = pd.read_csv(cluster_file, sep='\\t')  # Assuming tab-separated file\n",
    "    tissue_id = cluster_file.split('/')[3]\n",
    "    cluster_coloc['tissue_id'] = tissue_id\n",
    "    cluster_colocs.append(cluster_coloc)\n",
    "\n",
    "# Concatenate all DataFrames into a single DataFrame\n",
    "fake_gwas_coloc = pd.concat(cluster_colocs, ignore_index=True)\n",
    "\n",
    "\n",
    "# add some fake columns\n",
    "gwas_meta = pd.read_csv(config['gwas_meta'], sep='\\t')\n",
    "gwas_meta = gwas_meta.iloc[:5] # subsample to make overlaps more likely\n",
    "gwas_meta.head()\n",
    "fake_gwas_coloc['qtl_id'] = fake_gwas_coloc['qtl1_id']\n",
    "fake_gwas_coloc['gwas_id'] = gwas_meta['Tag'].sample(len(fake_gwas_coloc), replace=True).values\n",
    "\n",
    "# Print the combined DataFrame\n",
    "fake_gwas_coloc.head()"
   ]
  },
  {
   "cell_type": "code",
   "execution_count": 251,
   "metadata": {},
   "outputs": [],
   "source": [
    "gwas_coloc = fake_gwas_coloc"
   ]
  },
  {
   "cell_type": "markdown",
   "metadata": {},
   "source": [
    "first look just at the number of hits, not trying to overlap pc and eqtls "
   ]
  },
  {
   "cell_type": "code",
   "execution_count": 252,
   "metadata": {},
   "outputs": [],
   "source": [
    "# make ids for each credible set in the qtl and gwas\n",
    "gwas_coloc['gwas_cs_id'] = gwas_coloc['gwas_id'] + '_' + gwas_coloc['hit1']\n",
    "gwas_coloc['qtl_cs_id'] = gwas_coloc['qtl_id'] + '_' + gwas_coloc['hit2'].astype(str)"
   ]
  },
  {
   "cell_type": "code",
   "execution_count": 253,
   "metadata": {},
   "outputs": [
    {
     "name": "stdout",
     "output_type": "stream",
     "text": [
      "number pcqtls total (could overlap): 19\n",
      "number eqtls total (could overlap):184\n"
     ]
    }
   ],
   "source": [
    "# count number of e and pc hits\n",
    "gwas_coloc_hits = gwas_coloc[gwas_coloc['PP.H4.abf'] > .75]\n",
    "print('number pcqtls total (could overlap): {}'.format(sum(gwas_coloc_hits['qtl_cs_id'].str.contains('_pc'))))\n",
    "print('number eqtls total (could overlap):{}'.format(sum(gwas_coloc_hits['qtl_cs_id'].str.contains('_e'))))"
   ]
  },
  {
   "cell_type": "code",
   "execution_count": 254,
   "metadata": {},
   "outputs": [
    {
     "name": "stderr",
     "output_type": "stream",
     "text": [
      "/local/scratch/klawren/slrmtmp.45067152/ipykernel_55900/3991213286.py:1: SettingWithCopyWarning: \n",
      "A value is trying to be set on a copy of a slice from a DataFrame.\n",
      "Try using .loc[row_indexer,col_indexer] = value instead\n",
      "\n",
      "See the caveats in the documentation: https://pandas.pydata.org/pandas-docs/stable/user_guide/indexing.html#returning-a-view-versus-a-copy\n",
      "  gwas_coloc_hits['type'] = np.where(gwas_coloc_hits['qtl_cs_id'].str.contains('_pc'), 'pcqtl', 'eqtl')\n"
     ]
    },
    {
     "data": {
      "text/plain": [
       "<AxesSubplot: xlabel='Count', ylabel='tissue_id'>"
      ]
     },
     "execution_count": 254,
     "metadata": {},
     "output_type": "execute_result"
    },
    {
     "data": {
      "image/png": "[encoded data removed]",
      "text/plain": [
       "<Figure size 640x480 with 1 Axes>"
      ]
     },
     "metadata": {},
     "output_type": "display_data"
    }
   ],
   "source": [
    "gwas_coloc_hits['type'] = np.where(gwas_coloc_hits['qtl_cs_id'].str.contains('_pc'), 'pcqtl', 'eqtl')\n",
    "sns.histplot(gwas_coloc_hits, hue='type', y='tissue_id', multiple='dodge')"
   ]
  },
  {
   "cell_type": "code",
   "execution_count": 255,
   "metadata": {},
   "outputs": [
    {
     "data": {
      "text/html": [
       "<div>\n",
       "<style scoped>\n",
       "    .dataframe tbody tr th:only-of-type {\n",
       "        vertical-align: middle;\n",
       "    }\n",
       "\n",
       "    .dataframe tbody tr th {\n",
       "        vertical-align: top;\n",
       "    }\n",
       "\n",
       "    .dataframe thead th {\n",
       "        text-align: right;\n",
       "    }\n",
       "</style>\n",
       "<table border=\"1\" class=\"dataframe\">\n",
       "  <thead>\n",
       "    <tr style=\"text-align: right;\">\n",
       "      <th></th>\n",
       "      <th>qtl_cs_id</th>\n",
       "      <th>num_e</th>\n",
       "      <th>num_pc</th>\n",
       "      <th>num_colocs</th>\n",
       "    </tr>\n",
       "    <tr>\n",
       "      <th>tissue_id</th>\n",
       "      <th></th>\n",
       "      <th></th>\n",
       "      <th></th>\n",
       "      <th></th>\n",
       "    </tr>\n",
       "  </thead>\n",
       "  <tbody>\n",
       "    <tr>\n",
       "      <th>Adipose_Subcutaneous</th>\n",
       "      <td>[ENSG00000142798.17_ENSG00000187942.11_e_ENSG0...</td>\n",
       "      <td>7</td>\n",
       "      <td>0</td>\n",
       "      <td>7</td>\n",
       "    </tr>\n",
       "    <tr>\n",
       "      <th>Adipose_Visceral_Omentum</th>\n",
       "      <td>[ENSG00000101448.13_ENSG00000243543.8_e_ENSG00...</td>\n",
       "      <td>52</td>\n",
       "      <td>12</td>\n",
       "      <td>64</td>\n",
       "    </tr>\n",
       "    <tr>\n",
       "      <th>Lung</th>\n",
       "      <td>[ENSG00000275464.4_ENSG00000280071.3_ENSG00000...</td>\n",
       "      <td>26</td>\n",
       "      <td>3</td>\n",
       "      <td>29</td>\n",
       "    </tr>\n",
       "    <tr>\n",
       "      <th>Skin_Not_Sun_Exposed_Suprapubic</th>\n",
       "      <td>[ENSG00000275464.4_ENSG00000280071.3_ENSG00000...</td>\n",
       "      <td>6</td>\n",
       "      <td>0</td>\n",
       "      <td>6</td>\n",
       "    </tr>\n",
       "    <tr>\n",
       "      <th>Thyroid</th>\n",
       "      <td>[ENSG00000019485.13_ENSG00000019505.7_e_ENSG00...</td>\n",
       "      <td>15</td>\n",
       "      <td>4</td>\n",
       "      <td>19</td>\n",
       "    </tr>\n",
       "  </tbody>\n",
       "</table>\n",
       "</div>"
      ],
      "text/plain": [
       "                                                                         qtl_cs_id  \\\n",
       "tissue_id                                                                            \n",
       "Adipose_Subcutaneous             [ENSG00000142798.17_ENSG00000187942.11_e_ENSG0...   \n",
       "Adipose_Visceral_Omentum         [ENSG00000101448.13_ENSG00000243543.8_e_ENSG00...   \n",
       "Lung                             [ENSG00000275464.4_ENSG00000280071.3_ENSG00000...   \n",
       "Skin_Not_Sun_Exposed_Suprapubic  [ENSG00000275464.4_ENSG00000280071.3_ENSG00000...   \n",
       "Thyroid                          [ENSG00000019485.13_ENSG00000019505.7_e_ENSG00...   \n",
       "\n",
       "                                 num_e  num_pc  num_colocs  \n",
       "tissue_id                                                   \n",
       "Adipose_Subcutaneous                 7       0           7  \n",
       "Adipose_Visceral_Omentum            52      12          64  \n",
       "Lung                                26       3          29  \n",
       "Skin_Not_Sun_Exposed_Suprapubic      6       0           6  \n",
       "Thyroid                             15       4          19  "
      ]
     },
     "execution_count": 255,
     "metadata": {},
     "output_type": "execute_result"
    }
   ],
   "source": [
    "gwas_coloc_counts = gwas_coloc_hits.groupby('tissue_id').agg({'qtl_cs_id':'unique'})\n",
    "gwas_coloc_counts['num_e'] = gwas_coloc_counts['qtl_cs_id'].astype(str).str.count('_e')\n",
    "gwas_coloc_counts['num_pc'] = gwas_coloc_counts['qtl_cs_id'].astype(str).str.count('_pc')\n",
    "gwas_coloc_counts['num_colocs'] = gwas_coloc_counts['num_e'] + gwas_coloc_counts['num_pc']\n",
    "\n",
    "gwas_coloc_counts"
   ]
  },
  {
   "cell_type": "code",
   "execution_count": 256,
   "metadata": {},
   "outputs": [
    {
     "name": "stderr",
     "output_type": "stream",
     "text": [
      "/local/scratch/klawren/slrmtmp.45067152/ipykernel_55900/1038350952.py:8: UserWarning: The palette list has more values (13) than needed (5), which may not be intended.\n",
      "  ax = sns.barplot(gwas_coloc_counts, x='num_colocs', hue='tissue_id', y='tissue_id', palette=tissue_pal, saturation=1, edgecolor='k', width=.85, ax=ax)\n",
      "/local/scratch/klawren/slrmtmp.45067152/ipykernel_55900/1038350952.py:16: UserWarning: FixedFormatter should only be used together with FixedLocator\n",
      "  ax.set_yticklabels(tissue_labels)\n"
     ]
    },
    {
     "data": {
      "image/png": "[encoded data removed]",
      "text/plain": [
       "<Figure size 300x500 with 1 Axes>"
      ]
     },
     "metadata": {},
     "output_type": "display_data"
    }
   ],
   "source": [
    "# make a simple plot with total colocs in each tissue (the signals could overlap)\n",
    "tissue_pal = sns.color_palette('blend:#B83A4B,#FEC51D,#67AFD2', n_colors=len(tissue_ids))\n",
    "\n",
    "\n",
    "# plot showing number of clusters in each tissue\n",
    "\n",
    "fig, ax = plt.subplots(figsize=(3,5))\n",
    "ax = sns.barplot(gwas_coloc_counts, x='num_colocs', hue='tissue_id', y='tissue_id', palette=tissue_pal, saturation=1, edgecolor='k', width=.85, ax=ax)\n",
    "\n",
    "ax.spines['top'].set_visible(False)\n",
    "ax.spines['right'].set_visible(False)\n",
    "\n",
    "# Replace underscores with spaces in the tissue labels\n",
    "tissue_labels = ax.get_yticklabels()\n",
    "tissue_labels = [tissue_label.get_text().replace('_', ' ') for tissue_label in tissue_labels]\n",
    "ax.set_yticklabels(tissue_labels)\n",
    "\n",
    "ax.set_xlabel('Number of colocalized qtls\\n (with any gwas)')\n",
    "ax.set_ylabel('')\n",
    "\n",
    "plt.show()"
   ]
  },
  {
   "cell_type": "code",
   "execution_count": 257,
   "metadata": {},
   "outputs": [
    {
     "data": {
      "text/plain": [
       "<AxesSubplot: xlabel='num_gwas', ylabel='Count'>"
      ]
     },
     "execution_count": 257,
     "metadata": {},
     "output_type": "execute_result"
    },
    {
     "data": {
      "image/png": "[encoded data removed]",
      "text/plain": [
       "<Figure size 640x480 with 1 Axes>"
      ]
     },
     "metadata": {},
     "output_type": "display_data"
    }
   ],
   "source": [
    "# number of gwas hits per qtl\n",
    "gwas_grouped_colocs = gwas_coloc_hits.groupby('qtl_cs_id').agg({'gwas_cs_id':'unique', \n",
    "                                                             'type':'first'})\n",
    "gwas_grouped_colocs['num_gwas'] = gwas_grouped_colocs['gwas_cs_id'].apply(len)\n",
    "sns.histplot(gwas_grouped_colocs, x='num_gwas', hue='type', multiple='stack')"
   ]
  },
  {
   "cell_type": "markdown",
   "metadata": {},
   "source": [
    "if there are a lot of high numbers in the above plot, I may need to rethink not combining over gwas loci in some way below. currently if a an eqtl loci colocs with 3 loci, that counts for 3 colocs in the below plots"
   ]
  },
  {
   "cell_type": "markdown",
   "metadata": {},
   "source": [
    "now combine around gwas signals - does each one colocalize to a pcqtl, an eqtl, or multiple pcqtls?"
   ]
  },
  {
   "cell_type": "code",
   "execution_count": 258,
   "metadata": {},
   "outputs": [],
   "source": [
    "# group by qtl signal\n",
    "gwas_coloc_overlap = gwas_coloc_hits.groupby(['gwas_cs_id', 'tissue_id']).agg({'qtl_cs_id':'unique'})\n",
    "\n",
    "# count things\n",
    "gwas_coloc_overlap['num_hits'] = gwas_coloc_overlap['qtl_cs_id'].apply(len)\n",
    "gwas_coloc_overlap['num_eqtl'] = gwas_coloc_overlap['qtl_cs_id'].astype(str).str.count('_e')\n",
    "gwas_coloc_overlap['num_pcqtl'] = gwas_coloc_overlap['qtl_cs_id'].astype(str).str.count('_pc')\n",
    "gwas_coloc_overlap['hit_type'] = np.where(gwas_coloc_overlap['num_eqtl']>0, np.where(gwas_coloc_overlap['num_pcqtl']>0, 'both', 'eqtl_only'), \n",
    "                                          np.where(gwas_coloc_overlap['num_pcqtl']>0, 'pcqtl_only', 'neither??'))"
   ]
  },
  {
   "cell_type": "code",
   "execution_count": 259,
   "metadata": {},
   "outputs": [
    {
     "name": "stderr",
     "output_type": "stream",
     "text": [
      "/local/scratch/klawren/slrmtmp.45067152/ipykernel_55900/3260416558.py:14: UserWarning: FixedFormatter should only be used together with FixedLocator\n",
      "  ax.set_yticklabels(tissue_labels)\n"
     ]
    },
    {
     "data": {
      "text/plain": [
       "Text(0.5, 0, 'Number of colocalized QTLs (each gwas counts seperately)')"
      ]
     },
     "execution_count": 259,
     "metadata": {},
     "output_type": "execute_result"
    },
    {
     "data": {
      "image/png": "[encoded data removed]",
      "text/plain": [
       "<Figure size 640x480 with 1 Axes>"
      ]
     },
     "metadata": {},
     "output_type": "display_data"
    }
   ],
   "source": [
    "# histogram with gtle type\n",
    "\n",
    "ax = sns.histplot(gwas_coloc_overlap, y='tissue_id', hue='hit_type', multiple='stack', \n",
    "             hue_order=['pcqtl_only','eqtl_only', 'both'], \n",
    "             palette=('#B83A4B', '#016895', '#67AFD2'), \n",
    "             shrink=.9)\n",
    "\n",
    "ax.spines['top'].set_visible(False)\n",
    "ax.spines['right'].set_visible(False)\n",
    "\n",
    "# Replace underscores with spaces in the tissue labels\n",
    "tissue_labels = ax.get_yticklabels()\n",
    "tissue_labels = [tissue_label.get_text().replace('_', ' ') for tissue_label in tissue_labels]\n",
    "ax.set_yticklabels(tissue_labels)\n",
    "\n",
    "ax.set_xlabel('Number of colocalized QTLs (each gwas counts seperately)')\n"
   ]
  },
  {
   "cell_type": "code",
   "execution_count": 260,
   "metadata": {},
   "outputs": [
    {
     "data": {
      "image/png": "[encoded data removed]",
      "text/plain": [
       "<Figure size 800x600 with 4 Axes>"
      ]
     },
     "metadata": {},
     "output_type": "display_data"
    }
   ],
   "source": [
    "# make indicator columns \n",
    "gwas_coloc_overlap['pcQTL'] = gwas_coloc_overlap['num_pcqtl'] > 0\n",
    "gwas_coloc_overlap['eQTL'] = gwas_coloc_overlap['num_eqtl'] > 0\n",
    "\n",
    "# multiple egenes\n",
    "gwas_coloc_overlap['multiple_e_shared'] = gwas_coloc_overlap['num_eqtl']>1  \n",
    "\n",
    "upset_to_plot = gwas_coloc_overlap.set_index('eQTL').set_index('pcQTL', append=True)\n",
    "\n",
    "upset_to_plot['multiple_e_shared_label'] = np.where(upset_to_plot['multiple_e_shared'], 'multiple eQTL', 'single eQTL')\n",
    "upset_to_plot['multiple_e_shared_label'] = np.where(upset_to_plot['num_eqtl'] > 0, upset_to_plot['multiple_e_shared_label'], 'exclusive pcQTL')\n",
    "\n",
    "fig = plt.figure(figsize=(8, 6))\n",
    "upset = up.UpSet(upset_to_plot, intersection_plot_elements=0,show_counts=False, element_size=None)  # disable the default bar chart\n",
    "upset.add_stacked_bars(by=\"multiple_e_shared_label\", title=\"Count\", elements=8, colors=('#B83A4B', '#016895', '#67AFD2'))\n",
    "\n",
    "params = {\"legend.fontsize\": 10}\n",
    "with plt.rc_context(params):\n",
    "    upset.plot(fig=fig)\n",
    "\n",
    "plt.grid(False)\n",
    "\n",
    "\n",
    "plt.suptitle('GWAS colocalizations')\n",
    "plt.show()"
   ]
  },
  {
   "cell_type": "markdown",
   "metadata": {},
   "source": [
    "now make it  so that each gwas doesn't count seperately"
   ]
  },
  {
   "cell_type": "code",
   "execution_count": 262,
   "metadata": {},
   "outputs": [
    {
     "name": "stderr",
     "output_type": "stream",
     "text": [
      "/local/scratch/klawren/slrmtmp.45067152/ipykernel_55900/1952816446.py:2: SettingWithCopyWarning: \n",
      "A value is trying to be set on a copy of a slice from a DataFrame.\n",
      "Try using .loc[row_indexer,col_indexer] = value instead\n",
      "\n",
      "See the caveats in the documentation: https://pandas.pydata.org/pandas-docs/stable/user_guide/indexing.html#returning-a-view-versus-a-copy\n",
      "  gwas_coloc_hits['gwas_tissue_cs_id'] = gwas_coloc_hits['gwas_cs_id'] + '_' + gwas_coloc_hits['tissue_id']\n",
      "/local/scratch/klawren/slrmtmp.45067152/ipykernel_55900/1952816446.py:3: SettingWithCopyWarning: \n",
      "A value is trying to be set on a copy of a slice from a DataFrame.\n",
      "Try using .loc[row_indexer,col_indexer] = value instead\n",
      "\n",
      "See the caveats in the documentation: https://pandas.pydata.org/pandas-docs/stable/user_guide/indexing.html#returning-a-view-versus-a-copy\n",
      "  gwas_coloc_hits['qtl_tissue_cs_id'] = gwas_coloc_hits['qtl_cs_id'] + '_' + gwas_coloc_hits['tissue_id']\n"
     ]
    }
   ],
   "source": [
    "# something about tissue sharing??\n",
    "gwas_coloc_hits['gwas_tissue_cs_id'] = gwas_coloc_hits['gwas_cs_id'] + '_' + gwas_coloc_hits['tissue_id']\n",
    "gwas_coloc_hits['qtl_tissue_cs_id'] = gwas_coloc_hits['qtl_cs_id'] + '_' + gwas_coloc_hits['tissue_id']\n",
    "\n",
    "qtl_grouped_colocs = gwas_coloc_hits.groupby('qtl_tissue_cs_id').agg({'gwas_tissue_cs_id':'unique'})\n",
    "gwas_grouped_colocs = gwas_coloc_hits.groupby('gwas_tissue_cs_id').agg({'qtl_tissue_cs_id':'unique'})"
   ]
  },
  {
   "cell_type": "code",
   "execution_count": 295,
   "metadata": {},
   "outputs": [
    {
     "name": "stdout",
     "output_type": "stream",
     "text": [
      "30\n",
      "30\n",
      "30\n"
     ]
    }
   ],
   "source": [
    "qtl_sets = []\n",
    "gwas_sets = []\n",
    "for idx, row in gwas_grouped_colocs.iloc[:30].iterrows():\n",
    "    qtl_set = set(row['qtl_tissue_cs_id'].astype(list))\n",
    "    new_qtls = 1\n",
    "    new_gwas = 1\n",
    "    gwas_set = set([idx])\n",
    "    # expand the set to all overlapping qtls and gwas\n",
    "    while ((new_qtls > 0) | (new_gwas > 1)):\n",
    "        gwas_set_old = gwas_set\n",
    "        qtl_set_old = qtl_set\n",
    "        for gwas_cs_id in gwas_set:\n",
    "            qtl_set = set(np.append(list(qtl_set), gwas_grouped_colocs.loc[gwas_cs_id,'qtl_tissue_cs_id']))\n",
    "        new_qtls = len(qtl_set) - len(qtl_set_old)\n",
    "        for qtl_cs_id in qtl_set:\n",
    "            gwas_set = set(np.append(list(gwas_set), qtl_grouped_colocs.loc[qtl_cs_id,'gwas_tissue_cs_id']))\n",
    "        new_gwas = len(gwas_set) - len(gwas_set_old)\n",
    "\n",
    "    qtl_sets.append(set(qtl_set))\n",
    "    gwas_sets.append(set(gwas_set))\n",
    "\n",
    "\n",
    "coloc_sets = pd.DataFrame({'gwas_sets':gwas_sets, \n",
    "              'qtl_sets':qtl_sets})\n",
    "\n",
    "coloc_sets['sorted_gwas_sets'] = coloc_sets['gwas_sets'].apply(lambda x: sorted(list(x))).astype(str)\n",
    "coloc_sets['sorted_qtl_sets'] = coloc_sets['qtl_sets'].apply(lambda x: sorted(list(x))).astype(str)\n",
    "\n",
    "# these should all be the same\n",
    "print(len(coloc_sets))\n",
    "print(len(coloc_sets['sorted_gwas_sets'].unique()))\n",
    "print(len(coloc_sets['sorted_qtl_sets'].unique()))\n",
    "\n",
    "coloc_sets['num_eqtl'] = coloc_sets['sorted_qtl_sets'].str.count('_e')\n",
    "coloc_sets['num_pcqtl'] = coloc_sets['sorted_qtl_sets'].str.count('_pc')\n"
   ]
  },
  {
   "cell_type": "code",
   "execution_count": 304,
   "metadata": {},
   "outputs": [],
   "source": [
    "def get_tissue_ids(signal_set):\n",
    "    tissue_ids = []\n",
    "    for signal_id in signal_set:\n",
    "        tissue_ids.append(signal_id.split('_b38_')[-1])\n",
    "    return list(set(tissue_ids))\n",
    "\n",
    "def get_pheno_ids(signal_set):\n",
    "    tissue_ids = []\n",
    "    for signal_id in signal_set:\n",
    "        tissue_ids.append(signal_id.split('_chr')[0])\n",
    "    return list(set(tissue_ids))"
   ]
  },
  {
   "cell_type": "code",
   "execution_count": 312,
   "metadata": {},
   "outputs": [
    {
     "data": {
      "image/png": "[encoded data removed]",
      "text/plain": [
       "<Figure size 800x600 with 4 Axes>"
      ]
     },
     "metadata": {},
     "output_type": "display_data"
    }
   ],
   "source": [
    "# make indicator columns \n",
    "coloc_sets['pcQTL'] = coloc_sets['num_pcqtl'] > 0\n",
    "coloc_sets['eQTL'] = coloc_sets['num_eqtl'] > 0\n",
    "\n",
    "# multiple egenes\n",
    "coloc_sets['multiple_e_shared'] = coloc_sets['num_eqtl']>1  \n",
    "\n",
    "upset_to_plot = coloc_sets.set_index('eQTL').set_index('pcQTL', append=True)\n",
    "\n",
    "upset_to_plot['multiple_e_shared_label'] = np.where(upset_to_plot['multiple_e_shared'], 'multiple eQTL', 'single eQTL')\n",
    "upset_to_plot['multiple_e_shared_label'] = np.where(upset_to_plot['num_eqtl'] > 0, upset_to_plot['multiple_e_shared_label'], 'exclusive pcQTL')\n",
    "\n",
    "fig = plt.figure(figsize=(8, 6))\n",
    "upset = up.UpSet(upset_to_plot, intersection_plot_elements=0,show_counts=False, element_size=None)  # disable the default bar chart\n",
    "upset.add_stacked_bars(by=\"multiple_e_shared_label\", title=\"Count\", elements=8, colors=('#B83A4B', '#016895', '#67AFD2'))\n",
    "\n",
    "params = {\"legend.fontsize\": 10}\n",
    "with plt.rc_context(params):\n",
    "    upset.plot(fig=fig)\n",
    "\n",
    "plt.grid(False)\n",
    "\n",
    "\n",
    "plt.suptitle('GWAS colocalizations')\n",
    "plt.show()"
   ]
  },
  {
   "cell_type": "code",
   "execution_count": 315,
   "metadata": {},
   "outputs": [],
   "source": [
    "coloc_sets['qtl_tissues'] = coloc_sets['qtl_sets'].apply(get_tissue_ids)\n",
    "coloc_sets['qtl_clusters'] = coloc_sets['qtl_sets'].apply(get_pheno_ids)\n",
    "coloc_sets['num_clusters'] = coloc_sets['qtl_tissues'].apply(len)\n",
    "coloc_sets['num_qtl_tissues'] = coloc_sets['qtl_clusters'].apply(len)\n",
    "\n",
    "\n",
    "coloc_sets['gwas_tissues'] = coloc_sets['gwas_sets'].apply(get_tissue_ids)\n",
    "coloc_sets['gwas_types'] = coloc_sets['gwas_sets'].apply(get_pheno_ids)\n",
    "coloc_sets['num_gwas_tissues'] = coloc_sets['gwas_tissues'].apply(len)\n",
    "coloc_sets['num_gwas_types'] = coloc_sets['gwas_types'].apply(len)\n",
    "\n",
    "coloc_sets['type'] = np.where(coloc_sets['num_pcqtl']>0, np.where(coloc_sets['num_eqtl']>0, 'both', 'pcqtl_only'), 'eqtl_only')"
   ]
  },
  {
   "cell_type": "code",
   "execution_count": 318,
   "metadata": {},
   "outputs": [
    {
     "data": {
      "text/plain": [
       "<AxesSubplot: xlabel='num_gwas_tissues', ylabel='Count'>"
      ]
     },
     "execution_count": 318,
     "metadata": {},
     "output_type": "execute_result"
    },
    {
     "data": {
      "image/png": "[encoded data removed]",
      "text/plain": [
       "<Figure size 640x480 with 1 Axes>"
      ]
     },
     "metadata": {},
     "output_type": "display_data"
    }
   ],
   "source": [
    "# number of tissues vs signal type\n",
    "sns.histplot(coloc_sets, x='num_gwas_tissues', hue='type', multiple='dodge')\n"
   ]
  },
  {
   "cell_type": "code",
   "execution_count": 319,
   "metadata": {},
   "outputs": [
    {
     "data": {
      "text/plain": [
       "<AxesSubplot: xlabel='num_gwas_types', ylabel='Count'>"
      ]
     },
     "execution_count": 319,
     "metadata": {},
     "output_type": "execute_result"
    },
    {
     "data": {
      "image/png": "[encoded data removed]",
      "text/plain": [
       "<Figure size 640x480 with 1 Axes>"
      ]
     },
     "metadata": {},
     "output_type": "display_data"
    }
   ],
   "source": [
    "sns.histplot(coloc_sets, x='num_gwas_types', hue='type', multiple='dodge')"
   ]
  },
  {
   "cell_type": "code",
   "execution_count": 320,
   "metadata": {},
   "outputs": [
    {
     "data": {
      "text/plain": [
       "<AxesSubplot: xlabel='num_qtl_tissues', ylabel='Count'>"
      ]
     },
     "execution_count": 320,
     "metadata": {},
     "output_type": "execute_result"
    },
    {
     "data": {
      "image/png": "[encoded data removed]",
      "text/plain": [
       "<Figure size 640x480 with 1 Axes>"
      ]
     },
     "metadata": {},
     "output_type": "display_data"
    }
   ],
   "source": [
    "sns.histplot(coloc_sets, x='num_qtl_tissues', hue='type', multiple='dodge')"
   ]
  },
  {
   "cell_type": "code",
   "execution_count": 321,
   "metadata": {},
   "outputs": [
    {
     "data": {
      "text/plain": [
       "<AxesSubplot: xlabel='num_clusters', ylabel='Count'>"
      ]
     },
     "execution_count": 321,
     "metadata": {},
     "output_type": "execute_result"
    },
    {
     "data": {
      "image/png": "[encoded data removed]",
      "text/plain": [
       "<Figure size 640x480 with 1 Axes>"
      ]
     },
     "metadata": {},
     "output_type": "display_data"
    }
   ],
   "source": [
    "# ideally this should be all 1\n",
    "sns.histplot(coloc_sets, x='num_clusters', hue='type', multiple='dodge')"
   ]
  },
  {
   "cell_type": "markdown",
   "metadata": {},
   "source": [
    "why are ther no gwas colocs???"
   ]
  },
  {
   "cell_type": "code",
   "execution_count": 242,
   "metadata": {},
   "outputs": [],
   "source": [
    "gwas = pd.read_csv('/oak/stanford/groups/smontgom/shared/gwas_summary_stats/barbeira_gtex_imputed/imputed_gwas_hg38_1.1/imputed_UKB_G43_Diagnoses_main_ICD10_G43_Migraine.txt.gz', sep='\\t')"
   ]
  },
  {
   "cell_type": "code",
   "execution_count": 243,
   "metadata": {},
   "outputs": [
    {
     "data": {
      "text/html": [
       "<div>\n",
       "<style scoped>\n",
       "    .dataframe tbody tr th:only-of-type {\n",
       "        vertical-align: middle;\n",
       "    }\n",
       "\n",
       "    .dataframe tbody tr th {\n",
       "        vertical-align: top;\n",
       "    }\n",
       "\n",
       "    .dataframe thead th {\n",
       "        text-align: right;\n",
       "    }\n",
       "</style>\n",
       "<table border=\"1\" class=\"dataframe\">\n",
       "  <thead>\n",
       "    <tr style=\"text-align: right;\">\n",
       "      <th></th>\n",
       "      <th>variant_id</th>\n",
       "      <th>panel_variant_id</th>\n",
       "      <th>chromosome</th>\n",
       "      <th>position</th>\n",
       "      <th>effect_allele</th>\n",
       "      <th>non_effect_allele</th>\n",
       "      <th>current_build</th>\n",
       "      <th>frequency</th>\n",
       "      <th>sample_size</th>\n",
       "      <th>zscore</th>\n",
       "      <th>pvalue</th>\n",
       "      <th>effect_size</th>\n",
       "      <th>standard_error</th>\n",
       "      <th>imputation_status</th>\n",
       "      <th>n_cases</th>\n",
       "    </tr>\n",
       "  </thead>\n",
       "  <tbody>\n",
       "    <tr>\n",
       "      <th>759502</th>\n",
       "      <td>rs60403635</td>\n",
       "      <td>chr2_21049906_T_C_b38</td>\n",
       "      <td>chr2</td>\n",
       "      <td>21049906</td>\n",
       "      <td>C</td>\n",
       "      <td>T</td>\n",
       "      <td>hg38</td>\n",
       "      <td>0.038240</td>\n",
       "      <td>337199</td>\n",
       "      <td>5.307184</td>\n",
       "      <td>1.113319e-07</td>\n",
       "      <td>0.001486</td>\n",
       "      <td>0.000280</td>\n",
       "      <td>original</td>\n",
       "      <td>NaN</td>\n",
       "    </tr>\n",
       "    <tr>\n",
       "      <th>759507</th>\n",
       "      <td>rs72902576</td>\n",
       "      <td>chr2_21052608_T_G_b38</td>\n",
       "      <td>chr2</td>\n",
       "      <td>21052608</td>\n",
       "      <td>G</td>\n",
       "      <td>T</td>\n",
       "      <td>hg38</td>\n",
       "      <td>0.038240</td>\n",
       "      <td>337199</td>\n",
       "      <td>5.189077</td>\n",
       "      <td>2.113391e-07</td>\n",
       "      <td>0.001449</td>\n",
       "      <td>0.000279</td>\n",
       "      <td>original</td>\n",
       "      <td>NaN</td>\n",
       "    </tr>\n",
       "    <tr>\n",
       "      <th>759510</th>\n",
       "      <td>rs72902579</td>\n",
       "      <td>chr2_21053136_T_C_b38</td>\n",
       "      <td>chr2</td>\n",
       "      <td>21053136</td>\n",
       "      <td>C</td>\n",
       "      <td>T</td>\n",
       "      <td>hg38</td>\n",
       "      <td>0.038240</td>\n",
       "      <td>337199</td>\n",
       "      <td>5.262462</td>\n",
       "      <td>1.421389e-07</td>\n",
       "      <td>0.001465</td>\n",
       "      <td>0.000278</td>\n",
       "      <td>original</td>\n",
       "      <td>NaN</td>\n",
       "    </tr>\n",
       "    <tr>\n",
       "      <th>759512</th>\n",
       "      <td>rs7567653</td>\n",
       "      <td>chr2_21054090_G_A_b38</td>\n",
       "      <td>chr2</td>\n",
       "      <td>21054090</td>\n",
       "      <td>A</td>\n",
       "      <td>G</td>\n",
       "      <td>hg38</td>\n",
       "      <td>0.039683</td>\n",
       "      <td>337199</td>\n",
       "      <td>4.933178</td>\n",
       "      <td>8.090219e-07</td>\n",
       "      <td>0.001341</td>\n",
       "      <td>0.000272</td>\n",
       "      <td>original</td>\n",
       "      <td>NaN</td>\n",
       "    </tr>\n",
       "    <tr>\n",
       "      <th>2367577</th>\n",
       "      <td>rs150126807</td>\n",
       "      <td>chr4_91297637_G_A_b38</td>\n",
       "      <td>chr4</td>\n",
       "      <td>91297637</td>\n",
       "      <td>A</td>\n",
       "      <td>G</td>\n",
       "      <td>hg38</td>\n",
       "      <td>0.012266</td>\n",
       "      <td>337199</td>\n",
       "      <td>5.502002</td>\n",
       "      <td>3.755032e-08</td>\n",
       "      <td>0.003630</td>\n",
       "      <td>0.000660</td>\n",
       "      <td>original</td>\n",
       "      <td>NaN</td>\n",
       "    </tr>\n",
       "    <tr>\n",
       "      <th>2718889</th>\n",
       "      <td>rs76445261</td>\n",
       "      <td>chr5_5044103_A_T_b38</td>\n",
       "      <td>chr5</td>\n",
       "      <td>5044103</td>\n",
       "      <td>T</td>\n",
       "      <td>A</td>\n",
       "      <td>hg38</td>\n",
       "      <td>0.044733</td>\n",
       "      <td>337199</td>\n",
       "      <td>4.996142</td>\n",
       "      <td>5.848848e-07</td>\n",
       "      <td>NaN</td>\n",
       "      <td>NaN</td>\n",
       "      <td>imputed</td>\n",
       "      <td>NaN</td>\n",
       "    </tr>\n",
       "    <tr>\n",
       "      <th>2836793</th>\n",
       "      <td>rs114021764</td>\n",
       "      <td>chr5_39285960_T_C_b38</td>\n",
       "      <td>chr5</td>\n",
       "      <td>39285960</td>\n",
       "      <td>C</td>\n",
       "      <td>T</td>\n",
       "      <td>hg38</td>\n",
       "      <td>0.029582</td>\n",
       "      <td>337199</td>\n",
       "      <td>5.189594</td>\n",
       "      <td>2.107533e-07</td>\n",
       "      <td>0.001927</td>\n",
       "      <td>0.000371</td>\n",
       "      <td>original</td>\n",
       "      <td>NaN</td>\n",
       "    </tr>\n",
       "    <tr>\n",
       "      <th>4241635</th>\n",
       "      <td>rs151169949</td>\n",
       "      <td>chr7_111196183_T_C_b38</td>\n",
       "      <td>chr7</td>\n",
       "      <td>111196183</td>\n",
       "      <td>C</td>\n",
       "      <td>T</td>\n",
       "      <td>hg38</td>\n",
       "      <td>0.014430</td>\n",
       "      <td>337199</td>\n",
       "      <td>5.488456</td>\n",
       "      <td>4.054617e-08</td>\n",
       "      <td>0.002909</td>\n",
       "      <td>0.000530</td>\n",
       "      <td>original</td>\n",
       "      <td>NaN</td>\n",
       "    </tr>\n",
       "    <tr>\n",
       "      <th>5638440</th>\n",
       "      <td>rs138287815</td>\n",
       "      <td>chr10_112759579_A_C_b38</td>\n",
       "      <td>chr10</td>\n",
       "      <td>112759579</td>\n",
       "      <td>C</td>\n",
       "      <td>A</td>\n",
       "      <td>hg38</td>\n",
       "      <td>0.012987</td>\n",
       "      <td>337199</td>\n",
       "      <td>5.065878</td>\n",
       "      <td>4.065214e-07</td>\n",
       "      <td>0.003253</td>\n",
       "      <td>0.000642</td>\n",
       "      <td>original</td>\n",
       "      <td>NaN</td>\n",
       "    </tr>\n",
       "    <tr>\n",
       "      <th>5638443</th>\n",
       "      <td>rs137914724</td>\n",
       "      <td>chr10_112760403_G_C_b38</td>\n",
       "      <td>chr10</td>\n",
       "      <td>112760403</td>\n",
       "      <td>C</td>\n",
       "      <td>G</td>\n",
       "      <td>hg38</td>\n",
       "      <td>0.012987</td>\n",
       "      <td>337199</td>\n",
       "      <td>5.038011</td>\n",
       "      <td>4.703942e-07</td>\n",
       "      <td>NaN</td>\n",
       "      <td>NaN</td>\n",
       "      <td>imputed</td>\n",
       "      <td>NaN</td>\n",
       "    </tr>\n",
       "    <tr>\n",
       "      <th>6083509</th>\n",
       "      <td>rs78044862</td>\n",
       "      <td>chr11_113419140_A_G_b38</td>\n",
       "      <td>chr11</td>\n",
       "      <td>113419140</td>\n",
       "      <td>G</td>\n",
       "      <td>A</td>\n",
       "      <td>hg38</td>\n",
       "      <td>0.091631</td>\n",
       "      <td>337199</td>\n",
       "      <td>5.244403</td>\n",
       "      <td>1.567893e-07</td>\n",
       "      <td>0.001131</td>\n",
       "      <td>0.000216</td>\n",
       "      <td>original</td>\n",
       "      <td>NaN</td>\n",
       "    </tr>\n",
       "  </tbody>\n",
       "</table>\n",
       "</div>"
      ],
      "text/plain": [
       "          variant_id         panel_variant_id chromosome   position  \\\n",
       "759502    rs60403635    chr2_21049906_T_C_b38       chr2   21049906   \n",
       "759507    rs72902576    chr2_21052608_T_G_b38       chr2   21052608   \n",
       "759510    rs72902579    chr2_21053136_T_C_b38       chr2   21053136   \n",
       "759512     rs7567653    chr2_21054090_G_A_b38       chr2   21054090   \n",
       "2367577  rs150126807    chr4_91297637_G_A_b38       chr4   91297637   \n",
       "2718889   rs76445261     chr5_5044103_A_T_b38       chr5    5044103   \n",
       "2836793  rs114021764    chr5_39285960_T_C_b38       chr5   39285960   \n",
       "4241635  rs151169949   chr7_111196183_T_C_b38       chr7  111196183   \n",
       "5638440  rs138287815  chr10_112759579_A_C_b38      chr10  112759579   \n",
       "5638443  rs137914724  chr10_112760403_G_C_b38      chr10  112760403   \n",
       "6083509   rs78044862  chr11_113419140_A_G_b38      chr11  113419140   \n",
       "\n",
       "        effect_allele non_effect_allele current_build  frequency  sample_size  \\\n",
       "759502              C                 T          hg38   0.038240       337199   \n",
       "759507              G                 T          hg38   0.038240       337199   \n",
       "759510              C                 T          hg38   0.038240       337199   \n",
       "759512              A                 G          hg38   0.039683       337199   \n",
       "2367577             A                 G          hg38   0.012266       337199   \n",
       "2718889             T                 A          hg38   0.044733       337199   \n",
       "2836793             C                 T          hg38   0.029582       337199   \n",
       "4241635             C                 T          hg38   0.014430       337199   \n",
       "5638440             C                 A          hg38   0.012987       337199   \n",
       "5638443             C                 G          hg38   0.012987       337199   \n",
       "6083509             G                 A          hg38   0.091631       337199   \n",
       "\n",
       "           zscore        pvalue  effect_size  standard_error  \\\n",
       "759502   5.307184  1.113319e-07     0.001486        0.000280   \n",
       "759507   5.189077  2.113391e-07     0.001449        0.000279   \n",
       "759510   5.262462  1.421389e-07     0.001465        0.000278   \n",
       "759512   4.933178  8.090219e-07     0.001341        0.000272   \n",
       "2367577  5.502002  3.755032e-08     0.003630        0.000660   \n",
       "2718889  4.996142  5.848848e-07          NaN             NaN   \n",
       "2836793  5.189594  2.107533e-07     0.001927        0.000371   \n",
       "4241635  5.488456  4.054617e-08     0.002909        0.000530   \n",
       "5638440  5.065878  4.065214e-07     0.003253        0.000642   \n",
       "5638443  5.038011  4.703942e-07          NaN             NaN   \n",
       "6083509  5.244403  1.567893e-07     0.001131        0.000216   \n",
       "\n",
       "        imputation_status  n_cases  \n",
       "759502           original      NaN  \n",
       "759507           original      NaN  \n",
       "759510           original      NaN  \n",
       "759512           original      NaN  \n",
       "2367577          original      NaN  \n",
       "2718889           imputed      NaN  \n",
       "2836793          original      NaN  \n",
       "4241635          original      NaN  \n",
       "5638440          original      NaN  \n",
       "5638443           imputed      NaN  \n",
       "6083509          original      NaN  "
      ]
     },
     "execution_count": 243,
     "metadata": {},
     "output_type": "execute_result"
    }
   ],
   "source": [
    "gwas[gwas['pvalue']<1e-6]"
   ]
  },
  {
   "cell_type": "code",
   "execution_count": 341,
   "metadata": {},
   "outputs": [
    {
     "data": {
      "text/plain": [
       "array([2.00499060e+07, 2.00526080e+07, 2.00531360e+07, 2.00540900e+07,\n",
       "       9.02976370e+07, 4.04410300e+06, 3.82859600e+07, 1.10196183e+08,\n",
       "       1.11759579e+08, 1.11760403e+08, 1.12419140e+08])"
      ]
     },
     "execution_count": 341,
     "metadata": {},
     "output_type": "execute_result"
    }
   ],
   "source": [
    "gwas[gwas['pvalue']<1e-6]['position'].astype(int).values - 1e6"
   ]
  },
  {
   "cell_type": "code",
   "execution_count": 344,
   "metadata": {},
   "outputs": [
    {
     "data": {
      "text/plain": [
       "<IntervalArray>\n",
       "[(20049906.0, 22049906.0], (20052608.0, 22052608.0], (20053136.0, 22053136.0], (20054090.0, 22054090.0], (90297637.0, 92297637.0] ... (38285960.0, 40285960.0], (110196183.0, 112196183.0], (111759579.0, 113759579.0], (111760403.0, 113760403.0], (112419140.0, 114419140.0]]\n",
       "Length: 11, dtype: interval[float64, right]"
      ]
     },
     "execution_count": 344,
     "metadata": {},
     "output_type": "execute_result"
    }
   ],
   "source": [
    "gwas_hits_interval = pd.arrays.IntervalArray.from_arrays(gwas[gwas['pvalue']<1e-6]['position'].astype(int).values - 1e6, gwas[gwas['pvalue']<1e-6]['position'].astype(int).values + 1e6)\n",
    "gwas_hits_interval"
   ]
  },
  {
   "cell_type": "code",
   "execution_count": 244,
   "metadata": {},
   "outputs": [],
   "source": [
    "eqtl = pd.read_parquet('output/proteincoding_main/pcqtl/Skin_Not_Sun_Exposed_Suprapubic/Skin_Not_Sun_Exposed_Suprapubic.v8.pcs.cis_qtl_pairs.chr7.parquet')"
   ]
  },
  {
   "cell_type": "code",
   "execution_count": 359,
   "metadata": {},
   "outputs": [
    {
     "data": {
      "text/html": [
       "<div>\n",
       "<style scoped>\n",
       "    .dataframe tbody tr th:only-of-type {\n",
       "        vertical-align: middle;\n",
       "    }\n",
       "\n",
       "    .dataframe tbody tr th {\n",
       "        vertical-align: top;\n",
       "    }\n",
       "\n",
       "    .dataframe thead th {\n",
       "        text-align: right;\n",
       "    }\n",
       "</style>\n",
       "<table border=\"1\" class=\"dataframe\">\n",
       "  <thead>\n",
       "    <tr style=\"text-align: right;\">\n",
       "      <th></th>\n",
       "      <th>phenotype_id</th>\n",
       "      <th>variant_id</th>\n",
       "      <th>start_distance</th>\n",
       "      <th>end_distance</th>\n",
       "      <th>af</th>\n",
       "      <th>ma_samples</th>\n",
       "      <th>ma_count</th>\n",
       "      <th>pval_nominal</th>\n",
       "      <th>slope</th>\n",
       "      <th>slope_se</th>\n",
       "      <th>position</th>\n",
       "      <th>position_intrval</th>\n",
       "    </tr>\n",
       "  </thead>\n",
       "  <tbody>\n",
       "    <tr>\n",
       "      <th>0</th>\n",
       "      <td>ENSG00000136238.17_ENSG00000178397.12_pc1</td>\n",
       "      <td>chr7_5348985_G_C_b38</td>\n",
       "      <td>-999996</td>\n",
       "      <td>-1025538</td>\n",
       "      <td>0.417795</td>\n",
       "      <td>341</td>\n",
       "      <td>432</td>\n",
       "      <td>0.700985</td>\n",
       "      <td>-0.001247</td>\n",
       "      <td>0.003246</td>\n",
       "      <td>5348985</td>\n",
       "      <td>(5348985, 5348986]</td>\n",
       "    </tr>\n",
       "    <tr>\n",
       "      <th>1</th>\n",
       "      <td>ENSG00000136238.17_ENSG00000178397.12_pc1</td>\n",
       "      <td>chr7_5348996_G_A_b38</td>\n",
       "      <td>-999985</td>\n",
       "      <td>-1025527</td>\n",
       "      <td>0.017408</td>\n",
       "      <td>18</td>\n",
       "      <td>18</td>\n",
       "      <td>0.604337</td>\n",
       "      <td>0.006503</td>\n",
       "      <td>0.012541</td>\n",
       "      <td>5348996</td>\n",
       "      <td>(5348996, 5348997]</td>\n",
       "    </tr>\n",
       "    <tr>\n",
       "      <th>2</th>\n",
       "      <td>ENSG00000136238.17_ENSG00000178397.12_pc1</td>\n",
       "      <td>chr7_5349126_C_T_b38</td>\n",
       "      <td>-999855</td>\n",
       "      <td>-1025397</td>\n",
       "      <td>0.144101</td>\n",
       "      <td>139</td>\n",
       "      <td>149</td>\n",
       "      <td>0.454104</td>\n",
       "      <td>0.003406</td>\n",
       "      <td>0.004546</td>\n",
       "      <td>5349126</td>\n",
       "      <td>(5349126, 5349127]</td>\n",
       "    </tr>\n",
       "    <tr>\n",
       "      <th>3</th>\n",
       "      <td>ENSG00000136238.17_ENSG00000178397.12_pc1</td>\n",
       "      <td>chr7_5349754_G_A_b38</td>\n",
       "      <td>-999227</td>\n",
       "      <td>-1024769</td>\n",
       "      <td>0.014507</td>\n",
       "      <td>15</td>\n",
       "      <td>15</td>\n",
       "      <td>0.000243</td>\n",
       "      <td>0.048694</td>\n",
       "      <td>0.013161</td>\n",
       "      <td>5349754</td>\n",
       "      <td>(5349754, 5349755]</td>\n",
       "    </tr>\n",
       "    <tr>\n",
       "      <th>4</th>\n",
       "      <td>ENSG00000136238.17_ENSG00000178397.12_pc1</td>\n",
       "      <td>chr7_5350016_C_G_b38</td>\n",
       "      <td>-998965</td>\n",
       "      <td>-1024507</td>\n",
       "      <td>0.379110</td>\n",
       "      <td>323</td>\n",
       "      <td>392</td>\n",
       "      <td>0.113222</td>\n",
       "      <td>0.005395</td>\n",
       "      <td>0.003400</td>\n",
       "      <td>5350016</td>\n",
       "      <td>(5350016, 5350017]</td>\n",
       "    </tr>\n",
       "    <tr>\n",
       "      <th>...</th>\n",
       "      <td>...</td>\n",
       "      <td>...</td>\n",
       "      <td>...</td>\n",
       "      <td>...</td>\n",
       "      <td>...</td>\n",
       "      <td>...</td>\n",
       "      <td>...</td>\n",
       "      <td>...</td>\n",
       "      <td>...</td>\n",
       "      <td>...</td>\n",
       "      <td>...</td>\n",
       "      <td>...</td>\n",
       "    </tr>\n",
       "    <tr>\n",
       "      <th>647814</th>\n",
       "      <td>ENSG00000164867.10_ENSG00000181652.19_pc2</td>\n",
       "      <td>chr7_152021657_G_A_b38</td>\n",
       "      <td>1030662</td>\n",
       "      <td>997158</td>\n",
       "      <td>0.013540</td>\n",
       "      <td>14</td>\n",
       "      <td>14</td>\n",
       "      <td>0.954377</td>\n",
       "      <td>0.000795</td>\n",
       "      <td>0.013886</td>\n",
       "      <td>152021657</td>\n",
       "      <td>(152021657, 152021658]</td>\n",
       "    </tr>\n",
       "    <tr>\n",
       "      <th>647815</th>\n",
       "      <td>ENSG00000164867.10_ENSG00000181652.19_pc2</td>\n",
       "      <td>chr7_152021659_G_A_b38</td>\n",
       "      <td>1030664</td>\n",
       "      <td>997160</td>\n",
       "      <td>0.011605</td>\n",
       "      <td>12</td>\n",
       "      <td>12</td>\n",
       "      <td>0.524432</td>\n",
       "      <td>-0.010407</td>\n",
       "      <td>0.016337</td>\n",
       "      <td>152021659</td>\n",
       "      <td>(152021659, 152021660]</td>\n",
       "    </tr>\n",
       "    <tr>\n",
       "      <th>647816</th>\n",
       "      <td>ENSG00000164867.10_ENSG00000181652.19_pc2</td>\n",
       "      <td>chr7_152021960_C_CG_b38</td>\n",
       "      <td>1030965</td>\n",
       "      <td>997461</td>\n",
       "      <td>0.076923</td>\n",
       "      <td>59</td>\n",
       "      <td>74</td>\n",
       "      <td>0.345011</td>\n",
       "      <td>0.006372</td>\n",
       "      <td>0.006741</td>\n",
       "      <td>152021960</td>\n",
       "      <td>(152021960, 152021961]</td>\n",
       "    </tr>\n",
       "    <tr>\n",
       "      <th>647817</th>\n",
       "      <td>ENSG00000164867.10_ENSG00000181652.19_pc2</td>\n",
       "      <td>chr7_152022090_C_T_b38</td>\n",
       "      <td>1031095</td>\n",
       "      <td>997591</td>\n",
       "      <td>0.044487</td>\n",
       "      <td>45</td>\n",
       "      <td>46</td>\n",
       "      <td>0.623571</td>\n",
       "      <td>0.004124</td>\n",
       "      <td>0.008397</td>\n",
       "      <td>152022090</td>\n",
       "      <td>(152022090, 152022091]</td>\n",
       "    </tr>\n",
       "    <tr>\n",
       "      <th>647818</th>\n",
       "      <td>ENSG00000164867.10_ENSG00000181652.19_pc2</td>\n",
       "      <td>chr7_152023537_T_C_b38</td>\n",
       "      <td>1032542</td>\n",
       "      <td>999038</td>\n",
       "      <td>0.019342</td>\n",
       "      <td>19</td>\n",
       "      <td>20</td>\n",
       "      <td>0.517707</td>\n",
       "      <td>0.008037</td>\n",
       "      <td>0.012414</td>\n",
       "      <td>152023537</td>\n",
       "      <td>(152023537, 152023538]</td>\n",
       "    </tr>\n",
       "  </tbody>\n",
       "</table>\n",
       "<p>647819 rows × 12 columns</p>\n",
       "</div>"
      ],
      "text/plain": [
       "                                     phenotype_id               variant_id  \\\n",
       "0       ENSG00000136238.17_ENSG00000178397.12_pc1     chr7_5348985_G_C_b38   \n",
       "1       ENSG00000136238.17_ENSG00000178397.12_pc1     chr7_5348996_G_A_b38   \n",
       "2       ENSG00000136238.17_ENSG00000178397.12_pc1     chr7_5349126_C_T_b38   \n",
       "3       ENSG00000136238.17_ENSG00000178397.12_pc1     chr7_5349754_G_A_b38   \n",
       "4       ENSG00000136238.17_ENSG00000178397.12_pc1     chr7_5350016_C_G_b38   \n",
       "...                                           ...                      ...   \n",
       "647814  ENSG00000164867.10_ENSG00000181652.19_pc2   chr7_152021657_G_A_b38   \n",
       "647815  ENSG00000164867.10_ENSG00000181652.19_pc2   chr7_152021659_G_A_b38   \n",
       "647816  ENSG00000164867.10_ENSG00000181652.19_pc2  chr7_152021960_C_CG_b38   \n",
       "647817  ENSG00000164867.10_ENSG00000181652.19_pc2   chr7_152022090_C_T_b38   \n",
       "647818  ENSG00000164867.10_ENSG00000181652.19_pc2   chr7_152023537_T_C_b38   \n",
       "\n",
       "        start_distance  end_distance        af  ma_samples  ma_count  \\\n",
       "0              -999996      -1025538  0.417795         341       432   \n",
       "1              -999985      -1025527  0.017408          18        18   \n",
       "2              -999855      -1025397  0.144101         139       149   \n",
       "3              -999227      -1024769  0.014507          15        15   \n",
       "4              -998965      -1024507  0.379110         323       392   \n",
       "...                ...           ...       ...         ...       ...   \n",
       "647814         1030662        997158  0.013540          14        14   \n",
       "647815         1030664        997160  0.011605          12        12   \n",
       "647816         1030965        997461  0.076923          59        74   \n",
       "647817         1031095        997591  0.044487          45        46   \n",
       "647818         1032542        999038  0.019342          19        20   \n",
       "\n",
       "        pval_nominal     slope  slope_se   position        position_intrval  \n",
       "0           0.700985 -0.001247  0.003246    5348985      (5348985, 5348986]  \n",
       "1           0.604337  0.006503  0.012541    5348996      (5348996, 5348997]  \n",
       "2           0.454104  0.003406  0.004546    5349126      (5349126, 5349127]  \n",
       "3           0.000243  0.048694  0.013161    5349754      (5349754, 5349755]  \n",
       "4           0.113222  0.005395  0.003400    5350016      (5350016, 5350017]  \n",
       "...              ...       ...       ...        ...                     ...  \n",
       "647814      0.954377  0.000795  0.013886  152021657  (152021657, 152021658]  \n",
       "647815      0.524432 -0.010407  0.016337  152021659  (152021659, 152021660]  \n",
       "647816      0.345011  0.006372  0.006741  152021960  (152021960, 152021961]  \n",
       "647817      0.623571  0.004124  0.008397  152022090  (152022090, 152022091]  \n",
       "647818      0.517707  0.008037  0.012414  152023537  (152023537, 152023538]  \n",
       "\n",
       "[647819 rows x 12 columns]"
      ]
     },
     "execution_count": 359,
     "metadata": {},
     "output_type": "execute_result"
    }
   ],
   "source": [
    "eqtl"
   ]
  },
  {
   "cell_type": "code",
   "execution_count": 351,
   "metadata": {},
   "outputs": [],
   "source": [
    "eqtl['position'] = eqtl['variant_id'].str.split('_').str[1].astype(int)\n",
    "eqtl['position_intrval'] =  pd.arrays.IntervalArray.from_arrays(eqtl['position'], eqtl['position']+1)\n"
   ]
  },
  {
   "cell_type": "code",
   "execution_count": 358,
   "metadata": {},
   "outputs": [],
   "source": [
    "for gwas_hit in gwas_hits_interval:\n",
    "    sum(pd.arrays.IntervalArray.from_arrays(eqtl['position'], eqtl['position']+1).overlaps(gwas_hit))>1"
   ]
  },
  {
   "cell_type": "code",
   "execution_count": 326,
   "metadata": {},
   "outputs": [
    {
     "data": {
      "text/plain": [
       "<matplotlib.legend.Legend at 0x2adbdbb80940>"
      ]
     },
     "execution_count": 326,
     "metadata": {},
     "output_type": "execute_result"
    },
    {
     "data": {
      "image/png": "[encoded data removed]",
      "text/plain": [
       "<Figure size 640x480 with 1 Axes>"
      ]
     },
     "metadata": {},
     "output_type": "display_data"
    }
   ],
   "source": [
    "ax = sns.histplot(eqtl['pval_nominal'], label='eqtl', bins=100)\n",
    "sns.histplot(gwas['pvalue'], ax = ax, label='gwas', bins=100)\n",
    "plt.legend()"
   ]
  },
  {
   "cell_type": "code",
   "execution_count": null,
   "metadata": {},
   "outputs": [],
   "source": []
  }
 ],
 "metadata": {
  "kernelspec": {
   "display_name": "Python 3 (ipykernel)",
   "language": "python",
   "name": "python3"
  },
  "language_info": {
   "codemirror_mode": {
    "name": "ipython",
    "version": 3
   },
   "file_extension": ".py",
   "mimetype": "text/x-python",
   "name": "python",
   "nbconvert_exporter": "python",
   "pygments_lexer": "ipython3",
   "version": "3.8.18"
  }
 },
 "nbformat": 4,
 "nbformat_minor": 2
}
