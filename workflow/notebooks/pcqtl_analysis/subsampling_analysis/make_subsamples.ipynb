{
 "cells": [
  {
   "cell_type": "markdown",
   "metadata": {},
   "source": [
    "## Subsampling analysis\n",
    "\n",
    "subsample the number of inidvidualas/RNA-seq datasets and look at how number of signals changes"
   ]
  },
  {
   "cell_type": "code",
   "execution_count": 1,
   "metadata": {},
   "outputs": [],
   "source": [
    "import pandas as pd\n",
    "import numpy as np\n",
    "import os\n",
    "import yaml\n",
    "import seaborn as sns\n",
    "import matplotlib.pyplot as plt\n",
    "\n",
    "\n",
    "prefix = '/home/klawren/oak/pcqtls'"
   ]
  },
  {
   "cell_type": "markdown",
   "metadata": {},
   "source": [
    "### create the subsampled expression and covar files\n",
    "this only needs to be run once"
   ]
  },
  {
   "cell_type": "code",
   "execution_count": 2,
   "metadata": {},
   "outputs": [],
   "source": [
    "# get outputs from a config file\n",
    "config_path= f'{prefix}/config/proteincoding_main.yaml'\n",
    "with open(config_path, 'r') as f:\n",
    "    config = yaml.safe_load(f)\n",
    "\n",
    "tissue_id_path = config['tissue_id_path']\n",
    "clusters_dir = config['clusters_dir']\n",
    "expression_dir = config['expression_dir']\n",
    "covariates_dir = config['covariates_dir']\n",
    "\n",
    "tissue_df = pd.read_csv(f\"{prefix}/{tissue_id_path}\", header=0)\n",
    "tissue_ids = list(tissue_df['Tissue'])\n",
    "tissue_id = 'Cells_Cultured_fibroblasts'"
   ]
  },
  {
   "cell_type": "code",
   "execution_count": 3,
   "metadata": {},
   "outputs": [],
   "source": [
    "num_samples = []\n",
    "for tissue_id in tissue_ids:\n",
    "        covariates_df = pd.read_csv(f'{prefix}/{covariates_dir}/{tissue_id}.v8.covariates.txt', sep='\\t', index_col=0).T\n",
    "        num_samples.append(len(covariates_df.index))"
   ]
  },
  {
   "cell_type": "code",
   "execution_count": 5,
   "metadata": {},
   "outputs": [
    {
     "data": {
      "text/html": [
       "<svg  width=\"715\" height=\"55\"><rect x=\"0\" y=\"0\" width=\"55\" height=\"55\" style=\"fill:#b83a4b;stroke-width:2;stroke:rgb(255,255,255)\"/><rect x=\"55\" y=\"0\" width=\"55\" height=\"55\" style=\"fill:#c45143;stroke-width:2;stroke:rgb(255,255,255)\"/><rect x=\"110\" y=\"0\" width=\"55\" height=\"55\" style=\"fill:#cf683c;stroke-width:2;stroke:rgb(255,255,255)\"/><rect x=\"165\" y=\"0\" width=\"55\" height=\"55\" style=\"fill:#db8034;stroke-width:2;stroke:rgb(255,255,255)\"/><rect x=\"220\" y=\"0\" width=\"55\" height=\"55\" style=\"fill:#e7972c;stroke-width:2;stroke:rgb(255,255,255)\"/><rect x=\"275\" y=\"0\" width=\"55\" height=\"55\" style=\"fill:#f2ae25;stroke-width:2;stroke:rgb(255,255,255)\"/><rect x=\"330\" y=\"0\" width=\"55\" height=\"55\" style=\"fill:#fdc51e;stroke-width:2;stroke:rgb(255,255,255)\"/><rect x=\"385\" y=\"0\" width=\"55\" height=\"55\" style=\"fill:#e5c13c;stroke-width:2;stroke:rgb(255,255,255)\"/><rect x=\"440\" y=\"0\" width=\"55\" height=\"55\" style=\"fill:#ccbe59;stroke-width:2;stroke:rgb(255,255,255)\"/><rect x=\"495\" y=\"0\" width=\"55\" height=\"55\" style=\"fill:#b2ba79;stroke-width:2;stroke:rgb(255,255,255)\"/><rect x=\"550\" y=\"0\" width=\"55\" height=\"55\" style=\"fill:#99b696;stroke-width:2;stroke:rgb(255,255,255)\"/><rect x=\"605\" y=\"0\" width=\"55\" height=\"55\" style=\"fill:#80b3b4;stroke-width:2;stroke:rgb(255,255,255)\"/><rect x=\"660\" y=\"0\" width=\"55\" height=\"55\" style=\"fill:#67afd2;stroke-width:2;stroke:rgb(255,255,255)\"/></svg>"
      ],
      "text/plain": [
       "[(0.7215686274509804, 0.22745098039215686, 0.29411764705882354),\n",
       " (0.7667820069204152, 0.3172318339100346, 0.26440599769319495),\n",
       " (0.81199538638985, 0.40701268742791236, 0.23469434832756633),\n",
       " (0.859361783929258, 0.5010688196847367, 0.20356785851595538),\n",
       " (0.9045751633986928, 0.5908496732026144, 0.1738562091503268),\n",
       " (0.9497885428681276, 0.6806305267204922, 0.1441445597846982),\n",
       " (0.993756247597078, 0.7722106881968474, 0.11650903498654364),\n",
       " (0.8962245290272972, 0.758000768935025, 0.23341791618608226),\n",
       " (0.7986928104575164, 0.7437908496732026, 0.3503267973856209),\n",
       " (0.6965167243367936, 0.7289042675893888, 0.4728027681660899),\n",
       " (0.5989850057670127, 0.7146943483275663, 0.5897116493656285),\n",
       " (0.5014532871972318, 0.7004844290657439, 0.7066205305651673),\n",
       " (0.403921568627451, 0.6862745098039216, 0.8235294117647058)]"
      ]
     },
     "execution_count": 5,
     "metadata": {},
     "output_type": "execute_result"
    }
   ],
   "source": [
    "tissue_pal = sns.color_palette('blend:#B83A4B,#FEC51D,#67AFD2', n_colors=len(tissue_ids))\n",
    "tissue_pal"
   ]
  },
  {
   "cell_type": "code",
   "execution_count": 7,
   "metadata": {},
   "outputs": [
    {
     "data": {
      "text/html": [
       "<div>\n",
       "<style scoped>\n",
       "    .dataframe tbody tr th:only-of-type {\n",
       "        vertical-align: middle;\n",
       "    }\n",
       "\n",
       "    .dataframe tbody tr th {\n",
       "        vertical-align: top;\n",
       "    }\n",
       "\n",
       "    .dataframe thead th {\n",
       "        text-align: right;\n",
       "    }\n",
       "</style>\n",
       "<table border=\"1\" class=\"dataframe\">\n",
       "  <thead>\n",
       "    <tr style=\"text-align: right;\">\n",
       "      <th></th>\n",
       "      <th>samples</th>\n",
       "      <th>tissue</th>\n",
       "    </tr>\n",
       "  </thead>\n",
       "  <tbody>\n",
       "    <tr>\n",
       "      <th>0</th>\n",
       "      <td>581</td>\n",
       "      <td>Adipose_Subcutaneous</td>\n",
       "    </tr>\n",
       "    <tr>\n",
       "      <th>1</th>\n",
       "      <td>469</td>\n",
       "      <td>Adipose_Visceral_Omentum</td>\n",
       "    </tr>\n",
       "    <tr>\n",
       "      <th>2</th>\n",
       "      <td>584</td>\n",
       "      <td>Artery_Tibial</td>\n",
       "    </tr>\n",
       "    <tr>\n",
       "      <th>3</th>\n",
       "      <td>483</td>\n",
       "      <td>Cells_Cultured_fibroblasts</td>\n",
       "    </tr>\n",
       "    <tr>\n",
       "      <th>4</th>\n",
       "      <td>497</td>\n",
       "      <td>Esophagus_Mucosa</td>\n",
       "    </tr>\n",
       "    <tr>\n",
       "      <th>5</th>\n",
       "      <td>465</td>\n",
       "      <td>Esophagus_Muscularis</td>\n",
       "    </tr>\n",
       "    <tr>\n",
       "      <th>6</th>\n",
       "      <td>515</td>\n",
       "      <td>Lung</td>\n",
       "    </tr>\n",
       "    <tr>\n",
       "      <th>7</th>\n",
       "      <td>706</td>\n",
       "      <td>Muscle_Skeletal</td>\n",
       "    </tr>\n",
       "    <tr>\n",
       "      <th>8</th>\n",
       "      <td>532</td>\n",
       "      <td>Nerve_Tibial</td>\n",
       "    </tr>\n",
       "    <tr>\n",
       "      <th>9</th>\n",
       "      <td>517</td>\n",
       "      <td>Skin_Not_Sun_Exposed_Suprapubic</td>\n",
       "    </tr>\n",
       "    <tr>\n",
       "      <th>10</th>\n",
       "      <td>605</td>\n",
       "      <td>Skin_Sun_Exposed_Lower_leg</td>\n",
       "    </tr>\n",
       "    <tr>\n",
       "      <th>11</th>\n",
       "      <td>574</td>\n",
       "      <td>Thyroid</td>\n",
       "    </tr>\n",
       "    <tr>\n",
       "      <th>12</th>\n",
       "      <td>670</td>\n",
       "      <td>Whole_Blood</td>\n",
       "    </tr>\n",
       "  </tbody>\n",
       "</table>\n",
       "</div>"
      ],
      "text/plain": [
       "    samples                           tissue\n",
       "0       581             Adipose_Subcutaneous\n",
       "1       469         Adipose_Visceral_Omentum\n",
       "2       584                    Artery_Tibial\n",
       "3       483       Cells_Cultured_fibroblasts\n",
       "4       497                 Esophagus_Mucosa\n",
       "5       465             Esophagus_Muscularis\n",
       "6       515                             Lung\n",
       "7       706                  Muscle_Skeletal\n",
       "8       532                     Nerve_Tibial\n",
       "9       517  Skin_Not_Sun_Exposed_Suprapubic\n",
       "10      605       Skin_Sun_Exposed_Lower_leg\n",
       "11      574                          Thyroid\n",
       "12      670                      Whole_Blood"
      ]
     },
     "execution_count": 7,
     "metadata": {},
     "output_type": "execute_result"
    }
   ],
   "source": [
    "num_samples = pd.DataFrame({'samples':num_samples, 'tissue':tissue_ids})\n",
    "num_samples"
   ]
  },
  {
   "cell_type": "code",
   "execution_count": 8,
   "metadata": {},
   "outputs": [
    {
     "name": "stderr",
     "output_type": "stream",
     "text": [
      "/local/scratch/klawren/slrmtmp.46688176/ipykernel_50990/2443883282.py:13: UserWarning: FixedFormatter should only be used together with FixedLocator\n",
      "  ax.set_yticklabels(tissue_labels)\n"
     ]
    },
    {
     "data": {
      "image/png": "[encoded data removed]",
      "text/plain": [
       "<Figure size 300x500 with 1 Axes>"
      ]
     },
     "metadata": {},
     "output_type": "display_data"
    }
   ],
   "source": [
    "# plot showing number of clusters in each tissue\n",
    "\n",
    "fig, ax = plt.subplots(figsize=(3,5))\n",
    "\n",
    "ax = sns.barplot(num_samples, x='samples', hue='tissue', y='tissue', palette=tissue_pal, saturation=1, edgecolor='k', width=.85, ax=ax)\n",
    "\n",
    "ax.spines['top'].set_visible(False)\n",
    "ax.spines['right'].set_visible(False)\n",
    "\n",
    "# Replace underscores with spaces in the tissue labels\n",
    "tissue_labels = ax.get_yticklabels()\n",
    "tissue_labels = [tissue_label.get_text().replace('_', ' ') for tissue_label in tissue_labels]\n",
    "ax.set_yticklabels(tissue_labels)\n",
    "\n",
    "ax.set_xlabel('Number of RNA-seq samples')\n",
    "ax.set_ylabel('')\n",
    "\n",
    "plt.show()\n"
   ]
  },
  {
   "cell_type": "markdown",
   "metadata": {},
   "source": [
    "### chr 22 stuff"
   ]
  },
  {
   "cell_type": "code",
   "execution_count": 25,
   "metadata": {},
   "outputs": [],
   "source": [
    "t = pd.read_parquet('output/proteincoding_main/control_eqtl/Adipose_Subcutaneous/Adipose_Subcutaneous.v8.cluster_genes.cis_qtl_pairs.chr22.parquet')\n",
    "t.rename(columns={'phenotype_id':'gene_id', 'af':'maf'}, inplace=True)\n",
    "t['snp'] = t['variant_id']"
   ]
  },
  {
   "cell_type": "code",
   "execution_count": 26,
   "metadata": {},
   "outputs": [],
   "source": [
    "t.to_csv('output/proteincoding_main/control_eqtl/Adipose_Subcutaneous/Adipose_Subcutaneous.v8.cluster_genes.cis_qtl_pairs.chr22.tsv.gz', sep='\\t', compression='gzip', index=False)"
   ]
  },
  {
   "cell_type": "code",
   "execution_count": 27,
   "metadata": {},
   "outputs": [
    {
     "data": {
      "text/html": [
       "<div>\n",
       "<style scoped>\n",
       "    .dataframe tbody tr th:only-of-type {\n",
       "        vertical-align: middle;\n",
       "    }\n",
       "\n",
       "    .dataframe tbody tr th {\n",
       "        vertical-align: top;\n",
       "    }\n",
       "\n",
       "    .dataframe thead th {\n",
       "        text-align: right;\n",
       "    }\n",
       "</style>\n",
       "<table border=\"1\" class=\"dataframe\">\n",
       "  <thead>\n",
       "    <tr style=\"text-align: right;\">\n",
       "      <th></th>\n",
       "      <th>gene_id</th>\n",
       "      <th>variant_id</th>\n",
       "      <th>start_distance</th>\n",
       "      <th>end_distance</th>\n",
       "      <th>maf</th>\n",
       "      <th>ma_samples</th>\n",
       "      <th>ma_count</th>\n",
       "      <th>pval_nominal</th>\n",
       "      <th>slope</th>\n",
       "      <th>slope_se</th>\n",
       "      <th>snp</th>\n",
       "    </tr>\n",
       "  </thead>\n",
       "  <tbody>\n",
       "    <tr>\n",
       "      <th>0</th>\n",
       "      <td>ENSG00000015475.18_ENSG00000099968.17_e_ENSG00...</td>\n",
       "      <td>chr22_16628892_T_C_b38</td>\n",
       "      <td>-999963</td>\n",
       "      <td>-1145878</td>\n",
       "      <td>0.019793</td>\n",
       "      <td>23</td>\n",
       "      <td>23</td>\n",
       "      <td>0.237375</td>\n",
       "      <td>0.011875</td>\n",
       "      <td>0.010038</td>\n",
       "      <td>chr22_16628892_T_C_b38</td>\n",
       "    </tr>\n",
       "    <tr>\n",
       "      <th>1</th>\n",
       "      <td>ENSG00000015475.18_ENSG00000099968.17_e_ENSG00...</td>\n",
       "      <td>chr22_16628911_CTTG_C_b38</td>\n",
       "      <td>-999944</td>\n",
       "      <td>-1145859</td>\n",
       "      <td>0.041308</td>\n",
       "      <td>46</td>\n",
       "      <td>48</td>\n",
       "      <td>0.917380</td>\n",
       "      <td>-0.000696</td>\n",
       "      <td>0.006708</td>\n",
       "      <td>chr22_16628911_CTTG_C_b38</td>\n",
       "    </tr>\n",
       "    <tr>\n",
       "      <th>2</th>\n",
       "      <td>ENSG00000015475.18_ENSG00000099968.17_e_ENSG00...</td>\n",
       "      <td>chr22_16629375_T_A_b38</td>\n",
       "      <td>-999480</td>\n",
       "      <td>-1145395</td>\n",
       "      <td>0.252151</td>\n",
       "      <td>258</td>\n",
       "      <td>293</td>\n",
       "      <td>0.301020</td>\n",
       "      <td>0.003328</td>\n",
       "      <td>0.003215</td>\n",
       "      <td>chr22_16629375_T_A_b38</td>\n",
       "    </tr>\n",
       "    <tr>\n",
       "      <th>3</th>\n",
       "      <td>ENSG00000015475.18_ENSG00000099968.17_e_ENSG00...</td>\n",
       "      <td>chr22_16629512_C_G_b38</td>\n",
       "      <td>-999343</td>\n",
       "      <td>-1145258</td>\n",
       "      <td>0.907057</td>\n",
       "      <td>98</td>\n",
       "      <td>108</td>\n",
       "      <td>0.851367</td>\n",
       "      <td>-0.000843</td>\n",
       "      <td>0.004495</td>\n",
       "      <td>chr22_16629512_C_G_b38</td>\n",
       "    </tr>\n",
       "    <tr>\n",
       "      <th>4</th>\n",
       "      <td>ENSG00000015475.18_ENSG00000099968.17_e_ENSG00...</td>\n",
       "      <td>chr22_16629863_T_G_b38</td>\n",
       "      <td>-998992</td>\n",
       "      <td>-1144907</td>\n",
       "      <td>0.244406</td>\n",
       "      <td>239</td>\n",
       "      <td>284</td>\n",
       "      <td>0.716316</td>\n",
       "      <td>0.001140</td>\n",
       "      <td>0.003135</td>\n",
       "      <td>chr22_16629863_T_G_b38</td>\n",
       "    </tr>\n",
       "    <tr>\n",
       "      <th>...</th>\n",
       "      <td>...</td>\n",
       "      <td>...</td>\n",
       "      <td>...</td>\n",
       "      <td>...</td>\n",
       "      <td>...</td>\n",
       "      <td>...</td>\n",
       "      <td>...</td>\n",
       "      <td>...</td>\n",
       "      <td>...</td>\n",
       "      <td>...</td>\n",
       "      <td>...</td>\n",
       "    </tr>\n",
       "    <tr>\n",
       "      <th>358636</th>\n",
       "      <td>ENSG00000100312.10_ENSG00000251322.7_e_ENSG000...</td>\n",
       "      <td>chr22_50806958_C_CGTCTCTGCGCCGCCGGGGACGTGT_b38</td>\n",
       "      <td>132543</td>\n",
       "      <td>68762</td>\n",
       "      <td>0.017212</td>\n",
       "      <td>19</td>\n",
       "      <td>20</td>\n",
       "      <td>0.155096</td>\n",
       "      <td>0.014599</td>\n",
       "      <td>0.010253</td>\n",
       "      <td>chr22_50806958_C_CGTCTCTGCGCCGCCGGGGACGTGT_b38</td>\n",
       "    </tr>\n",
       "    <tr>\n",
       "      <th>358637</th>\n",
       "      <td>ENSG00000100312.10_ENSG00000251322.7_e_ENSG000...</td>\n",
       "      <td>chr22_50807078_C_A_b38</td>\n",
       "      <td>132663</td>\n",
       "      <td>68882</td>\n",
       "      <td>0.023256</td>\n",
       "      <td>26</td>\n",
       "      <td>26</td>\n",
       "      <td>0.579875</td>\n",
       "      <td>-0.005382</td>\n",
       "      <td>0.009716</td>\n",
       "      <td>chr22_50807078_C_A_b38</td>\n",
       "    </tr>\n",
       "    <tr>\n",
       "      <th>358638</th>\n",
       "      <td>ENSG00000100312.10_ENSG00000251322.7_e_ENSG000...</td>\n",
       "      <td>chr22_50807681_C_A_b38</td>\n",
       "      <td>133266</td>\n",
       "      <td>69485</td>\n",
       "      <td>0.010601</td>\n",
       "      <td>12</td>\n",
       "      <td>12</td>\n",
       "      <td>0.112747</td>\n",
       "      <td>0.022803</td>\n",
       "      <td>0.014353</td>\n",
       "      <td>chr22_50807681_C_A_b38</td>\n",
       "    </tr>\n",
       "    <tr>\n",
       "      <th>358639</th>\n",
       "      <td>ENSG00000100312.10_ENSG00000251322.7_e_ENSG000...</td>\n",
       "      <td>chr22_50807702_A_G_b38</td>\n",
       "      <td>133287</td>\n",
       "      <td>69506</td>\n",
       "      <td>0.029260</td>\n",
       "      <td>34</td>\n",
       "      <td>34</td>\n",
       "      <td>0.807826</td>\n",
       "      <td>0.002031</td>\n",
       "      <td>0.008345</td>\n",
       "      <td>chr22_50807702_A_G_b38</td>\n",
       "    </tr>\n",
       "    <tr>\n",
       "      <th>358640</th>\n",
       "      <td>ENSG00000100312.10_ENSG00000251322.7_e_ENSG000...</td>\n",
       "      <td>chr22_50807811_T_G_b38</td>\n",
       "      <td>133396</td>\n",
       "      <td>69615</td>\n",
       "      <td>0.023277</td>\n",
       "      <td>24</td>\n",
       "      <td>25</td>\n",
       "      <td>0.026458</td>\n",
       "      <td>-0.020129</td>\n",
       "      <td>0.009043</td>\n",
       "      <td>chr22_50807811_T_G_b38</td>\n",
       "    </tr>\n",
       "  </tbody>\n",
       "</table>\n",
       "<p>358641 rows × 11 columns</p>\n",
       "</div>"
      ],
      "text/plain": [
       "                                                  gene_id  \\\n",
       "0       ENSG00000015475.18_ENSG00000099968.17_e_ENSG00...   \n",
       "1       ENSG00000015475.18_ENSG00000099968.17_e_ENSG00...   \n",
       "2       ENSG00000015475.18_ENSG00000099968.17_e_ENSG00...   \n",
       "3       ENSG00000015475.18_ENSG00000099968.17_e_ENSG00...   \n",
       "4       ENSG00000015475.18_ENSG00000099968.17_e_ENSG00...   \n",
       "...                                                   ...   \n",
       "358636  ENSG00000100312.10_ENSG00000251322.7_e_ENSG000...   \n",
       "358637  ENSG00000100312.10_ENSG00000251322.7_e_ENSG000...   \n",
       "358638  ENSG00000100312.10_ENSG00000251322.7_e_ENSG000...   \n",
       "358639  ENSG00000100312.10_ENSG00000251322.7_e_ENSG000...   \n",
       "358640  ENSG00000100312.10_ENSG00000251322.7_e_ENSG000...   \n",
       "\n",
       "                                            variant_id  start_distance  \\\n",
       "0                               chr22_16628892_T_C_b38         -999963   \n",
       "1                            chr22_16628911_CTTG_C_b38         -999944   \n",
       "2                               chr22_16629375_T_A_b38         -999480   \n",
       "3                               chr22_16629512_C_G_b38         -999343   \n",
       "4                               chr22_16629863_T_G_b38         -998992   \n",
       "...                                                ...             ...   \n",
       "358636  chr22_50806958_C_CGTCTCTGCGCCGCCGGGGACGTGT_b38          132543   \n",
       "358637                          chr22_50807078_C_A_b38          132663   \n",
       "358638                          chr22_50807681_C_A_b38          133266   \n",
       "358639                          chr22_50807702_A_G_b38          133287   \n",
       "358640                          chr22_50807811_T_G_b38          133396   \n",
       "\n",
       "        end_distance       maf  ma_samples  ma_count  pval_nominal     slope  \\\n",
       "0           -1145878  0.019793          23        23      0.237375  0.011875   \n",
       "1           -1145859  0.041308          46        48      0.917380 -0.000696   \n",
       "2           -1145395  0.252151         258       293      0.301020  0.003328   \n",
       "3           -1145258  0.907057          98       108      0.851367 -0.000843   \n",
       "4           -1144907  0.244406         239       284      0.716316  0.001140   \n",
       "...              ...       ...         ...       ...           ...       ...   \n",
       "358636         68762  0.017212          19        20      0.155096  0.014599   \n",
       "358637         68882  0.023256          26        26      0.579875 -0.005382   \n",
       "358638         69485  0.010601          12        12      0.112747  0.022803   \n",
       "358639         69506  0.029260          34        34      0.807826  0.002031   \n",
       "358640         69615  0.023277          24        25      0.026458 -0.020129   \n",
       "\n",
       "        slope_se                                             snp  \n",
       "0       0.010038                          chr22_16628892_T_C_b38  \n",
       "1       0.006708                       chr22_16628911_CTTG_C_b38  \n",
       "2       0.003215                          chr22_16629375_T_A_b38  \n",
       "3       0.004495                          chr22_16629512_C_G_b38  \n",
       "4       0.003135                          chr22_16629863_T_G_b38  \n",
       "...          ...                                             ...  \n",
       "358636  0.010253  chr22_50806958_C_CGTCTCTGCGCCGCCGGGGACGTGT_b38  \n",
       "358637  0.009716                          chr22_50807078_C_A_b38  \n",
       "358638  0.014353                          chr22_50807681_C_A_b38  \n",
       "358639  0.008345                          chr22_50807702_A_G_b38  \n",
       "358640  0.009043                          chr22_50807811_T_G_b38  \n",
       "\n",
       "[358641 rows x 11 columns]"
      ]
     },
     "execution_count": 27,
     "metadata": {},
     "output_type": "execute_result"
    }
   ],
   "source": [
    "pd.read_csv('output/proteincoding_main/control_eqtl/Adipose_Subcutaneous/Adipose_Subcutaneous.v8.cluster_genes.cis_qtl_pairs.chr22.tsv.gz', sep='\\t')"
   ]
  },
  {
   "cell_type": "code",
   "execution_count": 9,
   "metadata": {},
   "outputs": [
    {
     "data": {
      "text/plain": [
       "465"
      ]
     },
     "execution_count": 9,
     "metadata": {},
     "output_type": "execute_result"
    },
    {
     "data": {
      "image/png": "[encoded data removed]",
      "text/plain": [
       "<Figure size 640x480 with 1 Axes>"
      ]
     },
     "metadata": {},
     "output_type": "display_data"
    }
   ],
   "source": [
    "sns.histplot(num_samples, bins=np.arange(0, max(num_samples), 50))\n",
    "min(num_samples)"
   ]
  },
  {
   "cell_type": "code",
   "execution_count": 10,
   "metadata": {},
   "outputs": [
    {
     "data": {
      "text/plain": [
       "[581, 469, 584, 483, 497, 465, 515, 706, 532, 517, 605, 574, 670]"
      ]
     },
     "execution_count": 10,
     "metadata": {},
     "output_type": "execute_result"
    }
   ],
   "source": [
    "num_samples"
   ]
  },
  {
   "cell_type": "markdown",
   "metadata": {},
   "source": [
    "### subsamples stuff"
   ]
  },
  {
   "cell_type": "code",
   "execution_count": 5,
   "metadata": {},
   "outputs": [],
   "source": [
    "# minimum of 300 in each tissue, I'll do 100, 200, 300\n",
    "\n",
    "for num_samples in [90]:\n",
    "    output_dir = f'{prefix}/data/processed/subsampling/{num_samples}'\n",
    "    os.mkdir(output_dir)\n",
    "    os.mkdir(f'{output_dir}/covariates/')\n",
    "    os.mkdir(f'{output_dir}/normalized_expression/')\n",
    "\n",
    "    for tissue_id in tissue_ids:\n",
    "        # load in each expression and covariates files\n",
    "        expression_df = pd.read_csv(f'{prefix}/{expression_dir}/{tissue_id}.v8.normalized_expression.bed', sep='\\t')\n",
    "        covariates_df = pd.read_csv(f'{prefix}/{covariates_dir}/{tissue_id}.v8.covariates.txt', sep='\\t', index_col=0).T\n",
    "\n",
    "        if len(covariates_df.index) > num_samples:\n",
    "            selected_samples = covariates_df.index[:num_samples].values\n",
    "\n",
    "            # write out first x as a subset\n",
    "            sub_expression = expression_df[np.concatenate([expression_df.columns[:4].values, selected_samples])]\n",
    "            sub_expression.to_csv(f'{output_dir}/normalized_expression/{tissue_id}.v8.normalized_expression.bed', sep='\\t', index=None)\n",
    "\n",
    "            sub_covar = covariates_df.loc[selected_samples]\n",
    "            sub_covar.T.to_csv(f'{output_dir}/covariates/{tissue_id}.v8.covariates.txt', sep='\\t')"
   ]
  },
  {
   "cell_type": "code",
   "execution_count": null,
   "metadata": {},
   "outputs": [],
   "source": [
    "# try with a random selection of 100 rather than the first 100\n",
    "for num_samples in [100]:\n",
    "    output_dir = f'{prefix}/data/processed/subsampling/{num_samples}_rand'\n",
    "    try:\n",
    "        os.mkdir(output_dir)\n",
    "        os.mkdir(f'{output_dir}/covariates/')\n",
    "        os.mkdir(f'{output_dir}/normalized_expression/')\n",
    "    except FileExistsError:\n",
    "        pass\n",
    "\n",
    "    for tissue_id in tissue_ids:\n",
    "        # load in each expression and covariates files\n",
    "        expression_df = pd.read_csv(f'{prefix}/{expression_dir}/{tissue_id}.v8.normalized_expression.bed', sep='\\t')\n",
    "        covariates_df = pd.read_csv(f'{prefix}/{covariates_dir}/{tissue_id}.v8.covariates.txt', sep='\\t', index_col=0).T\n",
    "\n",
    "        selected_samples = pd.Series(covariates_df.index.values).sample(num_samples)\n",
    "\n",
    "        sub_expression = expression_df[np.concatenate([expression_df.columns[:4].values, selected_samples])]\n",
    "        sub_expression.to_csv(f'{output_dir}/normalized_expression/{tissue_id}.v8.normalized_expression.bed', sep='\\t', index=None)\n",
    "\n",
    "        sub_covar = covariates_df.loc[selected_samples]\n",
    "        sub_covar.T.to_csv(f'{output_dir}/covariates/{tissue_id}.v8.covariates.txt', sep='\\t')"
   ]
  }
 ],
 "metadata": {
  "kernelspec": {
   "display_name": "Python 3 (ipykernel)",
   "language": "python",
   "name": "python3"
  },
  "language_info": {
   "codemirror_mode": {
    "name": "ipython",
    "version": 3
   },
   "file_extension": ".py",
   "mimetype": "text/x-python",
   "name": "python",
   "nbconvert_exporter": "python",
   "pygments_lexer": "ipython3",
   "version": "3.8.18"
  }
 },
 "nbformat": 4,
 "nbformat_minor": 2
}
