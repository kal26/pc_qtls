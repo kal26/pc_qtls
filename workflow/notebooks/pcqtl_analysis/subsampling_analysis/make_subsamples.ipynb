{
 "cells": [
  {
   "cell_type": "markdown",
   "metadata": {},
   "source": [
    "## Subsampling analysis\n",
    "\n",
    "subsample the number of inidvidualas/RNA-seq datasets and look at how number of signals changes"
   ]
  },
  {
   "cell_type": "code",
   "execution_count": 1,
   "metadata": {},
   "outputs": [],
   "source": [
    "import pandas as pd\n",
    "import numpy as np\n",
    "import os\n",
    "import yaml\n",
    "import seaborn as sns\n",
    "import matplotlib.pyplot as plt\n",
    "\n",
    "\n",
    "prefix = '/home/klawren/oak/pcqtls'"
   ]
  },
  {
   "cell_type": "markdown",
   "metadata": {},
   "source": [
    "### create the subsampled expression and covar files\n",
    "this only needs to be run once"
   ]
  },
  {
   "cell_type": "code",
   "execution_count": 2,
   "metadata": {},
   "outputs": [],
   "source": [
    "# get outputs from a config file\n",
    "config_path= f'{prefix}/config/proteincoding_main.yaml'\n",
    "with open(config_path, 'r') as f:\n",
    "    config = yaml.safe_load(f)\n",
    "\n",
    "tissue_id_path = config['tissue_id_path']\n",
    "clusters_dir = config['clusters_dir']\n",
    "expression_dir = config['expression_dir']\n",
    "covariates_dir = config['covariates_dir']\n",
    "\n",
    "tissue_df = pd.read_csv(f\"{prefix}/{tissue_id_path}\", header=0)\n",
    "tissue_ids = list(tissue_df['Tissue'])\n",
    "tissue_id = 'Cells_Cultured_fibroblasts'"
   ]
  },
  {
   "cell_type": "code",
   "execution_count": 10,
   "metadata": {},
   "outputs": [],
   "source": [
    "num_samples = []\n",
    "for tissue_id in tissue_ids:\n",
    "        covariates_df = pd.read_csv(f'{prefix}/{covariates_dir}/{tissue_id}.v8.covariates.txt', sep='\\t', index_col=0).T\n",
    "        num_samples.append(len(covariates_df.index))"
   ]
  },
  {
   "cell_type": "code",
   "execution_count": 13,
   "metadata": {},
   "outputs": [
    {
     "data": {
      "text/plain": [
       "465"
      ]
     },
     "execution_count": 13,
     "metadata": {},
     "output_type": "execute_result"
    },
    {
     "data": {
      "image/png": "[encoded data removed]",
      "text/plain": [
       "<Figure size 640x480 with 1 Axes>"
      ]
     },
     "metadata": {},
     "output_type": "display_data"
    }
   ],
   "source": [
    "sns.histplot(num_samples, bins=np.arange(0, max(num_samples), 50))\n",
    "min(num_samples)"
   ]
  },
  {
   "cell_type": "code",
   "execution_count": 14,
   "metadata": {},
   "outputs": [],
   "source": [
    "# minimum of 300 in each tissue, I'll do 100, 200, 300\n",
    "\n",
    "for num_samples in [450]:\n",
    "    output_dir = f'{prefix}/data/processed/subsampling/{num_samples}'\n",
    "    os.mkdir(output_dir)\n",
    "    os.mkdir(f'{output_dir}/covariates/')\n",
    "    os.mkdir(f'{output_dir}/normalized_expression/')\n",
    "\n",
    "    for tissue_id in tissue_ids:\n",
    "        # load in each expression and covariates files\n",
    "        expression_df = pd.read_csv(f'{prefix}/{expression_dir}/{tissue_id}.v8.normalized_expression.bed', sep='\\t')\n",
    "        covariates_df = pd.read_csv(f'{prefix}/{covariates_dir}/{tissue_id}.v8.covariates.txt', sep='\\t', index_col=0).T\n",
    "\n",
    "        if len(covariates_df.index) > num_samples:\n",
    "            selected_samples = covariates_df.index[:num_samples].values\n",
    "\n",
    "            # write out first x as a subset\n",
    "            sub_expression = expression_df[np.concatenate([expression_df.columns[:4].values, selected_samples])]\n",
    "            sub_expression.to_csv(f'{output_dir}/normalized_expression/{tissue_id}.v8.normalized_expression.bed', sep='\\t', index=None)\n",
    "\n",
    "            sub_covar = covariates_df.loc[selected_samples]\n",
    "            sub_covar.T.to_csv(f'{output_dir}/covariates/{tissue_id}.v8.covariates.txt', sep='\\t')"
   ]
  },
  {
   "cell_type": "code",
   "execution_count": null,
   "metadata": {},
   "outputs": [],
   "source": [
    "# try with a random selection of 100 rather than the first 100\n",
    "for num_samples in [100]:\n",
    "    output_dir = f'{prefix}/data/processed/subsampling/{num_samples}_rand'\n",
    "    try:\n",
    "        os.mkdir(output_dir)\n",
    "        os.mkdir(f'{output_dir}/covariates/')\n",
    "        os.mkdir(f'{output_dir}/normalized_expression/')\n",
    "    except FileExistsError:\n",
    "        pass\n",
    "\n",
    "    for tissue_id in tissue_ids:\n",
    "        # load in each expression and covariates files\n",
    "        expression_df = pd.read_csv(f'{prefix}/{expression_dir}/{tissue_id}.v8.normalized_expression.bed', sep='\\t')\n",
    "        covariates_df = pd.read_csv(f'{prefix}/{covariates_dir}/{tissue_id}.v8.covariates.txt', sep='\\t', index_col=0).T\n",
    "\n",
    "        selected_samples = pd.Series(covariates_df.index.values).sample(num_samples)\n",
    "\n",
    "        sub_expression = expression_df[np.concatenate([expression_df.columns[:4].values, selected_samples])]\n",
    "        sub_expression.to_csv(f'{output_dir}/normalized_expression/{tissue_id}.v8.normalized_expression.bed', sep='\\t', index=None)\n",
    "\n",
    "        sub_covar = covariates_df.loc[selected_samples]\n",
    "        sub_covar.T.to_csv(f'{output_dir}/covariates/{tissue_id}.v8.covariates.txt', sep='\\t')"
   ]
  }
 ],
 "metadata": {
  "kernelspec": {
   "display_name": "Python 3 (ipykernel)",
   "language": "python",
   "name": "python3"
  },
  "language_info": {
   "codemirror_mode": {
    "name": "ipython",
    "version": 3
   },
   "file_extension": ".py",
   "mimetype": "text/x-python",
   "name": "python",
   "nbconvert_exporter": "python",
   "pygments_lexer": "ipython3",
   "version": "3.8.18"
  }
 },
 "nbformat": 4,
 "nbformat_minor": 2
}
