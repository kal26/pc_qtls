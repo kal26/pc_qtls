{
 "cells": [
  {
   "cell_type": "markdown",
   "metadata": {},
   "source": [
    "## null for pcs\n",
    "some concern that pcs are a biased estimator. Do we find pcQTL signals even with non-signal data?\n",
    "\n",
    "keep the same clusters, just shuffle the expression values for each gene\n",
    "run pcqtl on that and see if we get any eQTL or pcQTL signals. \n",
    "\n",
    "I find that a similar (small) proportion of pcqtl and eqtl phenotypes have a false positive signal"
   ]
  },
  {
   "cell_type": "code",
   "execution_count": 7,
   "metadata": {},
   "outputs": [],
   "source": [
    "import pandas as pd\n",
    "import numpy as np\n",
    "import seaborn as sns\n",
    "from statsmodels.stats.proportion import proportions_ztest\n",
    "\n",
    "import tensorqtl\n",
    "from tensorqtl import pgen, cis, trans, post, genotypeio\n",
    "\n",
    "from upsetplot import from_memberships,  plot\n",
    "from tqdm.auto import tqdm  # for notebooks\n",
    "\n",
    "import sys\n",
    "sys.path.append('/home/klawren/oak/pcqtls/workflow/scripts')\n",
    "from get_pcs import *\n",
    "\n",
    "# Create new `pandas` methods which use `tqdm` progress\n",
    "# (can use tqdm_gui, optional kwargs, etc.)\n",
    "tqdm.pandas()\n",
    "tissue_id = 'Skin_Not_Sun_Exposed_Suprapubic'\n",
    "\n"
   ]
  },
  {
   "cell_type": "code",
   "execution_count": null,
   "metadata": {},
   "outputs": [],
   "source": [
    "# PLINK reader for genotypes\n",
    "plink_prefix_path = '/home/klawren/oak/pcqtls/data/processed/genotypes/GTEx_Analysis_2017-06-05_v8_WholeGenomeSeq_838Indiv_Analysis_Freeze.SHAPEIT2_phased.MAF01'\n",
    "\n",
    "pgr = genotypeio.PlinkReader(plink_prefix_path)\n",
    "genotype_df = pgr.load_genotypes()\n",
    "variant_df = pgr.bim.set_index('snp')[['chrom', 'pos']]"
   ]
  },
  {
   "cell_type": "code",
   "execution_count": 2,
   "metadata": {},
   "outputs": [],
   "source": [
    "# load in genotype data\n",
    "covariates_file = f'/home/klawren/oak/pcqtls/data/processed/covariates_peers/{tissue_id}.v8.covariates.txt'\n",
    "expression_path = f'/home/klawren/oak/pcqtls/output/proteincoding_main/clusters_expression/{tissue_id}.v8.normalized_residualized_expression.cluster_genes.bed'\n",
    "cluster_df = pd.read_csv(f'/home/klawren/oak/pcqtls/output/proteincoding_main/clusters/{tissue_id}_clusters_all_chr.csv', index_col=0)\n",
    "expression_df = pd.read_csv(expression_path, sep='\\t')\n",
    "\n",
    "\n",
    "# get the pcs\n",
    "pc_path = f'/home/klawren/oak/pcqtls/output/proteincoding_main/pcs/{tissue_id}.pcs.bed'\n",
    "pc_phenotype_df, pc_phenotype_pos_df = tensorqtl.read_phenotype_bed(pc_path)\n",
    "\n",
    "# load phenotypes and covariates\n",
    "phenotype_df, phenotype_pos_df = tensorqtl.read_phenotype_bed(expression_path)\n",
    "covariates_df = pd.read_csv(covariates_file, sep='\\t', index_col=0).T"
   ]
  },
  {
   "cell_type": "code",
   "execution_count": 131,
   "metadata": {},
   "outputs": [
    {
     "name": "stdout",
     "output_type": "stream",
     "text": [
      "Dropped 0 rows due to inf\n"
     ]
    }
   ],
   "source": [
    "# create shuffled expression and pcs\n",
    "reordered = []\n",
    "for idx, row in phenotype_df.iterrows():\n",
    "    reordered.append(row.sample(frac=1).set_axis(phenotype_df.columns))\n",
    "shuffled_e_phenotype_df = pd.DataFrame(reordered)\n",
    "\n",
    "# get shuffled expression to right format\n",
    "shuff_e_expression_df = pd.merge(phenotype_pos_df, shuffled_e_phenotype_df, left_on='gene_id', right_index=True).reset_index()\n",
    "shuff_e_expression_df.rename(columns={'chr':'#chr'}, inplace=True)\n",
    "\n",
    "# get pcs from shuffled expression\n",
    "shuff_pc_expression_df = get_pc_bed(cluster_df, shuff_e_expression_df, covariates_df)\n",
    "shuff_pc_phenotype_df = shuff_pc_expression_df[shuff_pc_expression_df.columns[3:]].set_index('gene_id')\n"
   ]
  },
  {
   "cell_type": "code",
   "execution_count": 159,
   "metadata": {},
   "outputs": [
    {
     "name": "stdout",
     "output_type": "stream",
     "text": [
      "SuSiE fine-mapping\n",
      "  * 517 samples\n",
      "  * 1860 phenotypes\n",
      "  * 68 covariates\n",
      "  * 10770860 variants\n",
      "  * cis-window: ±1,000,000\n",
      "  * checking phenotypes: 1860/1860\n",
      "  * fine-mapping\n",
      "    processing phenotype 1860/1860\n",
      "  Time elapsed: 18.67 min\n",
      "done.\n",
      "SuSiE fine-mapping\n",
      "  * 517 samples\n",
      "  * 1860 phenotypes\n",
      "  * 68 covariates\n",
      "  * 10770860 variants\n",
      "  * cis-window: ±1,000,000\n",
      "  * checking phenotypes: 1860/1860\n",
      "  * fine-mapping\n",
      "    processing phenotype 1860/1860\n",
      "  Time elapsed: 18.84 min\n",
      "done.\n"
     ]
    }
   ],
   "source": [
    "# chr_list = ['chr21', 'chr22']\n",
    "# susie finemapping for origonal expression\n",
    "# orig_e_susie_summary, orig_e_susie_res = tensorqtl.susie.map(genotype_df, variant_df, \n",
    "#                         phenotype_df.loc[phenotype_pos_df['chr'].isin(chr_list)], \n",
    "#                         phenotype_pos_df.loc[phenotype_pos_df['chr'].isin(chr_list)],\n",
    "#                         covariates_df, \n",
    "#                         summary_only=False)\n",
    "\n",
    "# orig_pc_susie_summary, orig_pc_susie_res = tensorqtl.susie.map(genotype_df, variant_df, \n",
    "#                         pc_phenotype_df.loc[pc_phenotype_pos_df['chr'].isin(chr_list)], \n",
    "#                         pc_phenotype_pos_df.loc[pc_phenotype_pos_df['chr'].isin(chr_list)],\n",
    "#                         covariates_df, \n",
    "#                         summary_only=False)\n",
    "\n",
    "shuff_e_susie_summary, shuff_e_susie_res = tensorqtl.susie.map(genotype_df, variant_df, \n",
    "                        shuffled_e_phenotype_df, \n",
    "                        phenotype_pos_df,\n",
    "                        covariates_df, \n",
    "                        summary_only=False)\n",
    "\n",
    "\n",
    "shuff_pc_susie_summary, shuff_pc_susie_res = tensorqtl.susie.map(genotype_df, variant_df, \n",
    "                        shuff_pc_phenotype_df, \n",
    "                        pc_phenotype_pos_df,\n",
    "                        covariates_df, \n",
    "                        summary_only=False)\n",
    "    "
   ]
  },
  {
   "cell_type": "code",
   "execution_count": 162,
   "metadata": {},
   "outputs": [],
   "source": [
    "orig_e_susie_summary = pd.read_csv(f'/home/klawren/oak/pcqtls/output/proteincoding_main/control_eqtl/{tissue_id}/{tissue_id}.v8.cluster_genes.susie.txt', sep='\\t', index_col=0)\n",
    "orig_pc_susie_summary = pd.read_csv(f'/home/klawren/oak/pcqtls/output/proteincoding_main/pcqtl/{tissue_id}/{tissue_id}.v8.pcs.susie.txt', sep='\\t', index_col=0)"
   ]
  },
  {
   "cell_type": "code",
   "execution_count": 160,
   "metadata": {},
   "outputs": [
    {
     "data": {
      "text/html": [
       "<div>\n",
       "<style scoped>\n",
       "    .dataframe tbody tr th:only-of-type {\n",
       "        vertical-align: middle;\n",
       "    }\n",
       "\n",
       "    .dataframe tbody tr th {\n",
       "        vertical-align: top;\n",
       "    }\n",
       "\n",
       "    .dataframe thead th {\n",
       "        text-align: right;\n",
       "    }\n",
       "</style>\n",
       "<table border=\"1\" class=\"dataframe\">\n",
       "  <thead>\n",
       "    <tr style=\"text-align: right;\">\n",
       "      <th></th>\n",
       "      <th>phenotype_id</th>\n",
       "      <th>variant_id</th>\n",
       "      <th>pip</th>\n",
       "      <th>af</th>\n",
       "      <th>cs_id</th>\n",
       "    </tr>\n",
       "  </thead>\n",
       "  <tbody>\n",
       "    <tr>\n",
       "      <th>0</th>\n",
       "      <td>ENSG00000188984.11_ENSG00000204518.2_pc2</td>\n",
       "      <td>chr1_13546646_G_C_b38</td>\n",
       "      <td>0.908929</td>\n",
       "      <td>0.046422</td>\n",
       "      <td>1</td>\n",
       "    </tr>\n",
       "    <tr>\n",
       "      <th>1</th>\n",
       "      <td>ENSG00000188984.11_ENSG00000204518.2_pc2</td>\n",
       "      <td>chr1_13570786_C_T_b38</td>\n",
       "      <td>0.048330</td>\n",
       "      <td>0.041586</td>\n",
       "      <td>1</td>\n",
       "    </tr>\n",
       "    <tr>\n",
       "      <th>2</th>\n",
       "      <td>ENSG00000162365.11_ENSG00000186160.4_ENSG00000...</td>\n",
       "      <td>chr1_47763723_C_T_b38</td>\n",
       "      <td>0.016884</td>\n",
       "      <td>0.099613</td>\n",
       "      <td>1</td>\n",
       "    </tr>\n",
       "    <tr>\n",
       "      <th>3</th>\n",
       "      <td>ENSG00000162365.11_ENSG00000186160.4_ENSG00000...</td>\n",
       "      <td>chr1_47767441_C_T_b38</td>\n",
       "      <td>0.947855</td>\n",
       "      <td>0.091876</td>\n",
       "      <td>1</td>\n",
       "    </tr>\n",
       "    <tr>\n",
       "      <th>4</th>\n",
       "      <td>ENSG00000141086.17_ENSG00000205220.11_pc1</td>\n",
       "      <td>chr16_68525634_C_A_b38</td>\n",
       "      <td>0.001920</td>\n",
       "      <td>0.564797</td>\n",
       "      <td>1</td>\n",
       "    </tr>\n",
       "    <tr>\n",
       "      <th>...</th>\n",
       "      <td>...</td>\n",
       "      <td>...</td>\n",
       "      <td>...</td>\n",
       "      <td>...</td>\n",
       "      <td>...</td>\n",
       "    </tr>\n",
       "    <tr>\n",
       "      <th>3193</th>\n",
       "      <td>ENSG00000204983.13_ENSG00000275896.5_pc2</td>\n",
       "      <td>chr7_142435530_A_G_b38</td>\n",
       "      <td>0.003941</td>\n",
       "      <td>0.326886</td>\n",
       "      <td>1</td>\n",
       "    </tr>\n",
       "    <tr>\n",
       "      <th>3194</th>\n",
       "      <td>ENSG00000204983.13_ENSG00000275896.5_pc2</td>\n",
       "      <td>chr7_142437633_T_A_b38</td>\n",
       "      <td>0.008009</td>\n",
       "      <td>0.315280</td>\n",
       "      <td>1</td>\n",
       "    </tr>\n",
       "    <tr>\n",
       "      <th>3195</th>\n",
       "      <td>ENSG00000204983.13_ENSG00000275896.5_pc2</td>\n",
       "      <td>chr7_142438036_C_T_b38</td>\n",
       "      <td>0.008009</td>\n",
       "      <td>0.315280</td>\n",
       "      <td>1</td>\n",
       "    </tr>\n",
       "    <tr>\n",
       "      <th>3196</th>\n",
       "      <td>ENSG00000204983.13_ENSG00000275896.5_pc2</td>\n",
       "      <td>chr7_142439032_C_T_b38</td>\n",
       "      <td>0.053344</td>\n",
       "      <td>0.315280</td>\n",
       "      <td>1</td>\n",
       "    </tr>\n",
       "    <tr>\n",
       "      <th>3197</th>\n",
       "      <td>ENSG00000204983.13_ENSG00000275896.5_pc2</td>\n",
       "      <td>chr7_142443373_T_A_b38</td>\n",
       "      <td>0.017742</td>\n",
       "      <td>0.311412</td>\n",
       "      <td>1</td>\n",
       "    </tr>\n",
       "  </tbody>\n",
       "</table>\n",
       "<p>3198 rows × 5 columns</p>\n",
       "</div>"
      ],
      "text/plain": [
       "                                           phenotype_id  \\\n",
       "0              ENSG00000188984.11_ENSG00000204518.2_pc2   \n",
       "1              ENSG00000188984.11_ENSG00000204518.2_pc2   \n",
       "2     ENSG00000162365.11_ENSG00000186160.4_ENSG00000...   \n",
       "3     ENSG00000162365.11_ENSG00000186160.4_ENSG00000...   \n",
       "4             ENSG00000141086.17_ENSG00000205220.11_pc1   \n",
       "...                                                 ...   \n",
       "3193           ENSG00000204983.13_ENSG00000275896.5_pc2   \n",
       "3194           ENSG00000204983.13_ENSG00000275896.5_pc2   \n",
       "3195           ENSG00000204983.13_ENSG00000275896.5_pc2   \n",
       "3196           ENSG00000204983.13_ENSG00000275896.5_pc2   \n",
       "3197           ENSG00000204983.13_ENSG00000275896.5_pc2   \n",
       "\n",
       "                  variant_id       pip        af cs_id  \n",
       "0      chr1_13546646_G_C_b38  0.908929  0.046422     1  \n",
       "1      chr1_13570786_C_T_b38  0.048330  0.041586     1  \n",
       "2      chr1_47763723_C_T_b38  0.016884  0.099613     1  \n",
       "3      chr1_47767441_C_T_b38  0.947855  0.091876     1  \n",
       "4     chr16_68525634_C_A_b38  0.001920  0.564797     1  \n",
       "...                      ...       ...       ...   ...  \n",
       "3193  chr7_142435530_A_G_b38  0.003941  0.326886     1  \n",
       "3194  chr7_142437633_T_A_b38  0.008009  0.315280     1  \n",
       "3195  chr7_142438036_C_T_b38  0.008009  0.315280     1  \n",
       "3196  chr7_142439032_C_T_b38  0.053344  0.315280     1  \n",
       "3197  chr7_142443373_T_A_b38  0.017742  0.311412     1  \n",
       "\n",
       "[3198 rows x 5 columns]"
      ]
     },
     "execution_count": 160,
     "metadata": {},
     "output_type": "execute_result"
    }
   ],
   "source": [
    "shuff_pc_susie_summary"
   ]
  },
  {
   "cell_type": "code",
   "execution_count": 161,
   "metadata": {},
   "outputs": [
    {
     "data": {
      "text/html": [
       "<div>\n",
       "<style scoped>\n",
       "    .dataframe tbody tr th:only-of-type {\n",
       "        vertical-align: middle;\n",
       "    }\n",
       "\n",
       "    .dataframe tbody tr th {\n",
       "        vertical-align: top;\n",
       "    }\n",
       "\n",
       "    .dataframe thead th {\n",
       "        text-align: right;\n",
       "    }\n",
       "</style>\n",
       "<table border=\"1\" class=\"dataframe\">\n",
       "  <thead>\n",
       "    <tr style=\"text-align: right;\">\n",
       "      <th></th>\n",
       "      <th>phenotype_id</th>\n",
       "      <th>variant_id</th>\n",
       "      <th>pip</th>\n",
       "      <th>af</th>\n",
       "      <th>cs_id</th>\n",
       "    </tr>\n",
       "  </thead>\n",
       "  <tbody>\n",
       "    <tr>\n",
       "      <th>0</th>\n",
       "      <td>ENSG00000162365.11_ENSG00000186160.4_ENSG00000...</td>\n",
       "      <td>chr1_47757776_C_T_b38</td>\n",
       "      <td>0.017983</td>\n",
       "      <td>0.096712</td>\n",
       "      <td>1</td>\n",
       "    </tr>\n",
       "    <tr>\n",
       "      <th>1</th>\n",
       "      <td>ENSG00000162365.11_ENSG00000186160.4_ENSG00000...</td>\n",
       "      <td>chr1_47761267_A_T_b38</td>\n",
       "      <td>0.011584</td>\n",
       "      <td>0.088008</td>\n",
       "      <td>1</td>\n",
       "    </tr>\n",
       "    <tr>\n",
       "      <th>2</th>\n",
       "      <td>ENSG00000162365.11_ENSG00000186160.4_ENSG00000...</td>\n",
       "      <td>chr1_47763723_C_T_b38</td>\n",
       "      <td>0.019529</td>\n",
       "      <td>0.099613</td>\n",
       "      <td>1</td>\n",
       "    </tr>\n",
       "    <tr>\n",
       "      <th>3</th>\n",
       "      <td>ENSG00000162365.11_ENSG00000186160.4_ENSG00000...</td>\n",
       "      <td>chr1_47767441_C_T_b38</td>\n",
       "      <td>0.887474</td>\n",
       "      <td>0.091876</td>\n",
       "      <td>1</td>\n",
       "    </tr>\n",
       "    <tr>\n",
       "      <th>4</th>\n",
       "      <td>ENSG00000162365.11_ENSG00000186160.4_ENSG00000...</td>\n",
       "      <td>chr1_47775389_G_A_b38</td>\n",
       "      <td>0.014010</td>\n",
       "      <td>0.067698</td>\n",
       "      <td>1</td>\n",
       "    </tr>\n",
       "    <tr>\n",
       "      <th>...</th>\n",
       "      <td>...</td>\n",
       "      <td>...</td>\n",
       "      <td>...</td>\n",
       "      <td>...</td>\n",
       "      <td>...</td>\n",
       "    </tr>\n",
       "    <tr>\n",
       "      <th>2818</th>\n",
       "      <td>ENSG00000198074.9_ENSG00000227471.8_e_ENSG0000...</td>\n",
       "      <td>chr7_135270099_G_T_b38</td>\n",
       "      <td>0.019643</td>\n",
       "      <td>0.506770</td>\n",
       "      <td>1</td>\n",
       "    </tr>\n",
       "    <tr>\n",
       "      <th>2819</th>\n",
       "      <td>ENSG00000198074.9_ENSG00000227471.8_e_ENSG0000...</td>\n",
       "      <td>chr7_135270746_A_G_b38</td>\n",
       "      <td>0.012250</td>\n",
       "      <td>0.505803</td>\n",
       "      <td>1</td>\n",
       "    </tr>\n",
       "    <tr>\n",
       "      <th>2820</th>\n",
       "      <td>ENSG00000198074.9_ENSG00000227471.8_e_ENSG0000...</td>\n",
       "      <td>chr7_135273190_G_T_b38</td>\n",
       "      <td>0.002740</td>\n",
       "      <td>0.448743</td>\n",
       "      <td>1</td>\n",
       "    </tr>\n",
       "    <tr>\n",
       "      <th>2821</th>\n",
       "      <td>ENSG00000198074.9_ENSG00000227471.8_e_ENSG0000...</td>\n",
       "      <td>chr7_135280976_C_T_b38</td>\n",
       "      <td>0.014074</td>\n",
       "      <td>0.388781</td>\n",
       "      <td>1</td>\n",
       "    </tr>\n",
       "    <tr>\n",
       "      <th>2822</th>\n",
       "      <td>ENSG00000198074.9_ENSG00000227471.8_e_ENSG0000...</td>\n",
       "      <td>chr7_135283727_A_C_b38</td>\n",
       "      <td>0.013652</td>\n",
       "      <td>0.389749</td>\n",
       "      <td>1</td>\n",
       "    </tr>\n",
       "  </tbody>\n",
       "</table>\n",
       "<p>2823 rows × 5 columns</p>\n",
       "</div>"
      ],
      "text/plain": [
       "                                           phenotype_id  \\\n",
       "0     ENSG00000162365.11_ENSG00000186160.4_ENSG00000...   \n",
       "1     ENSG00000162365.11_ENSG00000186160.4_ENSG00000...   \n",
       "2     ENSG00000162365.11_ENSG00000186160.4_ENSG00000...   \n",
       "3     ENSG00000162365.11_ENSG00000186160.4_ENSG00000...   \n",
       "4     ENSG00000162365.11_ENSG00000186160.4_ENSG00000...   \n",
       "...                                                 ...   \n",
       "2818  ENSG00000198074.9_ENSG00000227471.8_e_ENSG0000...   \n",
       "2819  ENSG00000198074.9_ENSG00000227471.8_e_ENSG0000...   \n",
       "2820  ENSG00000198074.9_ENSG00000227471.8_e_ENSG0000...   \n",
       "2821  ENSG00000198074.9_ENSG00000227471.8_e_ENSG0000...   \n",
       "2822  ENSG00000198074.9_ENSG00000227471.8_e_ENSG0000...   \n",
       "\n",
       "                  variant_id       pip        af cs_id  \n",
       "0      chr1_47757776_C_T_b38  0.017983  0.096712     1  \n",
       "1      chr1_47761267_A_T_b38  0.011584  0.088008     1  \n",
       "2      chr1_47763723_C_T_b38  0.019529  0.099613     1  \n",
       "3      chr1_47767441_C_T_b38  0.887474  0.091876     1  \n",
       "4      chr1_47775389_G_A_b38  0.014010  0.067698     1  \n",
       "...                      ...       ...       ...   ...  \n",
       "2818  chr7_135270099_G_T_b38  0.019643  0.506770     1  \n",
       "2819  chr7_135270746_A_G_b38  0.012250  0.505803     1  \n",
       "2820  chr7_135273190_G_T_b38  0.002740  0.448743     1  \n",
       "2821  chr7_135280976_C_T_b38  0.014074  0.388781     1  \n",
       "2822  chr7_135283727_A_C_b38  0.013652  0.389749     1  \n",
       "\n",
       "[2823 rows x 5 columns]"
      ]
     },
     "execution_count": 161,
     "metadata": {},
     "output_type": "execute_result"
    }
   ],
   "source": [
    "shuff_e_susie_summary"
   ]
  },
  {
   "cell_type": "code",
   "execution_count": 177,
   "metadata": {},
   "outputs": [],
   "source": [
    "# compare results\n",
    "def get_num_cs(susie_summary):\n",
    "    try:\n",
    "        return len(susie_summary.groupby(['phenotype_id', 'cs_id']).nunique())\n",
    "    except AttributeError:\n",
    "        return 0\n",
    "    \n",
    "def get_frac_with_signal(susie_summary, total_signals = len(phenotype_df)):\n",
    "    return susie_summary['phenotype_id'].nunique()/total_signals"
   ]
  },
  {
   "cell_type": "code",
   "execution_count": 178,
   "metadata": {},
   "outputs": [],
   "source": [
    "\n",
    "cs_counts = pd.DataFrame({'shuffled':['shuffled', 'shuffled', 'original', 'original'], \n",
    "              'type':['eqtl', 'pcqtl', 'eqtl', 'pcqtl'], \n",
    "              'num_cs':[get_num_cs(shuff_e_susie_summary), get_num_cs(shuff_pc_susie_summary), get_num_cs(orig_e_susie_summary), get_num_cs(orig_pc_susie_summary)],\n",
    "              'frac_signal':[get_frac_with_signal(shuff_e_susie_summary), get_frac_with_signal(shuff_pc_susie_summary), get_frac_with_signal(orig_e_susie_summary), get_frac_with_signal(orig_pc_susie_summary)]})\n"
   ]
  },
  {
   "cell_type": "code",
   "execution_count": 184,
   "metadata": {},
   "outputs": [
    {
     "data": {
      "image/png": "[encoded data removed]",
      "text/plain": [
       "<Figure size 640x480 with 1 Axes>"
      ]
     },
     "metadata": {},
     "output_type": "display_data"
    }
   ],
   "source": [
    "ax = sns.barplot(cs_counts, y='num_cs', x='shuffled', hue='type', hue_order=['pcqtl','eqtl'], palette=('#B83A4B', '#016895'))\n",
    "ax.set_ylabel('Number credible sets')\n",
    "ax.set_xlabel('')\n",
    "ax.set_title('Shuffling expression removes pc and eqtl signals')\n",
    "\n",
    "# Label each bar with its height\n",
    "for p in ax.patches:\n",
    "    if p.get_height() != 0:\n",
    "        ax.annotate(format(p.get_height(), '.0f'), \n",
    "                    (p.get_x() + p.get_width() / 2., p.get_height()), \n",
    "                    ha='center', va='bottom', \n",
    "                    fontsize=12, color='black', \n",
    "                    xytext=(0, 1),  # offset text by 5 points in y-direction\n",
    "                    textcoords='offset points')\n",
    "        \n",
    "ax.spines['right'].set_visible(False)\n",
    "ax.spines['top'].set_visible(False)\n"
   ]
  },
  {
   "cell_type": "code",
   "execution_count": 3,
   "metadata": {},
   "outputs": [],
   "source": [
    "# cs_counts = pd.DataFrame({'shuffled':['shuffled', 'shuffled', 'original', 'original'], \n",
    "#               'type':['eqtl', 'pcqtl', 'eqtl', 'pcqtl'], \n",
    "#               'num_cs':[12,15,1412,1362],\n",
    "#               'frac_signal':[.006, .008, .535, .509]})"
   ]
  },
  {
   "cell_type": "code",
   "execution_count": 13,
   "metadata": {},
   "outputs": [
    {
     "name": "stdout",
     "output_type": "stream",
     "text": [
      "Z-statistic: -0.7315564195559534\n",
      "P-value: 0.4644393562915041\n",
      "Z-statistic: 1.5873241450992206\n",
      "P-value: 0.11243924945100825\n"
     ]
    }
   ],
   "source": []
  },
  {
   "cell_type": "code",
   "execution_count": 185,
   "metadata": {},
   "outputs": [
    {
     "data": {
      "image/png": "[encoded data removed]",
      "text/plain": [
       "<Figure size 640x480 with 1 Axes>"
      ]
     },
     "metadata": {},
     "output_type": "display_data"
    }
   ],
   "source": [
    "# this could also be as fraction phenotypes with a signal\n",
    "ax = sns.barplot(cs_counts, y='frac_signal', x='shuffled', hue='type', hue_order=['pcqtl','eqtl'], palette=('#B83A4B', '#016895'))\n",
    "ax.set_ylabel('Fraction phenotypes with a signal')\n",
    "ax.set_xlabel('')\n",
    "ax.set_title('Shuffling expression removes pc and eqtl signals')\n",
    "\n",
    "# Label each bar with its height\n",
    "for p in ax.patches:\n",
    "    if p.get_height() != 0:\n",
    "        ax.annotate(format(p.get_height(), '.3f'), \n",
    "                    (p.get_x() + p.get_width() / 2., p.get_height()), \n",
    "                    ha='center', va='bottom', \n",
    "                    fontsize=12, color='black', \n",
    "                    xytext=(0, 1),  # offset text by 5 points in y-direction\n",
    "                    textcoords='offset points')\n",
    "        \n",
    "ax.spines['right'].set_visible(False)\n",
    "ax.spines['top'].set_visible(False)"
   ]
  },
  {
   "cell_type": "code",
   "execution_count": 14,
   "metadata": {},
   "outputs": [
    {
     "name": "stdout",
     "output_type": "stream",
     "text": [
      "for the shuffled ones\n",
      "Z-statistic: -0.7315564195559534\n",
      "P-value: 0.4644393562915041\n",
      "for the original ones\n",
      "Z-statistic: 1.5873241450992206\n",
      "P-value: 0.11243924945100825\n"
     ]
    }
   ],
   "source": [
    "\n",
    "z_stat, p_value = proportions_ztest(cs_counts[cs_counts['shuffled']=='shuffled']['frac_signal'] * len(phenotype_df), [len(phenotype_df), len(phenotype_df)])\n",
    "\n",
    "# Output the results\n",
    "print(\"for the shuffled ones\")\n",
    "print(f\"Z-statistic: {z_stat}\")\n",
    "print(f\"P-value: {p_value}\")\n",
    "\n",
    "z_stat, p_value = proportions_ztest(cs_counts[cs_counts['shuffled']=='original']['frac_signal'] * len(phenotype_df), [len(phenotype_df), len(phenotype_df)])\n",
    "\n",
    "# Output the results\n",
    "print(\"for the original ones\")\n",
    "print(f\"Z-statistic: {z_stat}\")\n",
    "print(f\"P-value: {p_value}\")\n"
   ]
  },
  {
   "cell_type": "code",
   "execution_count": 199,
   "metadata": {},
   "outputs": [],
   "source": [
    "shuff_pc_susie_summary['cluster_size'] = shuff_pc_susie_summary['phenotype_id'].str.split('_').apply(len)\n",
    "shuff_pc_susie_summary['pc_num'] = shuff_pc_susie_summary['phenotype_id'].str.split('_pc').str[1].astype(int)"
   ]
  },
  {
   "cell_type": "code",
   "execution_count": 200,
   "metadata": {},
   "outputs": [
    {
     "data": {
      "text/plain": [
       "<AxesSubplot: xlabel='cluster_size', ylabel='count'>"
      ]
     },
     "execution_count": 200,
     "metadata": {},
     "output_type": "execute_result"
    },
    {
     "data": {
      "image/png": "[encoded data removed]",
      "text/plain": [
       "<Figure size 640x480 with 1 Axes>"
      ]
     },
     "metadata": {},
     "output_type": "display_data"
    }
   ],
   "source": [
    "sns.countplot(shuff_pc_susie_summary, x='cluster_size')"
   ]
  },
  {
   "cell_type": "code",
   "execution_count": 202,
   "metadata": {},
   "outputs": [
    {
     "data": {
      "text/plain": [
       "<AxesSubplot: xlabel='pc_num', ylabel='count'>"
      ]
     },
     "execution_count": 202,
     "metadata": {},
     "output_type": "execute_result"
    },
    {
     "data": {
      "image/png": "[encoded data removed]",
      "text/plain": [
       "<Figure size 640x480 with 1 Axes>"
      ]
     },
     "metadata": {},
     "output_type": "display_data"
    }
   ],
   "source": [
    "sns.countplot(shuff_pc_susie_summary, x='pc_num')"
   ]
  },
  {
   "cell_type": "code",
   "execution_count": null,
   "metadata": {},
   "outputs": [],
   "source": []
  }
 ],
 "metadata": {
  "kernelspec": {
   "display_name": "Python 3 (ipykernel)",
   "language": "python",
   "name": "python3"
  },
  "language_info": {
   "codemirror_mode": {
    "name": "ipython",
    "version": 3
   },
   "file_extension": ".py",
   "mimetype": "text/x-python",
   "name": "python",
   "nbconvert_exporter": "python",
   "pygments_lexer": "ipython3",
   "version": "3.8.18"
  }
 },
 "nbformat": 4,
 "nbformat_minor": 2
}
